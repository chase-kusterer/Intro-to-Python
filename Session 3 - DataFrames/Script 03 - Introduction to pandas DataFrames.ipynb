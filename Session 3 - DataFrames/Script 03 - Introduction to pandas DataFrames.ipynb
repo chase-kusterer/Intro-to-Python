{
 "cells": [
  {
   "cell_type": "markdown",
   "metadata": {
    "cell_style": "center",
    "deletable": false,
    "editable": false,
    "run_control": {
     "frozen": true
    }
   },
   "source": [
    "<hr style=\"height:.9px;border:none;color:#333;background-color:#333;\" />\n",
    "<br><br><br><br><br>\n",
    "<h1>Introduction to <em>pandas</em> DataFrames</h1>\n",
    "\n",
    "Written by Chase Kusterer - Faculty of Analytics <br>\n",
    "<a href=\"https://github.com/chase-kusterer\">https://github.com/chase-kusterer</a> <br><br><br><br><br>\n",
    "<hr style=\"height:.9px;border:none;color:#333;background-color:#333;\" />\n",
    "<hr style=\"height:.9px;border:none;color:#333;background-color:#333;\" />\n",
    "<br>\n",
    "<h2>Part 1: Importing Excel Data into Python</h2>\n",
    "Earlier, we learned several useful techniques related to operating on lists. <strong>DataFrames</strong>, which resemble Excel spreadsheets, are slightly more complicated as unlike lists, they are multidimensional. In other words, lists can be thought of as a single row of data, whereas <strong>DataFrames</strong> consist of rows and columns.\n",
    "<br><br><br>\n",
    "<hr style=\"height:.9px;border:none;color:#333;background-color:#333;\" />\n",
    "<h3>The Two Month's Salary Challenge</h3><br>\n",
    "The content of this chapter is reliant on a simple yet elegant dataset. This dataset has been published in <a href=\"https://www.amazon.com/Marketing-Data-Science-Techniques-Predictive/dp/0133886557\">Marketing Data Science - Modeling Techniques in Predictive Analytics with R and Python</a>, written by Dr. Thomas Miller of Northwestern University. As such, it is fitting to allow Dr. Miller to introduce this dataset, as well as the two month's salary challenge:\n",
    "<br>\n",
    "<p><em>I never understood why giving a diamond was the social norm when proposing\n",
    "marriage. As I began searching for an engagement ring, two thoughts\n",
    "kept racing through my mind: “How will I be able to find the right diamond?”\n",
    "and “What is this thing going to cost me?” It goes without saying\n",
    "that my fianc´ee-to-be is worth the expense, but very seldom in our lives do\n",
    "    we spend two month’s salary on a product we know so little about. </em><a href=\"./__documents/miller_mds_two_months_salary_case.pdf\">Click here to continue reading</a>.</p>\n",
    "<br>\n",
    "<hr style=\"height:.9px;border:none;color:#333;background-color:#333;\" />"
   ]
  },
  {
   "cell_type": "markdown",
   "metadata": {
    "deletable": false,
    "editable": false,
    "run_control": {
     "frozen": true
    }
   },
   "source": [
    "<h4>11.1.1) Basic Import of Excel Data</h4>\n",
    "The <em>pandas</em> package has an excellent method to help us import Excel-style data into Python. This method, <a href=\"https://pandas.pydata.org/pandas-docs/stable/reference/api/pandas.read_excel.html\">read_excel()</a>, has a number of optional arguments designed to make our lives easier. To begin, let's import <em>pandas</em> as <em>pd</em> and then read in the dataset with <strong>pd.read_excel()</strong>.\n",
    "<br><br>\n",
    "The steps for this process are as follows:<br>\n",
    "<font>\n",
    "&emsp;1. Import <em>pandas</em>.<br>\n",
    "&emsp;2. Specify the location of the data.*<br>\n",
    "&emsp;3. Use read_excel() to read in the data.</font>\n",
    "\n",
    "<font>*The Excel file is located in a folder named <em>datasets</em>. The path we specified navigates to this folder so that Python can find what we are looking for.</font>"
   ]
  },
  {
   "cell_type": "code",
   "execution_count": null,
   "metadata": {},
   "outputs": [],
   "source": [
    "## Session 11.1.1 ##\n",
    "\n",
    "# Step 1: importing pandas\n",
    "import pandas as pd\n",
    "\n",
    "\n",
    "# Step 2: storing the file name\n",
    "file = _____\n",
    "\n",
    "\n",
    "# Step 3: reading the file into Python through pandas\n",
    "diamonds = pd.read_excel(io = _____)\n",
    "\n",
    "# checking results\n",
    "diamonds\n"
   ]
  },
  {
   "cell_type": "markdown",
   "metadata": {},
   "source": [
    "#### <hr style=\"height:.9px;border:none;color:#333;background-color:#333;\" /><br>\n",
    "<strong>pd.read_excel(&nbsp;)</strong> contains some extremely useful optional arguments that we may want to use in order to further organize our code. Below is a table of the ones we will cover throughout this course:<br><br>\n",
    "\n",
    "<div style = \"width:image width px; font-size:80%; text-align:center;\">\n",
    "<table align=\"center\">\n",
    "<col width=\"100\">\n",
    "<col width=\"10\">   \n",
    "<col width=\"600\">\n",
    "    <tr>\n",
    "        <th>Argument</th>\n",
    "        <th>    | </th>\n",
    "        <th>Description</th>\n",
    "    </tr>\n",
    "    <tr>\n",
    "        <td>io</td>\n",
    "        <td>    | </td>\n",
    "        <td> the file, path, or URL of the data</td>\n",
    "    </tr>\n",
    "    <tr>\n",
    "    <tr>\n",
    "        <td>sheet_name</td>\n",
    "        <td>    | </td>\n",
    "        <td> if your data exists on multiple sheets in Excel, this is the argument to tell Python which sheet to read</td>\n",
    "    </tr>\n",
    "    <tr>\n",
    "        <td>header</td>\n",
    "        <td>    | </td>\n",
    "        <td> if your Excel file has column names in the first row, this is the argument to tell this to Python</td>\n",
    "    </tr>   \n",
    "    \n",
    "          Table 13.1: Extremely useful arguments for pd_read_excel().\n",
    "</table></div><br>"
   ]
  },
  {
   "cell_type": "markdown",
   "metadata": {
    "deletable": false,
    "editable": false,
    "run_control": {
     "frozen": true
    }
   },
   "source": [
    "<h4>11.1.6) Applying Optional Arguments from <em>pd.read_excel(&nbsp;)</em></h4>\n",
    "Change the sheet_name argument to <em>\"data dictionary\"</em>."
   ]
  },
  {
   "cell_type": "code",
   "execution_count": null,
   "metadata": {},
   "outputs": [],
   "source": [
    "## Session 11.1.6 ##\n",
    "\n",
    "# pandas is already imported\n",
    "# file name is already stored\n",
    "\n",
    "# instantiating the dataset as an object\n",
    "diamonds_desc = pd.read_excel(io         = file , # file to be read in\n",
    "                              sheet_name = _____) # sheet name in Excel\n",
    "\n",
    "# checking results\n",
    "diamonds_desc"
   ]
  },
  {
   "cell_type": "markdown",
   "metadata": {},
   "source": [
    "<h4>11.1.7) Applying Optional Arguments from <em>pd.read_excel(&nbsp;)</em></h4>\n",
    "Complete the code below to read the diamonds Excel file into Python, specifying its sheet name and the row number where feature labels are located. Note that you will have to open the file in Excel to find the appropriate sheet name for the dataset."
   ]
  },
  {
   "cell_type": "code",
   "execution_count": null,
   "metadata": {},
   "outputs": [],
   "source": [
    "## Session 11.1.7 ##\n",
    "\n",
    "# pandas is already imported\n",
    "\n",
    "# storing the file name\n",
    "file = _____\n",
    "\n",
    "# instantiating the dataset as an object\n",
    "diamonds_desc = ____.____(____       = ____, # file to be read in\n",
    "                          sheet_name = ____, # sheet name in Excel\n",
    "                          header     = ____) # row # w/ feature labels\n",
    "\n",
    "\n",
    "# checking results\n",
    "diamonds.head(n = 5)\n"
   ]
  },
  {
   "cell_type": "markdown",
   "metadata": {
    "deletable": false,
    "editable": false,
    "run_control": {
     "frozen": true
    }
   },
   "source": [
    "<hr style=\"height:.9px;border:none;color:#333;background-color:#333;\" /><br>\n",
    "<h2>Part II: Slicing DataFrames</h2><br>\n",
    "Columns can be sliced in a similar fashion to how list items are indexed:\n",
    "<br><br>\n",
    "\n",
    "~~~\n",
    "# slicing a single column\n",
    "DataFrame['feature name']\n",
    "~~~\n",
    "\n",
    "<br>\n",
    "This is exemplified in the code below."
   ]
  },
  {
   "cell_type": "code",
   "execution_count": null,
   "metadata": {
    "deletable": false,
    "editable": false
   },
   "outputs": [],
   "source": [
    "## Session 11.3.1 ##\n",
    "\n",
    "# slicing the carat column\n",
    "diamonds['carat'].head(n = 5)\n"
   ]
  },
  {
   "cell_type": "markdown",
   "metadata": {
    "deletable": false,
    "editable": false,
    "run_control": {
     "frozen": true
    }
   },
   "source": [
    "<hr style=\"height:.9px;border:none;color:#333;background-color:#333;\" /><br>\n",
    "\n",
    "For Python, the output of the code above is easy and efficient to read. If we were using the <em>carat</em> column as an input for another operation, this is the way to go. For humans, however, this format is less easy to read, and could be enhanced with a slight modification."
   ]
  },
  {
   "cell_type": "code",
   "execution_count": null,
   "metadata": {
    "deletable": false,
    "editable": false
   },
   "outputs": [],
   "source": [
    "## Session 11.3.2 ##\n",
    "\n",
    "# carat column as a DataFrame\n",
    "diamonds[    ['carat']    ].head(n = 5)\n"
   ]
  },
  {
   "cell_type": "markdown",
   "metadata": {
    "deletable": false,
    "editable": false,
    "run_control": {
     "frozen": true
    }
   },
   "source": [
    "<hr style=\"height:.9px;border:none;color:#333;background-color:#333;\" /><br><br>\n",
    "The codes below have been designed to further exemplify Python's behind the scenes type conversion."
   ]
  },
  {
   "cell_type": "code",
   "execution_count": null,
   "metadata": {
    "cell_style": "split",
    "deletable": false,
    "editable": false
   },
   "outputs": [],
   "source": [
    "## Session 11.3.3 ##\n",
    "\n",
    "type(diamonds['carat'])\n"
   ]
  },
  {
   "cell_type": "code",
   "execution_count": null,
   "metadata": {
    "cell_style": "split",
    "deletable": false,
    "editable": false
   },
   "outputs": [],
   "source": [
    "## Session 11.3.4 ##\n",
    "\n",
    "type(diamonds[    ['carat']    ])\n",
    "              "
   ]
  },
  {
   "cell_type": "markdown",
   "metadata": {
    "deletable": false,
    "editable": false,
    "run_control": {
     "frozen": true
    }
   },
   "source": [
    "<br><hr style=\"height:.9px;border:none;color:#333;background-color:#333;\" />"
   ]
  },
  {
   "cell_type": "markdown",
   "metadata": {
    "deletable": false,
    "editable": false,
    "run_control": {
     "frozen": true
    }
   },
   "source": [
    "We can also slice multiple columns as in the code below."
   ]
  },
  {
   "cell_type": "code",
   "execution_count": null,
   "metadata": {
    "deletable": false,
    "editable": false
   },
   "outputs": [],
   "source": [
    "## Session 11.3.5 ##\n",
    "\n",
    "# carat and price columns\n",
    "diamonds[    ['carat', 'color', 'clarity', 'cut']    ].head(n = 5)\n"
   ]
  },
  {
   "cell_type": "markdown",
   "metadata": {
    "deletable": false,
    "editable": false,
    "run_control": {
     "frozen": true
    }
   },
   "source": [
    "<hr style=\"height:.9px;border:none;color:#333;background-color:#333;\" /><br>\n",
    "<h2>Part IV: Conditional Subsetting</h2>\n",
    "When working with DataFrames, Python prefers we use one of two methods that help us avoid problems down the road. These methods, <a href=\"https://pandas.pydata.org/pandas-docs/stable/reference/api/pandas.DataFrame.loc.html\">.loc[]</a> and <a href=\"https://pandas.pydata.org/pandas-docs/stable/reference/api/pandas.DataFrame.iloc.html#pandas-dataframe-iloc\">.iloc[]</a> are incredibly important for several reasons, as explained in <a href=\"https://pandas.pydata.org/pandas-docs/stable/user_guide/indexing.html\">the Python documentation on indexing and selecting data</a>. Simply stated, the difference between these two methods is that <strong><em>.loc[]</em> works with names and <em>.iloc[]</em> works with numbers.</strong> Below is a diagram as to how to use these two methods.\n",
    "<br><br>\n",
    "\n",
    "~~~\n",
    "# using loc[]\n",
    "DataFrame.loc[row NAMES, column NAMES]\n",
    "\n",
    "# using iloc[]\n",
    "DataFrame.iloc[row NUMBERS, column NUMBERS]\n",
    "~~~\n",
    "\n",
    "<br>\n",
    "The following two codes will output the same result."
   ]
  },
  {
   "cell_type": "code",
   "execution_count": null,
   "metadata": {
    "cell_style": "center",
    "deletable": false,
    "editable": false
   },
   "outputs": [],
   "source": [
    "## Session 11.4.1 ##\n",
    "\n",
    "# slicing the column for color using .loc[]\n",
    "diamonds.loc[ : , 'color'].head(n = 5)\n"
   ]
  },
  {
   "cell_type": "markdown",
   "metadata": {
    "deletable": false,
    "editable": false,
    "run_control": {
     "frozen": true
    }
   },
   "source": [
    "<br>"
   ]
  },
  {
   "cell_type": "code",
   "execution_count": null,
   "metadata": {
    "cell_style": "center",
    "deletable": false,
    "editable": false
   },
   "outputs": [],
   "source": [
    "## Session 11.4.2 ##\n",
    "\n",
    "# slicing the column for color using .iloc[]\n",
    "diamonds.iloc[ : , 2].head(n = 5)\n"
   ]
  },
  {
   "cell_type": "markdown",
   "metadata": {
    "deletable": false,
    "editable": false,
    "run_control": {
     "frozen": true
    }
   },
   "source": [
    "<hr style=\"height:.9px;border:none;color:#333;background-color:#333;\" /><br>\n",
    "We can also add additional conditional logic by doing the following:\n",
    "\n",
    "~~~\n",
    "                                               # think of this part like a filter\n",
    "DataFrame.loc[  [row names] , [column names]  ][DataFrame.loc  [row names] , [column names]  ] CONDITION]\n",
    "~~~\n",
    "\n",
    "<br><br>\n",
    "This is exemplified in the code block below."
   ]
  },
  {
   "cell_type": "code",
   "execution_count": null,
   "metadata": {
    "deletable": false,
    "editable": false
   },
   "outputs": [],
   "source": [
    "## Session 11.4.3 ##\n",
    "\n",
    "# carat column where carat is greater than 2\n",
    "diamonds[ 'carat' ][diamonds.loc[ : , 'carat'] > 2]\n"
   ]
  },
  {
   "cell_type": "markdown",
   "metadata": {
    "deletable": false,
    "editable": false,
    "run_control": {
     "frozen": true
    }
   },
   "source": [
    "<hr style=\"height:.9px;border:none;color:#333;background-color:#333;\" /><br>\n",
    "Conditional subsetting can be extended by simply adding more conditions on to end of a line of code.\n",
    "<br><br>"
   ]
  },
  {
   "cell_type": "code",
   "execution_count": null,
   "metadata": {
    "deletable": false,
    "editable": false
   },
   "outputs": [],
   "source": [
    "## Session 11.4.4 ##\n",
    "\n",
    "# subetting for color, cut both == 1\n",
    "diamonds[ [ 'carat', 'clarity', 'cut', 'price'] ] \\\n",
    "          [ diamonds.loc[ : , 'carat']      < 2 ] \\\n",
    "          [ diamonds.loc[ : , 'clarity']   == 1 ] \\\n",
    "          [ diamonds.loc[ : , 'cut']       == 1 ]   \n"
   ]
  },
  {
   "cell_type": "markdown",
   "metadata": {
    "deletable": false,
    "editable": false,
    "run_control": {
     "frozen": true
    }
   },
   "source": [
    "<hr style=\"height:.9px;border:none;color:#333;background-color:#333;\" /><br>\n",
    "This can get messy very quickly. In many cases, it is easier to develop the code one step at a time to help keep things organized. <strong><font style=\"color:red;\">Don't worry about the UserWarning that generates from the code.</font></strong> This is simply telling us that our index values will remain intact instead of resetting."
   ]
  },
  {
   "cell_type": "code",
   "execution_count": null,
   "metadata": {
    "deletable": false,
    "editable": false
   },
   "outputs": [],
   "source": [
    "## Session 11.4.5 ##\n",
    "\n",
    "# data to be subset\n",
    "data = diamonds[ ['carat', 'clarity', 'cut', 'price'] ]\n",
    "\n",
    "\n",
    "# conditions\n",
    "carat_condition   = diamonds.loc[ : , 'carat']    < 2 # carat\n",
    "clarity_condition = diamonds.loc[ : , 'clarity'] == 1 # color\n",
    "cut_condition     = diamonds.loc[ : , 'cut']     == 1 # cut\n",
    "\n",
    "\n",
    "# putting it all together\n",
    "data[carat_condition][clarity_condition][cut_condition]\n"
   ]
  },
  {
   "cell_type": "markdown",
   "metadata": {
    "deletable": false,
    "editable": false,
    "run_control": {
     "frozen": true
    }
   },
   "source": [
    "<hr style=\"height:.9px;border:none;color:#333;background-color:#333;\" /><br>\n",
    "<h2>Part V: Case Study - Finding the \"Best\" Diamond on a Budget</h2><br>\n",
    "<strong>Your goal in this case study is to find the \"best\" five diamond engagement rings for a \"normal\" Chicago citizen.</strong> To help you along the way, below is a small amount of domain knowledge on income in the city of Chicago during the data collection period.\n",
    "<br><br>\n",
    "<hr style=\"height:.9px;border:none;color:#333;background-color:#333;\" />\n",
    "<strong>Foundational Domain Knowledge</strong><br>\n",
    "The diamond data was collected in the city of Chicago in 2007. During this time, per capita income for the city of Chicago was approximately \\&#36;34,775, according to <a href=\"https://www.census.gov/\">the U.S. Census Bureau website</a>. Following the \"two month's salary\" rule, a \"normal\" Chicago citizen would have a budget of approximately \\&#36;5,795 to spend on a diamond engagement ring.\n",
    "<hr style=\"height:.9px;border:none;color:#333;background-color:#333;\" />\n",
    "<br>\n",
    "Use the open coding block below to conditionally subset price, carat, color, clarity, and cut to find the \"best\" diamond engagement ring given this budget. You may define \"best\" in any way you please. You may also want to use and adjust the code snippet below to check how many diamonds remain after each iteration of your exploration.\n",
    "<br><br>\n",
    "\n",
    "~~~\n",
    "# current diamond count\n",
    "print(  f\"Diamonds Remaining: { len(diamonds.loc[ : , : ][diamonds.loc[ : , 'price'] <= 5795])  }\"  )\n",
    "~~~"
   ]
  },
  {
   "cell_type": "code",
   "execution_count": null,
   "metadata": {},
   "outputs": [],
   "source": [
    "## Session 11.5.1 ##\n",
    "\n",
    "\n",
    "\n",
    "\n",
    "\n",
    "\n",
    "\n",
    "# current diamond count\n",
    "print( f\"Diamonds Remaining: { len(diamonds.loc[ : , : ][diamonds.loc[ : , 'price'] <= 5795]) }\" )\n"
   ]
  },
  {
   "cell_type": "markdown",
   "metadata": {
    "deletable": false,
    "editable": false,
    "run_control": {
     "frozen": true
    }
   },
   "source": [
    "<hr style=\"height:.9px;border:none;color:#333;background-color:#333;\" /><br>\n",
    "\n",
    "~~~\n",
    "\n",
    " __ _             _   _                           _   \n",
    "/ _\\ |_ __ _ _ __| |_(_)_ __   __ _    ___  _   _| |_ \n",
    "\\ \\| __/ _` | '__| __| | '_ \\ / _` |  / _ \\| | | | __|\n",
    "_\\ \\ || (_| | |  | |_| | | | | (_| | | (_) | |_| | |_ \n",
    "\\__/\\__\\__,_|_|   \\__|_|_| |_|\\__, |  \\___/ \\__,_|\\__|\n",
    "                              |___/                   \n",
    " __  _____  __    ___    __  ___   _                  \n",
    "/ _\\/__   \\/__\\  /___\\/\\ \\ \\/ _ \\ / \\                 \n",
    "\\ \\   / /\\/ \\// //  //  \\/ / /_\\//  /                 \n",
    "_\\ \\ / / / _  \\/ \\_// /\\  / /_\\\\/\\_/                  \n",
    "\\__/ \\/  \\/ \\_/\\___/\\_\\ \\/\\____/\\/                    \n",
    "                                                      \n",
    "\n",
    "~~~\n"
   ]
  },
  {
   "cell_type": "markdown",
   "metadata": {
    "deletable": false,
    "editable": false,
    "run_control": {
     "frozen": true
    }
   },
   "source": [
    "<hr style=\"height:.9px;border:none;color:#333;background-color:#333;\" />\n",
    "<hr style=\"height:.9px;border:none;color:#333;background-color:#333;\" />\n",
    "<br><br><br>\n",
    "<h1>DataFrame Operations and Anomaly Detection</h1>\n",
    "\n",
    "Written by Chase Kusterer - Faculty of Analytics <br>\n",
    "<a href=\"https://github.com/chase-kusterer\">https://github.com/chase-kusterer</a> <br><br><br>\n",
    "<hr style=\"height:.9px;border:none;color:#333;background-color:#333;\" />\n",
    "<hr style=\"height:.9px;border:none;color:#333;background-color:#333;\" />"
   ]
  },
  {
   "cell_type": "markdown",
   "metadata": {
    "deletable": false,
    "editable": false,
    "run_control": {
     "frozen": true
    }
   },
   "source": [
    "<hr style=\"height:.9px;border:none;color:#333;background-color:#333;\" /><br>\n",
    "<h2>Part I: Auditing Data Quality</h2>\n",
    "\n",
    "Now that the diamonds dataset has been instantiated in Python, its methods can be accessed using method chaining. All DataFrame methods can be accessed using <strong>help(pd.DataFrame)</strong>. After import, a common step in the analytical process is to audit data quality. In Python, this is generally done using the following DataFrame methods:\n",
    "\n",
    "* <a href=\"https://pandas.pydata.org/pandas-docs/stable/reference/api/pandas.DataFrame.info.html\">.info()</a>\n",
    "* <a href=\"https://pandas.pydata.org/pandas-docs/stable/reference/api/pandas.DataFrame.describe.html\">.describe()</a>\n",
    "* <a href=\"https://pandas.pydata.org/pandas-docs/stable/reference/api/pandas.DataFrame.value_counts.html\">.value_counts()</a>\n",
    "\n",
    "<br>\n",
    "Each method will be explored throughout this script, starting with <strong>.info( )</strong>. This method gives us key information related to the label, count, and data type of each column, as well as the size of the DataFrame in terms of memory usage (beyond the scope of this course)."
   ]
  },
  {
   "cell_type": "code",
   "execution_count": null,
   "metadata": {},
   "outputs": [],
   "source": [
    "## Session 12.1.1 ##\n",
    "\n",
    "# analyzing info related to each feature\n",
    "diamonds.info()\n"
   ]
  },
  {
   "cell_type": "markdown",
   "metadata": {
    "deletable": false,
    "editable": false,
    "run_control": {
     "frozen": true
    }
   },
   "source": [
    "<hr style=\"height:.9px;border:none;color:#333;background-color:#333;\" />\n",
    "<div style = \"width:image width px; font-size:80%; text-align:center;\"><img src=\"./__script_images/chapter-X3-breakdown-of-info().png\" width=\"500\" height=\"500\" style=\"padding-bottom:0.5em;\"> <em>Figure 12.1: Breaking down .info().</em></div>\n",
    "<hr style=\"height:.9px;border:none;color:#333;background-color:#333;\" />"
   ]
  },
  {
   "cell_type": "markdown",
   "metadata": {
    "deletable": false,
    "editable": false,
    "run_control": {
     "frozen": true
    }
   },
   "source": [
    "Note that Python interpreted our string conversions as type <em>object</em>. This is normal, and stems from the fact that strings are the most fundamental of data types in Python. When Python is confused about a feature's data type, such as when a string conversion takes place, it defaults to the type <em>object</em>. This is because strings can represent virtually anything.<br><br>"
   ]
  },
  {
   "cell_type": "code",
   "execution_count": null,
   "metadata": {
    "deletable": false,
    "editable": false
   },
   "outputs": [],
   "source": [
    "## Session 12.1.2 ##\n",
    "\n",
    "# testing before removing Obs\n",
    "diamonds.iloc[ : , 1: ]"
   ]
  },
  {
   "cell_type": "markdown",
   "metadata": {
    "deletable": false,
    "editable": false,
    "run_control": {
     "frozen": true
    }
   },
   "source": [
    "<br>"
   ]
  },
  {
   "cell_type": "code",
   "execution_count": null,
   "metadata": {
    "deletable": false,
    "editable": false
   },
   "outputs": [],
   "source": [
    "## Session 12.1.3 ##\n",
    "\n",
    "# removing Obs\n",
    "diamonds = diamonds.iloc[ : , 1: ]\n",
    "\n",
    "diamonds.head(n = 5)"
   ]
  },
  {
   "cell_type": "markdown",
   "metadata": {},
   "source": [
    "<hr style=\"height:.9px;border:none;color:#333;background-color:#333;\" /><br>\n",
    "<h2>Part II: Analyzing Descriptive Statistics</h2>\n",
    "\n",
    "In general, our objectives with <strong>.describe(&nbsp;)</strong> are to address the following questions:\n",
    "\n",
    "* Does the data align with its documentation?\n",
    "* Are there any extreme values skewing the distribution of any features?\n",
    "* Does the data pass the \"common sense\" test?\n",
    "\n",
    "<br>\n",
    "<h3>Basic Use of .describe(&nbsp;)</h3>\n",
    "\n",
    "As its name implies, the <strong>.describe(&nbsp;)</strong> method generates a set of descriptive statistics to help us better understand our data. In its most basic form, it will output statistics for all features that are of numeric types."
   ]
  },
  {
   "cell_type": "code",
   "execution_count": null,
   "metadata": {
    "deletable": false,
    "editable": false
   },
   "outputs": [],
   "source": [
    "## Session 12.2.1 ##\n",
    "\n",
    "# crude example of .describe()\n",
    "diamonds.describe()\n"
   ]
  },
  {
   "cell_type": "markdown",
   "metadata": {
    "deletable": false,
    "editable": false,
    "run_control": {
     "frozen": true
    }
   },
   "source": [
    "<hr style=\"height:.9px;border:none;color:#333;background-color:#333;\" /><br>\n",
    "We're off to a good start, but it is highly recommended that we reduce the number of decimal places being outputted as <strong><font style=\"color:red\">an unnecessary degree of precision is another form of data dumping.</font></strong>\n",
    "<br><br>\n",
    "<h3>Properly Applying .describe(&nbsp;)</h3>\n",
    "\n",
    "The <strong>.describe(&nbsp;)</strong> method can be broken down into two parts: 1) Descriptive statistics for numeric data, and 2) Summary information for non-numeric data.\n",
    "<br>\n",
    "<h4>S12.2.2) Complete the code below to output descriptive statistics related to the numeric features of the diamonds dataset, rounded to two decimal places.</h4>"
   ]
  },
  {
   "cell_type": "code",
   "execution_count": null,
   "metadata": {},
   "outputs": [],
   "source": [
    "## Session 12.2.2 ##\n",
    "\n",
    "# descriptive statistics on numeric columns\n",
    "____.____(include = 'number').____(decimals = 2)\n"
   ]
  },
  {
   "cell_type": "markdown",
   "metadata": {
    "deletable": false,
    "editable": false,
    "run_control": {
     "frozen": true
    }
   },
   "source": [
    "<br>\n",
    "The output above is much cleaner, allowing us to analyze its information more efficiently. This table is also far more presentable, helping to show that we are organized and not cutting corners throughout our analysis. Now, let's run <strong>.describe(&nbsp;)</strong> on the non-numeric features of the dataset.\n",
    "<br><br>\n",
    "<hr style=\"height:.9px;border:none;color:#333;background-color:#333;\" /><br>\n",
    "<h4>S12.3.2) Complete the code below to output frequency information related to the non-numeric features of the diamonds dataset.</h4>"
   ]
  },
  {
   "cell_type": "code",
   "execution_count": null,
   "metadata": {},
   "outputs": [],
   "source": [
    "## Session 12.2.3 ##\n",
    "\n",
    "# descriptive statistics on non-numeric columns\n",
    "____\n"
   ]
  },
  {
   "cell_type": "markdown",
   "metadata": {
    "deletable": false,
    "editable": false,
    "run_control": {
     "frozen": true
    }
   },
   "source": [
    "<hr style=\"height:.9px;border:none;color:#333;background-color:#333;\" />\n",
    "<div style = \"width:image width px; font-size:80%; text-align:center;\"><img src=\"./__script_images/chapter-X3-object-describe-table.png\" width=\"400\" height=\"400\" style=\"padding-bottom:0.5em;\"> <em>Figure 12.2: Explanation of .describe() for non-numeric data.</em></div>\n",
    "<hr style=\"height:.9px;border:none;color:#333;background-color:#333;\" />"
   ]
  },
  {
   "cell_type": "markdown",
   "metadata": {
    "deletable": false,
    "editable": false,
    "run_control": {
     "frozen": true
    }
   },
   "source": [
    "The output above does not provide a high degree of information related to the dataset's non-numeric features. For this reason, we generally also rely on the <em>pandas</em> Series method <a href=\"https://pandas.pydata.org/pandas-docs/stable/reference/api/pandas.DataFrame.value_counts.html\">.value_counts(&nbsp;)</a>. Note that this method works with both numeric and non-numeric data."
   ]
  },
  {
   "cell_type": "markdown",
   "metadata": {
    "deletable": false,
    "editable": false,
    "run_control": {
     "frozen": true
    }
   },
   "source": [
    "<hr style=\"height:.9px;border:none;color:#333;background-color:#333;\" /><br>\n",
    "<h4>S12.3.3) Apply .value_counts(&nbsp;) to channel.</h4>\n",
    "Leave the optional arguments as they are when developing your code. Does it appear that each channel has equal representation in the dataset?"
   ]
  },
  {
   "cell_type": "code",
   "execution_count": null,
   "metadata": {},
   "outputs": [],
   "source": [
    "## Session 12.2.4 ##\n",
    "\n",
    "# applying value_counts to channel\n",
    "diamonds[____].____(normalize = False, # proportions\n",
    "                    sort      = False,\n",
    "                    ascending = False)\n"
   ]
  },
  {
   "cell_type": "markdown",
   "metadata": {
    "deletable": false,
    "editable": false,
    "run_control": {
     "frozen": true
    }
   },
   "source": [
    "<hr style=\"height:.9px;border:none;color:#333;background-color:#333;\" /><br>\n",
    "<h4>S12.3.4) Apply .value_counts(&nbsp;) to store.</h4>\n",
    "Do we have enough data to do a store-level analysis?"
   ]
  },
  {
   "cell_type": "code",
   "execution_count": null,
   "metadata": {},
   "outputs": [],
   "source": [
    "## Session 12.2.5 ##\n",
    "\n",
    "# applying value_counts to channel\n",
    "____[____].____(normalize = False,\n",
    "                sort      = False,\n",
    "                ascending = False)\n"
   ]
  },
  {
   "cell_type": "markdown",
   "metadata": {
    "deletable": false,
    "editable": false,
    "run_control": {
     "frozen": true
    }
   },
   "source": [
    "<hr style=\"height:.9px;border:none;color:#333;background-color:#333;\" /><br>\n",
    "\n",
    "~~~\n",
    "\n",
    "\n",
    "                                                  ,---,  \n",
    "                                               ,`--.' |  \n",
    "           .---.                        ___    |   :  :  \n",
    "          /. ./|                      ,--.'|_  '   '  ;  \n",
    "      .--'.  ' ;   ,---.     ,---.    |  | :,' |   |  |  \n",
    "     /__./ \\ : |  '   ,'\\   '   ,'\\   :  : ' : '   :  ;  \n",
    " .--'.  '   \\' . /   /   | /   /   |.;__,'  /  |   |  '  \n",
    "/___/ \\ |    ' '.   ; ,. :.   ; ,. :|  |   |   '   :  |  \n",
    ";   \\  \\;      :'   | |: :'   | |: ::__,'| :   ;   |  ;  \n",
    " \\   ;  `      |'   | .; :'   | .; :  '  : |__ `---'. |  \n",
    "  .   \\    .\\  ;|   :    ||   :    |  |  | '.'| `--..`;  \n",
    "   \\   \\   ' \\ | \\   \\  /  \\   \\  /   ;  :    ;.--,_     \n",
    "    :   '  |--\"   `----'    `----'    |  ,   / |    |`.  \n",
    "     \\   \\ ;                           ---`-'  `-- -`, ; \n",
    "      '---\"                                      '---`\"  \n",
    "                                                         \n",
    "\n",
    "\n",
    "~~~\n",
    "\n",
    "<hr style=\"height:.9px;border:none;color:#333;background-color:#333;\" />"
   ]
  },
  {
   "cell_type": "markdown",
   "metadata": {
    "deletable": false,
    "editable": false,
    "run_control": {
     "frozen": true
    }
   },
   "source": [
    "<br>"
   ]
  }
 ],
 "metadata": {
  "kernelspec": {
   "display_name": "Python 3 (ipykernel)",
   "language": "python",
   "name": "python3"
  },
  "language_info": {
   "codemirror_mode": {
    "name": "ipython",
    "version": 3
   },
   "file_extension": ".py",
   "mimetype": "text/x-python",
   "name": "python",
   "nbconvert_exporter": "python",
   "pygments_lexer": "ipython3",
   "version": "3.9.7"
  },
  "toc": {
   "base_numbering": 1,
   "nav_menu": {},
   "number_sections": false,
   "sideBar": true,
   "skip_h1_title": false,
   "title_cell": "Table of Contents",
   "title_sidebar": "Contents",
   "toc_cell": false,
   "toc_position": {},
   "toc_section_display": true,
   "toc_window_display": false
  },
  "varInspector": {
   "cols": {
    "lenName": 16,
    "lenType": 16,
    "lenVar": 40
   },
   "kernels_config": {
    "python": {
     "delete_cmd_postfix": "",
     "delete_cmd_prefix": "del ",
     "library": "var_list.py",
     "varRefreshCmd": "print(var_dic_list())"
    },
    "r": {
     "delete_cmd_postfix": ") ",
     "delete_cmd_prefix": "rm(",
     "library": "var_list.r",
     "varRefreshCmd": "cat(var_dic_list()) "
    }
   },
   "position": {
    "height": "144px",
    "left": "887px",
    "right": "20px",
    "top": "116px",
    "width": "350px"
   },
   "types_to_exclude": [
    "module",
    "function",
    "builtin_function_or_method",
    "instance",
    "_Feature"
   ],
   "window_display": false
  }
 },
 "nbformat": 4,
 "nbformat_minor": 2
}
