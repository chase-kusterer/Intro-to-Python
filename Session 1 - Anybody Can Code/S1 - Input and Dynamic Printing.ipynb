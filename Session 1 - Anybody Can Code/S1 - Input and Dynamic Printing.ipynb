{
 "cells": [
  {
   "cell_type": "markdown",
   "metadata": {
    "deletable": false,
    "editable": false,
    "run_control": {
     "frozen": true
    }
   },
   "source": [
    "<hr style=\"height:.9px;border:none;color:#333;background-color:#333;\" />\n",
    "<hr style=\"height:.9px;border:none;color:#333;background-color:#333;\" />\n",
    "\n",
    "<br><h1>User Input and Dynamic Printing</h1>\n",
    "<em>DAT-5322 In-Class Script</em><br><br>\n",
    "\n",
    "Written by Chase Kusterer - Faculty of Analytics <br>\n",
    "Hult International Business School <br>\n",
    "<a href=\"https://github.com/chase-kusterer\">https://github.com/chase-kusterer</a><br><br><br>\n",
    "\n",
    "<hr style=\"height:.9px;border:none;color:#333;background-color:#333;\" />\n",
    "<hr style=\"height:.9px;border:none;color:#333;background-color:#333;\" />\n",
    "<br>\n",
    "<h2>Part I: Print Statements</h2><br>\n",
    "<strong>a) Type the following into the open code cell below.</strong><br>\n",
    "\n",
    "~~~\n",
    "print(\"Hello World!\")\n",
    "~~~"
   ]
  },
  {
   "cell_type": "code",
   "execution_count": null,
   "metadata": {},
   "outputs": [],
   "source": [
    "# our first program\n",
    "_____"
   ]
  },
  {
   "cell_type": "markdown",
   "metadata": {
    "deletable": false,
    "editable": false,
    "run_control": {
     "frozen": true
    }
   },
   "source": [
    "<hr style=\"height:.9px;border:none;color:#333;background-color:#333;\" /><br>\n",
    "\n",
    "<strong>b) Store the phrase \"Hello World!\" as x and run the code to print its result. </strong><br>"
   ]
  },
  {
   "cell_type": "code",
   "execution_count": null,
   "metadata": {},
   "outputs": [],
   "source": [
    "# instantiating x\n",
    "x = _____\n",
    "\n",
    "# printing result\n",
    "print(_____)"
   ]
  },
  {
   "cell_type": "markdown",
   "metadata": {
    "deletable": false,
    "editable": false,
    "run_control": {
     "frozen": true
    }
   },
   "source": [
    "<hr style=\"height:.9px;border:none;color:#333;background-color:#333;\" /><br>\n",
    "\n",
    "<strong>c) Store 'Hello' in x and \"\"\"World!\"\"\" in y. Run the code to print its result. Debug it as necessary to generate the same output as the code above.</strong><br>"
   ]
  },
  {
   "cell_type": "code",
   "execution_count": null,
   "metadata": {},
   "outputs": [],
   "source": [
    "help(print)"
   ]
  },
  {
   "cell_type": "markdown",
   "metadata": {
    "deletable": false,
    "editable": false,
    "run_control": {
     "frozen": true
    }
   },
   "source": [
    "<br>"
   ]
  },
  {
   "cell_type": "code",
   "execution_count": null,
   "metadata": {},
   "outputs": [],
   "source": [
    "# declaring 'Hello' and 'World!' to objects y and z, respectively.\n",
    "x = _____\n",
    "y = _____\n",
    "\n",
    "# printing y + y ... I expect this to say 'Hello World!''\n",
    "print(_____)"
   ]
  },
  {
   "cell_type": "markdown",
   "metadata": {
    "deletable": false,
    "editable": false,
    "run_control": {
     "frozen": true
    }
   },
   "source": [
    "<hr style=\"height:.9px;border:none;color:#333;background-color:#333;\" /><br>\n",
    "\n",
    "<h2>Part II: Basic User Input</h2><br>\n",
    "<strong>Prompting a user with <em>input( )</em></strong><br>\n",
    "Run the following codes to prompt a user with <strong>input( )</strong>. Note that the code will create a box for users can input text."
   ]
  },
  {
   "cell_type": "code",
   "execution_count": null,
   "metadata": {},
   "outputs": [],
   "source": [
    "help(input)"
   ]
  },
  {
   "cell_type": "markdown",
   "metadata": {
    "deletable": false,
    "editable": false,
    "run_control": {
     "frozen": true
    }
   },
   "source": [
    "<br>"
   ]
  },
  {
   "cell_type": "code",
   "execution_count": null,
   "metadata": {},
   "outputs": [],
   "source": [
    "# basic print statement\n",
    "print(\"Welcome to our session on user inputs and escape sequences!\")\n",
    "\n",
    "\n",
    "# asking a user to input their name\n",
    "user_name = _____(prompt = \"What's your name? \")\n",
    "\n",
    "\n",
    "# dynamic printing\n",
    "print(f\"Welcome {_____}!\")"
   ]
  },
  {
   "cell_type": "markdown",
   "metadata": {
    "deletable": false,
    "editable": false,
    "run_control": {
     "frozen": true
    }
   },
   "source": [
    "<hr style=\"height:.9px;border:none;color:#333;background-color:#333;\" /><br>\n",
    "\n",
    "<h2>Part III: Dynamic Printing Case Study</h2><br>\n",
    "Anything that is coded inside of the curly brackets in a dynamic string is treated as regular Python code. This is known as a <strong>replacement field</strong>, and its value extends far beyond dynamic printing. More information can be found in the <a href=\"https://docs.python.org/3.4/library/string.html#format-string-syntax\">Python documentation</a>. To get started, let's make some quick calculations within a dynamic string.<br><br>\n",
    "\n",
    "<h3>How long does the Dyson V8 Animal vacuum <em>actually</em> run after a full charge?</h3>\n",
    "\n",
    "A few years ago, I was in the market to buy a vacuum and came across the <a href=\"https://www.dyson.com/sticks/dyson-v8-animal.html\">Dyson V8 Animal</a>, which is advertised to last up to 40 minutes on a full charge. Given its great reviews I found online and from friends, I was excited to see it in action. After it arrived, I charged it for 5 hours, set it to <em>Max Suction</em>, and to my surprise, it was dead within 10-12 minutes! After doing some more research, including this review from <a href=\"https://bestvacuumpethairguide.com/dyson-v8-animal-review/\">bestvacuumpethairguide.com</a>, I realized that this is a common issue when using the <em>Max Suction</em> power setting. After charging again, I set the power setting to <em>Extended Life</em>, which had a substantial effect on usable cleaning time. However, the vacuum didn't seem to clean well at all. Therefore, I decided to opt for quality cleaning over extended battery life.<br><br>\n",
    "Let's start with the following template to compare the charge time, advertised use time, and usable cleaning time on <em>Max Suction</em>."
   ]
  },
  {
   "cell_type": "code",
   "execution_count": null,
   "metadata": {},
   "outputs": [],
   "source": [
    "## Session Code 3.2.1 ##\n",
    "\n",
    "# developing a vacuum time template\n",
    "print(\"\"\"\n",
    "Dyson V8 Animal (Max Suction)\n",
    "-----------------------------\n",
    "Charge Time:          5 hours\n",
    "Advertised Use Time:  40 minutes\n",
    "Usable Cleaning Time: 11 minutes\n",
    "\n",
    "\n",
    "Weekly Cleaning Requirements\n",
    "----------------------------\n",
    "Estimated Vacuum Time:    26 minutes\n",
    "\"\"\")"
   ]
  },
  {
   "cell_type": "markdown",
   "metadata": {
    "deletable": false,
    "editable": false,
    "run_control": {
     "frozen": true
    }
   },
   "source": [
    "<hr style=\"height:.9px;border:none;color:#333;background-color:#333;\" /><br>\n",
    "\n",
    "<strong>a) Instantiate variables to represent charge time, advertised use time, usable cleaning time, and estimated weekly vacuum time.</strong>"
   ]
  },
  {
   "cell_type": "code",
   "execution_count": null,
   "metadata": {},
   "outputs": [],
   "source": [
    "# soft coding key information\n",
    "charge_time      = _____ # minutes\n",
    "advertised_time  = _____ # minutes\n",
    "usable_time      = _____ # minutes\n",
    "est_vacuum_time  = _____ # minutes"
   ]
  },
  {
   "cell_type": "markdown",
   "metadata": {
    "deletable": false,
    "editable": false,
    "run_control": {
     "frozen": true
    }
   },
   "source": [
    "<hr style=\"height:.9px;border:none;color:#333;background-color:#333;\" /><br>\n",
    "\n",
    "Notice how there is already a challenge in the numbers: Charge time is in hours while other key information is in minutes. There is little value in displaying the charge time as 300 minutes (5 hours) as this would not be beneficial to end users. Likewise, in this application, there is no major benefit from storing several objects to represent charge time in more than one unit. This is a great opportunity to utilize calculations within a replacement field.<br><br>\n",
    "\n",
    "<strong>b) Make the print statement dynamic by using the variables that were instantiated above.</strong>"
   ]
  },
  {
   "cell_type": "code",
   "execution_count": null,
   "metadata": {},
   "outputs": [],
   "source": [
    "# developing a vacuum time template\n",
    "print(f\"\"\"\n",
    "Dyson V8 Animal (Max Suction)\n",
    "-----------------------------\n",
    "Charge Time:            {_____} hours\n",
    "Advertised Use Time:    {_____} minutes\n",
    "Vacuum Time per Charge: {_____} minutes\n",
    "\"\"\")"
   ]
  },
  {
   "cell_type": "markdown",
   "metadata": {
    "deletable": false,
    "editable": false,
    "run_control": {
     "frozen": true
    }
   },
   "source": [
    "<hr style=\"height:.9px;border:none;color:#333;background-color:#333;\" /><br>\n",
    "\n",
    "<strong>c) Complete the rest of the template using calculations for the following:</strong>\n",
    "\n",
    "Total Charge Time Needed:\n",
    "\n",
    "~~~\n",
    "Charge time (in minutes) * Number of charges needed (est_vacuum_time / usable_time)\n",
    "~~~\n",
    "\n",
    "<br>\n",
    "Charges to Usage:\n",
    "\n",
    "~~~\n",
    "Charge time (in minutes) / Usable time\n",
    "~~~\n",
    "\n",
    "<br>\n",
    "Usable to Advertised Time:\n",
    "\n",
    "~~~\n",
    "Usable time / Advertised time\n",
    "~~~\n",
    "\n",
    "<br>\n",
    "Note: You may want to use <em>round(&nbsp;)</em> or <em>int(&nbsp;)</em> to clean up your numbers."
   ]
  },
  {
   "cell_type": "code",
   "execution_count": null,
   "metadata": {},
   "outputs": [],
   "source": [
    "help(round)"
   ]
  },
  {
   "cell_type": "code",
   "execution_count": null,
   "metadata": {},
   "outputs": [],
   "source": [
    "help(int)"
   ]
  },
  {
   "cell_type": "markdown",
   "metadata": {
    "deletable": false,
    "editable": false,
    "run_control": {
     "frozen": true
    }
   },
   "source": [
    "<br>"
   ]
  },
  {
   "cell_type": "code",
   "execution_count": null,
   "metadata": {},
   "outputs": [],
   "source": [
    "# developing a vacuum time template (Part II)\n",
    "print(f\"\"\"\n",
    "Weekly Cleaning Requirements\n",
    "----------------------------\n",
    "Estimated Time Needed to Vacuum: {_____} minutes\n",
    "Vacuum Time per Charge:          {_____} minutes\n",
    "Total Charges Needed:            {round(_____ / _____, ndigits = 1)}\n",
    "Total Charge Time Needed:        {int((_____) * (_____ / _____))} minutes\n",
    "Charge Time to Usage Time:       {int(_____ / _____)} : 1\n",
    "\"\"\")"
   ]
  },
  {
   "cell_type": "markdown",
   "metadata": {
    "deletable": false,
    "editable": false,
    "run_control": {
     "frozen": true
    }
   },
   "source": [
    "<hr style=\"height:.9px;border:none;color:#333;background-color:#333;\" /><br>\n",
    "\n",
    "The code below is the same as above, but total charge time needed is in hours and minutes. This will likely resonate better with a human audience, but it takes more time to code. When faced with such challenges, always remember that the user is at the heart of every decision you make."
   ]
  },
  {
   "cell_type": "code",
   "execution_count": null,
   "metadata": {},
   "outputs": [],
   "source": [
    "# developing a vacuum time template\n",
    "print(f\"\"\"\n",
    "Dyson V8 Animal (Max Suction)\n",
    "-----------------------------\n",
    "Charge Time:          {charge_time} hours\n",
    "Advertised Use Time:  {advertised_time} minutes\n",
    "Usable Cleaning Time: {usable_time} minutes\n",
    "\n",
    "\n",
    "Weekly Cleaning Requirements\n",
    "---------------------\n",
    "Estimated Time Needed to Vacuum: {est_vacuum_time} minutes\n",
    "Vacuum Time per Charge:          {usable_time} minutes\n",
    "Total Charges Needed:            {round(est_vacuum_time / usable_time, ndigits = 1)}\n",
    "Total Charge Time Needed:        {int((charge_time) * (est_vacuum_time / usable_time) // 60)} hours and {int ((charge_time * 60) * (est_vacuum_time / usable_time)) % 60} minutes\n",
    "Charge Time to Usage Time:       {int(charge_time / usable_time)} : 1\n",
    "\"\"\")"
   ]
  },
  {
   "cell_type": "markdown",
   "metadata": {
    "deletable": false,
    "editable": false,
    "run_control": {
     "frozen": true
    }
   },
   "source": [
    "<hr style=\"height:.9px;border:none;color:#333;background-color:#333;\" /><br>\n",
    "\n",
    "<h2>Summary</h2>\n",
    "\n",
    "Having an informative user <strong>input</strong> prompt through the use of the optional argument <em>prompt</em> can help to consolidate code and give users a better experience. <strong>Dynamic printing</strong>, especially when combined with the <strong>triple-quote wrapper</strong>, is exceptionally valuable in the sense that it creates a more visual and intuitive coding approach. This also helps to avoid hard coding, saving time in code maintenance and debugging.\n",
    "<br><br>\n",
    "\n",
    "~~~\n",
    "   _  ___                           __   __\n",
    "  / |/ (_)______   _    _____  ____/ /__/ /\n",
    " /    / / __/ -_) | |/|/ / _ \\/ __/  '_/_/ \n",
    "/_/|_/_/\\__/\\__/  |__,__/\\___/_/ /_/\\_(_)  \n",
    "                                           \n",
    "~~~"
   ]
  },
  {
   "cell_type": "markdown",
   "metadata": {
    "deletable": false,
    "editable": false,
    "run_control": {
     "frozen": true
    }
   },
   "source": [
    "<hr style=\"height:.9px;border:none;color:#333;background-color:#333;\" /><br>\n",
    "\n",
    "<h2>Bonus: Escape Sequences</h2><br>\n",
    "Working with <strong>escape sequences</strong> is best done through experiential learning. Spend some time on your own testing different escape sequences. They can come in VERY handy in data science, especially when prompting users and manipulating strings.\n",
    "<br><br>\n",
    "\n",
    "<strong>Playing With Special Characters</strong><br>\n",
    "Some characters have special meanings. Let's play around with them."
   ]
  },
  {
   "cell_type": "code",
   "execution_count": null,
   "metadata": {},
   "outputs": [],
   "source": [
    "print(\"Welcome \\n\\t to \\n\\t\\t our \\n\\t\\t\\t session \\n\\t\\t\\t\\t on \\n\\t\\t\\t\\t\\t\",\n",
    "      \"user \\n\\t\\t\\t\\t\\t\\t inputs \\n\\t\\t\\t\\t\\t\\t\\t and \\n\\t\\t\\t\\t\\t\\t\\t\\t\",\n",
    "      \"escape \\n\\t\\t\\t\\t\\t\\t\\t\\t\\t sequences!\")"
   ]
  },
  {
   "cell_type": "markdown",
   "metadata": {
    "deletable": false,
    "editable": false,
    "run_control": {
     "frozen": true
    }
   },
   "source": [
    "<br>"
   ]
  },
  {
   "cell_type": "code",
   "execution_count": null,
   "metadata": {
    "code_folding": []
   },
   "outputs": [],
   "source": [
    "# escaping the '\n",
    "user_name = input('What\\'s your name?   ')"
   ]
  },
  {
   "cell_type": "markdown",
   "metadata": {
    "deletable": false,
    "editable": false,
    "run_control": {
     "frozen": true
    }
   },
   "source": [
    "<br>"
   ]
  },
  {
   "cell_type": "code",
   "execution_count": null,
   "metadata": {
    "code_folding": []
   },
   "outputs": [],
   "source": [
    "# vertical tab (kind of like half of what you get when you hit return)\n",
    "print(f\"Oh, so you call yourself \\\"{user_name}\\\"?\\v\")\n",
    "\n",
    "# controlling the speed of user engagement\n",
    "input(\"<Press Enter to Continue>\")"
   ]
  },
  {
   "cell_type": "markdown",
   "metadata": {
    "deletable": false,
    "editable": false,
    "run_control": {
     "frozen": true
    }
   },
   "source": [
    "<br>"
   ]
  },
  {
   "cell_type": "code",
   "execution_count": null,
   "metadata": {},
   "outputs": [],
   "source": [
    "# making a well-timed joke\n",
    "print(f\"\\nI'm just kidding, welcome {user_name}!\")"
   ]
  },
  {
   "cell_type": "markdown",
   "metadata": {
    "deletable": false,
    "editable": false,
    "run_control": {
     "frozen": true
    }
   },
   "source": [
    "<br>"
   ]
  },
  {
   "cell_type": "code",
   "execution_count": null,
   "metadata": {
    "scrolled": true
   },
   "outputs": [],
   "source": [
    "# Some characters have special meanings. Let's play around with them.\n",
    "print(\"Welcome \\n\\t to \\n\\t\\t our \\n\\t\\t\\t session \\n\\t\\t\\t\\t on \\n\\t\\t\\t\\t\\t\",\n",
    "      \"user \\n\\t\\t\\t\\t\\t\\t inputs \\n\\t\\t\\t\\t\\t\\t\\t and \\n\\t\\t\\t\\t\\t\\t\\t\\t\",\n",
    "      \"escape \\n\\t\\t\\t\\t\\t\\t\\t\\t\\t sequences!\")\n",
    "\n",
    "# Escaping the '\n",
    "user_name = input('What\\'s your name?   ')\n",
    "\n",
    "# Vertical tab (kind of like half of what you get when you hit return)\n",
    "print(f\"Oh, so you call yourself \\\"{user_name}\\\"?\\v\")\n",
    "\n",
    "input(\"<Press Enter to Continue>\")\n",
    "\n",
    "print(f\"\\nI'm just kidding, welcome {user_name}!\")"
   ]
  },
  {
   "cell_type": "markdown",
   "metadata": {
    "deletable": false,
    "editable": false,
    "run_control": {
     "frozen": true
    }
   },
   "source": [
    "<br>"
   ]
  },
  {
   "cell_type": "code",
   "execution_count": null,
   "metadata": {},
   "outputs": [],
   "source": [
    "# one more example of escape sequences\n",
    "\n",
    "print('Let\\'s\\ngo!\\n')\n",
    "\n",
    "print('Let\\'s \\n\\t go \\n\\t\\t man! \\n\\t\\t\\t It’s \\n\\t\\t\\t\\t late!')"
   ]
  },
  {
   "cell_type": "markdown",
   "metadata": {
    "deletable": false,
    "editable": false,
    "run_control": {
     "frozen": true
    }
   },
   "source": [
    "<br>"
   ]
  }
 ],
 "metadata": {
  "kernelspec": {
   "display_name": "Python 3 (ipykernel)",
   "language": "python",
   "name": "python3"
  },
  "language_info": {
   "codemirror_mode": {
    "name": "ipython",
    "version": 3
   },
   "file_extension": ".py",
   "mimetype": "text/x-python",
   "name": "python",
   "nbconvert_exporter": "python",
   "pygments_lexer": "ipython3",
   "version": "3.9.7"
  },
  "toc": {
   "base_numbering": 1,
   "nav_menu": {},
   "number_sections": false,
   "sideBar": true,
   "skip_h1_title": false,
   "title_cell": "Table of Contents",
   "title_sidebar": "Contents",
   "toc_cell": false,
   "toc_position": {
    "height": "calc(100% - 180px)",
    "left": "10px",
    "top": "150px",
    "width": "374.107px"
   },
   "toc_section_display": true,
   "toc_window_display": false
  },
  "varInspector": {
   "cols": {
    "lenName": 16,
    "lenType": 16,
    "lenVar": 40
   },
   "kernels_config": {
    "python": {
     "delete_cmd_postfix": "",
     "delete_cmd_prefix": "del ",
     "library": "var_list.py",
     "varRefreshCmd": "print(var_dic_list())"
    },
    "r": {
     "delete_cmd_postfix": ") ",
     "delete_cmd_prefix": "rm(",
     "library": "var_list.r",
     "varRefreshCmd": "cat(var_dic_list()) "
    }
   },
   "oldHeight": 122.857142,
   "position": {
    "height": "40px",
    "left": "822px",
    "right": "20px",
    "top": "120px",
    "width": "250px"
   },
   "types_to_exclude": [
    "module",
    "function",
    "builtin_function_or_method",
    "instance",
    "_Feature"
   ],
   "varInspector_section_display": "none",
   "window_display": false
  }
 },
 "nbformat": 4,
 "nbformat_minor": 2
}
