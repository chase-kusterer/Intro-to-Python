{
 "cells": [
  {
   "cell_type": "markdown",
   "metadata": {
    "deletable": false,
    "editable": false,
    "run_control": {
     "frozen": true
    }
   },
   "source": [
    "<hr style=\"height:.9px;border:none;color:#333;background-color:#333;\" />\n",
    "<hr style=\"height:.9px;border:none;color:#333;background-color:#333;\" />\n",
    "<br><br><br>\n",
    "<h1>Template - Dynamic Team Introduction</h1>\n",
    "<em>DAT-5301 In-Class Script</em><br><br>\n",
    "\n",
    "Written by Chase Kusterer - Faculty of Analytics <br>\n",
    "Hult International Business School <br>\n",
    "<a href=\"https://github.com/chase-kusterer\">https://github.com/chase-kusterer</a> <br><br><br><br><br>\n",
    "<hr style=\"height:.9px;border:none;color:#333;background-color:#333;\" />\n",
    "<hr style=\"height:.9px;border:none;color:#333;background-color:#333;\" />\n",
    "<br>"
   ]
  },
  {
   "cell_type": "markdown",
   "metadata": {
    "deletable": false,
    "editable": false,
    "run_control": {
     "frozen": true
    }
   },
   "source": [
    "<h2><u>Project - Developing a Mad Lib</u></h2><br>\n",
    "Welcome to our first team project in Python! In this project, we are going to get to know each other through a classic American childhood game: Mad Libs. If you are unsure what a Mad Lib is, <a href=\"https://en.wikipedia.org/wiki/Mad_Libs\">Wikipedia</a> defines them as \"phrasal template word game where one player prompts others for a list of words to substitute for blanks in a story.\" In other words, a Mad Lib is a game where a user is prompted with a grammatical syntax (noun, verb, etc.), and replies with the first word that comes to mind.<br><br>\n",
    "This is an excellent project for our current level of coding. In <strong>Chapter 2 - Printing, Dynamic Strings, and Escape Sequences</strong>, we discovered how to build dynamic templates using f-strings. We also learned how to format dynamic templates using triple-quotes, allowing for easier formatting. In <strong>Chapter 3 - User Input and Variable Types</strong>, we not only learned how to prompt a user for input, but also how to convert object types so that they can be utilized in calculations and in formatting. This handful of tools will provide invaluable for this project, as will the creativity of your team.<br><br>"
   ]
  },
  {
   "cell_type": "markdown",
   "metadata": {
    "deletable": false,
    "editable": false,
    "run_control": {
     "frozen": true
    }
   },
   "source": [
    "<hr style=\"height:.9px;border:none;color:#333;background-color:#333;\" /><br>\n",
    "\n",
    "<h2>P3.1 How Mad Libs Work</h2><br>\n",
    "Imagine you're on a road trip with one of your friends. You're driving, your friend is in the passenger seat, and you're looking for a way to pass the time. All of a sudden, your friend yells:\n",
    "<br><br>\n",
    "\n",
    "<div align=\"center\">\n",
    "<em>Give me a noun!</em>\n",
    "<a class=\"tocSkip\"></div>\n",
    " \n",
    "<br>\n",
    "Slightly confused, you say the first noun (a person, place, thing, or idea) that comes to your mind. Then, your friend writes this down, and yells:\n",
    "<br><br>\n",
    "\n",
    "<div align=\"center\">\n",
    "<em>Now give me an adjective!</em>\n",
    "<a class=\"tocSkip\"></div>\n",
    " \n",
    "<br>\n",
    "After a second, you remember that an adjective is a word used to describe a noun. Still confused, you say the first adjective that comes to your mind. This processes of continues for a short time, and then your friend says:\n",
    "<br><br>\n",
    "\n",
    "<div align=\"center\">\n",
    "<em>Are you ready to hear your story?</em>\n",
    "<a class=\"tocSkip\"></div>\n",
    "\n",
    "<br>\n",
    "After a definitive \"yes\", your friend reads a seemingly normal story that's been made far more entertaining given the words you have selected.\n",
    "<br><br>\n",
    "\n",
    "<hr style=\"height:.9px;border:none;color:#333;background-color:#333;\" /><br>\n",
    "    <h2>P3.2 The Starter Story</h2><br>\n",
    "The sample story below is a short piece of fiction that I wrote specifically for your enjoyment. Nothing about this story is historically accurate, and it's going to be a lot of fun turning it into a Mad Lib!"
   ]
  },
  {
   "cell_type": "markdown",
   "metadata": {
    "deletable": false,
    "editable": false,
    "run_control": {
     "frozen": true
    }
   },
   "source": [
    "<div align=\"center\">\n",
    "<div style=\"width:80%;min-width:50px\">\n",
    "<strong>The world has seen countless inventions, but none quite like the corn dog. This nifty invention was first prototyped in 1968 by the infamous German physicist Michael Mustache. When it first hit the shelves of the super market, people were flying through the doors to purchase them. In fact, super market managers had to hire security guards just to settle the crowds. Even though there was a limit of five boxes per customer, one person tried to purchase 500 every day of the week!</strong>\n",
    "<a class=\"tocSkip\"></div></div>"
   ]
  },
  {
   "cell_type": "markdown",
   "metadata": {
    "deletable": false,
    "editable": false,
    "run_control": {
     "frozen": true
    }
   },
   "source": [
    "<hr style=\"height:.9px;border:none;color:#333;background-color:#333;\" /><br>\n",
    "\n",
    "<h2>P3.3 Designing our Program</h2><br>\n",
    "Our first task is identify words that we would like to remove from our story. These will become dynamic spaces in an f-string (i.e., <em>&nbsp;{&nbsp;DYNAMIC_SPACE&nbsp;}</em>&nbsp;). We will then ask users to fill in these spaces by prompting them with <em>input(&nbsp;)</em>. Finally, we will <em>print(&nbsp;)</em> the new story for their entertainment. We should also consider other details of our program, such as whether or not we should allow users to save their results or to play again. While this is important, such coding is currently beyond our abilities and will be covered in later chapters of the textbook. If you're feeling ambitious, feel free to do some research, implement this functionality, and make your program all the more awesome!<br><br>\n",
    "As it stands, we have the following requirements:\n",
    "\n",
    "* develop a dynamic template based on a story\n",
    "* prompt users to input words based on parts of speech\n",
    "* reference the words from user input in a dynamic template\n",
    "* print the new story\n",
    "\n",
    "<br>\n",
    "<strong>Note:</strong> If you've forgotten your parts of speech, <a href=\"http://www.madlibs.com/MadLibs-Teachers-Guide-nocrops.pdf\"> madlibs.com</a> has a great .pdf resource on their website."
   ]
  },
  {
   "cell_type": "markdown",
   "metadata": {
    "deletable": false,
    "editable": false,
    "run_control": {
     "frozen": true
    }
   },
   "source": [
    "<hr style=\"height:.9px;border:none;color:#333;background-color:#333;\" /><br>\n",
    "\n",
    "<h2>P3.4 Dynamic Templating</h2><br>\n",
    "Our first step in developing the dynamic template is to decide which words or phrases should be made dynamic. We can choose to create as many dynamic spaces as we like, and it is generally best to focus on nouns, verbs, adjectives, adverbs, numbers, and names. Let's take the first sentence as an example:<br><br>\n",
    "\n",
    "~~~\n",
    "The world has seen countless inventions, but none quite like the corn dog.\n",
    "~~~\n",
    "\n",
    "<br>\n",
    "This sentence contains several candidates for dynamic spaces, <em>corn dog</em> being my personal favorite. To make this dynamic, we need to create an object and reference it in curly brackets. As a best practice, our program's object names should be intuitive, and in this case, scalable. Thus, I have named this object <em>singular_thing_1</em>. This name is intuitive (it hints as to what should go in this space) and it is scalable (if we need another singular thing for a different dynamic space in our mad lib, we can call it <em>singular_thing_2</em>). Also, we will keep this step simple and store the string <em>\"corn dog\"</em> in this object instead of prompting a user for input. The benefit of such a step is that we can more easily see if our program is working as expected.<br><br>\n",
    "\n",
    "~~~\n",
    "singular_thing_1 = 'corn dog'\n",
    "\n",
    "print(f\"\"\"The world has seen countless inventions, but none quite like the {singular_thing_1}.\"\"\")\n",
    "~~~"
   ]
  },
  {
   "cell_type": "code",
   "execution_count": null,
   "metadata": {},
   "outputs": [],
   "source": [
    "## Project Code 3.4.1 ##\n",
    "singular_thing_1 = 'corn dog'\n",
    "\n",
    "print(f\"\"\"The world has seen countless inventions, but none quite like the {singular_thing_1}.\"\"\")"
   ]
  },
  {
   "cell_type": "markdown",
   "metadata": {
    "deletable": false,
    "editable": false,
    "run_control": {
     "frozen": true
    }
   },
   "source": [
    "<br><hr style=\"height:.9px;border:none;color:#333;background-color:#333;\" /><br>\n",
    "\n",
    "<h2>P3.5 Prompting Users</h2><br>\n",
    "The output of <em>Project Code 3.4.1</em> looks identical to the sentence we are trying to mimic, implying that we are ready to use this space to prompt a user for input. If this is successful, we will have prototyped a method that can be applied across our Mad Lib. As mentioned in <strong>Chapter 3: User Input and Variable Types</strong>, our prompt message (the message a user sees when prompted for input) should be intuitive so that the user knows what they should do. This is often easier said that done, and we need to consider our target audience:<br><br>\n",
    "\n",
    "~~~\n",
    "# Prompt message for an adult\n",
    "input(prompt= 'Singular, man-made object:\\t')\n",
    "\n",
    "# Prompt message for a 5-year old\n",
    "input(prompt= 'Give me a thing, like basketball, roller skate, car...:\\t')\n",
    "\n",
    "# Complete the sentence prompt message:\n",
    "input(prompt= \"\"\"\n",
    "Complete the sentence:\n",
    "The world has seen countless inventions, but none quite like the...\n",
    "\"\"\")\n",
    "~~~\n",
    "\n",
    "<br>\n",
    "All three prompt messages have merits. However, the third message may be too informative for a mad lib, as not knowing how your word will be used in context is part of the fun. Also, since the target audience of the textbook is older than five, it is safe to utilize the first prompt. This prompt can be altered and enhanced in many ways. For example, if we add directions at the beginning of our Mad Lib, we would be able to simplify the messages that users will see and directly ask for each part of speech.<br><br>\n",
    "\n",
    "~~~\n",
    "# Another prompt message for an adult\n",
    "print(prompt= f\"\"\"\n",
    "{'-' * 40}\n",
    "\n",
    "DIRECTIONS:\n",
    "In this game, we are going to create a story based on words you select.\n",
    "Each blank contains a part of speech, and your job is to input the first\n",
    "word that comes to your mind. After you have filled in all of the blanks,\n",
    "your story will appear.\n",
    "\n",
    "{'-' * 40}\\n\"\"\")\n",
    "\n",
    "singular_thing_1 = input(prompt= 'SINGULAR, MAN-MADE OBJECT:\\t')\n",
    "\n",
    "print(f\"\"\"\n",
    "The world has seen countless inventions, but none quite like the {singular_thing_1}.\n",
    "\"\"\")\n",
    "~~~\n",
    "\n",
    "<br>\n",
    "The above code can be run in <em>Project Code 3.5.1</em>. After confirming its results, we are ready to apply this prototype to the entire story.\n",
    "\n",
    "<br><hr style=\"height:.9px;border:none;color:#333;background-color:#333;\" />"
   ]
  },
  {
   "cell_type": "code",
   "execution_count": null,
   "metadata": {},
   "outputs": [],
   "source": [
    "## Project Code 3.5.1 ##\n",
    "\n",
    "# Another prompt message for an adult\n",
    "print(f\"\"\"\n",
    "{'-' * 40}\n",
    "\n",
    "DIRECTIONS:\n",
    "In this game, we are going to create a story based on words you select.\n",
    "Each blank contains a part of speech, and your job is to input the first\n",
    "word that comes to your mind. After you have filled in all of the blanks,\n",
    "your story will appear.\n",
    "\n",
    "{'-' * 40}\\n\"\"\")\n",
    "\n",
    "singular_thing_1 = input('SINGULAR, MAN-MADE OBJECT:\\t')\n",
    "\n",
    "print(f\"\"\"\n",
    "The world has seen countless inventions, but none quite like the {singular_thing_1}.\n",
    "\"\"\")"
   ]
  },
  {
   "cell_type": "markdown",
   "metadata": {
    "deletable": false,
    "editable": false,
    "run_control": {
     "frozen": true
    }
   },
   "source": [
    "<br><hr style=\"height:.9px;border:none;color:#333;background-color:#333;\" /><br><br>\n",
    "\n",
    "<h4>Use the following code cell to develop the rest of the mad lib.</h4>"
   ]
  },
  {
   "cell_type": "code",
   "execution_count": null,
   "metadata": {},
   "outputs": [],
   "source": [
    "# design your mad lib here!\n",
    "\n",
    "\n"
   ]
  },
  {
   "cell_type": "code",
   "execution_count": 1,
   "metadata": {},
   "outputs": [
    {
     "name": "stdout",
     "output_type": "stream",
     "text": [
      "\n",
      "----------------------------------------\n",
      "\n",
      "DIRECTIONS:\n",
      "In this game, we are going to create a story based on words you select.\n",
      "Each blank contains a part of speech, and your job is to input the first\n",
      "word that comes to your mind. After you have filled in all of the blanks,\n",
      "your story will appear.\n",
      "\n",
      "There are a total of 12 blanks.\n",
      "\n",
      "----------------------------------------\n",
      "\n",
      "Press < Enter > to continue.\n",
      "SINGULAR, MAN-MADE OBJECT:\n",
      "a pair of scissors\n",
      "ADJECTIVE:\n",
      "pretty\n",
      "YEAR:\n",
      "1994\n",
      "NATIONALITY:\n",
      "Rwanda\n",
      "PROFESSION:\n",
      "engineer\n",
      "PERSON'S NAME:\n",
      "John\n",
      "PLACE WHERE YOU CAN BUY THINGS:\n",
      "grocery store\n",
      "VERB IN PROGRESSIVE TENSE (ENDING IN -ING):\n",
      "playing\n",
      "VERB IN INFINITIVE TENSE (i.e. walk):\n",
      "eat\n",
      "PROFESSION IN PLURAL FORM:\n",
      "lawyers\n",
      "NUMBER IN NUMBERIC FORM:\n",
      "17\n",
      "VERB IN INFINITIVE TENSE (i.e. walk):\n",
      "write\n",
      "\n",
      "\n",
      "Are you ready to see your story?\n",
      "\n",
      "\n",
      "\n",
      "\f",
      "\n",
      "****************************************\n",
      "****************************************\n",
      "\n",
      "The world has seen countless inventions, but none quite like the a pair of scissors.\n",
      "This pretty invention was first prototyped in 1994 by the world-renowned\n",
      "Rwanda engineer John. When it first hit the shelves of the\n",
      "grocery store, people were playing through the doors to eat them. In\n",
      "fact, grocery store managers had to hire lawyers just to settle the\n",
      "crowds. Even though there was a limit of 17 boxes per customer, one\n",
      "person tried to write 1700 on the first day!\n",
      "\n",
      "****************************************\n",
      "****************************************\n",
      "\n"
     ]
    }
   ],
   "source": [
    "## Sample Solution ##\n",
    "\n",
    "print(f\"\"\"\n",
    "{'-' * 40}\n",
    "\n",
    "DIRECTIONS:\n",
    "In this game, we are going to create a story based on words you select.\n",
    "Each blank contains a part of speech, and your job is to input the first\n",
    "word that comes to your mind. After you have filled in all of the blanks,\n",
    "your story will appear.\n",
    "\n",
    "There are a total of 12 blanks.\n",
    "\n",
    "{'-' * 40}\\n\"\"\")\n",
    "\n",
    "input(\"Press < Enter > to continue.\")\n",
    "\n",
    "singular_thing_1 = input(prompt = 'SINGULAR, MAN-MADE OBJECT:\\n')\n",
    "adjective_1      = input(prompt = 'ADJECTIVE:\\n')\n",
    "year_1           = input(prompt = 'YEAR:\\n')\n",
    "nationality_1    = input(prompt = 'NATIONALITY:\\n')\n",
    "profession_1     = input(prompt = 'PROFESSION:\\n')\n",
    "name_1           = input(prompt = \"PERSON'S NAME:\\n\")\n",
    "place_1          = input(prompt = 'PLACE WHERE YOU CAN BUY THINGS:\\n')\n",
    "verb_1           = input(prompt = 'VERB IN PROGRESSIVE TENSE (ENDING IN -ING):\\n')\n",
    "verb_2           = input(prompt = 'VERB IN INFINITIVE TENSE (i.e. walk):\\n')\n",
    "profession_2     = input(prompt = 'PROFESSION IN PLURAL FORM:\\n')\n",
    "number_1         = input(prompt = 'NUMBER IN NUMBERIC FORM:\\n')\n",
    "verb_3           = input(prompt = 'VERB IN INFINITIVE TENSE (i.e. walk):\\n')\n",
    "\n",
    "\n",
    "input(prompt = \"\"\"\n",
    "\n",
    "Are you ready to see your story?\n",
    "\n",
    "\"\"\")\n",
    "\n",
    "print(f\"\"\"\n",
    "\\f\n",
    "{'*' * 40}\n",
    "{'*' * 40}\n",
    "\n",
    "The world has seen countless inventions, but none quite like the {singular_thing_1}.\n",
    "This {adjective_1} invention was first prototyped in {year_1} by the world-renowned\n",
    "{nationality_1} {profession_1} {name_1}. When it first hit the shelves of the\n",
    "{place_1}, people were {verb_1} through the doors to {verb_2} them. In\n",
    "fact, {place_1} managers had to hire {profession_2} just to settle the\n",
    "crowds. Even though there was a limit of {number_1} boxes per customer, one\n",
    "person tried to {verb_3} {int(number_1) * 100} on the first day!\n",
    "\n",
    "{'*' * 40}\n",
    "{'*' * 40}\n",
    "\"\"\")\n"
   ]
  },
  {
   "cell_type": "markdown",
   "metadata": {
    "deletable": false,
    "editable": false,
    "run_control": {
     "frozen": true
    }
   },
   "source": [
    "<hr style=\"height:.9px;border:none;color:#333;background-color:#333;\" /><br>\n",
    "\n",
    "<h2>Summary</h2>\n",
    "\n",
    "Having an informative user input prompt through the use of the optional argument <em>prompt</em> can help to consolidate code and give users a better experience.\n",
    "<br><br>\n",
    "\n",
    "~~~\n",
    "   _  ___                           __   __\n",
    "  / |/ (_)______   _    _____  ____/ /__/ /\n",
    " /    / / __/ -_) | |/|/ / _ \\/ __/  '_/_/ \n",
    "/_/|_/_/\\__/\\__/  |__,__/\\___/_/ /_/\\_(_)  \n",
    "                                           \n",
    "~~~"
   ]
  },
  {
   "cell_type": "markdown",
   "metadata": {
    "deletable": false,
    "editable": false,
    "run_control": {
     "frozen": true
    }
   },
   "source": [
    "<br>"
   ]
  }
 ],
 "metadata": {
  "kernelspec": {
   "display_name": "Python 3 (ipykernel)",
   "language": "python",
   "name": "python3"
  },
  "language_info": {
   "codemirror_mode": {
    "name": "ipython",
    "version": 3
   },
   "file_extension": ".py",
   "mimetype": "text/x-python",
   "name": "python",
   "nbconvert_exporter": "python",
   "pygments_lexer": "ipython3",
   "version": "3.9.7"
  },
  "toc": {
   "base_numbering": 1,
   "nav_menu": {},
   "number_sections": false,
   "sideBar": true,
   "skip_h1_title": false,
   "title_cell": "Table of Contents",
   "title_sidebar": "Contents",
   "toc_cell": false,
   "toc_position": {
    "height": "calc(100% - 180px)",
    "left": "10px",
    "top": "150px",
    "width": "374.102px"
   },
   "toc_section_display": true,
   "toc_window_display": false
  },
  "varInspector": {
   "cols": {
    "lenName": 16,
    "lenType": 16,
    "lenVar": 40
   },
   "kernels_config": {
    "python": {
     "delete_cmd_postfix": "",
     "delete_cmd_prefix": "del ",
     "library": "var_list.py",
     "varRefreshCmd": "print(var_dic_list())"
    },
    "r": {
     "delete_cmd_postfix": ") ",
     "delete_cmd_prefix": "rm(",
     "library": "var_list.r",
     "varRefreshCmd": "cat(var_dic_list()) "
    }
   },
   "oldHeight": 122.857142,
   "position": {
    "height": "214.839px",
    "left": "631px",
    "right": "20px",
    "top": "108px",
    "width": "418px"
   },
   "types_to_exclude": [
    "module",
    "function",
    "builtin_function_or_method",
    "instance",
    "_Feature"
   ],
   "varInspector_section_display": "block",
   "window_display": false
  }
 },
 "nbformat": 4,
 "nbformat_minor": 2
}
