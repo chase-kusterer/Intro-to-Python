{
 "cells": [
  {
   "cell_type": "markdown",
   "metadata": {
    "deletable": false,
    "editable": false,
    "run_control": {
     "frozen": true
    }
   },
   "source": [
    "<hr style=\"height:1px;border:none;color:#333;background-color:#333;\" />\n",
    "<hr style=\"height:1px;border:none;color:#333;background-color:#333;\" />\n",
    "<br><br><br>\n",
    "\n",
    "<h1>Lists | Conditionals | Loops</h1>\n",
    "Written by Chase Kusterer - Faculty of Analytics <br>\n",
    "<a href=\"https://github.com/chase-kusterer\">https://github.com/chase-kusterer</a> <br><br><br><br><br>\n",
    "\n",
    "<hr style=\"height:1px;border:none;color:#333;background-color:#333;\" />\n",
    "<hr style=\"height:1px;border:none;color:#333;background-color:#333;\" />"
   ]
  },
  {
   "cell_type": "markdown",
   "metadata": {
    "deletable": false,
    "editable": false,
    "run_control": {
     "frozen": true
    }
   },
   "source": [
    "<h2>Part I: Lists and List Indexing</h2>\n",
    "Indexing is one of the most fundamental concepts in Python. As mentioned in the textbook, zero is the first index value in any iterable object (an object that can contain more than one item). Lists fall into this category, as do more advanced structures such as dictionaries and DataFrames. The following activity is designed to help get you comfortable with indexing, both forwards and backwards (the last item in a list has an index value of -1).\n",
    "\n",
    "<h4>Activity: Unscramble The Phrase</h4>\n",
    "Your task in this activity is to unscramble each phrase using list indexing and printing the result. Take, for example, the following quote from the Monty Python movie <em>Life of Brian</em>:\n",
    "<br><br>\n",
    "\n",
    "~~~\n",
    "brian_lst = ['the', 'bright', 'on', 'life', 'always', 'side', 'of', 'look']\n",
    "~~~\n",
    "\n",
    "<br>\n",
    "This phrase can be unscrambled as follows:"
   ]
  },
  {
   "cell_type": "code",
   "execution_count": null,
   "metadata": {
    "deletable": false,
    "editable": false
   },
   "outputs": [],
   "source": [
    "# scrambled phrase\n",
    "brian_lst = ['the', 'bright', 'on', 'life', 'always', 'side', 'of', 'look']"
   ]
  },
  {
   "cell_type": "markdown",
   "metadata": {
    "deletable": false,
    "editable": false,
    "run_control": {
     "frozen": true
    }
   },
   "source": [
    "<br>"
   ]
  },
  {
   "cell_type": "code",
   "execution_count": null,
   "metadata": {
    "deletable": false,
    "editable": false
   },
   "outputs": [],
   "source": [
    "# printing unscrambled phrase\n",
    "print(brian_lst[4], brian_lst[-1], brian_lst[2], brian_lst[0], brian_lst[1],\n",
    "      brian_lst[-3], brian_lst[-2], brian_lst[3])"
   ]
  },
  {
   "cell_type": "markdown",
   "metadata": {
    "deletable": false,
    "editable": false,
    "run_control": {
     "frozen": true
    }
   },
   "source": [
    "<hr style=\"height:1px;border:none;color:#333;background-color:#333;\" /><br>\n",
    "This can also be improved with the string method <strong>.capitalize(&nbsp;)</strong> and by utilizing the <strong>end</strong> argument of the print function."
   ]
  },
  {
   "cell_type": "code",
   "execution_count": null,
   "metadata": {
    "deletable": false,
    "editable": false
   },
   "outputs": [],
   "source": [
    "# printing improved results\n",
    "print(brian_lst[4].capitalize(), brian_lst[-1], brian_lst[2], brian_lst[0], brian_lst[1],\n",
    "      brian_lst[-3], brian_lst[-2], brian_lst[3], end = '.')"
   ]
  },
  {
   "cell_type": "markdown",
   "metadata": {
    "deletable": false,
    "editable": false,
    "run_control": {
     "frozen": true
    }
   },
   "source": [
    "<hr style=\"height:1px;border:none;color:#333;background-color:#333;\" />\n",
    "<h3>Phrase 1</h3><br>\n",
    "<em>Hint:</em> Remember this when you need to store more than item in the same object.\n"
   ]
  },
  {
   "cell_type": "code",
   "execution_count": null,
   "metadata": {
    "deletable": false,
    "editable": false
   },
   "outputs": [],
   "source": [
    "# instantiating a list\n",
    "friend_lst = ['your', 'best', 'one', 'lists', 'of', 'are', 'friends']"
   ]
  },
  {
   "cell_type": "markdown",
   "metadata": {
    "deletable": false,
    "editable": false,
    "run_control": {
     "frozen": true
    }
   },
   "source": [
    "<br>"
   ]
  },
  {
   "cell_type": "code",
   "execution_count": null,
   "metadata": {},
   "outputs": [],
   "source": [
    "# use this space to code your solution\n"
   ]
  },
  {
   "cell_type": "code",
   "execution_count": null,
   "metadata": {
    "deletable": false,
    "editable": false
   },
   "outputs": [],
   "source": [
    "# Sample Solution for Phrase 1\n",
    "print(friend_lst[3].capitalize(), friend_lst[-2], friend_lst[2],\n",
    "      friend_lst[-3], friend_lst[0], friend_lst[1], friend_lst[-1], end = '.')"
   ]
  },
  {
   "cell_type": "markdown",
   "metadata": {
    "deletable": false,
    "editable": false,
    "run_control": {
     "frozen": true
    }
   },
   "source": [
    "<hr style=\"height:1px;border:none;color:#333;background-color:#333;\" />\n",
    "<h3>Phrase 2</h3><br>\n",
    "<em>Hint:</em> Remember this for a healthy life."
   ]
  },
  {
   "cell_type": "code",
   "execution_count": null,
   "metadata": {
    "deletable": false,
    "editable": false
   },
   "outputs": [],
   "source": [
    "# instantiating a list\n",
    "healthy_lst = ['make', 'wash', 'your', 'to', 'sure', 'hands']"
   ]
  },
  {
   "cell_type": "markdown",
   "metadata": {
    "deletable": false,
    "editable": false,
    "run_control": {
     "frozen": true
    }
   },
   "source": [
    "<br>"
   ]
  },
  {
   "cell_type": "code",
   "execution_count": null,
   "metadata": {},
   "outputs": [],
   "source": [
    "# use this space to code your solution\n"
   ]
  },
  {
   "cell_type": "code",
   "execution_count": null,
   "metadata": {
    "deletable": false,
    "editable": false
   },
   "outputs": [],
   "source": [
    "# Sample Solution for Phrase 2\n",
    "print(healthy_lst[0].capitalize(), healthy_lst[-2], healthy_lst[-3],\n",
    "      healthy_lst[1], healthy_lst[2], healthy_lst[-1], end = '.')"
   ]
  },
  {
   "cell_type": "markdown",
   "metadata": {
    "deletable": false,
    "editable": false,
    "run_control": {
     "frozen": true
    }
   },
   "source": [
    "<hr style=\"height:.9px;border:none;color:#333;background-color:#333;\" />\n",
    "<hr style=\"height:.9px;border:none;color:#333;background-color:#333;\" /><br>\n",
    "\n",
    "~~~\n",
    "   ___                                      _____            _ \n",
    "  /___\\_ __   ___    /\\/\\   ___  _ __ ___  /__   \\___   ___ | |\n",
    " //  // '_ \\ / _ \\  /    \\ / _ \\| '__/ _ \\   / /\\/ _ \\ / _ \\| |\n",
    "/ \\_//| | | |  __/ / /\\/\\ \\ (_) | | |  __/  / / | (_) | (_) | |\n",
    "\\___/ |_| |_|\\___| \\/    \\/\\___/|_|  \\___|  \\/   \\___/ \\___/|_|\n",
    "                                                               \n",
    "  _____         _____ _                                        \n",
    "  \\_   \\_ __   /__   \\ |__   ___                               \n",
    "   / /\\/ '_ \\    / /\\/ '_ \\ / _ \\                              \n",
    "/\\/ /_ | | | |  / /  | | | |  __/                              \n",
    "\\____/ |_| |_|  \\/   |_| |_|\\___|                              \n",
    "                                                               \n",
    " _____            _ _                 _                        \n",
    "/__   \\___   ___ | | |__   _____  __ / \\                       \n",
    "  / /\\/ _ \\ / _ \\| | '_ \\ / _ \\ \\/ //  /                       \n",
    " / / | (_) | (_) | | |_) | (_) >  </\\_/                        \n",
    " \\/   \\___/ \\___/|_|_.__/ \\___/_/\\_\\/                          \n",
    "                                                                      \n",
    "~~~\n",
    "\n",
    "<br><hr style=\"height:.9px;border:none;color:#333;background-color:#333;\" />\n",
    "<hr style=\"height:.9px;border:none;color:#333;background-color:#333;\" />"
   ]
  },
  {
   "cell_type": "markdown",
   "metadata": {
    "deletable": false,
    "editable": false,
    "run_control": {
     "frozen": true
    }
   },
   "source": [
    "<br><h2>Conditional Statements</h2>\n",
    "<em>DAT-5322 In-Class Script</em><br><br>\n",
    "\n",
    "Written by Chase Kusterer - Faculty of Analytics <br>\n",
    "<a href=\"https://github.com/chase-kusterer\">https://github.com/chase-kusterer</a><br><br><br>\n",
    "\n",
    "<hr style=\"height:.9px;border:none;color:#333;background-color:#333;\" />\n",
    "<hr style=\"height:.9px;border:none;color:#333;background-color:#333;\" />\n",
    "<br>\n",
    "<h2>Part I: if-elif-else</h2><br>\n",
    "Let's build a conditional statement based on the recommended study hours for this course.<br><br>\n",
    "<strong>a) Develop an <em>if</em> statement that evaluates to True when <em>study_hours</em> is greater than 20.\n",
    "Fill in the body of the <em>if</em> statement with the following:</strong>\n",
    "<br>\n",
    "\n",
    "~~~\n",
    "print(\"Wow! You get an A for effort!\")\n",
    "~~~\n",
    "\n",
    "\n",
    "\n"
   ]
  },
  {
   "cell_type": "code",
   "execution_count": null,
   "metadata": {},
   "outputs": [],
   "source": [
    "# instantiating an object\n",
    "study_hours = 1\n",
    "\n",
    "# writing a basic conditional statement\n",
    "____"
   ]
  },
  {
   "cell_type": "code",
   "execution_count": null,
   "metadata": {
    "deletable": false,
    "editable": false
   },
   "outputs": [],
   "source": [
    "# instantiating an object\n",
    "study_hours = 1\n",
    "\n",
    "# writing a basic conditional statement\n",
    "if study_hours > 20:\n",
    "    print(\"Wow! You get an A for effort!\")"
   ]
  },
  {
   "cell_type": "markdown",
   "metadata": {
    "deletable": false,
    "editable": false,
    "run_control": {
     "frozen": true
    }
   },
   "source": [
    "<hr style=\"height:.9px;border:none;color:#333;background-color:#333;\" /><br>\n",
    "\n",
    "<strong>b) Add an <em>else</em> clause to the conditional statement.</strong><br><br>\n",
    "Fill in the body of the <em>else</em> clause with the following:\n",
    "<br>\n",
    "~~~\n",
    "print(\"Take some time to study a bit more.\")\n",
    "~~~"
   ]
  },
  {
   "cell_type": "code",
   "execution_count": null,
   "metadata": {},
   "outputs": [],
   "source": [
    "# instantiating an object\n",
    "study_hours = 1\n",
    "\n",
    "\n",
    "# conditional statement with if and else clauses\n",
    "if study_hours > 20:\n",
    "    print(\"Wow! You get an A for effort!\")\n",
    "\n",
    "\n",
    "# adding an else clause\n",
    "____"
   ]
  },
  {
   "cell_type": "code",
   "execution_count": null,
   "metadata": {
    "deletable": false,
    "editable": false
   },
   "outputs": [],
   "source": [
    "# instantiating an object\n",
    "study_hours = 1\n",
    "\n",
    "\n",
    "# conditional statement with an if and else clauses\n",
    "if study_hours > 20:\n",
    "    print(\"Wow! You get an A for effort!\")\n",
    "\n",
    "\n",
    "# adding an else clause\n",
    "else:\n",
    "    print(\"Take some time to study a bit more.\")"
   ]
  },
  {
   "cell_type": "markdown",
   "metadata": {
    "deletable": false,
    "editable": false,
    "run_control": {
     "frozen": true
    }
   },
   "source": [
    "<hr style=\"height:.9px;border:none;color:#333;background-color:#333;\" /><br>\n",
    "\n",
    "<strong>c) Add an <em>elif</em> clause that evaluates to True when <em>study_hours</em> is greater than or equal to 15.</strong><br><br>\n",
    "Fill in the body of the <em>elif</em> clause with the following:\n",
    "<br>\n",
    "~~~\n",
    "print(\"You're on pace, good job!\")\n",
    "~~~"
   ]
  },
  {
   "cell_type": "code",
   "execution_count": null,
   "metadata": {},
   "outputs": [],
   "source": [
    "# instantiating an object\n",
    "study_hours = 15\n",
    "\n",
    "\n",
    "# conditional statement with an if, elif, and else clauses\n",
    "if study_hours > 20:\n",
    "    print(\"Wow! You get an A for effort!\")\n",
    "\n",
    "____\n",
    "\n",
    "\n",
    "else:\n",
    "    print(\"Take some time to study a bit more.\")"
   ]
  },
  {
   "cell_type": "code",
   "execution_count": null,
   "metadata": {
    "deletable": false,
    "editable": false
   },
   "outputs": [],
   "source": [
    "# instantiating an object\n",
    "study_hours = 15\n",
    "\n",
    "\n",
    "# conditional statement with if, elif, and else clauses\n",
    "if study_hours > 20:\n",
    "    print(\"Wow! You get an A for effort!\")\n",
    "\n",
    "\n",
    "elif study_hours >= 15:\n",
    "    print(\"You're on pace, good job!\")\n",
    "\n",
    "\n",
    "else:\n",
    "    print(\"Take some time to study a bit more.\")"
   ]
  },
  {
   "cell_type": "markdown",
   "metadata": {
    "deletable": false,
    "editable": false,
    "run_control": {
     "frozen": true
    }
   },
   "source": [
    "<hr style=\"height:.9px;border:none;color:#333;background-color:#333;\" /><br>\n",
    "\n",
    "<h2>Part II: User Input and Conditional Statements</h2><br>\n",
    "Let's modify our program so that it can prompt users to input how many hours they studied in a given week.<br><br>\n",
    "<strong>a) Turn <em>study_hours</em> into an input prompt with the following message:</strong><br>\n",
    "\n",
    "~~~\n",
    "\"How many hours did you study this week?\\n\"\n",
    "~~~"
   ]
  },
  {
   "cell_type": "code",
   "execution_count": null,
   "metadata": {},
   "outputs": [],
   "source": [
    "# developing an input prompt\n",
    "study_hours = ____\n",
    "\n",
    "\n",
    "# same conditional statement as above\n",
    "if study_hours > 20:\n",
    "    print(\"Wow! You get an A for effort!\")\n",
    "\n",
    "\n",
    "elif study_hours >= 15:\n",
    "    print(\"You're on pace, good job!\")\n",
    "\n",
    "\n",
    "else:\n",
    "    print(\"Take some time to study a bit more.\")"
   ]
  },
  {
   "cell_type": "code",
   "execution_count": null,
   "metadata": {
    "deletable": false,
    "editable": false
   },
   "outputs": [],
   "source": [
    "# developing an input prompt\n",
    "study_hours = input(prompt = \"How many hours did you study this week?\\n\")\n",
    "\n",
    "\n",
    "# same conditional statement as above\n",
    "if study_hours > 20:\n",
    "    print(\"Wow! You get an A for effort!\")\n",
    "\n",
    "\n",
    "elif study_hours >= 15:\n",
    "    print(\"You're on pace, good job!\")\n",
    "\n",
    "\n",
    "else:\n",
    "    print(\"Take some time to study a bit more.\")"
   ]
  },
  {
   "cell_type": "markdown",
   "metadata": {
    "deletable": false,
    "editable": false,
    "run_control": {
     "frozen": true
    }
   },
   "source": [
    "<hr style=\"height:.9px;border:none;color:#333;background-color:#333;\" /><br>\n",
    "\n",
    "<strong>b) Investigate the object type of <em>study_hours</em>.</strong><br><br>\n",
    "The error message resulting from the code above implies that our object types are inappropriate for the comparisons in the conditional statement.\n",
    "<br>\n",
    "\n",
    "~~~\n",
    "TypeError: '>' not supported between instances of 'str' and 'int'\n",
    "~~~\n",
    "\n",
    "<br>\n",
    "Investigate the type of <em>study_hours</em> in the code below."
   ]
  },
  {
   "cell_type": "code",
   "execution_count": null,
   "metadata": {
    "deletable": false,
    "editable": false
   },
   "outputs": [],
   "source": [
    "# investigating the object type of study hours\n",
    "type(study_hours)"
   ]
  },
  {
   "cell_type": "markdown",
   "metadata": {
    "deletable": false,
    "editable": false,
    "run_control": {
     "frozen": true
    }
   },
   "source": [
    "<hr style=\"height:.9px;border:none;color:#333;background-color:#333;\" /><br>\n",
    "\n",
    "In order for the conditional statement to evaluate properly, we need to convert the user input into numeric form (integer or float).<br>\n",
    "\n",
    "<strong>c) Convert <em>study_hours</em> into an integer (&nbsp;<em>int</em>&nbsp;) and rerun the conditional statement.</strong>"
   ]
  },
  {
   "cell_type": "code",
   "execution_count": null,
   "metadata": {},
   "outputs": [],
   "source": [
    "# delcaring an object\n",
    "study_hours = input(prompt = \"How many hours did you study this week?\\n\")\n",
    "\n",
    "\n",
    "# converting into integer\n",
    "_____\n",
    "\n",
    "\n",
    "# same conditional statement as above\n",
    "if study_hours > 20:\n",
    "    print(\"Wow! You get an A for effort!\")\n",
    "\n",
    "\n",
    "elif study_hours >= 15:\n",
    "    print(\"You're on pace, good job!\")\n",
    "\n",
    "\n",
    "else:\n",
    "    print(\"Take some time to study a bit more.\")"
   ]
  },
  {
   "cell_type": "code",
   "execution_count": null,
   "metadata": {
    "deletable": false,
    "editable": false
   },
   "outputs": [],
   "source": [
    "# delcaring an object\n",
    "study_hours = input(prompt = \"How many hours did you study this week?\\n\")\n",
    "\n",
    "\n",
    "# converting into integer\n",
    "study_hours = int(study_hours)\n",
    "\n",
    "\n",
    "# same conditional statement as above\n",
    "if study_hours > 20:\n",
    "    print(\"Wow! You get an A for effort!\")\n",
    "\n",
    "\n",
    "elif study_hours >= 15:\n",
    "    print(\"You're on pace, good job!\")\n",
    "\n",
    "\n",
    "else:\n",
    "    print(\"Take some time to study a bit more.\")"
   ]
  },
  {
   "cell_type": "markdown",
   "metadata": {
    "deletable": false,
    "editable": false,
    "run_control": {
     "frozen": true
    }
   },
   "source": [
    "<hr style=\"height:.9px;border:none;color:#333;background-color:#333;\" /><br>\n",
    "\n",
    "<h2>Part III: Making the Program More User Friendly</h2><br>\n",
    "Making things more friendly for the user is likely to make things more complicated for the programmer. However, user experience should (almost) always take priority over ease of development. Let's modify our program so that users can select one of three options for their study hours:\n",
    "<br>\n",
    "\n",
    "~~~\n",
    "    1. less than 15 hours\n",
    "    2. 15-20 hours\n",
    "    3. more than 20 hours\n",
    "~~~\n",
    "\n",
    "<br>\n",
    "<strong>a) Modify the conditional statement.</strong><br>\n",
    "Write the conditional statement so that it recognizes each option number as well as the text <em>'less than'</em> and <em>'more than'</em>. Make sure to write an <em>else</em> clause that runs when no valid option is selected."
   ]
  },
  {
   "cell_type": "code",
   "execution_count": null,
   "metadata": {},
   "outputs": [],
   "source": [
    "# importing random (normally this goes at the top of the script)\n",
    "import random\n",
    "\n",
    "\n",
    "# please make your own comments\n",
    "study_hours = input(\"\"\"\n",
    "How many hours did you study this week?\n",
    "    1. less than 15 hours\n",
    "    2. 15-20 hours\n",
    "    3. more than 20 hours\n",
    "\"\"\")\n",
    "\n",
    "\n",
    "#####################\n",
    "# Lists for message #\n",
    "#####################\n",
    "# low study hours list\n",
    "low_lst = [\n",
    "\"Take some time to study a bit more.\",\n",
    "_____,\n",
    "_____]\n",
    "\n",
    "\n",
    "# normal study hours list\n",
    "med_lst = [\n",
    "\"You're on pace, good job!\",\n",
    "_____,\n",
    "_____]\n",
    "\n",
    "\n",
    "# high study hours list\n",
    "hi_lst  = [\n",
    "\"Wow! You get an A for effort!\",\n",
    "_____,\n",
    "_____]\n",
    "\n",
    "\n",
    "################################################\n",
    "# Developing a more detailed set of conditions #\n",
    "################################################\n",
    "# low\n",
    "if 'less than' in study_hours:\n",
    "    print(  random.choice(_____)  )\n",
    "\n",
    "# high\n",
    "elif 'more than' in study_hours:\n",
    "    _____\n",
    "\n",
    "# low\n",
    "elif study_hours.lower() == 'a':\n",
    "    _____\n",
    "\n",
    "# med\n",
    "elif study_hours.lower() == 'b':\n",
    "    _____\n",
    "\n",
    "# high\n",
    "elif study_hours.lower() == 'c':\n",
    "    _____\n",
    "\n",
    "# low\n",
    "elif int(study_hours) < 15:\n",
    "    _____\n",
    "\n",
    "# med\n",
    "elif int(study_hours) >= 15 and int(study_hours) <= 20:\n",
    "    _____\n",
    "\n",
    "# high\n",
    "elif int(study_hours) > 20:\n",
    "    _____\n",
    "\n",
    "# everything else\n",
    "else:\n",
    "    print(\"Unexpected entry. Please check the code for bugs.\")"
   ]
  },
  {
   "cell_type": "code",
   "execution_count": null,
   "metadata": {
    "deletable": false,
    "editable": false
   },
   "outputs": [],
   "source": [
    "# importing random (normally this goes at the top of the script)\n",
    "import random # random numbers and sequences\n",
    "\n",
    "\n",
    "# simple adjustment: changing from 1, 2, 3 to A, B, C\n",
    "study_hours = input(\"\"\"\n",
    "How many hours did you study this week?\n",
    "    A. less than 15 hours\n",
    "    B. 15-20 hours\n",
    "    C. more than 20 hours\n",
    "\"\"\")\n",
    "\n",
    "\n",
    "#####################\n",
    "# Lists for message #\n",
    "#####################\n",
    "# low study hours list\n",
    "low_lst = [\n",
    "\"Take some time to study a bit more.\",\n",
    "\"\"\"\\\n",
    "If you quit now, you quit every day for the rest of your life.\n",
    "Please study at least 15 hours next week.\"\"\",\n",
    "\"You matter, and so does your learning. Please study more.\"]\n",
    "\n",
    "\n",
    "# normal study hours list\n",
    "med_lst = [\"You're on pace, good job!\",\n",
    "           \"Slow and steady wins the race!\",\n",
    "           \"Keep up the solid work ethic!\"]\n",
    "\n",
    "\n",
    "# high study hours list\n",
    "hi_lst  = [\"Wow! You get an A for effort!\",\n",
    "           \"You're doing great! Make sure to get some fresh air too.\",\n",
    "           \"Excellent work! Social life is overrated until you're 40 anyway.\"]\n",
    "\n",
    "\n",
    "################################################\n",
    "# Developing a more detailed set of conditions #\n",
    "################################################\n",
    "# low\n",
    "if 'less than' in study_hours:\n",
    "    print(  random.choice(low_lst)  )\n",
    "\n",
    "# high\n",
    "elif 'more than' in study_hours:\n",
    "    print(  random.choice(hi_lst)  )\n",
    "\n",
    "# low\n",
    "elif study_hours.lower() == 'a':\n",
    "    print(  random.choice(low_lst)  )\n",
    "\n",
    "# med\n",
    "elif study_hours.lower() == 'b':\n",
    "    print(  random.choice(med_lst)  )\n",
    "\n",
    "# high\n",
    "elif study_hours.lower() == 'c':\n",
    "    print(  random.choice(hi_lst)  )\n",
    "\n",
    "# low\n",
    "elif int(study_hours) < 15:\n",
    "    print(  random.choice(low_lst)  )\n",
    "\n",
    "# med\n",
    "elif int(study_hours) >= 15 and int(study_hours) <= 20:\n",
    "    print(  random.choice(med_lst)  )\n",
    "\n",
    "# high\n",
    "elif int(study_hours) > 20:\n",
    "    print(  random.choice(hi_lst)  )\n",
    "\n",
    "# everything else\n",
    "else:\n",
    "    print(\"Unexpected entry. Please check the code for bugs.\")"
   ]
  },
  {
   "cell_type": "markdown",
   "metadata": {
    "deletable": false,
    "editable": false,
    "run_control": {
     "frozen": true
    }
   },
   "source": [
    "<hr style=\"height:.9px;border:none;color:#333;background-color:#333;\" /><br>\n",
    "\n",
    "<h2>Summary</h2><br>\n",
    "Conditional statements are an important coding structure that allows for programs to run/skip lines of code based on a given condition.\n",
    "<br><br>\n",
    "\n",
    "~~~\n",
    "\n",
    "   ,---.                 _,---.     _,.---._                                    \n",
    " .--.'  \\             .-`.' ,  \\  ,-.' , -  `.   .-.,.---.                      \n",
    " \\==\\-/\\ \\           /==/_  _.-' /==/_,  ,  - \\ /==/  `   \\                     \n",
    " /==/-|_\\ |         /==/-  '..-.|==|   .=.     |==|-, .=., |                    \n",
    " \\==\\,   - \\        |==|_ ,    /|==|_ : ;=:  - |==|   '='  /                    \n",
    " /==/ -   ,|        |==|   .--' |==| , '='     |==|- ,   .'                     \n",
    "/==/-  /\\ - \\       |==|-  |     \\==\\ -    ,_ /|==|_  . ,'.                     \n",
    "\\==\\ _.\\=\\.-'       /==/   \\      '.='. -   .' /==/  /\\ ,  )                    \n",
    " `--`               `--`---'        `--`--''   `--`-`--`--'                     \n",
    "      ,----.      _,---.      _,---.     _,.---._                ,--.--------.  \n",
    "   ,-.--` , \\  .-`.' ,  \\  .-`.' ,  \\  ,-.' , -  `.   .-.,.---. /==/,  -   , -\\ \n",
    "  |==|-  _.-` /==/_  _.-' /==/_  _.-' /==/_,  ,  - \\ /==/  `   \\\\==\\.-.  - ,-./ \n",
    "  |==|   `.-./==/-  '..-./==/-  '..-.|==|   .=.     |==|-, .=., |`--`\\==\\- \\    \n",
    " /==/_ ,    /|==|_ ,    /|==|_ ,    /|==|_ : ;=:  - |==|   '='  /     \\==\\_ \\   \n",
    " |==|    .-' |==|   .--' |==|   .--' |==| , '='     |==|- ,   .'      |==|- |   \n",
    " |==|_  ,`-._|==|-  |    |==|-  |     \\==\\ -    ,_ /|==|_  . ,'.      |==|, |   \n",
    " /==/ ,     //==/   \\    /==/   \\      '.='. -   .' /==/  /\\ ,  )     /==/ -/   \n",
    " `--`-----`` `--`---'    `--`---'        `--`--''   `--`-`--`--'      `--`--`   \n",
    "\n",
    "~~~"
   ]
  },
  {
   "cell_type": "markdown",
   "metadata": {
    "deletable": false,
    "editable": false,
    "run_control": {
     "frozen": true
    }
   },
   "source": [
    "<hr style=\"height:.9px;border:none;color:#333;background-color:#333;\" />\n",
    "<hr style=\"height:.9px;border:none;color:#333;background-color:#333;\" />\n",
    "\n",
    "<br><h2>for Loops</h2>\n",
    "\n",
    "Written by Chase Kusterer - Faculty of Analytics <br>\n",
    "<a href=\"https://github.com/chase-kusterer\">https://github.com/chase-kusterer</a><br><br><br>\n",
    "\n",
    "<hr style=\"height:.9px;border:none;color:#333;background-color:#333;\" />\n",
    "<hr style=\"height:.9px;border:none;color:#333;background-color:#333;\" />\n",
    "<br>\n",
    "<h2>Part I: for Loops - An Alternative to Copy/Pasting</h2><br>\n",
    "Let's instantiate a list and then print its elements one by one."
   ]
  },
  {
   "cell_type": "code",
   "execution_count": null,
   "metadata": {},
   "outputs": [],
   "source": [
    "# declaring a list\n",
    "letter_lst = ['a', 'b', 'c', 'd', 'e']\n",
    "\n",
    "# printing the list\n",
    "print(letter_lst)"
   ]
  },
  {
   "cell_type": "markdown",
   "metadata": {
    "deletable": false,
    "editable": false,
    "run_control": {
     "frozen": true
    }
   },
   "source": [
    "<br>"
   ]
  },
  {
   "cell_type": "code",
   "execution_count": null,
   "metadata": {
    "deletable": false,
    "editable": false
   },
   "outputs": [],
   "source": [
    "# printing each element in lst\n",
    "print(letter_lst[0])\n",
    "print(letter_lst[1])\n",
    "print(letter_lst[2])\n",
    "print(letter_lst[3])\n",
    "print(letter_lst[4])"
   ]
  },
  {
   "cell_type": "markdown",
   "metadata": {
    "deletable": false,
    "editable": false,
    "run_control": {
     "frozen": true
    }
   },
   "source": [
    "<hr style=\"height:.9px;border:none;color:#333;background-color:#333;\" /><br>\n",
    "\n",
    "The copy/paste approach is inefficient and prone to entry-related errors. As an alternative, let's code a <em>for</em> loop to accomplish the same task."
   ]
  },
  {
   "cell_type": "code",
   "execution_count": null,
   "metadata": {
    "deletable": false,
    "editable": false
   },
   "outputs": [],
   "source": [
    "# for loop\n",
    "for letter in letter_lst:\n",
    "    print(letter)"
   ]
  },
  {
   "cell_type": "markdown",
   "metadata": {
    "deletable": false,
    "editable": false,
    "run_control": {
     "frozen": true
    }
   },
   "source": [
    "<hr style=\"height:.9px;border:none;color:#333;background-color:#333;\" /><br>\n",
    "\n",
    "<strong>a) Loop over the second element of each inner list.</strong><br>\n",
    "The outer list in the code in below has three inner lists, and each inner list contains two strings each."
   ]
  },
  {
   "cell_type": "code",
   "execution_count": null,
   "metadata": {},
   "outputs": [],
   "source": [
    "# nested list structure\n",
    "lst = [['apple', 'bear'], ['cherry', 'dog'], ['eggplant', 'fish']]\n",
    "\n",
    "\n",
    "# develop your for loop here\n",
    "_____"
   ]
  },
  {
   "cell_type": "code",
   "execution_count": null,
   "metadata": {
    "deletable": false,
    "editable": false
   },
   "outputs": [],
   "source": [
    "# nested list structure\n",
    "lst = [['apple', 'bear'], ['cherry', 'dog'], ['eggplant', 'fish']]\n",
    "\n",
    "\n",
    "# first sample solution\n",
    "for item in lst:\n",
    "\n",
    "    print(item[1])\n",
    "\n",
    "\n",
    "# second sample solution\n",
    "for fruit, animal in lst:   \n",
    "    print(animal)"
   ]
  },
  {
   "cell_type": "markdown",
   "metadata": {
    "deletable": false,
    "editable": false,
    "run_control": {
     "frozen": true
    }
   },
   "source": [
    "<hr style=\"height:.9px;border:none;color:#333;background-color:#333;\" /><br>\n",
    "\n",
    "<strong>b) Add a break statement to stop the loop if an animal name contains the letter \"s\".</strong><br>"
   ]
  },
  {
   "cell_type": "code",
   "execution_count": null,
   "metadata": {},
   "outputs": [],
   "source": [
    "# nested list structure\n",
    "lst = [['apple', 'bear'], ['cherry', 'dog'], ['eggplant', 'fish']]\n",
    "\n",
    "# loop like before\n",
    "for fruit, animal in lst:\n",
    "    \n",
    "    _____\n",
    "\n"
   ]
  },
  {
   "cell_type": "code",
   "execution_count": null,
   "metadata": {
    "deletable": false,
    "editable": false
   },
   "outputs": [],
   "source": [
    "# nested list structure\n",
    "lst = [['apple', 'bear'], ['cherry', 'dog'], ['eggplant', 'fish']]\n",
    "\n",
    "# loop like before\n",
    "for fruit, animal in lst:\n",
    "    \n",
    "    if \"s\" in animal:\n",
    "        break\n",
    "        \n",
    "    else:\n",
    "        print(animal)"
   ]
  },
  {
   "cell_type": "markdown",
   "metadata": {
    "deletable": false,
    "editable": false,
    "run_control": {
     "frozen": true
    }
   },
   "source": [
    "<hr style=\"height:.9px;border:none;color:#333;background-color:#333;\" />\n",
    "<hr style=\"height:.9px;border:none;color:#333;background-color:#333;\" />\n",
    "<br>\n",
    "\n",
    "~~~\n",
    " #####                       ### \n",
    "#     #  ####    ##   #      ### \n",
    "#       #    #  #  #  #      ### \n",
    "#  #### #    # #    # #       #  \n",
    "#     # #    # ###### #          \n",
    "#     # #    # #    # #      ### \n",
    " #####   ####  #    # ###### ### \n",
    "\n",
    "~~~\n",
    "\n",
    "<br>\n",
    "<hr style=\"height:.9px;border:none;color:#333;background-color:#333;\" />\n",
    "<hr style=\"height:.9px;border:none;color:#333;background-color:#333;\" />"
   ]
  },
  {
   "cell_type": "markdown",
   "metadata": {
    "cell_style": "center",
    "deletable": false,
    "editable": false,
    "run_control": {
     "frozen": true
    }
   },
   "source": [
    "<hr style=\"height:.9px;border:none;color:#333;background-color:#333;\" /><br>\n",
    "<h2>Bonus: Tools for this Script</h2><br>\n",
    "In case you are interested, the following is the code I used when shuffling the phrases for <strong>Unscramble the Phrase</strong>."
   ]
  },
  {
   "cell_type": "code",
   "execution_count": null,
   "metadata": {
    "deletable": false,
    "editable": false
   },
   "outputs": [],
   "source": [
    "import random"
   ]
  },
  {
   "cell_type": "markdown",
   "metadata": {
    "deletable": false,
    "editable": false,
    "run_control": {
     "frozen": true
    }
   },
   "source": [
    "<br>"
   ]
  },
  {
   "cell_type": "code",
   "execution_count": null,
   "metadata": {
    "deletable": false,
    "editable": false
   },
   "outputs": [],
   "source": [
    "# creating a list\n",
    "my_lst = ['this', 'code', 'will', 'shuffle', 'a', 'list']\n",
    "\n",
    "\n",
    "# shuffling the list\n",
    "random.shuffle(my_lst)\n",
    "\n",
    "\n",
    "# printing the results\n",
    "print(my_lst)"
   ]
  },
  {
   "cell_type": "markdown",
   "metadata": {
    "deletable": false,
    "editable": false,
    "run_control": {
     "frozen": true
    }
   },
   "source": [
    "<hr style=\"height:.9px;border:none;color:#333;background-color:#333;\" /><br>\n",
    "\n",
    "<strong>Easter Eggs (Wontons)</strong><br>\n",
    "An <a href=\"https://en.wikipedia.org/wiki/Easter_egg_(media)\">Easter egg</a> is a special, hidden item within a program. Open the solution to see how one has been added into the conditional statement for study hours."
   ]
  },
  {
   "cell_type": "code",
   "execution_count": null,
   "metadata": {
    "deletable": false,
    "editable": false
   },
   "outputs": [],
   "source": [
    "# input prompt\n",
    "study_hours = input(\"\"\"\n",
    "How many hours did you study this week?\n",
    "    A. less than 15 hours\n",
    "    B. 15-20 hours\n",
    "    C. more than 20 hours\n",
    "\"\"\")\n",
    "\n",
    "\n",
    "# conditional statement\n",
    "if 'less than' in study_hours:\n",
    "    print(\"Take some time to study a bit more.\")  \n",
    "\n",
    "\n",
    "elif 'more than' in study_hours:\n",
    "    print(\"Wow! You get an A for effort!\")\n",
    "\n",
    "\n",
    "# wonton\n",
    "elif study_hours == 'every hour':\n",
    "    print(\"\"\"\n",
    "                                                                         ___   \n",
    "                                                                      .'/   \\  \n",
    "          __  __   ___                       .--.   _..._            / /     \\ \n",
    "         |  |/  `.'   `.                     |__| .'     '.   .--./) | |     | \n",
    "         |   .-.  .-.   '                    .--..   .-.   . /.''\\\\  | |     | \n",
    "    __   |  |  |  |  |  |    __              |  ||  '   '  || |  | | |/`.   .' \n",
    " .:--.'. |  |  |  |  |  | .:--.'.  .--------.|  ||  |   |  | \\`-' /   `.|   |  \n",
    "/ |   \\ ||  |  |  |  |  |/ |   \\ | |____    ||  ||  |   |  | /(\"'`     ||___|  \n",
    "`\" __ | ||  |  |  |  |  |`\" __ | |     /   / |  ||  |   |  | \\ '---.   |/___/  \n",
    " .'.''| ||__|  |__|  |__| .'.''| |   .'   /  |__||  |   |  |  /'\"\"'.\\  .'.--.  \n",
    "/ /   | |_               / /   | |_ /    /___    |  |   |  | ||     ||| |    | \n",
    "\\ \\._,\\ '/               \\ \\._,\\ '/|         |   |  |   |  | \\'. __// \\_\\    / \n",
    " `--'  `\"                 `--'  `\" |_________|   '--'   '--'  `'---'   `''--'  \n",
    "          \"\"\")\n",
    "\n",
    "\n",
    "\n",
    "elif study_hours.lower() == 'a':\n",
    "    print(\"Take some time to study a bit more.\")   \n",
    "    \n",
    "\n",
    "elif study_hours.lower() == 'b':\n",
    "    print(\"You're on pace, good job!\")\n",
    "    \n",
    "    \n",
    "elif study_hours.lower() == 'c':\n",
    "    print(\"Wow! You get an A for effort!\")\n",
    "\n",
    "\n",
    "elif int(study_hours) < 15:\n",
    "    print(\"Take some time to study a bit more.\")\n",
    "\n",
    "elif int(study_hours) >= 15 and int(study_hours) <= 20:\n",
    "    print(\"You're on pace, good job!\")\n",
    "\n",
    "elif int(study_hours) > 20:\n",
    "    print(\"Wow! You get an A for effort!\")\n",
    "\n",
    "else:\n",
    "    print(\"invalid entry\")"
   ]
  },
  {
   "cell_type": "markdown",
   "metadata": {
    "deletable": false,
    "editable": false,
    "run_control": {
     "frozen": true
    }
   },
   "source": [
    "<br>"
   ]
  }
 ],
 "metadata": {
  "kernelspec": {
   "display_name": "Python 3 (ipykernel)",
   "language": "python",
   "name": "python3"
  },
  "language_info": {
   "codemirror_mode": {
    "name": "ipython",
    "version": 3
   },
   "file_extension": ".py",
   "mimetype": "text/x-python",
   "name": "python",
   "nbconvert_exporter": "python",
   "pygments_lexer": "ipython3",
   "version": "3.9.7"
  },
  "toc": {
   "base_numbering": 1,
   "nav_menu": {},
   "number_sections": false,
   "sideBar": true,
   "skip_h1_title": false,
   "title_cell": "Table of Contents",
   "title_sidebar": "Contents",
   "toc_cell": false,
   "toc_position": {},
   "toc_section_display": true,
   "toc_window_display": false
  },
  "varInspector": {
   "cols": {
    "lenName": 16,
    "lenType": 16,
    "lenVar": 40
   },
   "kernels_config": {
    "python": {
     "delete_cmd_postfix": "",
     "delete_cmd_prefix": "del ",
     "library": "var_list.py",
     "varRefreshCmd": "print(var_dic_list())"
    },
    "r": {
     "delete_cmd_postfix": ") ",
     "delete_cmd_prefix": "rm(",
     "library": "var_list.r",
     "varRefreshCmd": "cat(var_dic_list()) "
    }
   },
   "position": {
    "height": "143.6px",
    "left": "1166px",
    "right": "20px",
    "top": "119px",
    "width": "350px"
   },
   "types_to_exclude": [
    "module",
    "function",
    "builtin_function_or_method",
    "instance",
    "_Feature"
   ],
   "window_display": false
  }
 },
 "nbformat": 4,
 "nbformat_minor": 4
}
