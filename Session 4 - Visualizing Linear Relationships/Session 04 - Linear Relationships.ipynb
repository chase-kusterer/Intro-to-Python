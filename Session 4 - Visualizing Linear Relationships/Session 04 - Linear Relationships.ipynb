{
 "cells": [
  {
   "cell_type": "markdown",
   "metadata": {
    "deletable": false,
    "editable": false,
    "run_control": {
     "frozen": true
    }
   },
   "source": [
    "<hr style=\"height:.9px;border:none;color:#333;background-color:#333;\" />\n",
    "<hr style=\"height:.9px;border:none;color:#333;background-color:#333;\" />\n",
    "<br><br><br>\n",
    "<h1>Linear Relationships</h1>\n",
    "\n",
    "Written by Chase Kusterer - Faculty of Analytics <br>\n",
    "<a href=\"https://github.com/chase-kusterer\">https://github.com/chase-kusterer</a> <br><br><br><br><br>\n",
    "<hr style=\"height:.9px;border:none;color:#333;background-color:#333;\" />\n",
    "<hr style=\"height:.9px;border:none;color:#333;background-color:#333;\" />\n",
    "<br>\n",
    "<h2>Part I: Linear Correlation</h2>"
   ]
  },
  {
   "cell_type": "markdown",
   "metadata": {
    "deletable": false,
    "editable": false,
    "run_control": {
     "frozen": true
    }
   },
   "source": [
    "Throughout this session, we will focus on understanding how each feature in the dataset affects the price of a diamond engagement ring.\n",
    "<br><br><br>\n",
    "\n",
    "<hr style=\"height:.9px;border:none;color:#333;background-color:#333;\" /><br>\n",
    "\n",
    "~~~\n",
    "Some people feel the rain. Others just get wet.\n",
    "    - Bob Marley\n",
    "~~~\n",
    "\n",
    "\n",
    "<br>\n",
    "<hr style=\"height:.9px;border:none;color:#333;background-color:#333;\" />\n",
    "<br>"
   ]
  },
  {
   "cell_type": "markdown",
   "metadata": {},
   "source": [
    "<h4>S14.1.1) Complete the code to import the diamonds dataset with proper data types.</h4>\n",
    "Use the <strong>diamonds.xlsx</strong> dataset."
   ]
  },
  {
   "cell_type": "code",
   "execution_count": null,
   "metadata": {},
   "outputs": [],
   "source": [
    "## Session 14.1.1 ##\n",
    "\n",
    "# importing packages\n",
    "import ____ as pd # data science essentials\n",
    "import ____ as plt # NEW: data visualization essentials\n",
    "import ____ as sns # NEW: enhanced data visualization\n",
    "\n",
    "\n",
    "# converting data types with a dictionary\n",
    "data_types = {\"Obs\"     : ____,\n",
    "              \"channel\" : ____,\n",
    "              \"store\"   : ____}\n",
    "\n",
    "\n",
    "# specifying a file (must specify path to datasets folder)\n",
    "file = ____\n",
    "\n",
    "\n",
    "# reading the file into Python through pandas\n",
    "diamonds = ____.____(io         = ____,\n",
    "                     sheet_name = 'diamonds',\n",
    "                     header     = ____,\n",
    "                     dtype      = ____)\n",
    "\n",
    "\n",
    "# printing the first 5 rows of the dataset\n",
    "____\n"
   ]
  },
  {
   "cell_type": "markdown",
   "metadata": {
    "deletable": false,
    "editable": false,
    "run_control": {
     "frozen": true
    }
   },
   "source": [
    "<hr style=\"height:.9px;border:none;color:#333;background-color:#333;\" /><br>\n",
    "\n",
    "<h4>S14.1.2) Complete the code to generate (Pearson) correlation coefficients for the <em>diamonds</em> dataset. Round your results to two decimal places.</h4>"
   ]
  },
  {
   "cell_type": "code",
   "execution_count": null,
   "metadata": {},
   "outputs": [],
   "source": [
    "## Session 14.1.2 ##\n",
    "\n",
    "# linear (Pearson) correlation\n",
    "diamonds.____(method = ).round(decimals = 2)"
   ]
  },
  {
   "cell_type": "markdown",
   "metadata": {
    "deletable": false,
    "editable": false,
    "run_control": {
     "frozen": true
    }
   },
   "source": [
    "<br><hr style=\"height:.9px;border-width:0;color:gray;background-color:gray\"><br>\n",
    "\n",
    "We can save this as an object as a DataFrame and then turn it into a heatmap.\n",
    "<br><br>\n",
    "<h4>S14.1.3) Complete the code below to:</h4><br>\n",
    "&#8195;&#8195;i) store the correlation table as an object<br>\n",
    "&#8195;&#8195;ii) instantiate a heatmap from the stored correlation table"
   ]
  },
  {
   "cell_type": "code",
   "execution_count": null,
   "metadata": {},
   "outputs": [],
   "source": [
    "## Session 14.1.3 ##\n",
    "\n",
    "# converting correlation matrix into a DataFrame\n",
    "diamonds_corr = diamonds.____(method = 'pearson').round(____)\n",
    "\n",
    "# instantiating a heatmap\n",
    "sns.heatmap(____)\n",
    "\n",
    "# displaying the plot\n",
    "plt.show()"
   ]
  },
  {
   "cell_type": "markdown",
   "metadata": {
    "deletable": false,
    "editable": false,
    "run_control": {
     "frozen": true
    }
   },
   "source": [
    "<br><hr style=\"height:.9px;border-width:0;color:gray;background-color:gray\"><br>\n",
    "Let's spice up the heatmap.\n",
    "\n",
    "<br>\n",
    "\n",
    "~~~\n",
    "         -_\n",
    "         `-;-_   ,--.__\n",
    "            `-;-/. ,/\\-`.\n",
    "            _//\"\\\\  '/  |\n",
    "           /'-   \\\\ `;\\-|    <-- chili pepper\n",
    "         ,'  ;/   \\\\  \\|;\n",
    "       ./'  ;'     \\\\  \\(\n",
    "     ,-\" _;'        \\\\  `\n",
    "  ,-'_;-\"            \\\n",
    "   \"'\n",
    "~~~\n",
    "\n",
    "<br>"
   ]
  },
  {
   "cell_type": "code",
   "execution_count": null,
   "metadata": {},
   "outputs": [],
   "source": [
    "## Session 14.1.4 ##\n",
    "\n",
    "# specifying plot size (making it bigger)\n",
    "fig, ax = plt.subplots(figsize=(12,12))\n",
    "\n",
    "\n",
    "# developing a spicy heatmap\n",
    "sns.heatmap(data       = diamonds_corr, # the correlation matrix\n",
    "            cmap       = 'inferno',     # changing to SPICY colors\n",
    "            square     = True,          # tightening the layout\n",
    "            annot      = True,          # should there be numbers in the heatmap\n",
    "            linecolor  = 'black',       # lines between boxes\n",
    "            linewidths = 0.5)          # how thick should the lines be?\n",
    "\n",
    "\n",
    "# title and displaying the plot\n",
    "plt.title(\"\"\"\n",
    "Linear Correlation Heatmap for Diamond Features\n",
    "\"\"\")\n",
    "\n",
    "plt.show()"
   ]
  },
  {
   "cell_type": "markdown",
   "metadata": {
    "deletable": false,
    "editable": false,
    "run_control": {
     "frozen": true
    }
   },
   "source": [
    "<br><hr style=\"height:.9px;border-width:0;color:gray;background-color:gray\"><br>\n",
    "That was too spicy! Let's cool things down a bit in our next plot.\n",
    "\n",
    "<br>\n",
    "\n",
    "~~~\n",
    "            .-~~\\\n",
    "           /     \\ _\n",
    "           ~x   .-~_)_\n",
    "             ~x\".-~   ~-.\n",
    "         _   ( /         \\   _\n",
    "         ||   T  o  o     Y  ||       <--- snow person\n",
    "       ==;l   l   <       !  |;==\n",
    "          \\\\   \\  .__/   /  //\n",
    "           \\\\ ,r\"-,___.-'r.//\n",
    "            }^ \\.( )   _.'//.\n",
    "           /    }~Xi--~  //  \\\n",
    "          Y    Y I\\ \\    \"    Y\n",
    "          |    | |o\\ \\        |\n",
    "          |    l_l  Y T       |  \n",
    "          l      \"o l_j       !\n",
    "           \\                 /\n",
    "    ___,.---^.     o       .^---.._____\n",
    "\"~~~          \"           ~            ~~~\"\n",
    "\n",
    "~~~\n",
    "\n",
    "<br>"
   ]
  },
  {
   "cell_type": "markdown",
   "metadata": {
    "deletable": false,
    "editable": false,
    "run_control": {
     "frozen": true
    }
   },
   "source": [
    "<hr style=\"height:.9px;border:none;color:#333;background-color:#333;\" /><br>\n",
    "\n",
    "<h4>S14.1.5) Complete the code to generate a heatmap with the <em>Blues</em> color scheme.</h4>"
   ]
  },
  {
   "cell_type": "code",
   "execution_count": null,
   "metadata": {},
   "outputs": [],
   "source": [
    "## Session 14.1.5 ##\n",
    "\n",
    "# specifying plot size (making it bigger)\n",
    "fig, ax = plt.subplots(figsize=(12,12))\n",
    "\n",
    "\n",
    "# developing a freezing cold heatmap\n",
    "sns.heatmap(data       = diamonds_corr, # the correlation matrix\n",
    "            cmap       = _____,       # changing to COOL colors\n",
    "            square     = True,          # tightening the layout\n",
    "            annot      = True,          # should there be numbers in the heatmap\n",
    "            linecolor  = 'black',       # lines between boxes\n",
    "            linewidths = 0.5)           # how thick should the lines be?\n",
    "\n",
    "\n",
    "# title and displaying the plot\n",
    "plt.title(\"\"\"\n",
    "Linear Correlation Heatmap for Diamond Features\n",
    "\"\"\")\n",
    "\n",
    "plt.show()"
   ]
  },
  {
   "cell_type": "markdown",
   "metadata": {
    "deletable": false,
    "editable": false,
    "run_control": {
     "frozen": true
    }
   },
   "source": [
    "<br><hr style=\"height:.9px;border-width:0;color:gray;background-color:gray\"><br>\n",
    "The heatmap looks freezing now! Let's change the color scheme to a mix between hot and cold.\n",
    "<br><br>\n",
    "\n",
    "~~~\n",
    "                                 .''.\n",
    "       .''.             *''*    :_\\/_:     . \n",
    "      :_\\/_:   .    .:.*_\\/_*   : /\\ :  .'.:.'.\n",
    "  .''.: /\\ : _\\(/_  ':'* /\\ *  : '..'.  -=:o:=-\n",
    " :_\\/_:'.:::. /)\\*''*  .|.* '.\\'/.'_\\(/_'.':'.'\n",
    " : /\\ : :::::  '*_\\/_* | |  -= o =- /)\\    '  *\n",
    "  '..'  ':::'   * /\\ * |'|  .'/.\\'.  '._____\n",
    "      *        __*..* |  |     :      |.   |' .---\"|\n",
    "       _*   .-'   '-. |  |     .--'|  ||   | _|    |\n",
    "    .-'|  _.|  |    ||   '-__  |   |  |    ||      |\n",
    "    |' | |.    |    ||       | |   |  |    ||      |\n",
    " ___|  '-'     '    \"\"       '-'   '-.'    '`      |____\n",
    "\n",
    "\n",
    "~~~\n"
   ]
  },
  {
   "cell_type": "markdown",
   "metadata": {
    "deletable": false,
    "editable": false,
    "run_control": {
     "frozen": true
    }
   },
   "source": [
    "<hr style=\"height:.9px;border:none;color:#333;background-color:#333;\" /><br>\n",
    "\n",
    "<h4>S14.1.6) Complete the code to generate a heatmap with the <em>coolwarm</em> color scheme.</h4>"
   ]
  },
  {
   "cell_type": "code",
   "execution_count": null,
   "metadata": {},
   "outputs": [],
   "source": [
    "## Session 14.1.6 ##\n",
    "\n",
    "# specifying plot size (making it bigger)\n",
    "fig, ax = plt.subplots(figsize=(12,12))\n",
    "\n",
    "\n",
    "# developing a coolwarm heatmap\n",
    "sns.heatmap(data       = diamonds_corr, # the correlation matrix\n",
    "            cmap       = _____,    # changing to MEDIUM colors\n",
    "            square     = True,          # tightening the layout\n",
    "            annot      = True,          # should there be numbers in the heatmap\n",
    "            linecolor  = 'black',       # lines between boxes\n",
    "            linewidths = 0.5)           # how thick should the lines be?\n",
    "\n",
    "\n",
    "# title and displaying the plot\n",
    "plt.title(\"\"\"\n",
    "Linear Correlation Heatmap for Diamond Features\n",
    "\"\"\")\n",
    "\n",
    "plt.show()"
   ]
  },
  {
   "cell_type": "markdown",
   "metadata": {
    "deletable": false,
    "editable": false,
    "run_control": {
     "frozen": true
    }
   },
   "source": [
    "<hr style=\"height:.9px;border:none;color:#333;background-color:#333;\" /><br>\n",
    "<h2>Part II: Scatter and Linear Model Plots</h2><br>\n",
    "Scatter plots are an excellent tool to analyze the relationship between two variables. Linear model plots are an enhanced version of a scatter plot that includes a trend line based on the <strong>square of the correlation coefficient</strong> between the variables being plotted. The square of the correlation coefficient is more formally known as <strong>R-Squared</strong>.\n",
    "<br><br>\n",
    "The code below has been developed to display a scatter plot between <em>carat</em> and <em>price</em>."
   ]
  },
  {
   "cell_type": "code",
   "execution_count": null,
   "metadata": {},
   "outputs": [],
   "source": [
    "## Session 14.2.1 ##\n",
    "\n",
    "# instantiating a scatter plot for carat and price\n",
    "sns.lmplot(x          = 'carat',  # x-axis feature\n",
    "           y          = 'price',  # y-axis feature\n",
    "           hue        = None,     # categorical data for subsets\n",
    "           scatter    = True,     # renders a scatter plot\n",
    "           fit_reg    = False,    # renders a regression line\n",
    "           aspect     = 2,        # aspect ratio for plot\n",
    "           data       = diamonds) # DataFrame where features exist\n",
    "\n",
    "\n",
    "# formatting and displaying the plot\n",
    "plt.title(label    = 'Carat Weight and Price')\n",
    "plt.xlabel(xlabel  = 'Carat Weight')\n",
    "plt.ylabel(ylabel  = 'Price (USD)')\n",
    "plt.xlim(0, 2.8) # changing the x-range for better viewability\n",
    "plt.tight_layout()\n",
    "plt.show()"
   ]
  },
  {
   "cell_type": "markdown",
   "metadata": {
    "deletable": false,
    "editable": false,
    "run_control": {
     "frozen": true
    }
   },
   "source": [
    "<hr style=\"height:.9px;border-width:0;color:gray;background-color:gray\"><br>\n",
    "<h4>S14.2.2) Change the value of the <em>fit_reg</em> argument to True.</h4>"
   ]
  },
  {
   "cell_type": "code",
   "execution_count": null,
   "metadata": {},
   "outputs": [],
   "source": [
    "## Session 14.2.2 ##\n",
    "\n",
    "# instantiating an lmplot for carat and price\n",
    "sns.lmplot(x          = 'carat',  # x-axis feature\n",
    "           y          = 'price',  # y-axis feature\n",
    "           hue        = None,     # categorical data for subsets\n",
    "           scatter    = True,     # renders a scatter plot\n",
    "           fit_reg    = ____,     # renders a regression line\n",
    "           aspect     = 2,        # aspect ratio for plot\n",
    "           data       = diamonds) # DataFrame where features exist\n",
    "\n",
    "\n",
    "# formatting and displaying the plot\n",
    "plt.title(label    = 'Carat Weight and Price')\n",
    "plt.xlabel(xlabel  = 'Carat Weight')\n",
    "plt.ylabel(ylabel  = 'Price (USD)')\n",
    "plt.xlim(0, 2.8)\n",
    "plt.tight_layout()\n",
    "plt.show()\n"
   ]
  },
  {
   "cell_type": "markdown",
   "metadata": {
    "deletable": false,
    "editable": false,
    "run_control": {
     "frozen": true
    }
   },
   "source": [
    "<hr style=\"height:.9px;border-width:0;color:gray;background-color:gray\"><br>\n",
    "\n",
    "It does not appear that the trend between price and carat weight changes with each 0.25 increment. It does, however, look as if the trend becomes more steep as carat weight increases beyond 1.50. Also, there appears to be a downward-sloping trend after carat weight surpasses 2.00 (although we do not have many observations with carat weights above this threshold).\n",
    "<br><br>\n",
    "Let's scale back the number of vertical axis lines to half carat increments and store this as a categorical variable. This has been done for you in the codes below."
   ]
  },
  {
   "cell_type": "code",
   "execution_count": null,
   "metadata": {
    "deletable": false,
    "editable": false
   },
   "outputs": [],
   "source": [
    "## Session 14.2.4 ##\n",
    "\n",
    "# creating a dummy column in the diamonds DataFrame\n",
    "diamonds['Carat Size'] = 0\n",
    "\n",
    "\n",
    "# for loop with iterrows() <-- one of the most useful methods for DataFrames\n",
    "for index, col in diamonds.iterrows():\n",
    "    \n",
    "    \n",
    "    # conditionals to change the values in the new column\n",
    "    if diamonds.loc[index, 'carat'] < 0.5:\n",
    "        diamonds.loc[index, 'Carat Size'] = '[0.0, 0.5)'\n",
    "        \n",
    "        \n",
    "    elif diamonds.loc[index, 'carat'] < 1.0:\n",
    "        diamonds.loc[index, 'Carat Size'] = '[0.5 - 1.0)'\n",
    "        \n",
    "        \n",
    "    elif diamonds.loc[index, 'carat'] < 1.5:\n",
    "        diamonds.loc[index, 'Carat Size'] = '[1.0 - 1.5)'\n",
    "        \n",
    "        \n",
    "    elif diamonds.loc[index, 'carat'] < 2.0:\n",
    "        diamonds.loc[index, 'Carat Size'] = '[1.5 - 2.0)'\n",
    "        \n",
    "        \n",
    "    elif diamonds.loc[index, 'carat'] >= 2.0: # this is where the bug was\n",
    "        diamonds.loc[index, 'Carat Size'] = '[2.0 - inf)'\n",
    "    \n",
    "    \n",
    "    # safety net\n",
    "    else:\n",
    "        diamonds.loc[index, 'Carat Size'] = 'error'\n",
    "        "
   ]
  },
  {
   "cell_type": "markdown",
   "metadata": {
    "deletable": false,
    "editable": false,
    "run_control": {
     "frozen": true
    }
   },
   "source": [
    "<br>"
   ]
  },
  {
   "cell_type": "code",
   "execution_count": null,
   "metadata": {
    "deletable": false,
    "editable": false
   },
   "outputs": [],
   "source": [
    "## Session 14.2.5 ##\n",
    "\n",
    "# instantiating an lmplot for carat and price\n",
    "sns.lmplot(x          = 'carat',  \n",
    "           y          = 'price',  \n",
    "           hue        = 'Carat Size', # categorical data for subsets\n",
    "           legend     = False,        # supressing the legend    \n",
    "           scatter    = True,     \n",
    "           fit_reg    = True,     \n",
    "           aspect     = 2,        \n",
    "           data       = diamonds)\n",
    "\n",
    "\n",
    "# developing vertical axis lines\n",
    "value = 0.50\n",
    "\n",
    "while value < 3.00:\n",
    "    \n",
    "    # making a vertical line\n",
    "    plt.axvline(x = value, color = \"purple\", linestyle = '--')\n",
    "    \n",
    "    # incrementing value in one-quarter increments\n",
    "    value += 0.50\n",
    "\n",
    "\n",
    "# formatting and displaying the plot\n",
    "plt.title(label    = 'Carat Weight and Price')\n",
    "plt.xlabel(xlabel  = 'Carat Weight')\n",
    "plt.ylabel(ylabel  = 'Price (USD)')\n",
    "plt.xlim(0, 2.8)\n",
    "plt.tight_layout()\n",
    "plt.savefig('./__analysis_images/carat_price_scatter.png')\n",
    "plt.show()\n"
   ]
  },
  {
   "cell_type": "markdown",
   "metadata": {
    "deletable": false,
    "editable": false,
    "run_control": {
     "frozen": true
    }
   },
   "source": [
    "<hr style=\"height:.9px;border-width:0;color:gray;background-color:gray\"><br>\n",
    "\n",
    "We can speed up the process of developing visuals to analyze relationships with <em>sns.pairplot(&nbsp;)</em>. <strong><font style=\"color:red\">Remember, every visual you include in an analysis needs at least one paragraph of explanation.</font></strong> The following code is meant for us to quickly search for points of interest so we can dig deeper. From here, we can individually develop visuals that add value to our analysis."
   ]
  },
  {
   "cell_type": "code",
   "execution_count": null,
   "metadata": {
    "deletable": false,
    "editable": false
   },
   "outputs": [],
   "source": [
    "## Session 14.2.6 ##\n",
    "\n",
    "# palplot for all numeric features\n",
    "sns.pairplot(data    = diamonds,\n",
    "             x_vars  = ['carat', 'color', 'clarity', 'cut', 'price'],\n",
    "             y_vars  = ['carat', 'color', 'clarity', 'cut', 'price'],\n",
    "             hue     = 'channel',\n",
    "             kind    = 'scatter',\n",
    "             palette = 'plasma')\n",
    "\n",
    "\n",
    "# formatting options and display\n",
    "plt.tight_layout()\n",
    "plt.show()\n"
   ]
  },
  {
   "cell_type": "markdown",
   "metadata": {
    "deletable": false,
    "editable": false,
    "run_control": {
     "frozen": true
    }
   },
   "source": [
    "<hr style=\"height:.9px;border-width:0;color:gray;background-color:gray\"><br>\n",
    "<h2> Part III: Violin and Hybrid Plots</h2>\n",
    "\n",
    "In this section, we will assume that we have analyzed enough data related to each store and trade channel to alleviate any biases caused by categorical labels."
   ]
  },
  {
   "cell_type": "markdown",
   "metadata": {
    "deletable": false,
    "editable": false,
    "run_control": {
     "frozen": true
    }
   },
   "source": [
    "<strong>Violin plots</strong> are a combination of a boxplot (inside) and a histogram (outside). They can also be modified so that two distributions can be analyzed, based on a binary variable. Below are examples presenting the price of diamond engagement rings by store. Each distribution has been separated by cut."
   ]
  },
  {
   "cell_type": "code",
   "execution_count": null,
   "metadata": {
    "deletable": false,
    "editable": false
   },
   "outputs": [],
   "source": [
    "## Session 14.3.1 ##\n",
    "\n",
    "# specifying plot size (making it bigger)\n",
    "fig, ax = plt.subplots(figsize=(12,8))\n",
    "\n",
    "\n",
    "# subsetting to focus on one channel at a time\n",
    "mall_channel = diamonds.loc[ : , : ][diamonds.loc[ : , 'channel'] == 'mall']\n",
    "\n",
    "\n",
    "# violin plots\n",
    "sns.violinplot(x      = 'channel',\n",
    "               y      = 'price',\n",
    "               hue    = 'cut',\n",
    "               split  = True,\n",
    "               data   = diamonds,\n",
    "               orient = 'v')\n",
    "\n",
    "\n",
    "# formatting and displaying the plot\n",
    "plt.title(label = \"\"\"\n",
    "Price per Retail Channel\n",
    "\"\"\")\n",
    "plt.xlabel(xlabel = 'Retail Channel')\n",
    "plt.ylabel(ylabel = 'Engagement Ring Price')\n",
    "plt.show()\n"
   ]
  },
  {
   "cell_type": "markdown",
   "metadata": {
    "deletable": false,
    "editable": false,
    "run_control": {
     "frozen": true
    }
   },
   "source": [
    "<hr style=\"height:.9px;border-width:0;color:gray;background-color:gray\"><br>"
   ]
  },
  {
   "cell_type": "markdown",
   "metadata": {
    "deletable": false,
    "editable": false,
    "run_control": {
     "frozen": true
    }
   },
   "source": [
    "Although violin plots can imply many findings, it is important to remember that any visualization that utilizes a kernel density estimate (KDE) is making assumptions as to a feature's theoretical distribution. Such estimates can be drawn with a very minimal amount of samples. <font style=color:red><strong>Be careful! Make sure to check your sample sizes before concluding on any findings!.</strong></font>\n",
    "<br><br>\n",
    "The following visualization is a hybrid between a violin plot and a <strong>strip plot</strong>. Strip plots are similar to scatterplots, but are used to visualize the distribution of one feature instead of the relationship between two features. When used in tandem with violin plots, they can help analysts determine if a KDE is reliable given sample sizes and extreme values."
   ]
  },
  {
   "cell_type": "code",
   "execution_count": null,
   "metadata": {
    "deletable": false,
    "editable": false
   },
   "outputs": [],
   "source": [
    "## Session 14.3.2 ##\n",
    "\n",
    "# specifying plot size (making it bigger)\n",
    "fig, ax = plt.subplots(figsize=(12,8))\n",
    "\n",
    "\n",
    "# outline with a violin plot\n",
    "sns.violinplot(x      = 'channel',\n",
    "               y      = 'price',\n",
    "               hue    = 'cut',\n",
    "               split  = True,\n",
    "               data   = diamonds,\n",
    "               orient = 'v',\n",
    "               inner  = None,\n",
    "               color  = 'white')\n",
    "\n",
    "\n",
    "# embedding a stripplot plot\n",
    "sns.stripplot(x = 'channel',\n",
    "              y = 'price',\n",
    "              data = diamonds,\n",
    "              size = 5,\n",
    "              orient = 'v')\n",
    "\n",
    "\n",
    "plt.title(label = \"\"\"\n",
    "Price per Retail Channel\n",
    "\"\"\")\n",
    "plt.xlabel(xlabel = 'Retail Channel')\n",
    "plt.ylabel(ylabel = 'Engagement Ring Price')\n",
    "plt.show()\n"
   ]
  },
  {
   "cell_type": "markdown",
   "metadata": {
    "deletable": false,
    "editable": false,
    "run_control": {
     "frozen": true
    }
   },
   "source": [
    "<hr style=\"height:.9px;border-width:0;color:gray;background-color:gray\"><br>\n",
    "\n",
    "<h4>S14.3.3) Complete the code and analyze each store in the <em>Internet</em> channel.</h4><br>\n",
    "Sample sizes for stores in the <em>Internet</em> channel are sufficient for a store-level analysis. Does it appear that the stores in this channel are utilizing similar pricing strategies?"
   ]
  },
  {
   "cell_type": "code",
   "execution_count": null,
   "metadata": {},
   "outputs": [],
   "source": [
    "## Session 14.3.3 ##\n",
    "\n",
    "# specifying plot size (making it bigger)\n",
    "fig, ax = plt.subplots(figsize=(12,8))\n",
    "\n",
    "\n",
    "# outline with a violin plot\n",
    "_____._____(x      = _____,\n",
    "               y      = 'price',\n",
    "               hue    = 'cut',\n",
    "               split  = True,\n",
    "               data   = _____,\n",
    "               orient = 'v',\n",
    "               inner  = None,\n",
    "               color  = 'white')\n",
    "\n",
    "\n",
    "# embedding a stripplot plot\n",
    "_____._____(x      = _____,\n",
    "              y      = 'price',\n",
    "              data   = _____,\n",
    "              size   = 5,\n",
    "              orient = 'v')\n",
    "\n",
    "\n",
    "# title and labels\n",
    "plt.title(label = \"\"\"\n",
    "Pricing Strategies for Internet Retailers\n",
    "\"\"\")\n",
    "plt.xlabel(xlabel = 'Retailer')\n",
    "plt.ylabel(ylabel = 'Engagement Ring Price')\n",
    "plt.show()\n"
   ]
  },
  {
   "cell_type": "markdown",
   "metadata": {
    "deletable": false,
    "editable": false,
    "run_control": {
     "frozen": true
    }
   },
   "source": [
    "<br><hr style=\"height:.9px;border-width:0;color:gray;background-color:gray\"><br>\n",
    "\n",
    "~~~\n",
    "                       ________\n",
    "               o      |   __   |\n",
    "                 \\_ O |  |__|  |\n",
    "              ____/ \\ |___WW___|\n",
    "              __/   /     ||\n",
    "                          ||\n",
    "                          ||\n",
    "           _______________||________________\n",
    "\n",
    "\n",
    "   _____ _                   _____              _    _ \n",
    "  / ____| |                 |  __ \\            | |  | |\n",
    " | (___ | | __ _ _ __ ___   | |  | |_   _ _ __ | | _| |\n",
    "  \\___ \\| |/ _` | '_ ` _ \\  | |  | | | | | '_ \\| |/ / |\n",
    "  ____) | | (_| | | | | | | | |__| | |_| | | | |   <|_|\n",
    " |_____/|_|\\__,_|_| |_| |_| |_____/ \\__,_|_| |_|_|\\_(_)\n",
    "                                                       \n",
    "                                                       \n",
    "\n",
    "\n",
    "~~~\n",
    "\n",
    "<br>"
   ]
  },
  {
   "cell_type": "markdown",
   "metadata": {
    "deletable": false,
    "editable": false,
    "run_control": {
     "frozen": true
    }
   },
   "source": [
    "<hr style=\"height:.9px;border:none;color:#333;background-color:#333;\" />\n",
    "<hr style=\"height:.9px;border:none;color:#333;background-color:#333;\" />\n",
    "\n",
    "<br><h2>Intro to Predictive Modeling</h2>\n",
    "Chase Kusterer - Faculty of Analytics<br><br>\n",
    "\n",
    "<hr style=\"height:.9px;border:none;color:#333;background-color:#333;\" />\n",
    "<hr style=\"height:.9px;border:none;color:#333;background-color:#333;\" />\n",
    "\n",
    "<br><br>\n",
    "<h2>Predictive Modeling</h2><br>\n",
    "Up to this point, we have cleaned up the <em>diamonds</em> dataset, studied its documentation, and explored its data. Although we have conducted an <strong>exploratory data analysis</strong>, we have barely scratched the surface in terms of the depth of the <em>Two Month's Salary Challenge</em>. In a business setting, the majority of our efforts would be dedicated to diving deeper and collecting more domain knowledge. Exploratory data analysis and domain knowledge gathering take time, and it is important to avoid moving into predictive modeling too early. This is one of the most common mistakes entry-level analysts make.\n",
    "<br><br>\n",
    "<h3>What is Predictive Modeling?</h3>\n",
    "A straightforward definition of <strong>predictive modeling</strong> can be found in <a href=\"https://towardsdatascience.com/selecting-the-correct-predictive-modeling-technique-ba459c370d59\">this article from Towards Data Science</a>:\n",
    "<br><br>\n",
    "\n",
    "<div align=\"center\">\n",
    "    Predictive modeling is the process of taking known results and developing<br>a model that can predict values for new occurrences.\n",
    "    <a class=\"tocSkip\"></a></div><br>\n",
    "\n",
    "In other words, <strong>predictive modeling</strong> is the process of using historic data to estimate the values of unknown observations. The keyword in this definition is estimate. Predictive modeling is all about developing our \"best guess\" given all available information. <font style=color:red><strong>Predictive modeling is NOT about being right. It is instead about being less wrong.</strong></font>\n",
    "<br><br>\n",
    "The following is a simple example:\n",
    "<br><br>\n",
    "\n",
    "<p style=\"padding: 10px; border: 2px solid black;\">\n",
    "You are tasked with predicting the size of 10 engagement ring diamonds. However, the only information available is the size of 50 other diamonds (no information on clarity, price, etc.). In such a situation, your best prediction for each of the 10 unknown observations will be the mean of the 50 known observations (assuming a normal distribution).\n",
    "<br><br>\n",
    "We know we will be wrong on virtually every one of our predictions. However, since the mean represents the center of the known data, it is most probable that we will be less wrong than if we chose any other value. It is our \"best guess\" given no other information.\n",
    "</p>\n",
    "<div align=\"left\">\n",
    "\n",
    "<a class=\"tocSkip\"></a></div>"
   ]
  },
  {
   "cell_type": "markdown",
   "metadata": {},
   "source": [
    "<h4>15.1.1) Develop a histogram to analyze the distribution of the response variable (&nbsp;<em>price</em>&nbsp;).</h4>Does it look as if this variable is normally distributed? Does it appear to be skewed positive or negative?\n",
    "<br><br>\n",
    "The following help file may be useful in completing this task."
   ]
  },
  {
   "cell_type": "code",
   "execution_count": null,
   "metadata": {},
   "outputs": [],
   "source": [
    "## Session 15.1.1 ##\n",
    "\n",
    "# histogram for price\n",
    "_____\n",
    "\n",
    "\n",
    "# title and labels\n",
    "plt.title(label = \"\"\"\n",
    "Distribution for \n",
    "Diamond Engagement Ring Prices\"\"\")\n",
    "plt.xlabel(xlabel = \"Price\")\n",
    "plt.ylabel(ylabel = \"Frequency\")\n",
    "\n",
    "\n",
    "# rendering the plot\n",
    "_____\n"
   ]
  },
  {
   "cell_type": "markdown",
   "metadata": {},
   "source": [
    "<hr style=\"height:.9px;border:none;color:#333;background-color:#333;\" /><br>\n",
    "<h2>Part II: Base Modeling</h2><br>\n",
    "In a formal analysis, we would explore the distributions of each of the dataset's features before moving forward. Such a practice grants us the ability to optimize our modeling endeavors with anomaly treatment, transformations, and feature engineering. At this point in our modeling approach, however, it is a good idea to build a base model. <strong>Base models</strong> are models developed using a minimal set of highly-correlated features from the original dataset. There is nothing fancy about base models, and this is what makes them beautiful. If a high-quality model can be developed using a small number of features from the original dataset, our work is much easier. Additionally, this will also simplify the interpretation of model results."
   ]
  },
  {
   "cell_type": "markdown",
   "metadata": {},
   "source": [
    "<h3>Building A Base Model</h3>\n",
    "The following code has been provided for you. Its purpose is to provide a basic framework for developing a predictive model in Python using the <a href=\"https://www.statsmodels.org/stable/index.html\">statsmodels</a> package."
   ]
  },
  {
   "cell_type": "code",
   "execution_count": null,
   "metadata": {},
   "outputs": [],
   "source": [
    "## Session 15.2.1 ##\n",
    "\n",
    "# importing an additional package\n",
    "import statsmodels.formula.api as smf # predictive modeling with nice outputs"
   ]
  },
  {
   "cell_type": "markdown",
   "metadata": {
    "deletable": false,
    "editable": false,
    "run_control": {
     "frozen": true
    }
   },
   "source": [
    "<br>"
   ]
  },
  {
   "cell_type": "code",
   "execution_count": null,
   "metadata": {},
   "outputs": [],
   "source": [
    "## Session 15.2.2 ##\n",
    "\n",
    "# Step 1: INSTANTIATE a model object\n",
    "lm_best = smf.ols(formula = \"\"\"price ~ carat\"\"\",\n",
    "                  data    = diamonds)\n",
    "\n",
    "\n",
    "# Step 2: FIT the data into the model object\n",
    "results = lm_best.fit()\n",
    "\n",
    "\n",
    "# Step 3: analyze the SUMMARY output\n",
    "print(results.summary())"
   ]
  },
  {
   "cell_type": "markdown",
   "metadata": {
    "deletable": false,
    "editable": false,
    "run_control": {
     "frozen": true
    }
   },
   "source": [
    "<hr style=\"height:.9px;border:none;color:#333;background-color:#333;\" /><br>\n",
    "<h4>15.2.3) Complete the code to develop a linear model using <em>carat</em>, <em>color</em>, <em>clarity</em>, and <em>cut</em>.</h4>"
   ]
  },
  {
   "cell_type": "code",
   "execution_count": null,
   "metadata": {},
   "outputs": [],
   "source": [
    "## Session 15.2.3 ##\n",
    "\n",
    "# Step 1: INSTANTIATE a model object\n",
    "lm_best = smf.ols(formula =  \"\"\"price ~ ____ +\n",
    "                                        ____ +\n",
    "                                        ____ +\n",
    "                                        ____\"\"\",\n",
    "                                data = diamonds)\n",
    "\n",
    "\n",
    "# Step 2: FIT the data into the model object\n",
    "results = lm_best.____()\n",
    "\n",
    "\n",
    "# Step 3: analyze the SUMMARY output\n",
    "print(____.____())"
   ]
  },
  {
   "cell_type": "markdown",
   "metadata": {
    "deletable": false,
    "editable": false,
    "run_control": {
     "frozen": true
    }
   },
   "source": [
    "<hr style=\"height:.9px;border:none;color:#333;background-color:#333;\" />\n",
    "<hr style=\"height:.9px;border:none;color:#333;background-color:#333;\" /><br>\n",
    "\n",
    "~~~\n",
    "\n",
    "  ____      ___ ___   ___   ___      ___  _                               \n",
    " /    |    |   |   | /   \\ |   \\    /  _]| |                              \n",
    "|  o  |    | _   _ ||     ||    \\  /  [_ | |                              \n",
    "|     |    |  \\_/  ||  O  ||  D  ||    _]| |___                           \n",
    "|  _  |    |   |   ||     ||     ||   [_ |     |                          \n",
    "|  |  |    |   |   ||     ||     ||     ||     |                          \n",
    "|__|__|    |___|___| \\___/ |_____||_____||_____|                          \n",
    "                                                                          \n",
    " _____   ___   ____        _____ __ __    __    __    ___  _____ _____ __ \n",
    "|     | /   \\ |    \\      / ___/|  |  |  /  ]  /  ]  /  _]/ ___// ___/|  |\n",
    "|   __||     ||  D  )    (   \\_ |  |  | /  /  /  /  /  [_(   \\_(   \\_ |  |\n",
    "|  |_  |  O  ||    /      \\__  ||  |  |/  /  /  /  |    _]\\__  |\\__  ||__|\n",
    "|   _] |     ||    \\      /  \\ ||  :  /   \\_/   \\_ |   [_ /  \\ |/  \\ | __ \n",
    "|  |   |     ||  .  \\     \\    ||     \\     \\     ||     |\\    |\\    ||  |\n",
    "|__|    \\___/ |__|\\_|      \\___| \\__,_|\\____|\\____||_____| \\___| \\___||__|\n",
    "                                                                          \n",
    "                         \n",
    "~~~\n",
    "\n",
    "<br><br><hr style=\"height:.9px;border:none;color:#333;background-color:#333;\" />\n",
    "<hr style=\"height:.9px;border:none;color:#333;background-color:#333;\" />"
   ]
  },
  {
   "cell_type": "markdown",
   "metadata": {
    "deletable": false,
    "editable": false,
    "run_control": {
     "frozen": true
    }
   },
   "source": [
    "<br>"
   ]
  }
 ],
 "metadata": {
  "kernelspec": {
   "display_name": "Python 3 (ipykernel)",
   "language": "python",
   "name": "python3"
  },
  "language_info": {
   "codemirror_mode": {
    "name": "ipython",
    "version": 3
   },
   "file_extension": ".py",
   "mimetype": "text/x-python",
   "name": "python",
   "nbconvert_exporter": "python",
   "pygments_lexer": "ipython3",
   "version": "3.9.7"
  },
  "toc": {
   "base_numbering": 1,
   "nav_menu": {},
   "number_sections": false,
   "sideBar": true,
   "skip_h1_title": false,
   "title_cell": "Table of Contents",
   "title_sidebar": "Contents",
   "toc_cell": false,
   "toc_position": {},
   "toc_section_display": true,
   "toc_window_display": false
  },
  "varInspector": {
   "cols": {
    "lenName": 16,
    "lenType": 16,
    "lenVar": 40
   },
   "kernels_config": {
    "python": {
     "delete_cmd_postfix": "",
     "delete_cmd_prefix": "del ",
     "library": "var_list.py",
     "varRefreshCmd": "print(var_dic_list())"
    },
    "r": {
     "delete_cmd_postfix": ") ",
     "delete_cmd_prefix": "rm(",
     "library": "var_list.r",
     "varRefreshCmd": "cat(var_dic_list()) "
    }
   },
   "types_to_exclude": [
    "module",
    "function",
    "builtin_function_or_method",
    "instance",
    "_Feature"
   ],
   "window_display": false
  }
 },
 "nbformat": 4,
 "nbformat_minor": 4
}
