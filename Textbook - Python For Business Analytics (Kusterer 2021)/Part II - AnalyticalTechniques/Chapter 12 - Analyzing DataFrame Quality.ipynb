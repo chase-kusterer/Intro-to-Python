{
 "cells": [
  {
   "cell_type": "markdown",
   "metadata": {
    "cell_style": "center",
    "deletable": false,
    "editable": false,
    "run_control": {
     "frozen": true
    }
   },
   "source": [
    "<hr style=\"height:.9px;border:none;color:#333;background-color:#333;\" />\n",
    "<hr style=\"height:.9px;border:none;color:#333;background-color:#333;\" />\n",
    "<br><br><br>\n",
    "<h1>Python for Business Analytics</h1>\n",
    "<em>A Nontechnical Approach for Nontechnical People</em><br><br>\n",
    "<em><strong>Custom Edition for Hult International Business School</strong></em><br>\n",
    "\n",
    "Written by Chase Kusterer - Faculty of Analytics <br>\n",
    "Hult International Business School <br>\n",
    "<a href=\"https://github.com/chase-kusterer\">https://github.com/chase-kusterer</a>\n",
    "<br><br><br><br><br>\n",
    "<hr style=\"height:.9px;border:none;color:#333;background-color:#333;\" />\n",
    "<hr style=\"height:.9px;border:none;color:#333;background-color:#333;\" />\n",
    "<br>\n",
    "<h1>Chapter 12: Analyzing DataFrame Quality</h1>"
   ]
  },
  {
   "cell_type": "markdown",
   "metadata": {
    "deletable": false,
    "editable": false,
    "run_control": {
     "frozen": true
    }
   },
   "source": [
    "<h2>12.1 Preparing for Analysis</h2><br>\n",
    "In the previous chapter, we learned that DataFrames can be considered as Python's version of an Excel spreadsheet. Data coming from Excel is especially known for anomalies such as manual data entry errors, requiring analysts to conduct a data quality audit before diving deep into an analysis. In addition to this, DataFrames also resemble tables from a <a href=\"https://www.dictionary.com/browse/relational-database\">relational database (RDMS)</a>. Such tables are very similar to Excel spreadsheets. However, analysts often need to work with combinations of data from multiple tables, which also leads to the need to analyze the initial quality of a dataset before addressing an analytical challenge. This chapter will present three key methods that are critical for this endeavor: converting data types, generating descriptive statistics, and accessing value frequencies.\n",
    "<br><br>\n",
    "A general early step in analyzing the quality of a DataFrame is to check and convert data types. This is important because upon import, Python will make assumptions regarding the type of each feature. Oftentimes, the data type will be different than that of a feature's real-world intention. Additionally, each time a DataFrame is imported, Python will rely on its set of assumptions as to what it believes each data type should be, even if conversions were made in Excel or a database table. This can cause issues if an analyst moves too hastily through their work.\n",
    "<br><br>\n",
    "After type conversions, it is critical to understand whether or not the data aligns with what is expected in the real world. For example, if domain knowledge indicates that the majority of a customer base is between the ages of 18-24, the data should reflect this via descriptive statistics (mean, standard deviation, etc.). If it does not, it is an analyst's responsibility to find out why. In fact, such a discovery may lead to useful, actionable insights. Additionally, some types of data (categorical, interval, etc.) create additional challenges where quantitative descriptive statistics do not accurately reflect their distributions. In such situations, analysts often rely on value frequencies.\n",
    "<br><br>\n",
    "To get started, let's import the <em>diamonds</em> dataset.\n",
    "<br><br>\n",
    "<h4>Practice - Importing Excel Data into Python</h4>\n",
    "In the previous chapter, we learned how to import data into Python using the <strong>read_excel(&nbsp;)</strong> method from the <em>pandas</em> package. Every time we launch a Python script or a Jupyter Notebook, our working environment gets reset and we need to perform these steps one more time. To start things off, you are tasked with this.\n",
    "<br><br>\n",
    "The following help file may be useful in completing this task."
   ]
  },
  {
   "cell_type": "code",
   "execution_count": null,
   "metadata": {
    "deletable": false,
    "editable": false
   },
   "outputs": [],
   "source": [
    "# Code 12.1.1\n",
    "\n",
    "import pandas as pd # importing pandas (as pd)\n",
    "\n",
    "# Calling help on pd.read_excel()\n",
    "help(pd.read_excel)"
   ]
  },
  {
   "cell_type": "markdown",
   "metadata": {
    "deletable": false,
    "editable": false,
    "run_control": {
     "frozen": true
    }
   },
   "source": [
    "<hr style=\"height:.9px;border:none;color:#333;background-color:#333;\" /><br>\n",
    "\n",
    "<h4>Practice - Import the diamonds dataset.</h4>\n",
    "Specify the path to the dataset and read in the \"diamonds\" sheet of the Excel file. Make sure to specify the row number where feature names are located."
   ]
  },
  {
   "cell_type": "code",
   "execution_count": null,
   "metadata": {
    "cell_style": "center",
    "solution2": "hidden",
    "solution2_first": true
   },
   "outputs": [],
   "source": [
    "## Code 12.1.2 ##\n",
    "\n",
    "# Storing the path to the dataset\n",
    "\n",
    "\n",
    "# Reading the file into Python through pandas\n",
    "\n",
    "\n",
    "# Checking results (first TEN rows of the dataset)\n",
    "diamonds.head(n = 10)"
   ]
  },
  {
   "cell_type": "code",
   "execution_count": null,
   "metadata": {
    "deletable": false,
    "editable": false,
    "solution2": "hidden"
   },
   "outputs": [],
   "source": [
    "## Sample Solution 12.1.2 ##\n",
    "\n",
    "# Storing the path to the dataset\n",
    "file = \"./__datasets/diamonds.xlsx\"\n",
    "\n",
    "\n",
    "# Reading the file into Python through pandas\n",
    "diamonds = pd.read_excel(io = file,\n",
    "                         sheet_name = 'diamonds',\n",
    "                         header = 0)\n",
    "\n",
    "\n",
    "# Checking results (first TEN rows of the dataset)\n",
    "diamonds.head(n = 10)"
   ]
  },
  {
   "cell_type": "markdown",
   "metadata": {
    "deletable": false,
    "editable": false,
    "run_control": {
     "frozen": true
    }
   },
   "source": [
    "<br><hr style=\"height:.9px;border:none;color:#333;background-color:#333;\" />\n",
    "<h3>Bad Practice: Data Dumping</h3><br>\n",
    "The <a href=\"https://pandas.pydata.org/pandas-docs/stable/reference/api/pandas.DataFrame.head.html\">head(&nbsp;) method</a> is used to display the first <em>n</em> rows of a dataset. This is important because <strong><font style=\"color:red;\">attempting to view an entire dataset is a bad idea.</font></strong> This is why we restricted the output above to the first ten rows of the dataset.\n",
    "<br>\n",
    "<hr style=\"height:.9px;border:none;color:#333;background-color:#333;\" /><br>"
   ]
  },
  {
   "cell_type": "markdown",
   "metadata": {
    "deletable": false,
    "editable": false,
    "run_control": {
     "frozen": true
    }
   },
   "source": [
    "<h3>Breaking Down the Path</h3><br>\n",
    "As with the previous chapter, we are specifying the path to the data so it can be imported. There is tremendous value in understanding the path structure your computer uses to find things. Such knowledge is transferable across a wide variety of technical applications. Our current path is as follows:\n",
    "<br><br>\n",
    "\n",
    "~~~\n",
    "./datasets/diamonds.xlsx\n",
    "~~~\n",
    "\n",
    "<br><br>\n",
    "The syntax of this path can be interpreted as follows:\n",
    "<br><br>\n",
    "\n",
    "~~~\n",
    "[FOLDER WHERE THIS NOTEBOOK IS] / [FOLDER WHERE THE DATASET IS] / [EXCEL FILE].xlsx\n",
    "~~~\n",
    "\n",
    "<br><br>\n",
    "If we were to go one step further and write the path in human language, it would resemble the following:\n",
    "<br><br><br>\n",
    "\n",
    "~~~\n",
    "Start in the folder where this Notebook is located...\n",
    "\n",
    "\\ and then\n",
    "\n",
    "Navigate into the folder named \"datasets\"... \n",
    "\n",
    "\\ and then\n",
    "\n",
    "Select the file named \"diamonds.xlsx\"\n",
    "\n",
    "~~~\n",
    "\n",
    "<br><br>\n",
    "The contents of each part of the directory can be observed with the help of the <a href=\"https://docs.python.org/3/library/os.html#os.listdir\">list directory method</a> coming from <a href=\"https://docs.python.org/3/library/os.html\">the os package</a>."
   ]
  },
  {
   "cell_type": "code",
   "execution_count": null,
   "metadata": {
    "cell_style": "center",
    "deletable": false,
    "editable": false
   },
   "outputs": [],
   "source": [
    "## Code 12.1.2 ##\n",
    "\n",
    "# Importing listdir method\n",
    "from os import listdir\n",
    "\n",
    "# Printing all files in working directory\n",
    "for item in listdir(path=\".\"): # '.' means where we are now\n",
    "    print(item)\n"
   ]
  },
  {
   "cell_type": "markdown",
   "metadata": {
    "deletable": false,
    "editable": false,
    "run_control": {
     "frozen": true
    }
   },
   "source": [
    "<br>"
   ]
  },
  {
   "cell_type": "code",
   "execution_count": null,
   "metadata": {
    "cell_style": "center",
    "deletable": false,
    "editable": false
   },
   "outputs": [],
   "source": [
    "## Code 12.1.3 ##\n",
    "\n",
    "# Importing listdir method\n",
    "from os import listdir\n",
    "\n",
    "# Printing all files in datasets directory\n",
    "for item in listdir(path=\"./__datasets\"): # moving to '__datasets' folder\n",
    "    print(item)\n"
   ]
  },
  {
   "cell_type": "markdown",
   "metadata": {
    "deletable": false,
    "editable": false,
    "run_control": {
     "frozen": true
    }
   },
   "source": [
    "<br>Note that we could have simply put our dataset in the same folder as our script. As we move into more advanced techniques, however, every extra bit of organization pays off. Additionally, path navigation is very common in web and software development. Therefore, it is important to have a solid understanding as to how this works.\n",
    "<br><br>\n",
    "<hr style=\"height:.9px;border:none;color:#333;background-color:#333;\" /><br>\n",
    "<h2>12.2 Auditing Data Quality</h2>\n",
    "\n",
    "Now that the diamonds dataset has been instantiated, its methods can be accessed. All DataFrame methods can be accessed using <strong>help(pd.DataFrame)</strong>. After import, a common step in the analytical process is to audit data quality. The following three methods are very helpful in this regard:\n",
    "\n",
    "* <a href=\"https://pandas.pydata.org/pandas-docs/stable/reference/api/pandas.DataFrame.info.html\">.info()</a>\n",
    "* <a href=\"https://pandas.pydata.org/pandas-docs/stable/reference/api/pandas.DataFrame.describe.html\">.describe()</a>\n",
    "* <a href=\"https://pandas.pydata.org/pandas-docs/stable/reference/api/pandas.DataFrame.value_counts.html\">.value_counts()</a>\n",
    "\n",
    "<br>\n",
    "Each method will be explored throughout this chapter, starting with <strong>.info( )</strong>. This method gives us key information related to the column name, count, and data type of each feature. It will also return the memory usage of the DataFrame, but this is beyond the scope of our current task.\n",
    "<br><br>"
   ]
  },
  {
   "cell_type": "code",
   "execution_count": null,
   "metadata": {
    "cell_style": "split",
    "deletable": false,
    "editable": false
   },
   "outputs": [],
   "source": [
    "## Code 12.2.1 ##\n",
    "\n",
    "# Info related to each feature\n",
    "diamonds.info()"
   ]
  },
  {
   "cell_type": "markdown",
   "metadata": {
    "cell_style": "split",
    "deletable": false,
    "editable": false,
    "run_control": {
     "frozen": true
    }
   },
   "source": [
    "<br><br><div style = \"width:image width px; font-size:80%; text-align:center;\"><img src=\"./__images/chapter-12-breakdown-of-info().png\" width=\"500\" height=\"500\" style=\"padding-bottom:0.5em;\"> <em>Figure 12.1: Breaking down .info(&nbsp;).</em></div>"
   ]
  },
  {
   "cell_type": "markdown",
   "metadata": {
    "deletable": false,
    "editable": false,
    "run_control": {
     "frozen": true
    }
   },
   "source": [
    "<hr style=\"height:.9px;border:none;color:#333;background-color:#333;\" /><br>\n",
    "From the results of <strong>.info(&nbsp;)</strong> above, it can be observed that all columns are of numeric types. However, the types of <em>Obs</em>, <em>channel</em>, and <em>store</em> do not fit with real-world expectations. Each of these features is not meant to be numerically measured and their ordering is arbitrary. As can be observed from <a href=\"./__documents/miller_mds_two_months_salary_case.pdf\">the dataset's documentation</a>, <em>channel</em> and <em>store</em> are categorical in that they represent qualitative aspects of each diamond engagement ring. <em>Obs</em> isn't even mentioned in the documentation, although it can be assumed that this feature represents the original ordering of the data.\n",
    "<br><br>\n",
    "The data for these three features should be converted into strings. This is to minimize the risk of accidentally using them in calculations. The rationale for strings is that they are the most fundamental data type, making them less likely to cause analysis issues. Furthermore, if our analysis leads us to the need for a more advanced data type, we can always reconvert them. For now, we are safe with strings.\n",
    "<br><br><br>\n",
    "<h3>Converting Data Types</h3><br>\n",
    "Making changes to data types in Python can be done with ease with the use of a <a href=\"https://docs.python.org/3/tutorial/datastructures.html#dictionaries\">dictionary</a>. A guideline for developing such a tool can be found below. Note that we only need to specify the <em>{feature : data type}</em> of the features we would like to change. Also note that once we have analyzed the results of <strong>.info( )</strong> and understand which data types to convert, we generally apply this in the same step as importing the data.<br><br>\n",
    "\n",
    "~~~\n",
    "{\"feature\" : data type,     # feature 1\n",
    " \"feature\" : data type,     # feature 2\n",
    " ...}                       # and so on\n",
    "~~~\n",
    "\n",
    "<br>\n"
   ]
  },
  {
   "cell_type": "markdown",
   "metadata": {
    "deletable": false,
    "editable": false,
    "run_control": {
     "frozen": true
    }
   },
   "source": [
    "<hr style=\"height:.9px;border:none;color:#333;background-color:#333;\" /><br>\n",
    "<h4>Practice - Complete the code using the data types in the table below.</h4><br><br>\n",
    "\n",
    "<div style = \"width:image width px; font-size:80%; text-align:center;\">\n",
    "<table align=\"center\">\n",
    "<col width=\"100\">\n",
    "<col width=\"10\">   \n",
    "<col width=\"100\">\n",
    "    <tr>\n",
    "        <th>Feature</th>\n",
    "        <th>    | </th>\n",
    "        <th>Original Type</th>\n",
    "        <th>    | </th>\n",
    "        <th>New Type</th>\n",
    "        <th>    | </th>\n",
    "        <th>Rationale for Change</th>\n",
    "    </tr>\n",
    "    <tr>\n",
    "        <td>Obs</td>\n",
    "        <td>    | </td>\n",
    "        <td> int</td>\n",
    "        <td>    | </td>\n",
    "        <td> str</td>\n",
    "        <td>    | </td>\n",
    "        <td> feature is a unique identifier and should not be used analytically</td>\n",
    "    </tr>\n",
    "    <tr>\n",
    "    <tr>\n",
    "        <td>channel</td>\n",
    "        <td>    | </td>\n",
    "        <td> int</td>\n",
    "        <td>    | </td>\n",
    "        <td> str</td>\n",
    "        <td>    | </td>\n",
    "        <td> feature is categorical</td>\n",
    "    </tr>\n",
    "    <tr>\n",
    "        <td>store</td>\n",
    "        <td>    | </td>\n",
    "        <td> int</td>\n",
    "        <td>    | </td>\n",
    "        <td> str</td>\n",
    "        <td>    | </td>\n",
    "        <td> feature is categorical</td>\n",
    "    </tr>   \n",
    "    \n",
    "          Table 12.1: Sample documentation for data type changes.\n",
    "</table></div><br>"
   ]
  },
  {
   "cell_type": "code",
   "execution_count": null,
   "metadata": {
    "solution2": "hidden",
    "solution2_first": true
   },
   "outputs": [],
   "source": [
    "## Code 12.2.2 ##\n",
    "\n",
    "# Converting data types with a dictionary\n",
    "data_types = {\"Obs\"     : ____,\n",
    "              ____ : ____,\n",
    "              ____   : ____}\n",
    "\n",
    "\n",
    "# Instantiating the dataset as an object\n",
    "diamonds = pd.read_excel(io         = file,       \n",
    "                         ____ = 'diamonds', \n",
    "                         header     = ____,          \n",
    "                         dtype      = data_types) # applying new data types\n",
    "\n",
    "\n",
    "# Checking results\n",
    "diamonds.____()"
   ]
  },
  {
   "cell_type": "code",
   "execution_count": null,
   "metadata": {
    "deletable": false,
    "editable": false,
    "solution2": "hidden"
   },
   "outputs": [],
   "source": [
    "## Sample Solution 12.2.2 ##\n",
    "\n",
    "# Converting data types with a dictionary\n",
    "data_types = {\"Obs\"     : str,\n",
    "              \"channel\" : str,\n",
    "              \"store\"   : str}\n",
    "\n",
    "\n",
    "# Instantiating the dataset as an object\n",
    "diamonds = pd.read_excel(io         = file,       \n",
    "                         sheet_name = 'diamonds', \n",
    "                         header     = 0,          \n",
    "                         dtype      = data_types) # applying new data types\n",
    "\n",
    "\n",
    "# Checking results\n",
    "diamonds.info()"
   ]
  },
  {
   "cell_type": "markdown",
   "metadata": {
    "deletable": false,
    "editable": false,
    "run_control": {
     "frozen": true
    }
   },
   "source": [
    "<br><hr style=\"height:.9px;border:none;color:#333;background-color:#333;\" />"
   ]
  },
  {
   "cell_type": "markdown",
   "metadata": {
    "cell_style": "split",
    "deletable": false,
    "editable": false,
    "run_control": {
     "frozen": true
    }
   },
   "source": [
    "<br>\n",
    "Notice how Python interpreted the string conversions as type <em>object</em>. This is normal, and stems from the fact that strings are the most fundamental data type in Python. When Python is confused about a feature's data type, such as when a string conversion takes place, it defaults to type <em>object</em> (strings can represent virtually anything). However, all string methods will apply to the data in such columns.\n",
    "<br><br>"
   ]
  },
  {
   "cell_type": "markdown",
   "metadata": {
    "cell_style": "split",
    "deletable": false,
    "editable": false,
    "run_control": {
     "frozen": true
    }
   },
   "source": [
    "<br>\n",
    "<p style=\"padding: 10px; border: 2px solid red;\">\n",
    "<strong><u>Analytical Value of info(&nbsp;)</u></strong><br>\n",
    "1. Check feature names.<br>\n",
    "2. Analyze data types.<br>\n",
    "3. Check for missing values.<br>\n",
    "</p>"
   ]
  },
  {
   "cell_type": "markdown",
   "metadata": {
    "deletable": false,
    "editable": false,
    "run_control": {
     "frozen": true
    }
   },
   "source": [
    "<hr style=\"height:.9px;border:none;color:#333;background-color:#333;\" /><br>\n",
    "<h3>Generating Descriptive Statistics</h3><br>\n",
    "As its name implies, the <strong>describe(&nbsp;)</strong> method generates a set of descriptive statistics to help us better understand our data. In its default form, it will output statistics for all features that are of numeric types. In general, our objectives with <strong>describe(&nbsp;)</strong> are to address the following questions:\n",
    "\n",
    "* Does the data align with its documentation?\n",
    "* Are there any extreme values skewing the distribution of any features?"
   ]
  },
  {
   "cell_type": "code",
   "execution_count": null,
   "metadata": {
    "deletable": false,
    "editable": false
   },
   "outputs": [],
   "source": [
    "## Code 12.2.3 ##\n",
    "\n",
    "# Default behavior of .describe()\n",
    "diamonds.describe()"
   ]
  },
  {
   "cell_type": "markdown",
   "metadata": {
    "deletable": false,
    "editable": false,
    "run_control": {
     "frozen": true
    }
   },
   "source": [
    "<hr style=\"height:.9px;border:none;color:#333;background-color:#333;\" /><br>\n",
    "<strong>Basic Use of describe(&nbsp;)</strong><br>\n",
    "<em>Code 12.2.3</em> provides an example of the <strong>describe(&nbsp;)</strong> method. We're off to a good start, but it is highly recommended that we reduce the number of decimal places being outputted as <strong><font style=\"color:red\">an unnecessary degree of precision is another form of data dumping.</font></strong> Note, however, that since the type conversions conducted earlier were successful, <em>Obs</em>, <em>channel</em>, and <em>store</em> have been omitted from this table. This will help to alleviate information overload.\n",
    "<br><br>\n",
    "<h4>Practice - Complete the code to generate descriptive statistics rounded to two decimal places.</h4>"
   ]
  },
  {
   "cell_type": "code",
   "execution_count": null,
   "metadata": {
    "solution2": "hidden",
    "solution2_first": true
   },
   "outputs": [],
   "source": [
    "## Code 12.2.4 ##\n",
    "\n",
    "# Descriptive statistics on numeric columns\n",
    "____.____(include = 'number').____(decimals = 2)"
   ]
  },
  {
   "cell_type": "code",
   "execution_count": null,
   "metadata": {
    "deletable": false,
    "editable": false,
    "solution2": "hidden"
   },
   "outputs": [],
   "source": [
    "## Sample Solution 12.2.4 ##\n",
    "\n",
    "# Descriptive statistics on numeric columns\n",
    "diamonds.describe(include = 'number').round(decimals = 2)"
   ]
  },
  {
   "cell_type": "markdown",
   "metadata": {
    "deletable": false,
    "editable": false,
    "run_control": {
     "frozen": true
    }
   },
   "source": [
    "<hr style=\"height:.9px;border:none;color:#333;background-color:#333;\" /><br>\n",
    "The table above is much cleaner, allowing us to analyze its information more efficiently. This table is also far more presentable, helping to show that we are organized and not cutting corners throughout our analysis. Finally, it also reveals that there are some extreme values for <em>carat</em> and <em>price</em>. These observations, as well as other data from the descriptive statistics table, should be analyzed in more detail in a later stage of the analysis.\n",
    "<br><br>\n",
    "Let's run descriptive statistics on the non-numeric features of the dataset.\n",
    "<br>"
   ]
  },
  {
   "cell_type": "code",
   "execution_count": null,
   "metadata": {
    "deletable": false,
    "editable": false
   },
   "outputs": [],
   "source": [
    "## Code 12.2.5 ##\n",
    "\n",
    "# Descriptive statistics on non-numeric columns\n",
    "diamonds.describe(include = 'object')"
   ]
  },
  {
   "cell_type": "markdown",
   "metadata": {
    "deletable": false,
    "editable": false,
    "run_control": {
     "frozen": true
    }
   },
   "source": [
    "<hr style=\"height:.9px;border:none;color:#333;background-color:#333;\" /><br>\n"
   ]
  },
  {
   "cell_type": "markdown",
   "metadata": {
    "cell_style": "split",
    "deletable": false,
    "editable": false,
    "run_control": {
     "frozen": true
    }
   },
   "source": [
    "<br>\n",
    "<div style = \"width:image width px; font-size:80%; text-align:center;\"><img src=./__images/chapter-12-object-describe-table.png\" width=\"400\" height=\"400\" style=\"padding-bottom:0.5em;\"> <em>Figure 12.2: Explanation of .describe(&nbsp;) for non-numeric data.</em></div>"
   ]
  },
  {
   "cell_type": "markdown",
   "metadata": {
    "cell_style": "split",
    "deletable": false,
    "editable": false,
    "run_control": {
     "frozen": true
    }
   },
   "source": [
    "<br>\n",
    "<p style=\"padding: 10px; border: 2px solid red;\">\n",
    "<strong><u>Analytical Value of describe(&nbsp;)</u></strong><br>\n",
    "1. Compare distributions of features with real-world expectations.<br>\n",
    "2. Analyze features for extreme values.\n",
    "</p>"
   ]
  },
  {
   "cell_type": "markdown",
   "metadata": {
    "cell_style": "center",
    "deletable": false,
    "editable": false,
    "run_control": {
     "frozen": true
    }
   },
   "source": [
    "<br>\n",
    "<h3>Analyzing Value Frequencies</h3><br>\n",
    "The output of <em>Code 12.2.5</em> does not provide a high degree of information related to the dataset's non-numeric features. For this reason, analysts generally also rely on the <em>pandas</em> Series method <a href=\"https://pandas.pydata.org/pandas-docs/stable/reference/api/pandas.DataFrame.value_counts.html\">value_counts(&nbsp;)</a>. This method will not run if given a DataFrame (it is a Series method). However, a list can be provided instead of a single feature if multiple frequency counts are needed. Also note that this method works with both numeric and non-numeric data.\n",
    "<br><br>"
   ]
  },
  {
   "cell_type": "code",
   "execution_count": null,
   "metadata": {
    "cell_style": "center",
    "deletable": false,
    "editable": false,
    "scrolled": true
   },
   "outputs": [],
   "source": [
    "## Code 12.2.6 ##\n",
    "\n",
    "# Calling help() on value_counts\n",
    "help(pd.Series.value_counts)"
   ]
  },
  {
   "cell_type": "markdown",
   "metadata": {
    "deletable": false,
    "editable": false,
    "run_control": {
     "frozen": true
    }
   },
   "source": [
    "<hr style=\"height:.9px;border:none;color:#333;background-color:#333;\" /><br>\n",
    "\n",
    "<em>Code 12.2.7</em> is explicitly calling each argument for value_counts(&nbsp;). Again, this is a good practice, especially at this stage of your coding journey. As you complete the code, change the parameters for these arguments to experience what they are meant to do.\n",
    "\n",
    "<h4>Practice - Complete the code to output value counts for <em>channel</em>.</h4>"
   ]
  },
  {
   "cell_type": "code",
   "execution_count": null,
   "metadata": {
    "solution2": "hidden",
    "solution2_first": true
   },
   "outputs": [],
   "source": [
    "## Code 12.2.7 ##\n",
    "\n",
    "# applying value_counts to channel\n",
    "diamonds[____].____(normalize = False,\n",
    "                                 sort      = False,\n",
    "                                 ascending = False)"
   ]
  },
  {
   "cell_type": "code",
   "execution_count": null,
   "metadata": {
    "deletable": false,
    "editable": false,
    "solution2": "hidden"
   },
   "outputs": [],
   "source": [
    "## Sample Solution 12.2.7 ##\n",
    "\n",
    "# applying value_counts to channel\n",
    "diamonds['channel'].value_counts(normalize = False,\n",
    "                               sort      = False,\n",
    "                               ascending = False)"
   ]
  },
  {
   "cell_type": "markdown",
   "metadata": {
    "deletable": false,
    "editable": false,
    "run_control": {
     "frozen": true
    }
   },
   "source": [
    "<hr style=\"height:.9px;border:none;color:#333;background-color:#333;\" /><br>\n",
    "\n",
    "<h4>Practice - Generate relative frequencies of the unique values for <em>store</em>, rounded to two decimal places. Sort the results in descending order.</h4>"
   ]
  },
  {
   "cell_type": "code",
   "execution_count": null,
   "metadata": {
    "solution2": "hidden",
    "solution2_first": true
   },
   "outputs": [],
   "source": [
    "## Code 12.2.8 ##\n",
    "\n",
    "# relative frequencies for store\n"
   ]
  },
  {
   "cell_type": "code",
   "execution_count": null,
   "metadata": {
    "deletable": false,
    "editable": false,
    "solution2": "hidden"
   },
   "outputs": [],
   "source": [
    "## Sample Solution 12.2.8 ##\n",
    "\n",
    "# applying value_counts to channel\n",
    "diamonds['store'].value_counts(normalize = True,\n",
    "                               sort      = True,\n",
    "                               ascending = False).round(decimals = 2)"
   ]
  },
  {
   "cell_type": "markdown",
   "metadata": {
    "cell_style": "center",
    "deletable": false,
    "editable": false,
    "run_control": {
     "frozen": true
    }
   },
   "source": [
    "<hr style=\"height:.9px;border:none;color:#333;background-color:#333;\" /><br>\n",
    "\n",
    "You may be wondering why trade channels and stores are represented with numbers instead of names. Analyzing categorical data in this format is a best practice to alleviate human bias. For example, an analyst may intuitively feel that observations found online are of dubious quality, even though no objective information has been presented to indicate this. Furthermore, one might naturally assume that a diamond engagement ring from a high-end retailer such as Tiffany's is of better quality than one from a discount retailer such as Walmart. By masking each store name, we are preventing such assumptions from biasing the analysis.\n",
    "<br><br>\n",
    "As can also be observed from <em>Codes 12.2.7</em> and <em>12.2.8</em>, observations are not evenly distributed amongst trade channels or stores. The vast majority of observations are coming from <em>Channel 2</em>, which may indicate a difference in sampling techniques between trade channels. Upon reverting to <a href=\"./__documents/miller_mds_two_months_salary_case.pdf\">the dataset's documentation</a> where the numerical mapping of each channel is presented, one will find that <em>Channel 2</em> refers to observations found online. Collection of such observations was likely much more convenient than going to a physical store and sampling a handful of diamond engagement rings. At this point, it is important to learn how the data was collected, as differences in sampling techniques can seriously distort the value of an analysis. Unfortunately, we do not have access to such information. In the real world, however, this is a key responsibility of the analyst."
   ]
  },
  {
   "cell_type": "markdown",
   "metadata": {
    "cell_style": "split",
    "deletable": false,
    "editable": false,
    "run_control": {
     "frozen": true
    }
   },
   "source": [
    "The results of <em>Code 12.2.8</em> also show uneven (relative) frequencies. It is very likely that <em>Store 10</em> and <em>Store 11</em> are utilizing the online trade channel as the percentage of data for these stores is far greater than others. This can be checked by providing <strong>value_counts(&nbsp;)</strong> with a list containing <em>'channel'</em> and <em>'store'</em> instead of a single feature name."
   ]
  },
  {
   "cell_type": "markdown",
   "metadata": {
    "cell_style": "split",
    "deletable": false,
    "editable": false,
    "run_control": {
     "frozen": true
    }
   },
   "source": [
    "<br>\n",
    "<p style=\"padding: 10px; border: 2px solid red;\">\n",
    "<strong><u>Analytical Value of value_counts(&nbsp;)</u></strong><br>\n",
    "1. Analyze the distributions of categorical and interval data.<br>\n",
    "2. Identify potential sample size issues.<br>\n",
    "3. Determine observation frequencies between multiple features.\n",
    "</p>\n",
    "<br>"
   ]
  },
  {
   "cell_type": "markdown",
   "metadata": {
    "deletable": false,
    "editable": false,
    "run_control": {
     "frozen": true
    }
   },
   "source": [
    "<h4>Practice - Combine <em>'channel'</em> and <em>'store'</em> in <strong>value_counts(&nbsp;)</strong> to observe which trade channel each store belongs to. Sort descending using the appropriate argument(s), but do not normalize the results.</h4>"
   ]
  },
  {
   "cell_type": "code",
   "execution_count": null,
   "metadata": {
    "solution2": "hidden",
    "solution2_first": true
   },
   "outputs": [],
   "source": [
    "## Code 12.2.9 ##\n",
    "\n",
    "# analyzing frequency counts for each store by trade channel\n"
   ]
  },
  {
   "cell_type": "code",
   "execution_count": null,
   "metadata": {
    "deletable": false,
    "editable": false,
    "solution2": "hidden"
   },
   "outputs": [],
   "source": [
    "## Sample Solution 12.2.9 ##\n",
    "\n",
    "# analyzing frequency counts for each store by trade channel\n",
    "diamonds[    ['channel', 'store']    ].value_counts(normalize = False,\n",
    "                                                    sort      = True,\n",
    "                                                    ascending = False)"
   ]
  },
  {
   "cell_type": "markdown",
   "metadata": {
    "deletable": false,
    "editable": false,
    "run_control": {
     "frozen": true
    }
   },
   "source": [
    "<hr style=\"height:.9px;border:none;color:#333;background-color:#333;\" /><br>\n",
    "The output of <em>Code 12.2.9</em> confirms that <em>Store 10</em> and <em>Store 11</em> are both from <em>Channel 2</em> (online). It is also worth noting that no stores are utilizing multiple trade channels. Finally, sample sizes are sparse for stores using offline trade channels. This implies that we have limitations to the granularity of our analysis. Small sample sizes lead to instability in results. Therefore, it is unwise to perform actions such as a store-by-store comparison.\n",
    "<br><br>\n",
    "<h2>Summary</h2><br>\n",
    "This chapter has introduced key methods for analyzing the initial quality of a dataset: converting data types, generating descriptive statistics, and accessing value frequencies. These methods are often applied early in an analysis, and can lead to additional tasks before exploring the data further. Spending time to understand and potentially adjust the initial quality of a dataset not only helps in avoiding problems later in an analysis, but also creates an opportunity to collect additional domain knowledge related to the problem you are trying to solve."
   ]
  },
  {
   "cell_type": "markdown",
   "metadata": {
    "deletable": false,
    "editable": false,
    "run_control": {
     "frozen": true
    }
   },
   "source": [
    "<br><hr style=\"height:.9px;border:none;color:#333;background-color:#333;\" />\n",
    "<hr style=\"height:.9px;border:none;color:#333;background-color:#333;\" />\n",
    "\n",
    "\n",
    "~~~\n",
    "\n",
    "  _____     _      _   _     _____      _      ____     _____                ____   _    \n",
    " |\" ___|U  /\"\\  u | \\ |\"|   |_ \" _| U  /\"\\  u / __\"| u |_ \" _|     ___    U /\"___|U|\"|u  \n",
    "U| |_  u \\/ _ \\/ <|  \\| |>    | |    \\/ _ \\/ <\\___ \\/    | |      |_\"_|   \\| | u  \\| |/  \n",
    "\\|  _|/  / ___ \\ U| |\\  |u   /| |\\   / ___ \\  u___) |   /| |\\      | |     | |/__  |_|   \n",
    " |_|    /_/   \\_\\ |_| \\_|   u |_|U  /_/   \\_\\ |____/>> u |_|U    U/| |\\u    \\____| (_)   \n",
    " )(\\\\,-  \\\\    >> ||   \\\\,-._// \\\\_  \\\\    >>  )(  (__)_// \\\\_.-,_|___|_,-._// \\\\  |||_  \n",
    "(__)(_/ (__)  (__)(_\")  (_/(__) (__)(__)  (__)(__)    (__) (__)\\_)-' '-(_/(__)(__)(__)_) \n",
    "\n",
    "~~~\n",
    "\n",
    "<br>\n",
    "<hr style=\"height:.9px;border:none;color:#333;background-color:#333;\" />\n",
    "<hr style=\"height:.9px;border:none;color:#333;background-color:#333;\" /><br>\n"
   ]
  },
  {
   "cell_type": "markdown",
   "metadata": {
    "deletable": false,
    "editable": false,
    "run_control": {
     "frozen": true
    }
   },
   "source": [
    "<br>"
   ]
  }
 ],
 "metadata": {
  "kernelspec": {
   "display_name": "Python 3",
   "language": "python",
   "name": "python3"
  },
  "language_info": {
   "codemirror_mode": {
    "name": "ipython",
    "version": 3
   },
   "file_extension": ".py",
   "mimetype": "text/x-python",
   "name": "python",
   "nbconvert_exporter": "python",
   "pygments_lexer": "ipython3",
   "version": "3.8.5"
  },
  "toc": {
   "base_numbering": 1,
   "nav_menu": {},
   "number_sections": false,
   "sideBar": true,
   "skip_h1_title": false,
   "title_cell": "Table of Contents",
   "title_sidebar": "Contents",
   "toc_cell": false,
   "toc_position": {
    "height": "calc(100% - 180px)",
    "left": "10px",
    "top": "150px",
    "width": "255.994px"
   },
   "toc_section_display": true,
   "toc_window_display": false
  },
  "varInspector": {
   "cols": {
    "lenName": 16,
    "lenType": 16,
    "lenVar": 40
   },
   "kernels_config": {
    "python": {
     "delete_cmd_postfix": "",
     "delete_cmd_prefix": "del ",
     "library": "var_list.py",
     "varRefreshCmd": "print(var_dic_list())"
    },
    "r": {
     "delete_cmd_postfix": ") ",
     "delete_cmd_prefix": "rm(",
     "library": "var_list.r",
     "varRefreshCmd": "cat(var_dic_list()) "
    }
   },
   "types_to_exclude": [
    "module",
    "function",
    "builtin_function_or_method",
    "instance",
    "_Feature"
   ],
   "window_display": false
  }
 },
 "nbformat": 4,
 "nbformat_minor": 4
}
