{
 "cells": [
  {
   "cell_type": "markdown",
   "metadata": {
    "deletable": false,
    "editable": false,
    "run_control": {
     "frozen": true
    }
   },
   "source": [
    "<hr style=\"height:.9px;border:none;color:#333;background-color:#333;\" />\n",
    "<hr style=\"height:.9px;border:none;color:#333;background-color:#333;\" />\n",
    "<br><br><br>\n",
    "<h1>Python for Business Analytics</h1>\n",
    "<em>A Nontechnical Approach for Nontechnical People</em><br><br>\n",
    "<em><strong>Custom Edition for Hult International Business School</strong></em><br>\n",
    "\n",
    "Written by Chase Kusterer - Faculty of Analytics <br>\n",
    "Hult International Business School <br>\n",
    "<a href=\"https://github.com/chase-kusterer\">https://github.com/chase-kusterer</a>\n",
    "<br><br><br><br><br>\n",
    "<hr style=\"height:.9px;border:none;color:#333;background-color:#333;\" />\n",
    "<hr style=\"height:.9px;border:none;color:#333;background-color:#333;\" />\n",
    "<br>\n",
    "<h1>Chapter 14: Linear Relationships and OLS Regression</h1>"
   ]
  },
  {
   "cell_type": "markdown",
   "metadata": {
    "deletable": false,
    "editable": false,
    "run_control": {
     "frozen": true
    }
   },
   "source": [
    "<h2>Pearson Correlation</h2><br>\n",
    "Linear correlation is one of the most useful tools for business analysts. This tool, known more formally <a href=\"https://www.sciencedirect.com/topics/computer-science/pearson-correlation\">Pearson correlation</a>, is intended to inform us on the strength of the linear relationship between two variables. In this case, <strong>linear means using a straight line</strong>. You may feel that such an approach is overly-simplistic. Actually, this is the point: Straight lines are easy to make actionable. Analytics in a business setting comes with the caveat that findings need to be interpretable, and insights need to be implementable. Furthermore, several aspects of business make precise estimation a difficult task. This is also true for strategy as it is very challenging to precisely measure the contributions of each team and department in terms of their effect on success or failure.\n",
    "<br><br>\n",
    "<h2>Ordinary Least Squares (OLS) Regression</h2><br>\n",
    "OLS Regression is a tool to help us model linear relationships. <strong>When you hear the term linear regression, this is most likely the model that is being applied.</strong> Linear regression informs us as to how much we expect a dependent variable to change based on an independent variable. In other words, OLS regression is designed to address the following question:\n",
    "\n",
    "<br><div align=\"center\">\n",
    "<strong>How much do we expect <em>Y</em> to change given a one unit change in <em>x</em>?</strong>\n",
    "    <a class=\"tocSkip\"></a></div><br>\n",
    "    \n",
    "Unlike linear correlation, OLS regression models can be extended with more than one <em>x</em> variable. In such cases, the effect of each <em>x</em> variable is relative to all other <em>x</em> variables in the model (known more formally as a <a href=\"https://www.statology.org/partial-regression-coefficient/\">partial effect</a>).\n",
    "\n",
    "<hr style=\"height:.9px;border:none;color:#333;background-color:#333;\" /><br>\n",
    "\n",
    "Recall from <strong>Chapter 11: Introduction to DataFrames</strong> that it is imperative to explore data and gather domain knowledge before moving into predictive modeling. In fact, it was claimed by <a href=\"https://www.tomdavenport.com/\">Thomas Davenport</a> and <a href=\"http://www.jeannegharris.com/\">Jeanne G. Harris</a> in their book <a href=\"https://www.tomdavenport.com/books/page/2/\">Competing on Analytics</a> that it takes approximately two years for a statistician to attain enough domain knowledge in order to break even on their salary. In other words, no matter your quantitative skills, it is important to dive deep into the problem you are trying to solve and collect as much qualitative information as you can. In the words of <a href=\"https://www.biography.com/musician/bob-marley\">Bob Marley</a>:\n",
    "<br><br><br>\n",
    "\n",
    "~~~\n",
    "Some people feel the rain. Others just get wet.\n",
    "    - Bob Marley\n",
    "~~~\n",
    "\n",
    "<br>\n",
    "<h2>Part I: Exploring Linear Relationships</h2>\n",
    "<h4>Practice - Complete the code to import the diamonds dataset with proper data types.</h4>\n",
    "Make sure to import the most recent version of the dataset (&nbsp;<em>diamonds.imputed.xlsx</em>&nbsp;)."
   ]
  },
  {
   "cell_type": "code",
   "execution_count": null,
   "metadata": {
    "solution2": "hidden",
    "solution2_first": true
   },
   "outputs": [],
   "source": [
    "# Code 14.1.1\n",
    "\n",
    "# importing packages\n",
    "import ____ as pd # data science essentials\n",
    "import ____ as plt # NEW: data visualization essentials\n",
    "import ____ as sns # NEW: enhanced data visualization\n",
    "\n",
    "\n",
    "# converting data types with a dictionary\n",
    "data_types = {\"Obs\"     : ____,\n",
    "              \"channel\" : ____,\n",
    "              \"store\"   : ____}\n",
    "\n",
    "\n",
    "# specifying a file (must specify path to datasets folder)\n",
    "file = ____\n",
    "\n",
    "\n",
    "# reading the file into Python through pandas\n",
    "diamonds = ____.____(io         = ____,\n",
    "                     sheet_name = 'Sheet1',\n",
    "                     header     = ____,\n",
    "                     dtype      = ____)\n",
    "\n",
    "\n",
    "# printing the first 5 rows of the dataset\n",
    "____\n"
   ]
  },
  {
   "cell_type": "code",
   "execution_count": null,
   "metadata": {
    "deletable": false,
    "editable": false,
    "solution2": "hidden"
   },
   "outputs": [],
   "source": [
    "# Sample Solution 14.1.1\n",
    "\n",
    "# importing packages\n",
    "import pandas            as pd  # data science essentials\n",
    "import matplotlib.pyplot as plt # data visualization essentials\n",
    "import seaborn           as sns # enhanced data visualization\n",
    "\n",
    "\n",
    "# converting data types with a dictionary\n",
    "data_types = {\"Obs\"     : str,\n",
    "              \"channel\" : str,\n",
    "              \"store\"   : str}\n",
    "\n",
    "\n",
    "# specifying a file (must specify path to datasets folder)\n",
    "file = './__datasets/diamonds_imputed.xlsx'\n",
    "\n",
    "\n",
    "# reading the file into Python through pandas\n",
    "diamonds = pd.read_excel(io         = file,\n",
    "                         sheet_name = 0,\n",
    "                         header     = 0,\n",
    "                         dtype      = data_types)\n",
    "\n",
    "\n",
    "# printing the first 5 rows of the dataset\n",
    "print(diamonds.head(n = 5))\n"
   ]
  },
  {
   "cell_type": "markdown",
   "metadata": {
    "deletable": false,
    "editable": false,
    "run_control": {
     "frozen": true
    }
   },
   "source": [
    "<hr style=\"height:.9px;border:none;color:#333;background-color:#333;\" /><br>\n",
    "\n",
    "The following code will generate Pearson correlations for the numeric features of the <em>diamonds</em> dataset. Notice how the correlation method has been set to <em>'pearson'</em>, which is the default option for <em>corr(&nbsp;)</em>. As mentioned in previous chapters, it is a good practice to explicitly label the arguments of the methods you are using. In this case, such a practice may remind you that there are many different kinds of correlation, and the three most widely used (Pearson, Spearman, and Kendall) are all at our disposal with the <em>corr(&nbsp;)</em> method."
   ]
  },
  {
   "cell_type": "code",
   "execution_count": null,
   "metadata": {
    "deletable": false,
    "editable": false
   },
   "outputs": [],
   "source": [
    "# Code 14.1.2\n",
    "\n",
    "# linear (Pearson) correlation\n",
    "diamonds.corr(method = 'pearson').round(decimals = 2)\n"
   ]
  },
  {
   "cell_type": "markdown",
   "metadata": {
    "deletable": false,
    "editable": false,
    "run_control": {
     "frozen": true
    }
   },
   "source": [
    "<br><hr style=\"height:.9px;border-width:0;color:gray;background-color:gray\"><br>\n",
    "\n",
    "The results of each coefficient in the correlation table above can be interpreted as follows:\n",
    "<br><br><br>\n",
    "<div style = \"width:image width px; font-size:80%; text-align:center;\"><img src=./__images/chapter-14-correlation-strengths.png width=\"300\" height=\"225\" style=\"padding-bottom:0.5em;\"> <em>Figure 14.1: Interpretation of Pearson Correlation Coefficient Strengths</em></div>\n",
    "\n",
    "\n",
    "<br><br>\n",
    "The coefficient strengths presented in <em>Figure 14.1</em> are a good heuristic. Keep in mind, however, that they are relative to the problem you are trying to solve. Outside of academic exercises and applications in fields such as physics, it is rare to find correlation coefficients beyond <u>+</u>0.80. When such correlations are found in a business setting, you can almost guarantee that they have already been taken into account, either through formal recognition of the relationship between two variables, or through the natural evolution of the business. Always make sure to discuss such findings with stakeholders before concluding that you have discovered something new.\n",
    "<br><br>\n",
    "The output of the code above can be visualized with <a href=\"https://seaborn.pydata.org/generated/seaborn.heatmap.html\">seaborn's heatmap method</a>. This has been done in the code below. Out of the box, however, the heatmap is difficult to analyze."
   ]
  },
  {
   "cell_type": "code",
   "execution_count": null,
   "metadata": {
    "deletable": false,
    "editable": false
   },
   "outputs": [],
   "source": [
    "# Code 14.1.3\n",
    "\n",
    "# converting correlation matrix into a DataFrame\n",
    "diamonds_corr = diamonds.corr(method = 'pearson').round(decimals = 2)\n",
    "\n",
    "# instantiating a heatmap\n",
    "sns.heatmap(diamonds_corr)\n",
    "\n",
    "\n",
    "# displaying the plot\n",
    "plt.show()\n"
   ]
  },
  {
   "cell_type": "markdown",
   "metadata": {
    "deletable": false,
    "editable": false,
    "run_control": {
     "frozen": true
    }
   },
   "source": [
    "<hr style=\"height:.9px;border:none;color:#333;background-color:#333;\" /><br>\n",
    "\n",
    "<h4>Practice - Develop a heatmap that is easier to analyze.</h4>\n",
    "Try adding annotations for the correlations, lines between boxes, and a different color scheme. The following docstring, as well as <a href=\"https://matplotlib.org/stable/gallery/color/colormap_reference.html\">this documentation on color palettes</a> may help in completing this task. There are no right or wrong answers for this exercise, so be creative!"
   ]
  },
  {
   "cell_type": "code",
   "execution_count": null,
   "metadata": {
    "cell_style": "center",
    "deletable": false,
    "editable": false
   },
   "outputs": [],
   "source": [
    "help(sns.heatmap)"
   ]
  },
  {
   "cell_type": "markdown",
   "metadata": {
    "deletable": false,
    "editable": false,
    "run_control": {
     "frozen": true
    }
   },
   "source": [
    "<br>"
   ]
  },
  {
   "cell_type": "code",
   "execution_count": null,
   "metadata": {
    "solution2": "hidden",
    "solution2_first": true
   },
   "outputs": [],
   "source": [
    "# Code 14.1.4\n",
    "\n",
    "# specifying plot size (making it bigger)\n",
    "fig, ax = plt.subplots(figsize=(12,12))\n",
    "\n",
    "\n",
    "# developing a heatmap\n",
    "____\n",
    "\n",
    "\n",
    "# title and displaying the plot\n",
    "plt.title(\"\"\"\n",
    "Linear Correlation Heatmap for Diamond Features\n",
    "\"\"\")\n",
    "\n",
    "plt.show()\n"
   ]
  },
  {
   "cell_type": "code",
   "execution_count": null,
   "metadata": {
    "deletable": false,
    "editable": false,
    "solution2": "hidden"
   },
   "outputs": [],
   "source": [
    "# Sample Solution 14.1.4\n",
    "\n",
    "# specifying plot size (making it bigger)\n",
    "fig, ax = plt.subplots(figsize=(12,12))\n",
    "\n",
    "\n",
    "# developing a coolwarm heatmap\n",
    "sns.heatmap(data       = diamonds_corr, # the correlation matrix\n",
    "            cmap       = 'coolwarm',    # changing to MEDIUM colors\n",
    "            square     = True,          # tightening the layout\n",
    "            annot      = True,          # should there be numbers in the heatmap\n",
    "            linecolor  = 'black',       # lines between boxes\n",
    "            linewidths = 0.5)           # how thick should the lines be?\n",
    "\n",
    "\n",
    "# title and displaying the plot\n",
    "plt.title(\"\"\"\n",
    "Linear Correlation Heatmap for Diamond Features\n",
    "\"\"\")\n",
    "\n",
    "plt.show()\n"
   ]
  },
  {
   "cell_type": "markdown",
   "metadata": {
    "deletable": false,
    "editable": false,
    "run_control": {
     "frozen": true
    }
   },
   "source": [
    "<hr style=\"height:.9px;border:none;color:#333;background-color:#333;\" /><br>\n",
    "\n",
    "Correlation heatmaps can be read in the same way as correlation tables. Their advantage is in their color encoding, making it faster to detect standout correlations (&nbsp;for example, the correlation between <em>carat</em> and <em>price</em>&nbsp;). Note, however, that <font style=\"color:red\"><strong>relying solely on a correlation coefficient to determine the quality of a linear relationship is dangerous.</strong></font> It is important to also check to see if the relationship is actually linear. This leads us to two additional  tools: scatter and linear model plots.\n",
    "\n",
    "<hr style=\"height:.9px;border:none;color:#333;background-color:#333;\" /><br>\n",
    "<h2>Part II: Scatter and Linear Model Plots</h2><br>\n",
    "Scatter plots are an excellent tool to help analyze the relationship between two variables. Linear model plots are an enhanced version of a scatter plot that includes a trend line based on the <strong>square of the correlation coefficient</strong> between the variables being plotted. The square of the correlation coefficient is more formally known as <strong>R-Squared</strong>, which is a key metric when evaluating linear models.\n",
    "<br><br>\n",
    "The code below has been developed to display a scatter plot between <em>carat</em> and <em>price</em>."
   ]
  },
  {
   "cell_type": "code",
   "execution_count": null,
   "metadata": {
    "deletable": false,
    "editable": false
   },
   "outputs": [],
   "source": [
    "# Code 14.2.1\n",
    "\n",
    "# instantiating a scatter plot for carat and price\n",
    "sns.lmplot(x          = 'carat',  # x-axis feature\n",
    "           y          = 'price',  # y-axis feature\n",
    "           hue        = None,     # categorical data for subsets\n",
    "           legend_out = False,    # formats legend if hue != None\n",
    "           scatter    = True,     # renders a scatter plot\n",
    "           fit_reg    = False,    # renders a regression line\n",
    "           aspect     = 2,        # aspect ratio for plot\n",
    "           data       = diamonds) # DataFrame where features exist\n",
    "\n",
    "\n",
    "# formatting and displaying the plot\n",
    "plt.title(label    = 'Carat Weight and Price')\n",
    "plt.xlabel(xlabel  = 'Carat Weight')\n",
    "plt.ylabel(ylabel  = 'Price (USD)')\n",
    "plt.xlim(0, 2.8) # changing the x-range for better viewability\n",
    "plt.tight_layout()\n",
    "plt.show()\n"
   ]
  },
  {
   "cell_type": "markdown",
   "metadata": {
    "deletable": false,
    "editable": false,
    "run_control": {
     "frozen": true
    }
   },
   "source": [
    "<hr style=\"height:.9px;border-width:0;color:gray;background-color:gray\"><br>\n",
    "\n",
    "The results of the scatter plot do resemble a linear relationship between <em>carat</em> and <em>price</em>. However, there are several aspects of this relationship that do not coincide with a linear pattern. When such aspects are discovered in an analysis, it is critical to start writing down your thoughts. Take a few minutes to do this before reading on.\n",
    "<br><br><br>\n",
    "<strong>Initial Thoughts on the Relationship between <em>carat</em> and <em>price</em></strong><br>\n",
    "\n",
    "1. The linear trend seems to be consistent for smaller carat weights. However, as carat weight increases, there appears to be a fanning out pattern. This is indicative of a non-linear relationship between these two variables.\n",
    "2. Price seems to fluctuate more when carat weight slightly exceeds 1.0, 1.5, and 2.0. Could there be a consumer- or business-related rationale for this?\n",
    "3. Price appears to spread out as carat weight increases beyond a value of 1.5. Could we be converging on elements of price elasticity or be targeting more than one type of consumer?\n",
    "4. Some observations greatly stand out from the linear trend. What could be the rationale for this?\n",
    "\n",
    "\n",
    "<h4>Practice - Change the value of the <em>fit_reg</em> argument to True.</h4>\n",
    "This will convert the scatter plot into a linear model plot."
   ]
  },
  {
   "cell_type": "code",
   "execution_count": null,
   "metadata": {
    "solution2": "hidden",
    "solution2_first": true
   },
   "outputs": [],
   "source": [
    "# Code 14.2.2\n",
    "\n",
    "# instantiating an lmplot for carat and price\n",
    "sns.lmplot(x          = 'carat',  # x-axis feature\n",
    "           y          = 'price',  # y-axis feature\n",
    "           hue        = None,     # categorical data for subsets\n",
    "           legend_out = False,    # formats legend if hue != None\n",
    "           scatter    = True,     # renders a scatter plot\n",
    "           fit_reg    = ____,     # renders a regression line\n",
    "           aspect     = 2,        # aspect ratio for plot\n",
    "           data       = diamonds) # DataFrame where features exist\n",
    "\n",
    "\n",
    "# formatting and displaying the plot\n",
    "plt.title(label    = 'Carat Weight and Price')\n",
    "plt.xlabel(xlabel  = 'Carat Weight')\n",
    "plt.ylabel(ylabel  = 'Price (USD)')\n",
    "plt.xlim(0, 2.8)\n",
    "plt.tight_layout()\n",
    "plt.show()\n"
   ]
  },
  {
   "cell_type": "code",
   "execution_count": null,
   "metadata": {
    "deletable": false,
    "editable": false,
    "solution2": "hidden"
   },
   "outputs": [],
   "source": [
    "# Sample Solution 14.2.2\n",
    "\n",
    "# instantiating an lmplot for carat and price\n",
    "sns.lmplot(x          = 'carat',  # x-axis feature\n",
    "           y          = 'price',  # y-axis feature\n",
    "           hue        = None,     # categorical data for subsets\n",
    "           legend_out = False,    # formats legend if hue != None\n",
    "           scatter    = True,     # renders a scatter plot\n",
    "           fit_reg    = True,     # renders a regression line\n",
    "           aspect     = 2,        # aspect ratio for plot\n",
    "           data       = diamonds) # DataFrame where features exist\n",
    "\n",
    "\n",
    "# formatting and displaying the plot\n",
    "plt.title(label    = 'Carat Weight and Price')\n",
    "plt.xlabel(xlabel  = 'Carat Weight')\n",
    "plt.ylabel(ylabel  = 'Price (USD)')\n",
    "plt.xlim(0, 2.8)\n",
    "plt.tight_layout()\n",
    "plt.show()\n"
   ]
  },
  {
   "cell_type": "markdown",
   "metadata": {
    "deletable": false,
    "editable": false,
    "run_control": {
     "frozen": true
    }
   },
   "source": [
    "<hr style=\"height:.9px;border-width:0;color:gray;background-color:gray\"><br>\n",
    "According to <a href=\"./__documents/miller_mds_two_months_salary_case.pdf\">the documentation on the dataset</a>, \"diamonds are sized in one-quarter increments\". Let's take this into consideration by developing vertical axis lines throughout the plot.\n",
    "\n",
    "<h4>Practice - Complete the code to add vertical lines at 0.25 increments on the x-axis."
   ]
  },
  {
   "cell_type": "code",
   "execution_count": null,
   "metadata": {
    "solution2": "hidden",
    "solution2_first": true
   },
   "outputs": [],
   "source": [
    "# Code 14.2.3\n",
    "\n",
    "# instantiating an lmplot for carat and price\n",
    "___.___(x          = ___,  # x-axis feature\n",
    "           y          = ___,  # y-axis feature\n",
    "           hue        = None,     # categorical data for subsets\n",
    "           legend_out = False,    # formats legend if hue != None\n",
    "           scatter    = ___,     # renders a scatter plot\n",
    "           fit_reg    = ___,    # renders a regression line\n",
    "           aspect     = 2,        # aspect ratio for plot\n",
    "           data       = ___) # DataFrame where features exist\n",
    "\n",
    "\n",
    "# looping over the x-range to save time\n",
    "value = 0.25\n",
    "\n",
    "___ value < 2.75:\n",
    "    \n",
    "    # making a vertical line\n",
    "    ___.___(x = ___, color = \"purple\", linestyle = '--')\n",
    "    \n",
    "    # incrementing value in one-quarter increments\n",
    "    ___ += ___\n",
    "\n",
    "\n",
    "# formatting and displaying the plot\n",
    "plt.title(label    = 'Carat Weight and Price')\n",
    "plt.xlabel(xlabel  = 'Carat Weight')\n",
    "plt.ylabel(ylabel  = 'Price (USD)')\n",
    "plt.xlim(0, 2.8)\n",
    "plt.tight_layout()\n",
    "plt.show()\n"
   ]
  },
  {
   "cell_type": "code",
   "execution_count": null,
   "metadata": {
    "deletable": false,
    "editable": false,
    "solution2": "hidden"
   },
   "outputs": [],
   "source": [
    "# Sample Solution 14.2.3\n",
    "\n",
    "# instantiating an lmplot for carat and price\n",
    "sns.lmplot(x          = 'carat',  # x-axis feature\n",
    "           y          = 'price',  # y-axis feature\n",
    "           hue        = None,     # categorical data for subsets\n",
    "           legend_out = False,    # formats legend if hue != None\n",
    "           scatter    = True,     # renders a scatter plot\n",
    "           fit_reg    = False,    # renders a regression line\n",
    "           aspect     = 2,        # aspect ratio for plot\n",
    "           data       = diamonds) # DataFrame where features exist\n",
    "\n",
    "\n",
    "# looping over the x-range to save time\n",
    "value = 0.25\n",
    "\n",
    "while value < 2.75:\n",
    "    \n",
    "    # making a vertical line\n",
    "    plt.axvline(x = value, color = \"purple\", linestyle = '--')\n",
    "    \n",
    "    # incrementing value in one-quarter increments\n",
    "    value += 0.25\n",
    "\n",
    "\n",
    "# formatting and displaying the plot\n",
    "plt.title(label    = 'Carat Weight and Price')\n",
    "plt.xlabel(xlabel  = 'Carat Weight')\n",
    "plt.ylabel(ylabel  = 'Price (USD)')\n",
    "plt.xlim(0, 2.8) # changing the x-range for better viewability\n",
    "plt.tight_layout()\n",
    "plt.show()\n"
   ]
  },
  {
   "cell_type": "markdown",
   "metadata": {
    "deletable": false,
    "editable": false,
    "run_control": {
     "frozen": true
    }
   },
   "source": [
    "<hr style=\"height:.9px;border-width:0;color:gray;background-color:gray\"><br>\n",
    "\n",
    "It does not appear that the trend between price and carat weight changes with each 0.25 increment. It does, however, look as if the trend becomes more steep as carat weight increases beyond 1.50. Also, there appears to be a downward-sloping trend after carat weight surpasses 2.00 (although we do not have many observations with carat weights above this threshold).\n",
    "<br><br>\n",
    "Let's scale back the number of vertical axis lines to half carat increments and store them as a categorical variable. This has been done for you in the code below."
   ]
  },
  {
   "cell_type": "code",
   "execution_count": null,
   "metadata": {
    "deletable": false,
    "editable": false
   },
   "outputs": [],
   "source": [
    "# Code 14.2.4\n",
    "\n",
    "# creating a dummy column in the diamonds DataFrame\n",
    "diamonds['Carat Size'] = 0\n",
    "\n",
    "\n",
    "# for loop with iterrows() <-- one of the most useful methods for DataFrames\n",
    "for index, col in diamonds.iterrows():\n",
    "    \n",
    "    \n",
    "    # conditionals to change the values in the new column\n",
    "    if diamonds.loc[index, 'carat'] < 0.5:\n",
    "        diamonds.loc[index, 'Carat Size'] = '[0.0, 0.5)'\n",
    "        \n",
    "        \n",
    "    elif diamonds.loc[index, 'carat'] < 1.0:\n",
    "        diamonds.loc[index, 'Carat Size'] = '[0.5 - 1.0)'\n",
    "        \n",
    "        \n",
    "    elif diamonds.loc[index, 'carat'] < 1.5:\n",
    "        diamonds.loc[index, 'Carat Size'] = '[1.0 - 1.5)'\n",
    "        \n",
    "        \n",
    "    elif diamonds.loc[index, 'carat'] < 2.0:\n",
    "        diamonds.loc[index, 'Carat Size'] = '[1.5 - 2.0)'\n",
    "        \n",
    "        \n",
    "    elif diamonds.loc[index, 'carat'] >= 2.0: # this is where the bug was\n",
    "        diamonds.loc[index, 'Carat Size'] = '[2.0 - inf)'\n",
    "    \n",
    "    \n",
    "    # safety net\n",
    "    else:\n",
    "        diamonds.loc[index, 'Carat Size'] = 'error'\n",
    "\n",
    "\n",
    "# instantiating an lmplot for carat and price\n",
    "sns.lmplot(x          = 'carat',  \n",
    "           y          = 'price',  \n",
    "           hue        = 'Carat Size', # categorical data for subsets\n",
    "           legend     = False,        # supressing the legend\n",
    "           legend_out = False,    \n",
    "           scatter    = True,     \n",
    "           fit_reg    = True,     \n",
    "           aspect     = 2,        \n",
    "           data       = diamonds)\n",
    "\n",
    "\n",
    "# developing vertical axis lines\n",
    "value = 0.50\n",
    "\n",
    "while value < 3.00:\n",
    "    \n",
    "    # making a vertical line\n",
    "    plt.axvline(x = value, color = \"purple\", linestyle = '--')\n",
    "    \n",
    "    # incrementing value in one-quarter increments\n",
    "    value += 0.50\n",
    "\n",
    "\n",
    "# formatting and displaying the plot\n",
    "plt.title(label    = 'Carat Weight and Price')\n",
    "plt.xlabel(xlabel  = 'Carat Weight')\n",
    "plt.ylabel(ylabel  = 'Price (USD)')\n",
    "plt.xlim(0, 2.8)\n",
    "plt.tight_layout()\n",
    "plt.savefig('./__images/carat_price_scatter.png')\n",
    "plt.show()\n"
   ]
  },
  {
   "cell_type": "markdown",
   "metadata": {
    "deletable": false,
    "editable": false,
    "run_control": {
     "frozen": true
    }
   },
   "source": [
    "<hr style=\"height:.9px;border-width:0;color:gray;background-color:gray\"><br>\n",
    "\n",
    "After categorizing carat weights in 0.5 increments, the changes in linear trend are more apparent. However, we have to be careful not to attach too much meaning to the segments where the data is sparse (i.e., beyond a carat weight of 1.5). It only takes two points to draw a line, and <em>seaborn</em> will not stop us from developing regression lines when we have a small sample size.\n",
    "<br><br><br>\n",
    "<strong>Pairplots</strong><br>\n",
    "We can speed up the process of developing visuals to analyze relationships with <em>sns.pairplot(&nbsp;)</em>. <strong><font style=\"color:red\">Remember, every visual you include in an analysis needs at least one paragraph of explanation.</font></strong> The following code is meant for us to quickly search for points of interest so we can dig deeper. From here, we can individually develop visuals that add value to our analysis."
   ]
  },
  {
   "cell_type": "code",
   "execution_count": null,
   "metadata": {
    "deletable": false,
    "editable": false
   },
   "outputs": [],
   "source": [
    "# Code 14.2.5\n",
    "\n",
    "# palplot for all numeric features\n",
    "sns.pairplot(data = diamonds,\n",
    "             x_vars = ['carat', 'color', 'clarity', 'cut', 'price'],\n",
    "             y_vars = ['carat', 'color', 'clarity', 'cut', 'price'],\n",
    "             hue = 'channel',\n",
    "             kind = 'scatter',\n",
    "             palette = 'plasma')\n",
    "\n",
    "\n",
    "# formatting options and display\n",
    "plt.tight_layout()\n",
    "plt.show()\n"
   ]
  },
  {
   "cell_type": "markdown",
   "metadata": {
    "deletable": false,
    "editable": false,
    "run_control": {
     "frozen": true
    }
   },
   "source": [
    "<hr style=\"height:.9px;border-width:0;color:gray;background-color:gray\"><br>\n",
    "<h2> Part III: Violin and Hybrid Plots</h2>\n",
    "\n",
    "In this section, we will assume that we have analyzed enough data related to each store and trade channel to alleviate any biases caused by categorical labels. Therefore, we can convert their numeric labels into names. This will allow us to conduct further research as we make discoveries."
   ]
  },
  {
   "cell_type": "code",
   "execution_count": null,
   "metadata": {
    "deletable": false,
    "editable": false
   },
   "outputs": [],
   "source": [
    "# Code 14.3.1\n",
    "\n",
    "# relabeling channel\n",
    "diamonds['channel'] = diamonds['channel'].map(\n",
    "                        {'0': 'mall',\n",
    "                         '1': 'independent',\n",
    "                         '2': 'online'})\n",
    "\n",
    "\n",
    "# relabeling store\n",
    "diamonds['store'] = diamonds['store'].map(\n",
    "                    {'1': \"Goodman's\",\n",
    "                     '2': \"Chalmer's\",\n",
    "                     '3': \"Fred Meyer\",\n",
    "                     '4': 'R. Holland',\n",
    "                     '5': \"Ausman's\",\n",
    "                     '6': \"University\",\n",
    "                     '7': \"Kay\",\n",
    "                     '8': \"Zales\",\n",
    "                     '9': \"Danford\",\n",
    "                     '10': \"Blue Nile\",\n",
    "                     '11': \"Ashford\"})\n",
    "\n",
    "\n",
    "# printing the value counts for each channel\n",
    "print(f\"\"\"\n",
    "Channel Frequencies:\n",
    "{diamonds['channel'].value_counts()}\n",
    "\n",
    "Store Frequencies:\n",
    "{diamonds['store'].value_counts()}\n",
    "\"\"\")\n"
   ]
  },
  {
   "cell_type": "markdown",
   "metadata": {
    "deletable": false,
    "editable": false,
    "run_control": {
     "frozen": true
    }
   },
   "source": [
    "<hr style=\"height:.9px;border:none;color:#333;background-color:#333;\" /><br>\n",
    "\n",
    "<strong>Violin plots</strong> are a combination of a boxplot (inside) and a histogram (outside). They can also be modified so that two distributions can be analyzed simultaneously, based on a <a href=\"https://www.statisticshowto.com/binary-variable-2/\">binary variable</a>. Below are examples presenting the price of diamond engagement rings by store. Each distribution has been separated by cut."
   ]
  },
  {
   "cell_type": "code",
   "execution_count": null,
   "metadata": {
    "deletable": false,
    "editable": false
   },
   "outputs": [],
   "source": [
    "# Code 14.3.2\n",
    "\n",
    "# specifying plot size (making it bigger)\n",
    "fig, ax = plt.subplots(figsize=(12,8))\n",
    "\n",
    "\n",
    "# subsetting to focus on one channel at a time\n",
    "channel_0 = diamonds.loc[ : , : ][diamonds.loc[ : , 'channel'] == 'mall']\n",
    "\n",
    "\n",
    "# violin plots\n",
    "sns.violinplot(x      = 'store',\n",
    "               y      = 'price',\n",
    "               hue    = 'cut',\n",
    "               split  = True,\n",
    "               data   = channel_0,\n",
    "               orient = 'v')\n",
    "\n",
    "\n",
    "# formatting and displaying the plot\n",
    "plt.title(label = \"\"\"\n",
    "Violin Plots between Price and Carat Weight\n",
    "Shopping Mall Retailers\n",
    "\"\"\")\n",
    "plt.xlabel(xlabel = 'Store')\n",
    "plt.ylabel(ylabel = 'Engagement Ring Price')\n",
    "plt.show()\n"
   ]
  },
  {
   "cell_type": "markdown",
   "metadata": {
    "deletable": false,
    "editable": false,
    "run_control": {
     "frozen": true
    }
   },
   "source": [
    "<hr style=\"height:.9px;border-width:0;color:gray;background-color:gray\"><br>\n",
    "\n",
    "Although violin plots can imply many findings, it is important to remember that any visualization that utilizes a kernel density estimate (KDE) is making assumptions as to a feature's theoretical distribution. Such estimates can be drawn with a very minimal amount of samples. <font style=color:red><strong>Be careful! Make sure to check your sample sizes before concluding on any findings!.</strong></font>\n",
    "<br><br>\n",
    "The following visualization is a hybrid between a violin plot and a <strong>strip plot</strong>. Strip plots are similar to scatterplots, but are used to visualize the distribution of one feature instead of the relationship between two features. When used in tandem with violin plots, they can help analysts determine if a KDE is reliable given sample sizes and extreme values."
   ]
  },
  {
   "cell_type": "code",
   "execution_count": null,
   "metadata": {
    "deletable": false,
    "editable": false
   },
   "outputs": [],
   "source": [
    "# Code 14.3.3\n",
    "\n",
    "# specifying plot size (making it bigger)\n",
    "fig, ax = plt.subplots(figsize=(12,8))\n",
    "\n",
    "\n",
    "# outline with a violin plot\n",
    "sns.violinplot(x      = 'store',\n",
    "               y      = 'price',\n",
    "               hue    = 'cut',\n",
    "               split  = True,\n",
    "               data   = diamonds,\n",
    "               orient = 'v',\n",
    "               inner  = None,\n",
    "               color  = 'white')\n",
    "\n",
    "\n",
    "# embedding a stripplot plot\n",
    "sns.stripplot(x = 'store',\n",
    "              y = 'price',\n",
    "              data = diamonds,\n",
    "              size = 5,\n",
    "              orient = 'v')\n",
    "\n",
    "\n",
    "plt.title(label = \"\"\"\n",
    "Violin and Swarm Plots between Price and Carat Weight\n",
    "All Retailers\n",
    "\"\"\")\n",
    "plt.xlabel(xlabel = 'Store')\n",
    "plt.ylabel(ylabel = 'Engagement Ring Price')\n",
    "plt.show()\n"
   ]
  },
  {
   "cell_type": "markdown",
   "metadata": {
    "deletable": false,
    "editable": false,
    "run_control": {
     "frozen": true
    }
   },
   "source": [
    "<hr style=\"height:.9px;border:none;color:#333;background-color:#333;\" /><br>\n",
    "<h2>Part IV: Predictive Modeling</h2><br>\n",
    "Up to this point, we have cleaned up the <em>diamonds</em> dataset, studied its documentation, and explored its data. Although we have conducted an <strong>exploratory data analysis</strong>, we have barely scratched the surface in terms of the depth of the <em>Two Month's Salary Challenge</em>. In a business setting, the majority of our efforts would be dedicated to diving deeper and collecting more domain knowledge. Exploratory data analysis and domain knowledge gathering take time, and it is important to avoid moving into predictive modeling too early. This is one of the most common mistakes entry-level analysts make.\n",
    "<br><br>\n",
    "<h3>What is Predictive Modeling?</h3>\n",
    "A straightforward definition of <strong>predictive modeling</strong> can be found in <a href=\"https://towardsdatascience.com/selecting-the-correct-predictive-modeling-technique-ba459c370d59\">this article from Towards Data Science</a>:\n",
    "<br><br>\n",
    "\n",
    "<div align=\"center\">\n",
    "    Predictive modeling is the process of taking known results and developing<br>a model that can predict values for new occurrences.\n",
    "    <a class=\"tocSkip\"></a></div><br>\n",
    "\n",
    "In other words, <strong>predictive modeling</strong> is the process of using historic data to estimate the values of unknown observations. The keyword in this definition is estimate. Predictive modeling is all about developing our \"best guess\" given all available information. <font style=color:red><strong>Predictive modeling is NOT about being right. It is instead about being less wrong.</strong></font>\n",
    "<br><br>\n",
    "The following is a simple example:\n",
    "<br><br>\n",
    "\n",
    "<p style=\"padding: 10px; border: 2px solid black;\">\n",
    "You are tasked with predicting the size of 10 engagement ring diamonds. However, the only information available is the size of 50 other diamonds (no information on clarity, price, etc.). In such a situation, your best prediction for each of the 10 unknown observations will be the mean of the 50 known observations (assuming a normal distribution).\n",
    "<br><br>\n",
    "We know we will be wrong on virtually every one of our predictions. However, since the mean represents the center of the known data, it is most probable that we will be less wrong than if we chose any other value. It is our \"best guess\" given no other information.\n",
    "</p>\n",
    "<div align=\"left\">\n",
    "\n",
    "<a class=\"tocSkip\"></a></div>\n",
    "<br>\n",
    "\n",
    "Also note that in recent years, the growth of analytics has accelerated to lightening speed. Thus, several new terms have emerged in an attempt to keep up with this ever-expanding field. In present-day real world settings, the terms <strong>predictive modeling</strong>, <strong>statistical learning</strong>, <strong>machine learning</strong>, and <strong>artificial intelligence (AI)</strong> all mean the same thing. Do not worry about the differences between these terms as they even get confused in academia. At the time of this writing, several academic institutions are allocating massive amounts of funding to develop AI research centers. However, the research output of many of these centers is not meeting expectations in terms of what the general public perceives as AI. Instead, they are simply utilizing predictive modeling to improve upon their \"best guesses\" for their data. You may be wondering why they have chosen to use the term artificial intelligence. Simply put, the term AI sells better than predictive modeling. It has emerged as a leading term for marketing reasons. In fact, a venture capitalist once told me in passing that the more she hears the term AI, the less she believes the presenter knows what they are talking about. Things are slowly improving in this regard, but for our learning purposes, such terminology does not matter."
   ]
  },
  {
   "cell_type": "markdown",
   "metadata": {
    "deletable": false,
    "editable": false,
    "run_control": {
     "frozen": true
    }
   },
   "source": [
    "<h3>Analyzing the Distribution of Price</h3>\n",
    "<em>Price</em> is a continuous variable, which implies that modeling techniques such as linear regression are appropriate. Before moving into predictive modeling, however, it is important to analyze the distribution of the response variable (i.e., the y-variable). This will help determine if any adjustments need to be made to our modeling approach.\n",
    "<br><br>\n",
    "Also note that the response variable is often referred to as the dependent variable or the \n",
    "endogenous variable. The rationale for differing names stems from the differing fields that apply predictive modeling (statistics, economics, etc.). Think of this variable in terms of the following:<br>\n",
    "\n",
    "* Question: How much is the price of a diamond engagement ring?<br>\n",
    "* <strong>Response</strong>: Well, it <strong>depends</strong> on the features of each diamond.\n",
    "\n",
    "<br>\n",
    "Additional names for the X- and y-variables can be found in <a href=\"https://www.statsmodels.org/stable/endog_exog.html\">the User Guide for statsmodels</a>.\n",
    "<br><br><br>\n",
    "<hr style=\"height:.9px;border:none;color:#333;background-color:#333;\" />\n",
    "<br>\n",
    "<h4>Practice - Develop a histogram to analyze the distribution of the response variable (&nbsp;<em>price</em>&nbsp;).</h4>Does it look as if this variable is normally distributed? Does it appear to be skewed positive or negative?\n",
    "<br><br>\n",
    "The following help file may be useful in completing this task."
   ]
  },
  {
   "cell_type": "code",
   "execution_count": null,
   "metadata": {
    "deletable": false,
    "editable": false
   },
   "outputs": [],
   "source": [
    "# Code 14.4.1\n",
    "\n",
    "# calling help on sns.histplot\n",
    "help(sns.histplot)\n",
    "\n",
    "\n",
    "# Have an older version of Python? Use the following instead:\n",
    "# help(sns.distplot)\n"
   ]
  },
  {
   "cell_type": "markdown",
   "metadata": {
    "deletable": false,
    "editable": false,
    "run_control": {
     "frozen": true
    }
   },
   "source": [
    "<br>"
   ]
  },
  {
   "cell_type": "code",
   "execution_count": null,
   "metadata": {
    "solution2": "hidden",
    "solution2_first": true
   },
   "outputs": [],
   "source": [
    "# Code 14.4.2\n",
    "\n",
    "# histogram for price\n",
    "_____\n",
    "\n",
    "\n",
    "# title and labels\n",
    "plt.title(\"\"\"\n",
    "Distribution for \n",
    "Diamond Engagement Ring Prices\"\"\")\n",
    "plt.xlabel(\"Price \")\n",
    "plt.ylabel(\"Frequency\")\n",
    "\n",
    "# rendering the plot\n",
    "_____\n"
   ]
  },
  {
   "cell_type": "code",
   "execution_count": null,
   "metadata": {
    "deletable": false,
    "editable": false,
    "solution2": "hidden"
   },
   "outputs": [],
   "source": [
    "# Sample Solution 14.4.2\n",
    "\n",
    "# histogram for price\n",
    "sns.histplot(data = diamonds,\n",
    "             x    = 'price')\n",
    "\n",
    "\n",
    "# title and labels\n",
    "plt.title(\"\"\"\n",
    "Distribution for \n",
    "Diamond Engagement Ring Prices\"\"\")\n",
    "plt.xlabel(\"Price \")\n",
    "plt.ylabel(\"Frequency\")\n",
    "\n",
    "\n",
    "# rendering the plot\n",
    "plt.show()\n"
   ]
  },
  {
   "cell_type": "markdown",
   "metadata": {
    "deletable": false,
    "editable": false,
    "run_control": {
     "frozen": true
    }
   },
   "source": [
    "<hr style=\"height:.9px;border:none;color:#333;background-color:#333;\" /><br>\n",
    "\n",
    "You may have noticed that the response variable (&nbsp;<em>price</em>&nbsp;) is encoded as an integer (it does not contain decimal places). This may be very common in diamond engagement ring pricing, but it is a slight violation of continuity. Although this informs us that our modeling results will be flawed, we must keep in mind that statistics and real-world applications are expected to have such misalignment. This reinforces the fact that <strong>we do not expect our predictions to be perfect, but we do expect to develop a general understanding as to how each feature affects the response variable.</strong>\n",
    "<br><br>\n",
    "Finally, the histogram above shows positive skewness for <em>price</em> (the distribution is skewed to the right). This nonlinearity likely explains the fanning out pattern observed in the scatter and linear model plots. There are techniques to fix this (known as transformations), but they are beyond our current scope."
   ]
  },
  {
   "cell_type": "markdown",
   "metadata": {
    "deletable": false,
    "editable": false,
    "run_control": {
     "frozen": true
    }
   },
   "source": [
    "<hr style=\"height:.9px;border:none;color:#333;background-color:#333;\" /><br>\n",
    "<h2>Part V: Base Modeling</h2><br>\n",
    "In a formal analysis, we would explore the distributions of each of the dataset's features before moving forward. Such a practice grants us the ability to optimize our modeling endeavors with anomaly treatment, transformations, and feature engineering. At this point in our modeling approach, however, it is a good idea to build a base model. <strong>Base models</strong> are models developed using a minimal set of highly-correlated features from the original dataset. There is nothing fancy about base models, and this is what makes them beautiful. If a high-quality model can be developed using a small number of features from the original dataset, our work is much easier. Additionally, this will also simplify the interpretation of model results."
   ]
  },
  {
   "cell_type": "markdown",
   "metadata": {
    "deletable": false,
    "editable": false,
    "run_control": {
     "frozen": true
    }
   },
   "source": [
    "<h3>Building A Base Model</h3>\n",
    "The following code has been provided for you. Its purpose is to provide a basic framework for developing a predictive model in Python using the <a href=\"https://www.statsmodels.org/stable/index.html\">statsmodels</a> package."
   ]
  },
  {
   "cell_type": "code",
   "execution_count": null,
   "metadata": {
    "deletable": false,
    "editable": false
   },
   "outputs": [],
   "source": [
    "# Code 14.5.1\n",
    "\n",
    "# importing an additional package\n",
    "import statsmodels.formula.api as smf # predictive modeling with nice outputs\n"
   ]
  },
  {
   "cell_type": "markdown",
   "metadata": {
    "deletable": false,
    "editable": false,
    "run_control": {
     "frozen": true
    }
   },
   "source": [
    "<br>"
   ]
  },
  {
   "cell_type": "code",
   "execution_count": null,
   "metadata": {
    "deletable": false,
    "editable": false
   },
   "outputs": [],
   "source": [
    "# Code 14.5.2\n",
    "\n",
    "# Step 1: INSTANTIATE a model object\n",
    "lm_best = smf.ols(formula = \"\"\"price ~ carat\"\"\",\n",
    "                  data    = diamonds)\n",
    "\n",
    "\n",
    "# Step 2: FIT the data into the model object\n",
    "results = lm_best.fit()\n",
    "\n",
    "\n",
    "# Step 3: analyze the SUMMARY output\n",
    "print(results.summary())\n"
   ]
  },
  {
   "cell_type": "markdown",
   "metadata": {
    "deletable": false,
    "editable": false,
    "run_control": {
     "frozen": true
    }
   },
   "source": [
    "<hr style=\"height:.9px;border:none;color:#333;background-color:#333;\" /><br>\n",
    "\n",
    "The coefficient for <em>carat</em> can be interpreted as follows:\n",
    "<br><br>\n",
    "\n",
    "~~~\n",
    "For every one unit change in carat weight, we expect an increase in\n",
    "price of approximately $9276.92, all else equal.\n",
    "~~~\n",
    "\n",
    "<br>\n",
    "This expectation is based on a confidence interval, as can be observed from the <em>'0.025'</em> and <em>'0.975'</em> columns. Thus, our interpretation of carat weight's effect on price can be expanded as follows:\n",
    "<br><br>\n",
    "\n",
    "~~~\n",
    "For every one unit change in carat weight, we expect an increase in\n",
    "price between $8781.99 and $9771.86. Overall, we expect such increases\n",
    "to converge on a value of $9276.92, all else equal.\n",
    "~~~\n",
    "\n",
    "<br>"
   ]
  },
  {
   "cell_type": "markdown",
   "metadata": {
    "deletable": false,
    "editable": false,
    "run_control": {
     "frozen": true
    }
   },
   "source": [
    "<hr style=\"height:.9px;border:none;color:#333;background-color:#333;\" /><br>\n",
    "<h4>Practice - Complete the code to develop a linear model using <em>carat</em>, <em>color</em>, <em>clarity</em>, and <em>cut</em>.</h4>"
   ]
  },
  {
   "cell_type": "code",
   "execution_count": null,
   "metadata": {
    "solution2": "hidden",
    "solution2_first": true
   },
   "outputs": [],
   "source": [
    "# Code 14.5.3\n",
    "\n",
    "# Step 1: INSTANTIATE a model object\n",
    "lm_best = smf.ols(formula =  \"\"\"price ~ ____ +\n",
    "                                        ____ +\n",
    "                                        ____ +\n",
    "                                        ____\"\"\",\n",
    "                                data = diamonds)\n",
    "\n",
    "\n",
    "# Step 2: FIT the data into the model object\n",
    "results = lm_best.____()\n",
    "\n",
    "\n",
    "# Step 3: analyze the SUMMARY output\n",
    "print(____.____())\n"
   ]
  },
  {
   "cell_type": "code",
   "execution_count": null,
   "metadata": {
    "deletable": false,
    "editable": false,
    "solution2": "hidden"
   },
   "outputs": [],
   "source": [
    "# Sample Solution 14.5.3\n",
    "\n",
    "# Step 1: INSTANTIATE a model object\n",
    "lm_best = smf.ols(formula =  \"\"\"price ~ carat  +\n",
    "                                        color +\n",
    "                                        clarity  +\n",
    "                                        cut\"\"\",\n",
    "                                data = diamonds)\n",
    "\n",
    "\n",
    "# Step 2: FIT the data into the model object\n",
    "results = lm_best.fit()\n",
    "\n",
    "\n",
    "# Step 3: analyze the SUMMARY output\n",
    "print(results.summary())\n"
   ]
  },
  {
   "cell_type": "markdown",
   "metadata": {
    "deletable": false,
    "editable": false,
    "run_control": {
     "frozen": true
    }
   },
   "source": [
    "<hr style=\"height:.9px;border:none;color:#333;background-color:#333;\" />\n",
    "<hr style=\"height:.9px;border:none;color:#333;background-color:#333;\" /><br>\n",
    "<h2>Part IV: statsmodels OLS Study Sheet</h2><br>\n",
    "Below is a summary of the OLS regression output from statsmodels. Make sure you have a solid understanding of how to read and interpret all information.\n",
    "<br><br>\n",
    "<div style = \"width:image width px; font-size:80%; text-align:center;\"><img src=./__images/chapter-14-statsmodels_OLS_output_1.png width=\"800\" height=\"500\" style=\"padding-bottom:0.5em;\"> <em>Figure 14.2a: statsmodels OLS Regression Output Study Sheet - Part I</em>\n",
    "<br><br><br><hr style=\"height:.9px;border:none;color:#333;background-color:#333;\" /><br><br>\n",
    "<img src=./__images/chapter-14-statsmodels_OLS_output_2.png width=\"800\" height=\"500\" style=\"padding-bottom:0.5em;\"><em>Figure 14.2b: statsmodels OLS Regression Output Study Sheet - Part II</em>\n",
    "<br><br><br><hr style=\"height:.9px;border:none;color:#333;background-color:#333;\" /><br><br>\n",
    "<img src=./__images/chapter-14-statsmodels_OLS_output_3.png width=\"800\" height=\"500\" style=\"padding-bottom:0.5em;\"><em>Figure 14.2c: statsmodels OLS Regression Output Study Sheet - Part III</em>\n",
    "<br><br><br><hr style=\"height:.9px;border:none;color:#333;background-color:#333;\" /><br><br>\n",
    "<img src=./__images/chapter-14-statsmodels_OLS_output_4.png width=\"800\" height=\"500\" style=\"padding-bottom:0.5em;\"><em>Figure 14.2d: statsmodels OLS Regression Output Study Sheet - Part IV</em>\n",
    "</div>"
   ]
  },
  {
   "cell_type": "markdown",
   "metadata": {
    "deletable": false,
    "editable": false,
    "run_control": {
     "frozen": true
    }
   },
   "source": [
    "<br><hr style=\"height:.9px;border-width:0;color:gray;background-color:gray\"><br>\n",
    "\n",
    "~~~\n",
    "                       ________\n",
    "               o      |   __   |\n",
    "                 \\_ O |  |__|  |\n",
    "              ____/ \\ |___WW___|\n",
    "              __/   /     ||\n",
    "                          ||\n",
    "                          ||\n",
    "           _______________||________________\n",
    "\n",
    "\n",
    "   _____ _                   _____              _    _ \n",
    "  / ____| |                 |  __ \\            | |  | |\n",
    " | (___ | | __ _ _ __ ___   | |  | |_   _ _ __ | | _| |\n",
    "  \\___ \\| |/ _` | '_ ` _ \\  | |  | | | | | '_ \\| |/ / |\n",
    "  ____) | | (_| | | | | | | | |__| | |_| | | | |   <|_|\n",
    " |_____/|_|\\__,_|_| |_| |_| |_____/ \\__,_|_| |_|_|\\_(_)\n",
    "                                                       \n",
    "                                                       \n",
    "\n",
    "\n",
    "~~~\n",
    "\n",
    "<br>"
   ]
  },
  {
   "cell_type": "markdown",
   "metadata": {
    "deletable": false,
    "editable": false,
    "run_control": {
     "frozen": true
    }
   },
   "source": [
    "<br>"
   ]
  }
 ],
 "metadata": {
  "kernelspec": {
   "display_name": "Python 3",
   "language": "python",
   "name": "python3"
  },
  "language_info": {
   "codemirror_mode": {
    "name": "ipython",
    "version": 3
   },
   "file_extension": ".py",
   "mimetype": "text/x-python",
   "name": "python",
   "nbconvert_exporter": "python",
   "pygments_lexer": "ipython3",
   "version": "3.8.5"
  },
  "toc": {
   "base_numbering": 1,
   "nav_menu": {},
   "number_sections": false,
   "sideBar": true,
   "skip_h1_title": false,
   "title_cell": "Table of Contents",
   "title_sidebar": "Contents",
   "toc_cell": false,
   "toc_position": {},
   "toc_section_display": true,
   "toc_window_display": false
  },
  "varInspector": {
   "cols": {
    "lenName": 16,
    "lenType": 16,
    "lenVar": 40
   },
   "kernels_config": {
    "python": {
     "delete_cmd_postfix": "",
     "delete_cmd_prefix": "del ",
     "library": "var_list.py",
     "varRefreshCmd": "print(var_dic_list())"
    },
    "r": {
     "delete_cmd_postfix": ") ",
     "delete_cmd_prefix": "rm(",
     "library": "var_list.r",
     "varRefreshCmd": "cat(var_dic_list()) "
    }
   },
   "types_to_exclude": [
    "module",
    "function",
    "builtin_function_or_method",
    "instance",
    "_Feature"
   ],
   "window_display": false
  }
 },
 "nbformat": 4,
 "nbformat_minor": 4
}
