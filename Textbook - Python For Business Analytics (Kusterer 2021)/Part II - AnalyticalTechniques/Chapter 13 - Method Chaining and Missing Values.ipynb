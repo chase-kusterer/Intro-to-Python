{
 "cells": [
  {
   "cell_type": "markdown",
   "metadata": {
    "deletable": false,
    "editable": false,
    "run_control": {
     "frozen": true
    }
   },
   "source": [
    "<hr style=\"height:.9px;border:none;color:#333;background-color:#333;\" />\n",
    "<hr style=\"height:.9px;border:none;color:#333;background-color:#333;\" />\n",
    "<br><br><br>\n",
    "<h1>Python for Business Analytics</h1>\n",
    "<em>A Nontechnical Approach for Nontechnical People</em><br><br>\n",
    "<em><strong>Custom Edition for Hult International Business School</strong></em><br>\n",
    "\n",
    "Written by Chase Kusterer - Faculty of Analytics <br>\n",
    "Hult International Business School <br>\n",
    "<a href=\"https://github.com/chase-kusterer\">https://github.com/chase-kusterer</a>\n",
    "<br><br><br><br><br>\n",
    "<hr style=\"height:.9px;border:none;color:#333;background-color:#333;\" />\n",
    "<hr style=\"height:.9px;border:none;color:#333;background-color:#333;\" />\n",
    "<br>\n",
    "<h1>Chapter 13: Method Chaining and Missing Values</h1>"
   ]
  },
  {
   "cell_type": "markdown",
   "metadata": {
    "deletable": false,
    "editable": false,
    "run_control": {
     "frozen": true
    }
   },
   "source": [
    "Analysts and data scientists spend a considerable amount of time cleaning data. This includes aspects that were covered in <strong>Chapter 12: Analyzing DataFrame Quality</strong>, and extends into the concepts of this chapter. Here, we will expand on our analysis of DataFrame quality from the perspective of missing values. Missing values plague nearly every quantitative analysis, and a vast number of techniques exist in order to address these anomalies. This is a topic worth exploring in immense detail, primarily because:\n",
    "\n",
    "<br><div align=\"center\">\n",
    "<strong>If a value is truly missing, we have no way of knowing what its exact value should be.</strong>\n",
    "    <a class=\"tocSkip\"></a></div><br>\n",
    "\n",
    "Take, for example, dinosaurs. If you had to draw a picture of your favorite dinosaur, what colors would you use? Odds are you would choose colors such as brown and green. However, any colors you pick would be valid. Given that dinosaurs are extinct, are you absolutely sure that dinosaurs weren't pink or purple? We have no way of knowing with 100% confidence, and our job as analysts is to use available information to make our best guess.\n",
    "<br><br>\n",
    "Missing values cause another perplexing challenge:\n",
    "\n",
    "<br><div align=\"center\">\n",
    "<strong>Since we do not know their exact values, we have no way to audit the results of <a href=\"https://www.investopedia.com/terms/i/imputed-value.asp\">imputation</a> strategies.</strong>\n",
    "    <a class=\"tocSkip\"></a></div><br>\n",
    "    \n",
    "Countless techniques have been developed to address missing values, with the most common presented below:\n",
    "\n",
    "1. Drop them from the dataset.\n",
    "2. Engineering flag features.\n",
    "3. Impute using a measure of center.\n",
    "4. Develop an algorithm based on available information.\n",
    "\n",
    "<br>\n",
    "<h4>Dropping Missing Values</h4>\n",
    "Considering that we have no way of knowing what their exact values should be and are unable to audit the results of an imputation strategy, it may seem wise to simply drop missing values from the dataset. Although this seems like a safe bet, <font style=\"color:red\"><strong>this strategy should only be used as a last resort.</strong></font> The following exemplifies the rationale for this:\n",
    "\n",
    "<br><br><div style = \"width:image width px; font-size:80%; text-align:center;\"><img src=\"./__images/chapter-13-diamonds-mv-example.png\" width=\"250\" height=\"200\" style=\"padding-bottom:0.5em;\"> <em>Figure 13.1: Missing value example.</em></div>\n",
    "\n",
    "<br>\n",
    "<em>Figure 13.1</em> shows a subset from the <em>diamonds</em> dataset where the values for <em>carat</em> are missing (represented with <em>NaN</em>, which stands for not a number). If missing values were dropped from the dataset, all other information for these observations would also be removed. In other words, we would lose the respective values for <em>price</em>, <em>color</em>, <em>clarity</em>, and <em>cut</em>. Such a practice can cause severe distortions, preventing the data from speaking for itself.\n",
    "<br><br>\n",
    "<br>\n",
    "<h4>Engineering Flag Features</h4>\n",
    "<strong>Feature engineering</strong> is the process of developing new features based on discoveries found in the original data. One, often overlooked area of feature engineering is to develop <strong>missing value flags</strong>. Missing value flags are a feature made of ones and zeros, with one representing an original missing value. In other words, a missing value flag is a new column of data based on whether or not the data in an existing column is missing (1 == True, 0 == False). These can be very useful to preserve the integrity of the original dataset and can even be used in predictive modeling. Also, it is important to keep in mind that:\n",
    "\n",
    "<br><div align=\"center\">\n",
    "<strong>The reason behind why a value is missing may be insightful.</strong>\n",
    "    <a class=\"tocSkip\"></a></div><br>\n",
    "\n",
    "A good example comes from an analysis I conducted on a baseball dataset, where several values for the <em>Hit By Pitch</em> column were missing. As its name implies, a <strong>hit by pitch (HBP)</strong> occurs when a batter gets hit by a pitch, resulting in the batter getting a free base. I decided to impute these missing values with the mean or median and move forward with my analysis. Later that evening, I started reading the history of baseball and noticed a pattern to the missing values: In the early days of baseball, a hit by pitch was considered a ball, not a free base. For this reason, HBP was not recorded, leading to missing values. In later years, the HBP rule was implemented, implying that the missing values for this feature represent the transition to a new era of baseball. For this reason, I decided to flag these missing values as they represented a significant event.\n",
    "<br><br>\n",
    "I also discovered that before the HBP rule, baseball was played in a completely different way. For instance, the early days of baseball were much less competitive. Batters would shout out the kind of pitch they wanted and the pitcher would comply. The alleged rationale for this was that fans preferred higher scoring games. Domain knowledge is key, and techniques such as flagging missing values can help make use of domain knowledge.\n",
    "<br><br>\n",
    "<h4>Imputing with a Measure of Center</h4>\n",
    "Simply put, when an observation is unknown and there is no other available information, imputing with a measure of center (mean, median, etc.) is our most pragmatic approach, assuming a normal distribution. In such cases, statistics is our best friend. Given enough samples, we will converge on the true value of the population mean. This implies that imputing with a measure of center will result in a minimization of error between the imputation strategy and the true (unknown) value of the missing data. In other words, we will be less wrong if we impute with a measure of center than if we impute with any other value.\n",
    "<br><br>\n",
    "<h4>Developing an Algorithm based on Available Information</h4>\n",
    "This strategy becomes more of a focal point after developing a solid understanding of predictive modeling and machine learning. For now, note that given additional information (highly-correlated features, categorical data, etc.), algorithms can be developed to make (potentially) better imputations for missing data. For example, if we were working with country-level data from <a href=\"https://www.worldbank.org/en/home\">The World Bank</a> and encountered missing values, we may achieve better results by categorizing countries based on their level of development before imputation.\n",
    "<br><br>\n",
    "Additional information on algorithms for missing value imputation can be found in <a href=\"https://scikit-learn.org/stable/modules/classes.html#module-sklearn.impute\">Python's official scikit-learn documentation</a>."
   ]
  },
  {
   "cell_type": "markdown",
   "metadata": {
    "deletable": false,
    "editable": false,
    "run_control": {
     "frozen": true
    }
   },
   "source": [
    "<hr style=\"height:.9px;border:none;color:#333;background-color:#333;\" /><br>\n",
    "\n",
    "<h2>Part I: Getting Started with Method Chaining</h2><br>\n",
    "As mentioned in <strong>Chapter 02: Printing, Dynamic Strings, and Escape Sequences</strong>, <strong>method chaining</strong> is the process of linking methods together using dots. In Jupyter Notebook, all methods available for a given object can be accessed by pressing <em>tab</em> on your keyboard.\n",
    "<br><br>\n",
    "Method chaining is a very useful technique for missing value detection. We can also benefit from visualizing the distributions of features affected by missing values with the <em>matplotlib</em> and <em>seaborn</em> packages. Let's begin by importing these, as well as the <em>diamonds</em> dataset.\n",
    "<br>\n",
    "<h4>Practice - Importing packages and data.</h4>\n",
    "Import <strong>pandas</strong> as <strong>pd</strong>. Then, complete the code to adjust data types and import <strong>diamonds_missing_values.xlsx</strong> as <em>diamonds</em>."
   ]
  },
  {
   "cell_type": "code",
   "execution_count": null,
   "metadata": {
    "solution2": "hidden",
    "solution2_first": true
   },
   "outputs": [],
   "source": [
    "# Code 13.1.1\n",
    "\n",
    "# importing packages\n",
    "import ____ as pd # data science essentials\n",
    "import matplotlib.pyplot as plt # NEW: data visualization essentials\n",
    "import seaborn as sns # NEW: enhanced data visualization\n",
    "\n",
    "\n",
    "# converting data types with a dictionary\n",
    "data_types = {\"Obs\"     : ____,\n",
    "              \"channel\" : ____,\n",
    "              \"store\"   : ____}\n",
    "\n",
    "\n",
    "# specifying a file (must specify path to datasets folder)\n",
    "file = ____\n",
    "\n",
    "\n",
    "# reading the file into Python through pandas\n",
    "diamonds = ____\n",
    "\n",
    "\n",
    "# printing the first 5 rows of the dataset\n",
    "print(diamonds.head(n = 5))\n"
   ]
  },
  {
   "cell_type": "code",
   "execution_count": null,
   "metadata": {
    "deletable": false,
    "editable": false,
    "solution2": "hidden"
   },
   "outputs": [],
   "source": [
    "# Sample Solution 13.1.1\n",
    "\n",
    "# importing packages\n",
    "import pandas as pd # data science essentials\n",
    "import matplotlib.pyplot as plt # NEW: data visualization essentials\n",
    "import seaborn as sns # NEW: enhanced data visualization\n",
    "\n",
    "\n",
    "# converting data types with a dictionary\n",
    "data_types = {\"Obs\"     : str,\n",
    "              \"channel\" : str,\n",
    "              \"store\"   : str}\n",
    "\n",
    "\n",
    "# specifying a file (must specify path to datasets folder)\n",
    "file = './__datasets/diamonds_missing_values.xlsx'\n",
    "\n",
    "\n",
    "# reading the file into Python through pandas\n",
    "diamonds = pd.read_excel(io         = file,\n",
    "                         sheet_name = 'missing_diamonds',\n",
    "                         header     = 0,\n",
    "                         dtype      = data_types)\n",
    "\n",
    "\n",
    "# checking the first 5 rows of the dataset\n",
    "diamonds.head(n = 5)\n"
   ]
  },
  {
   "cell_type": "markdown",
   "metadata": {
    "deletable": false,
    "editable": false,
    "run_control": {
     "frozen": true
    }
   },
   "source": [
    "<hr style=\"height:.9px;border:none;color:#333;background-color:#333;\" />\n",
    "<br><br>\n",
    "The following is an example of a method chain that returns <em>True</em> or <em>False</em>, depending on whether or not a feature contains missing values. It can be interpreted as follows:\n",
    "<br>\n",
    "\n",
    "* Take the diamonds dataset,\n",
    "* <strong>and then</strong> check to see if a value <a href=\"https://pandas.pydata.org/pandas-docs/stable/reference/api/pandas.DataFrame.isnull.html\">is_null(&nbsp;)</a>,\n",
    "* <strong>and then</strong>, aggregate to display whether or not <a href=\"https://pandas.pydata.org/pandas-docs/stable/reference/api/pandas.DataFrame.any.html\">any(&nbsp;)</a> null values exist per feature."
   ]
  },
  {
   "cell_type": "code",
   "execution_count": null,
   "metadata": {
    "deletable": false,
    "editable": false
   },
   "outputs": [],
   "source": [
    "# Code 13.1.2\n",
    "\n",
    "# method chaining!\n",
    "print(diamonds.isnull().any(axis = 0))\n"
   ]
  },
  {
   "cell_type": "markdown",
   "metadata": {
    "deletable": false,
    "editable": false,
    "run_control": {
     "frozen": true
    }
   },
   "source": [
    "<hr style=\"height:.9px;border:none;color:#333;background-color:#333;\" /><br>\n",
    "\n",
    "At this point in your Python journey, method chaining may seem confusing. You are very likely to encounter method chains in sample codes that you find online, so it is very important to understand what Python is trying to do when encountering syntax such as in the code above. When in doubt, a good strategy is to break the chain down step by step.\n",
    "<br><br>\n",
    "<strong>Step 1:</strong> Printing the dataset."
   ]
  },
  {
   "cell_type": "code",
   "execution_count": null,
   "metadata": {
    "cell_style": "center",
    "deletable": false,
    "editable": false
   },
   "outputs": [],
   "source": [
    "# Code 13.1.3 (a)\n",
    "\n",
    "# Step 1\n",
    "print(diamonds)\n"
   ]
  },
  {
   "cell_type": "markdown",
   "metadata": {
    "deletable": false,
    "editable": false,
    "run_control": {
     "frozen": true
    }
   },
   "source": [
    "<hr style=\"height:.9px;border:none;color:#333;background-color:#333;\" /><br>\n",
    "\n",
    "<strong>Step 2:</strong> Taking the diamond dataset, <strong>and then</strong> checking for null values with <em>isnull(&nbsp;)</em>."
   ]
  },
  {
   "cell_type": "code",
   "execution_count": null,
   "metadata": {
    "deletable": false,
    "editable": false
   },
   "outputs": [],
   "source": [
    "# Code 13.1.3 (b)\n",
    "\n",
    "#Step 2\n",
    "print(diamonds.isnull())\n"
   ]
  },
  {
   "cell_type": "markdown",
   "metadata": {
    "deletable": false,
    "editable": false,
    "run_control": {
     "frozen": true
    }
   },
   "source": [
    "<hr style=\"height:.9px;border:none;color:#333;background-color:#333;\" /><br>\n",
    "\n",
    "<strong>Step 3:</strong> Taking the results of <em>isnull(&nbsp;)</em>, <strong>and then</strong> aggregating column-wise with <em>any(&nbsp;)</em> to see which features are affected by missing values."
   ]
  },
  {
   "cell_type": "code",
   "execution_count": null,
   "metadata": {
    "deletable": false,
    "editable": false
   },
   "outputs": [],
   "source": [
    "# Code 13.1.3 (c)\n",
    "\n",
    "# Step 3\n",
    "print(diamonds.isnull().any(axis = 0))\n"
   ]
  },
  {
   "cell_type": "markdown",
   "metadata": {
    "deletable": false,
    "editable": false,
    "run_control": {
     "frozen": true
    }
   },
   "source": [
    "<hr style=\"height:.9px;border:none;color:#333;background-color:#333;\" /><br>\n",
    "\n",
    "The thinking behind developing a method chain also starts in a step-by-step fashion. Experience is key, and getting started can be a challenge. It is important to keep in mind what you are trying to achieve and conduct research on methods as necessary. Try the following exercise for practice.\n",
    "<br><br>\n",
    "<h4>Practice - a) Take the diamonds dataset.</h4>\n",
    "Make sure to include a <em>print(&nbsp;)</em> wrapper."
   ]
  },
  {
   "cell_type": "code",
   "execution_count": null,
   "metadata": {
    "solution2": "hidden",
    "solution2_first": true
   },
   "outputs": [],
   "source": [
    "# Code 13.1.4 (a)\n",
    "\n",
    "# taking the diamonds dataset\n",
    "____\n"
   ]
  },
  {
   "cell_type": "code",
   "execution_count": null,
   "metadata": {
    "deletable": false,
    "editable": false,
    "solution2": "hidden"
   },
   "outputs": [],
   "source": [
    "# Sample Solution 13.1.4 (a)\n",
    "\n",
    "# method chaining!\n",
    "print(diamonds)\n"
   ]
  },
  {
   "cell_type": "markdown",
   "metadata": {
    "deletable": false,
    "editable": false,
    "run_control": {
     "frozen": true
    }
   },
   "source": [
    "<br>\n",
    "<h4>Practice - b) Extend the method chain to output <em>True</em> or <em>False</em> based on whether or not a data point is missing.</h4>\n",
    "Make sure to include a <em>print(&nbsp;)</em> wrapper."
   ]
  },
  {
   "cell_type": "code",
   "execution_count": null,
   "metadata": {
    "solution2": "hidden",
    "solution2_first": true
   },
   "outputs": [],
   "source": [
    "# Code 13.1.4 (b)\n",
    "\n",
    "# checking each data point for missing values\n",
    "____\n"
   ]
  },
  {
   "cell_type": "code",
   "execution_count": null,
   "metadata": {
    "deletable": false,
    "editable": false,
    "solution2": "hidden"
   },
   "outputs": [],
   "source": [
    "# Sample Solution 13.1.4 (b)\n",
    "\n",
    "# checking each data point for missing values\n",
    "print(diamonds.isnull())\n"
   ]
  },
  {
   "cell_type": "markdown",
   "metadata": {
    "deletable": false,
    "editable": false,
    "run_control": {
     "frozen": true
    }
   },
   "source": [
    "<br>\n",
    "<h4>Practice - c) Extend the method chain to <a href=\"https://pandas.pydata.org/pandas-docs/stable/reference/api/pandas.DataFrame.sum.html\">sum(&nbsp;)</a> missing values per feature.</h4>\n",
    "Make sure to include a <em>print(&nbsp;)</em> wrapper."
   ]
  },
  {
   "cell_type": "code",
   "execution_count": null,
   "metadata": {
    "solution2": "hidden",
    "solution2_first": true
   },
   "outputs": [],
   "source": [
    "# Code 13.1.4 (c)\n",
    "\n",
    "# summing missing values per feature\n",
    "____\n"
   ]
  },
  {
   "cell_type": "code",
   "execution_count": null,
   "metadata": {
    "deletable": false,
    "editable": false,
    "solution2": "hidden"
   },
   "outputs": [],
   "source": [
    "# Sample Solution 13.1.4 (c)\n",
    "\n",
    "# summing missing values per feature\n",
    "print(diamonds.isnull().sum(axis = 0))\n"
   ]
  },
  {
   "cell_type": "markdown",
   "metadata": {
    "deletable": false,
    "editable": false,
    "run_control": {
     "frozen": true
    }
   },
   "source": [
    "<hr style=\"height:.9px;border:none;color:#333;background-color:#333;\" />\n",
    "<br>\n",
    "<h3>The Rare Event Rule</h3><br>\n",
    "The rare event rule is a statistical heuristic that can be summed up as follows:\n",
    "<br><br><br>\n",
    "<div align=\"center\"><strong>\n",
    "    If a phenomenon occurs less than 5% of the time, it is considered rare and is unlikely to occur.\n",
    "    </strong><a class=\"tocSkip\"></a></div><br><br>\n",
    "In terms of missing values, this rule is often interpreted as:\n",
    "<br><br><br>\n",
    "<div align=\"center\"><strong>\n",
    "    If missing values affect less than 5% of observations, then they are not a problem worthy of heavy focus in our analysis.\n",
    "    </strong><a class=\"tocSkip\"></a></div><br><br>\n",
    "In other words, if missing values are rare, then we can likely remove them or use a simple method to fill in their values without significantly affecting the overall distribution of each feature. Before moving forward, <strong><font style=\"color:red\">note that this is a dangerous heuristic that we will not be following.</font></strong> This is primarily driven by two factors:\n",
    "\n",
    "1. The heuristic used above can be misleading in terms of the actual number of observations being affected by missing values.\n",
    "2. Tremendous value can be generated from missing values, not only in terms of domain knowledge, but also in terms of prediction.\n",
    "\n",
    "<br>\n",
    "To begin exploring this, let's flag each data point where a missing value is present."
   ]
  },
  {
   "cell_type": "markdown",
   "metadata": {
    "deletable": false,
    "editable": false,
    "run_control": {
     "frozen": true
    }
   },
   "source": [
    "<hr style=\"height:.9px;border:none;color:#333;background-color:#333;\" />\n",
    "<br>\n",
    "<h2>Part II: Flagging Missing Values</h2>\n",
    "\n",
    "Our objective in flagging missing values is to create a column of ones and zeros, where one represents that a data point was originally missing and zero the opposite. We can utilize method chaining to accomplish this task.\n",
    "\n",
    "<h4>Practice - Develop a method chain that:</h4>\n",
    "\n",
    "* Takes the <em>carat</em> column\n",
    "* Checks each data point for missing values (True or False)\n",
    "* Converts the True/False data to integers.\n",
    "\n",
    "<br><br>\n",
    "<strong><u>Tips</u></strong>\n",
    "\n",
    "1. Remember that you can build a method chain step by step and check your results along the way.\n",
    "2. Don't forget that you can access all available methods for an object by pressing the <em>Tab</em> key right after a dot."
   ]
  },
  {
   "cell_type": "code",
   "execution_count": null,
   "metadata": {
    "solution2": "hidden",
    "solution2_first": true
   },
   "outputs": [],
   "source": [
    "# Code 13.2.1\n",
    "\n",
    "# instantiating a missing value flag for carat\n",
    "diamonds['m_carat'] = ____\n"
   ]
  },
  {
   "cell_type": "code",
   "execution_count": null,
   "metadata": {
    "deletable": false,
    "editable": false,
    "solution2": "hidden"
   },
   "outputs": [],
   "source": [
    "# Sample Solution 13.2.1\n",
    "\n",
    "# instantiating a missing value flag for carat\n",
    "diamonds['m_carat'] = diamonds.loc[ : , 'carat'].isnull().astype(int)\n"
   ]
  },
  {
   "cell_type": "markdown",
   "metadata": {
    "deletable": false,
    "editable": false,
    "run_control": {
     "frozen": true
    }
   },
   "source": [
    "<br>"
   ]
  },
  {
   "cell_type": "code",
   "execution_count": null,
   "metadata": {
    "deletable": false,
    "editable": false
   },
   "outputs": [],
   "source": [
    "# Code 13.2.2\n",
    "\n",
    "print(f\"\"\"\n",
    "Original Missing Value Counts:\n",
    "------------------------------\n",
    "{diamonds.loc[ : , 'carat'].isnull().sum(axis = 0)}\n",
    "\n",
    "\n",
    "Sums of Missing Value Flags\n",
    "--------------------------\n",
    "{diamonds.loc[ : , 'm_carat' ].sum(axis = 0)}\n",
    "\n",
    "\"\"\")\n"
   ]
  },
  {
   "cell_type": "markdown",
   "metadata": {
    "deletable": false,
    "editable": false,
    "run_control": {
     "frozen": true
    }
   },
   "source": [
    "<hr style=\"height:.9px;border:none;color:#333;background-color:#333;\" />\n",
    "<br>\n",
    "<h3>Creating New Columns in a DataFrame</h3><br>\n",
    "It appears that all missing values are accounted for by the flag features. Note that the code above is creating new columns directly in the dataset to store the flag features. In general, the syntax:\n",
    "<br><br>\n",
    "\n",
    "~~~\n",
    "diamonds['m_carat'] = diamonds['carat'].isnull().astype(int)\n",
    "~~~\n",
    "\n",
    "<br>\n",
    "Can be generalized as follows:\n",
    "<br><br>\n",
    "\n",
    "~~~\n",
    "DATAFRAME['NEW_COLUMN_NAME'] = DATA TO BE POPULATED INTO THE NEW COLUMN\n",
    "~~~\n",
    "\n",
    "<br>\n",
    "The new columns will be attached to the end of the DataFrame, allowing us to use a combination of <a href=\"https://pandas.pydata.org/pandas-docs/stable/reference/api/pandas.DataFrame.html\">columns</a> and <strong>.iloc[ ]</strong> to access their data.\n",
    "\n",
    "<br><br>\n",
    "<hr style=\"height:.9px;border:none;color:#333;background-color:#333;\" />"
   ]
  },
  {
   "cell_type": "code",
   "execution_count": null,
   "metadata": {
    "deletable": false,
    "editable": false
   },
   "outputs": [],
   "source": [
    "# Code 13.2.3\n",
    "\n",
    "diamonds.columns\n"
   ]
  },
  {
   "cell_type": "markdown",
   "metadata": {
    "deletable": false,
    "editable": false,
    "run_control": {
     "frozen": true
    }
   },
   "source": [
    "<hr style=\"height:.9px;border:none;color:#333;background-color:#333;\" />\n",
    "<br>\n",
    "<h3>Special Gift: Automatically Flagging Missing Values</h3><br>\n",
    "When working with larger datasets, it may be infeasible to hard code each flag feature. Thus, the following loop template has been developed in order to improve your efficiency. This loop took several hours to code when it was originally developed, and since then, I have been able to apply it to countless analysis projects. Now, it is my gift to you. Welcome to open source!<br><br>\n",
    "\n",
    "~~~\n",
    "# developing a loop to automatically flag missing values\n",
    "for col in DATAFRAME:\n",
    "    \n",
    "    if DATAFRAME[col].isnull().astype(int).sum() > 0:\n",
    "        DATAFRAME['m_'+col] = DATAFRAME[col].isnull().astype(int)\n",
    "~~~\n",
    "\n",
    "<br>\n",
    "<hr style=\"height:.9px;border:none;color:#333;background-color:#333;\" />\n",
    "<br>\n",
    "<h4>Practice - Complete the code so that the loop flags missing values for all features.</h4>"
   ]
  },
  {
   "cell_type": "code",
   "execution_count": null,
   "metadata": {
    "solution2": "hidden",
    "solution2_first": true
   },
   "outputs": [],
   "source": [
    "# Code 13.2.4\n",
    "\n",
    "# soft coding :)\n",
    "DATAFRAME = ____\n",
    "\n",
    "\n",
    "# developing a loop to automatically flag missing values\n",
    "for col in diamonds:\n",
    "\n",
    "    if DATAFRAME[col].isnull().astype(int).sum() > 0:\n",
    "        DATAFRAME['m_'+col] = DATAFRAME[col].isnull().astype(int)\n",
    "\n",
    "\n",
    "#\n",
    "print(diamonds.columns)\n"
   ]
  },
  {
   "cell_type": "code",
   "execution_count": null,
   "metadata": {
    "deletable": false,
    "editable": false,
    "solution2": "hidden"
   },
   "outputs": [],
   "source": [
    "# Sample Solution 13.2.4\n",
    "\n",
    "# soft coding :)\n",
    "DATAFRAME = diamonds\n",
    "\n",
    "\n",
    "# developing a loop to automatically flag missing values\n",
    "for col in diamonds:\n",
    "\n",
    "    if DATAFRAME[col].isnull().astype(int).sum() > 0:\n",
    "        DATAFRAME['m_'+col] = DATAFRAME[col].isnull().astype(int)\n",
    "\n",
    "\n",
    "# printing results\n",
    "print(diamonds.columns)\n"
   ]
  },
  {
   "cell_type": "markdown",
   "metadata": {
    "deletable": false,
    "editable": false,
    "run_control": {
     "frozen": true
    }
   },
   "source": [
    "<br>"
   ]
  },
  {
   "cell_type": "code",
   "execution_count": null,
   "metadata": {
    "deletable": false,
    "editable": false
   },
   "outputs": [],
   "source": [
    "# Code 13.2.5\n",
    "\n",
    "print(f\"\"\"\n",
    "Original Missing Value Counts:\n",
    "------------------------------\n",
    "{diamonds.isnull().sum(axis = 0)}\n",
    "\n",
    "\n",
    "Sums of Missing Value Flags\n",
    "--------------------------\n",
    "{diamonds.iloc[ : , -4: ].sum(axis = 0)}\n",
    "\n",
    "\"\"\")\n"
   ]
  },
  {
   "cell_type": "markdown",
   "metadata": {
    "deletable": false,
    "editable": false,
    "run_control": {
     "frozen": true
    }
   },
   "source": [
    "<hr style=\"height:.9px;border:none;color:#333;background-color:#333;\" />\n",
    "<br>\n",
    "<h4>Practice - Create a new column that sums the values for each of the missing value flags.</h4>\n",
    "Our goal here is to better understand how many total observations are affected by missing values."
   ]
  },
  {
   "cell_type": "code",
   "execution_count": null,
   "metadata": {
    "solution2": "hidden",
    "solution2_first": true
   },
   "outputs": [],
   "source": [
    "# Code 13.2.6\n",
    "\n",
    "# MAKE YOUR COMMENT HERE\n",
    "diamonds['mv_sum'] = ____\n",
    "\n",
    "\n",
    "# checking results\n",
    "print(f\"\"\"\n",
    "\n",
    "Number of Missing Values per Observation (Pct)\n",
    "----------------------------------------------\n",
    "{(diamonds['mv_sum'].value_counts(normalize = True,\n",
    "                                  sort      = True,\n",
    "                                  ascending = True)*100).round(2)}\n",
    "\"\"\")\n"
   ]
  },
  {
   "cell_type": "code",
   "execution_count": null,
   "metadata": {
    "deletable": false,
    "editable": false,
    "solution2": "hidden"
   },
   "outputs": [],
   "source": [
    "# Sample Solution 13.2.6\n",
    "\n",
    "# creating a column to sum missing value flags\n",
    "diamonds['mv_sum'] = diamonds['m_carat'] + \\\n",
    "                     diamonds['m_color'] + \\\n",
    "                     diamonds['m_clarity'] + \\\n",
    "                     diamonds['m_cut']\n",
    "\n",
    "\n",
    "# checking results\n",
    "print(f\"\"\"\n",
    "\n",
    "Number of Missing Values per Observation (Pct)\n",
    "----------------------------------------------\n",
    "{(diamonds['mv_sum'].value_counts(normalize = True,\n",
    "                                sort = True,\n",
    "                                ascending = True)*100).round(2)}\n",
    "\"\"\")\n"
   ]
  },
  {
   "cell_type": "markdown",
   "metadata": {
    "deletable": false,
    "editable": false,
    "run_control": {
     "frozen": true
    }
   },
   "source": [
    "<hr style=\"height:.9px;border:none;color:#333;background-color:#333;\" /><br>\n",
    "\n",
    "<h2>Part III: Imputing Missing Values</h2>\n",
    "\n",
    "Let's attempt three basic missing value strategies:\n",
    "1. Imputing with the mean\n",
    "2. Imputing with the median\n",
    "3. Dropping missing values from the dataset\n",
    "\n",
    "<br>\n",
    "Generally, it is a best practice to develop a distinct missing value strategy for each feature containing such anomalies. Primarily, this is done to minimize the amount of undue variance created through imputation. <strong><font style=\"color:red\">Our goal is to <a href=\"https://www.lexico.com/en/definition/impute\">impute</a> missing values with the approach that distorts the natural distribution of the original data the least.</font></strong> Before performing such a task, however, let's visually analyze each distribution to help determine which strategy will fit the original data the best. In order to do so, we should first drop missing values from the dataset so that they do not cause undue complications when generating plots.\n",
    "<br><br>\n",
    "<strong>Note:</strong> There are countless techniques for imputing missing values, and this is a topic that is worth researching in great detail.\n",
    "<br><br>\n",
    "<strong>Note:</strong> There is a technique you may encounter called jittering. Although you may find resources claiming that this is a valid technique for imputing missing values, this could not be further from the truth. Jittering was designed for a specific problem in data visualization. It will add undue variance to your data if used in imputation.\n",
    "<br><br>\n",
    "<strong>Note:</strong> In most cases, data visualization methods in Python are robust in their handling of missing values. However, by not explicitly stating what to do when encountering such anomalies, we are asking Python to make assumptions behind the scenes, which may not be in the best interest of what we are trying to accomplish."
   ]
  },
  {
   "cell_type": "code",
   "execution_count": null,
   "metadata": {
    "deletable": false,
    "editable": false
   },
   "outputs": [],
   "source": [
    "# Code 13.3.1\n",
    "\n",
    "# the following code makes the new DataFrame independent\n",
    "df_dropped = pd.DataFrame.copy(diamonds)\n",
    "\n",
    "\n",
    "# using dropna() for df_dropped\n",
    "df_dropped = df_dropped.dropna().round(2)\n",
    "\n",
    "\n",
    "# checking to see if all missing values have been dropped\n",
    "print(df_dropped.isnull().sum())\n"
   ]
  },
  {
   "cell_type": "markdown",
   "metadata": {
    "deletable": false,
    "editable": false,
    "run_control": {
     "frozen": true
    }
   },
   "source": [
    "<hr style=\"height:.9px;border:none;color:#333;background-color:#333;\" /><br>\n",
    "\n",
    "<h3>Visualizing Data in Python</h3><br>\n",
    "Most visualization in Python relies on the <em>matplotlib.pyplot</em> package. We will be utilizing this as well as the <em>seaborn</em> package (&nbsp;which was built on top of <em>matplotlib.pyplot</em>&nbsp;). For our purposes, the role of <em>seaborn</em> is to produce more advanced and aesthetically-pleasing visuals. If you are a highly analytical person, focusing on visualization aesthetics may seem bizarre. After all, <font style=\"color:red\"><strong>just like with humans, beauty is on the inside.</strong></font> Your findings from the data are what matters. If your findings are not very impactful, improving aesthetical elements will do no good in terms of addressing the problem you are trying to solve. This would be the equivalent to putting <a href=\"https://idioms.thefreedictionary.com/lipstick+on+a+pig\">lipstick on a pig</a>. Keep in mind, however, that in a business setting, it is still somewhat common that a bad idea that looks fancy will beat a great idea that looks ugly. \n",
    "<br><br>\n",
    "The following code will generate a histogram for <em>carat</em> after dropping missing values. Our goal in this step is to analyze the original distribution of this feature in order to develop an imputation strategy. Also notice that the visual contains a title and axis labels. These is very important and should <strong>always</strong> be included in every visual you create."
   ]
  },
  {
   "cell_type": "code",
   "execution_count": null,
   "metadata": {
    "deletable": false,
    "editable": false
   },
   "outputs": [],
   "source": [
    "# Code 13.3.2\n",
    "\n",
    "# histogram for carat\n",
    "sns.histplot(data  = df_dropped,\n",
    "             x     ='carat',\n",
    "             bins  = 'fd',\n",
    "             kde   = False,\n",
    "             color = 'black')\n",
    "\n",
    "\n",
    "# this adds a title\n",
    "plt.title(label = \"Distribution of Carat Weight\")\n",
    "\n",
    "\n",
    "# this adds an x-label\n",
    "plt.xlabel(xlabel = 'Carat Weight')\n",
    "\n",
    "\n",
    "# this add a y-label\n",
    "plt.ylabel(ylabel = 'Frequency')\n",
    "\n",
    "\n",
    "# these compile and display the plot so that it is formatted as expected\n",
    "plt.tight_layout()\n",
    "plt.show()\n"
   ]
  },
  {
   "cell_type": "markdown",
   "metadata": {
    "deletable": false,
    "editable": false,
    "run_control": {
     "frozen": true
    }
   },
   "source": [
    "<hr style=\"height:.9px;border:none;color:#333;background-color:#333;\" />\n",
    "<br>\n",
    "<h3>The Optimal Number of Bins - The Freedman-Diaconis Rule</h3><br>\n",
    "Freedman and Diaconis wrote <a href=\"http://math.sjtu.edu.cn/faculty/chengwang/files/2015fall/1.pdf\">a statistical heuristic</a> to help determine the optimal number of bins in a histogram. Technically speaking, this rule tries to minimize the difference between a feature's theoretical probability distribution and the one observed from the data (i.e., the empirical probability distribution). In other words, this method tries to create an optimal number of bins to fit with the science of statistics as well as the distribution of the phenomenon represented by the data. A lot can occur when this sort of optimization is applied, and sometimes this rule does not work out as well as expected. In most cases, however, it is a good starting point to develop a reasonable visualization for exploratory analysis. If we were to program this rule ourselves, it would look similar to the following:\n",
    "<br><br>\n",
    "\n",
    "~~~\n",
    "## The Freedman-Diaconis Rule ##\n",
    "\n",
    "# instantiating the maximum inter-quartile range\n",
    "iqr_max = pd.np.percentile(diamonds['price'], [75])\n",
    "\n",
    "# instantiating the minimum inter-quartile range\n",
    "iqr_min = pd.np.percentile(diamonds['price'], [25])\n",
    "\n",
    "# instantiating the difference between the max and min\n",
    "iqr_price = float(iqr_max - iqr_min)\n",
    "\n",
    "# doing a fancy calculation\n",
    "h = 2 * iqr_price * (len(diamonds['price']) ** -(1/3))\n",
    "\n",
    "# ranging price\n",
    "price_range = max(diamonds['price']) - min(diamonds['price'])\n",
    "\n",
    "# printing the optimal number of bins\n",
    "print(price_range / h)\n",
    "~~~\n",
    "\n",
    "<br>\n",
    "Luckily for us, someone has already programmed this rule and shared it with the Python community. Thanks to this programmer, we can access the optimal number of bins based on the Freedman-Diaconis Rule with very simple syntax at absolutely no monetary cost. Before moving forward, let's explore what happens when we change the number of bins.\n",
    "\n",
    "<br><hr style=\"height:.9px;border:none;color:#333;background-color:#333;\" />"
   ]
  },
  {
   "cell_type": "code",
   "execution_count": null,
   "metadata": {
    "deletable": false,
    "editable": false
   },
   "outputs": [],
   "source": [
    "# Code 13.3.3\n",
    "\n",
    "#########################\n",
    "## Setting Figure Size ##\n",
    "#########################\n",
    "\n",
    "# NEW! Setting figure size\n",
    "fig, ax = plt.subplots(figsize = [10, 15])\n",
    "\n",
    "\n",
    "###########################\n",
    "## Plotting First Visual ##\n",
    "###########################\n",
    "\n",
    "# NEW! Plotting multiple visuals in the same plot area\n",
    "plt.subplot(3, 1, 1) # 3 rows, 1 column, space 1\n",
    "\n",
    "\n",
    "# fd bins\n",
    "# histogram for carat\n",
    "sns.histplot(data  = df_dropped,\n",
    "             x     ='carat',\n",
    "             bins  = 'fd',\n",
    "             kde   = False,\n",
    "             color = 'black')\n",
    "\n",
    "\n",
    "# titles and axis labels\n",
    "plt.title(label = \"Bins: Freedman-Diaconis\")\n",
    "plt.xlabel(xlabel = 'Carat Weight')\n",
    "plt.ylabel(ylabel = 'Frequency')\n",
    "\n",
    "\n",
    "############################\n",
    "## Plotting Second Visual ##\n",
    "############################\n",
    "\n",
    "# plot area 2\n",
    "plt.subplot(3, 1, 2) # 3 rows, 1 column, space 2\n",
    "\n",
    "\n",
    "# 15 bins\n",
    "# histogram for carat\n",
    "sns.histplot(data  = df_dropped,\n",
    "             x     ='carat',\n",
    "             bins  = 15,\n",
    "             kde   = False,\n",
    "             color = 'black')\n",
    "\n",
    "\n",
    "# # titles and axis labels\n",
    "plt.title(label = \"Bins: 15\")\n",
    "plt.xlabel(xlabel = 'Carat Weight')\n",
    "plt.ylabel(ylabel = 'Frequency')\n",
    "\n",
    "\n",
    "###########################\n",
    "## Plotting Third Visual ##\n",
    "###########################\n",
    "\n",
    "# plot area 3\n",
    "plt.subplot(3, 1, 3) # 3 rows, 1 column, space 3\n",
    "\n",
    "\n",
    "# 150 bins\n",
    "# histogram for carat\n",
    "sns.histplot(data  = df_dropped,\n",
    "             x     ='carat',\n",
    "             bins  = 150,\n",
    "             kde   = False,\n",
    "             color = 'black')\n",
    "\n",
    "\n",
    "# titles and axis labels\n",
    "plt.title(label = \"Bins: 150\")\n",
    "plt.xlabel(xlabel = 'Carat Weight')\n",
    "plt.ylabel(ylabel = 'Frequency')\n",
    "\n",
    "\n",
    "#########################################################\n",
    "## plt.layout() and plt.show() always go at the bottom ##\n",
    "#########################################################\n",
    "\n",
    "# these compile and display the plot so that it is formatted as expected\n",
    "plt.tight_layout()\n",
    "plt.show()\n"
   ]
  },
  {
   "cell_type": "markdown",
   "metadata": {
    "deletable": false,
    "editable": false,
    "run_control": {
     "frozen": true
    }
   },
   "source": [
    "<hr style=\"height:.9px;border:none;color:#333;background-color:#333;\" />\n",
    "<br>\n",
    "In short, start with the Freedman-Diaconis rule to determine the optimal number of bins. If you see strange gaps in your visualization, adust the number of bins slightly until the gaps disappear. Remember, our goal is to get a fair representation as to the distrubution of a given feature.\n",
    "<br><br>\n",
    "Note that if we were writing an analysis report, each visualization produced would need at least one paragraph explaining why it is worth presenting and the key things to look for when analyzing it. <strong><font style=\"color:red\">Never assume another analyst will interpret a visualization in the same way that you did.</font></strong> If a visualization is not worth at least a paragraph of explanation, it should be removed. Note that this is especially important when visualizing multiple graphs in the same plot area, as in the code above.\n",
    "<br><br>\n",
    "<h3>Determining the \"Best\" Imputation Strategy</h3><br>\n",
    "Let's keep things simple and focus on a very simple imputation decision: choosing either the mean or the median as our fill in value. To better portray each of these two choices, the code below includes vertical lines at the mean and median for carat weight."
   ]
  },
  {
   "cell_type": "code",
   "execution_count": null,
   "metadata": {
    "deletable": false,
    "editable": false
   },
   "outputs": [],
   "source": [
    "# Code 13.3.4\n",
    "\n",
    "# setting figure size\n",
    "fig, ax = plt.subplots(figsize = [8, 5])\n",
    "\n",
    "\n",
    "# histogram for carat\n",
    "sns.histplot(data  = df_dropped,\n",
    "             x     = 'carat',\n",
    "             bins  = 'fd',\n",
    "             kde   = True, # drawing theoretical distribution\n",
    "             color = 'black')\n",
    "\n",
    "\n",
    "# titles and labels\n",
    "plt.title(label = \"Distribution of Carat Weight\")\n",
    "plt.xlabel(xlabel = 'Carat Weight')\n",
    "plt.ylabel(ylabel = 'Frequency')\n",
    "\n",
    "\n",
    "# New: These add vertical lines to the code\n",
    "plt.axvline(x = df_dropped['carat'].mean(),\n",
    "            color = 'red')\n",
    "\n",
    "\n",
    "plt.axvline(x = df_dropped['carat'].median(),\n",
    "            color = 'blue')\n",
    "\n",
    "\n",
    "# this adds a legend\n",
    "plt.legend(labels =  ['mean', 'median'])\n",
    "\n",
    "\n",
    "# these compile and display the plot so that it is formatted as expected\n",
    "plt.tight_layout()\n",
    "plt.show()\n"
   ]
  },
  {
   "cell_type": "markdown",
   "metadata": {
    "deletable": false,
    "editable": false,
    "run_control": {
     "frozen": true
    }
   },
   "source": [
    "<hr style=\"height:.9px;border:none;color:#333;background-color:#333;\" />\n",
    "<br>\n",
    "<h3>Mean or Median?</h3><br>\n",
    "Since the distribution for carat weight appears skewed positive (skewed to the right), the median better represents the center of this distribution. Therefore, without any further information, we should choose the median to fill in missing values.\n",
    "<br><br>\n",
    "<strong>Note:</strong> If you are familiar with <a href=\"https://en.wikipedia.org/wiki/Data_transformation_%28statistics%29\">data transformations</a>, don't worry about this for now.\n",
    "<br><br>\n",
    "<h3>Imputing with <em>.fillna(&nbsp;)</em></h3><br>\n",
    "As its name implies, the <a href=\"https://pandas.pydata.org/pandas-docs/stable/reference/api/pandas.DataFrame.fillna.html\">.fillna(&nbsp;)</a> method can be used to fill in the missing values of a given feature. This is exemplified in the following code."
   ]
  },
  {
   "cell_type": "code",
   "execution_count": null,
   "metadata": {
    "deletable": false,
    "editable": false
   },
   "outputs": [],
   "source": [
    "# Code 13.3.5\n",
    "\n",
    "# soft coding MEDIAN for carat\n",
    "carat_median = diamonds['carat'].median()\n",
    "\n",
    "\n",
    "# filling carat NAs with MEDIAN\n",
    "diamonds['carat'].fillna(value = carat_median,\n",
    "                         inplace = True)\n",
    "\n",
    "\n",
    "# checking to make sure NAs are filled in\n",
    "print(f\"\"\"\n",
    "{'_' * 40}\n",
    "\n",
    "Any missing values for carat?\n",
    "{'_' * 40}\n",
    "\n",
    "{diamonds['carat'].isnull().any()}\n",
    "\"\"\")\n"
   ]
  },
  {
   "cell_type": "markdown",
   "metadata": {
    "deletable": false,
    "editable": false,
    "run_control": {
     "frozen": true
    }
   },
   "source": [
    "<hr style=\"height:.9px;border:none;color:#333;background-color:#333;\" /><br>\n",
    "\n",
    "Let's take a look at what happened to the missing values for carat.\n",
    "\n",
    "<h4>Practice - Subset the <em>diamonds</em> DataFrame to display <em>m_carat</em> and <em>carat</em> where <em>m_carat</em> is equal to one.</h4>"
   ]
  },
  {
   "cell_type": "code",
   "execution_count": null,
   "metadata": {
    "solution2": "hidden",
    "solution2_first": true
   },
   "outputs": [],
   "source": [
    "# Code 13.3.6\n",
    "\n",
    "# subsetting original missing values for carat\n",
    "_____\n"
   ]
  },
  {
   "cell_type": "code",
   "execution_count": null,
   "metadata": {
    "deletable": false,
    "editable": false,
    "solution2": "hidden"
   },
   "outputs": [],
   "source": [
    "# Sample Solution 13.3.6\n",
    "\n",
    "# subsetting original missing values for carat\n",
    "diamonds.loc[ : , ['m_carat', 'carat']][  diamonds.loc[ : , 'm_carat'] == 1  ]\n"
   ]
  },
  {
   "cell_type": "markdown",
   "metadata": {
    "deletable": false,
    "editable": false,
    "run_control": {
     "frozen": true
    }
   },
   "source": [
    "<hr style=\"height:.9px;border:none;color:#333;background-color:#333;\" />\n",
    "<br>\n",
    "As can be observed, the missing values for <em>carat</em> have been imputed with the median for this feature. Let's overlay the original and imputed distributions for carat weight. This should give us a good indication as to how closely the imputed distribution resembles the original distribution."
   ]
  },
  {
   "cell_type": "code",
   "execution_count": null,
   "metadata": {
    "deletable": false,
    "editable": false
   },
   "outputs": [],
   "source": [
    "# Code 13.3.7\n",
    "\n",
    "# setting figure size\n",
    "fig, ax = plt.subplots(figsize = [8, 5],\n",
    "                       sharex = True, # sharing x-axis between visualizations\n",
    "                       sharey = True) # sharing y-axis between visualizations\n",
    "\n",
    "\n",
    "# histogram for carat\n",
    "sns.histplot(data  = df_dropped,\n",
    "             x     = 'carat',\n",
    "             bins  = 21,\n",
    "             kde   = True, # drawing theoretical distribution\n",
    "             color = 'red')\n",
    "\n",
    "\n",
    "# histogram for carat\n",
    "sns.histplot(data  = diamonds,\n",
    "             x     = 'carat',\n",
    "             bins  = 21,\n",
    "             kde   = True, # drawing theoretical distribution\n",
    "             color = 'black')\n",
    "\n",
    "\n",
    "# titles, labels, and formatting\n",
    "plt.title(label   = \"Distribution of Carat Weight\")\n",
    "plt.xlabel(xlabel = 'Carat Weight')\n",
    "plt.ylabel(ylabel = 'Frequency')\n",
    "plt.xlim(0.0, 2.75) # setting x-axis range\n",
    "plt.ylim(0.0, 100) # setting y-axis range\n",
    "\n",
    "\n",
    "# this adds a legend\n",
    "plt.legend(labels =  ['original distribution',\n",
    "                      'imputed distribution'])\n",
    "\n",
    "\n",
    "# NEW! Saving a figure as an image\n",
    "plt.savefig(fname = './__images/Imputation of Carat.png')\n",
    "\n",
    "\n",
    "# these compile and display the plot so that it is formatted as expected\n",
    "plt.tight_layout()\n",
    "plt.show()\n"
   ]
  },
  {
   "cell_type": "markdown",
   "metadata": {
    "deletable": false,
    "editable": false,
    "run_control": {
     "frozen": true
    }
   },
   "source": [
    "<hr style=\"height:.9px;border:none;color:#333;background-color:#333;\" /><br>\n",
    "\n",
    "As can be observed from above, the original and imputed distributions look very similar. Also note that although we imputed with the median, other parts of the overlayed histograms are not fully aligned. This is normal when working with <em>matplotlib.pyplot</em> and <em>seaborn</em>. It also reemphasizes the need for at least one paragraph of explanation per visual that you present.\n",
    "<br><br>\n",
    "<h3>Summary</h3><br>\n",
    "This chapter presented missing value anomalies and fundamental techniques to address them. When working with missing values, keep in mind that there may be an insightful rationale as to why such anomalies are present. This is where art meets science and analysts are able to create tremendous value. As a next step, take a few minutes to analyze and impute the missing values of other features in the dataset. The next chapter will utilize a version of the dataset where all missing values have been imputed."
   ]
  },
  {
   "cell_type": "markdown",
   "metadata": {
    "deletable": false,
    "editable": false,
    "run_control": {
     "frozen": true
    }
   },
   "source": [
    "~~~\n",
    "\n",
    "\n",
    "                                                  ,---,  \n",
    "                                               ,`--.' |  \n",
    "           .---.                        ___    |   :  :  \n",
    "          /. ./|                      ,--.'|_  '   '  ;  \n",
    "      .--'.  ' ;   ,---.     ,---.    |  | :,' |   |  |  \n",
    "     /__./ \\ : |  '   ,'\\   '   ,'\\   :  : ' : '   :  ;  \n",
    " .--'.  '   \\' . /   /   | /   /   |.;__,'  /  |   |  '  \n",
    "/___/ \\ |    ' '.   ; ,. :.   ; ,. :|  |   |   '   :  |  \n",
    ";   \\  \\;      :'   | |: :'   | |: ::__,'| :   ;   |  ;  \n",
    " \\   ;  `      |'   | .; :'   | .; :  '  : |__ `---'. |  \n",
    "  .   \\    .\\  ;|   :    ||   :    |  |  | '.'| `--..`;  \n",
    "   \\   \\   ' \\ | \\   \\  /  \\   \\  /   ;  :    ;.--,_     \n",
    "    :   '  |--\"   `----'    `----'    |  ,   / |    |`.  \n",
    "     \\   \\ ;                           ---`-'  `-- -`, ; \n",
    "      '---\"                                      '---`\"  \n",
    "                                                         \n",
    "\n",
    "\n",
    "~~~"
   ]
  },
  {
   "cell_type": "markdown",
   "metadata": {
    "deletable": false,
    "editable": false,
    "run_control": {
     "frozen": true
    }
   },
   "source": [
    "<hr style=\"height:.9px;border:none;color:#333;background-color:#333;\" /><br>\n",
    "<h3>Bonus: Tip for Improving Visual Output</h3><br>\n",
    "The following template is meant to assist you in developing more aesthetically-pleasing data visualizations.\n",
    "<br><br>\n",
    "<strong>Titles and Axis Labels</strong> - Use triple-quotes to add more information throughout a visual.\n",
    "\n",
    "~~~\n",
    "plt.title(label = \"\"\"\n",
    "TITLE\n",
    "SUBTITLE\n",
    "\"\"\")\n",
    "~~~\n",
    "\n",
    "\n",
    "<br><br><hr style=\"height:.9px;border:none;color:#333;background-color:#333;\" />"
   ]
  },
  {
   "cell_type": "markdown",
   "metadata": {
    "deletable": false,
    "editable": false,
    "run_control": {
     "frozen": true
    }
   },
   "source": [
    "<br>"
   ]
  }
 ],
 "metadata": {
  "kernelspec": {
   "display_name": "Python 3",
   "language": "python",
   "name": "python3"
  },
  "language_info": {
   "codemirror_mode": {
    "name": "ipython",
    "version": 3
   },
   "file_extension": ".py",
   "mimetype": "text/x-python",
   "name": "python",
   "nbconvert_exporter": "python",
   "pygments_lexer": "ipython3",
   "version": "3.8.5"
  },
  "toc": {
   "base_numbering": 1,
   "nav_menu": {},
   "number_sections": false,
   "sideBar": true,
   "skip_h1_title": false,
   "title_cell": "Table of Contents",
   "title_sidebar": "Contents",
   "toc_cell": false,
   "toc_position": {},
   "toc_section_display": true,
   "toc_window_display": false
  },
  "varInspector": {
   "cols": {
    "lenName": 16,
    "lenType": 16,
    "lenVar": 40
   },
   "kernels_config": {
    "python": {
     "delete_cmd_postfix": "",
     "delete_cmd_prefix": "del ",
     "library": "var_list.py",
     "varRefreshCmd": "print(var_dic_list())"
    },
    "r": {
     "delete_cmd_postfix": ") ",
     "delete_cmd_prefix": "rm(",
     "library": "var_list.r",
     "varRefreshCmd": "cat(var_dic_list()) "
    }
   },
   "types_to_exclude": [
    "module",
    "function",
    "builtin_function_or_method",
    "instance",
    "_Feature"
   ],
   "window_display": false
  }
 },
 "nbformat": 4,
 "nbformat_minor": 4
}
