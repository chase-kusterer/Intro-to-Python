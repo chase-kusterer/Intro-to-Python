{
 "cells": [
  {
   "cell_type": "markdown",
   "metadata": {
    "deletable": false,
    "editable": false,
    "run_control": {
     "frozen": true
    }
   },
   "source": [
    "<hr style=\"height:.9px;border:none;color:#333;background-color:#333;\" />\n",
    "<hr style=\"height:.9px;border:none;color:#333;background-color:#333;\" />\n",
    "<br><br><br>\n",
    "<h1>Python for Business Analytics</h1>\n",
    "<em>A Nontechnical Approach for Nontechnical People</em><br><br>\n",
    "<em><strong>Custom Edition for Hult International Business School</strong></em><br>\n",
    "\n",
    "Written by Chase Kusterer - Faculty of Analytics <br>\n",
    "Hult International Business School <br>\n",
    "https://github.com/chase-kusterer<br><br><br><br><br>\n",
    "\n",
    "<hr style=\"height:.9px;border:none;color:#333;background-color:#333;\" />\n",
    "<hr style=\"height:.9px;border:none;color:#333;background-color:#333;\" />\n",
    "<br>\n",
    "\n",
    "<h1><u>Chapter 6: Conditional Statements and Controlling Input</u></h1>"
   ]
  },
  {
   "cell_type": "markdown",
   "metadata": {
    "deletable": false,
    "editable": false,
    "run_control": {
     "frozen": true
    }
   },
   "source": [
    "Up to this point, we have covered several fundamental coding principles. Now, we are ready to dive into more advanced structures, starting with techniques to conditionally control a code's output. In short, we are ready to discuss conditional statements. A <strong>conditional statement</strong> (also known as a conditional) is a coding syntax that runs if a given condition is met. Conditional statements are very common in the real world. Take, for example, the following statement:\n",
    "<br><br>\n",
    "\n",
    "~~~\n",
    "If it's raining, the baseball game will be canceled.\n",
    "Otherwise, the game will take place as scheduled.\n",
    "~~~\n",
    "\n",
    "<br>\n",
    "As generally in the real world, Python conditional statements start with the word <em>if</em>. The syntax for the alternative statement (<em>'otherwise'</em> in the example above), is <em>else</em>. In the case of the statement above, if it is not raining, the condition to cancel the game is not met and the thus it is disregarded. This is better exemplified in the following expansion of our baseball example:\n",
    "<br><br>\n",
    "\n",
    "~~~\n",
    "If it's raining, the baseball game will be canceled and we will email all of the people\n",
    "that bought tickets. We also have to issue refunds, and will do so by directly\n",
    "crediting people's credit cards. Since some people paid in cash, we will provide them\n",
    "with a cash voucher in the email that can be redeemed within the next 90 days. Also,\n",
    "since some people may have traveled a long distance to attend the game, we need to make\n",
    "sure to remind them that our Terms and Conditions state that we are not responsible for reimbursing travel expenses. Finally, we should inform our call center that they may\n",
    "receive a high call volume given the situation. \n",
    "\n",
    "Otherwise, the game will take place as scheduled.\n",
    "~~~\n",
    "\n",
    "<br>\n",
    "Compared to the first example, the second takes longer to read and process. It would be incredibly inefficient if we were required to read and process all instructions for every conceivable situation every time there was a baseball game, especially if the conditions for each instruction were not met. Python feels the same way, and takes a similar, pragmatic approach.\n",
    "\n",
    "<h4>A Note to Excel Users</h4>\n",
    "The syntax covered in the chapter is very similar to the <a href=\"https://support.office.com/en-us/article/if-function-69aed7c9-4e8a-4755-a9bc-aa8bbff73be2\">IF function in Excel</a>:\n",
    "<br><br>\n",
    "\n",
    "~~~\n",
    "IF(logical test, [value if true], [value if false])\n",
    "~~~\n",
    "\n",
    "<br>\n",
    "This function is excellent and has tremendous value. However, you have also likely experienced the frustration of debugging an IF function with multiple criteria:<br><br>\n",
    "\n",
    "~~~\n",
    "IF(logical test, [value if true], IF(logical test, [value if true], IF(logical test,\n",
    "[value if true], IF(logical test, [value if true], IF(logical test, [value if true], IF(logical test, [value if true], IF(logical test, [value if true], [value if\n",
    "false])))))))\n",
    "~~~\n",
    "\n",
    "<br>\n",
    "As you will discover, this concept in Python is quite powerful and much easier to organize. Another advantage of using Python for such syntax is that the code is much easier to replicate when new data is available (i.e., new spreadsheets).\n",
    "\n",
    "<br><hr style=\"height:.9px;border:none;color:#333;background-color:#333;\" /><br>\n",
    "\n",
    "<h2>6.1 Python's Pragmatic Approach to Conditional Statements</h2><br>"
   ]
  },
  {
   "cell_type": "markdown",
   "metadata": {
    "deletable": false,
    "editable": false,
    "run_control": {
     "frozen": true
    }
   },
   "source": [
    "<br><br>\n",
    "<div style = \"width:image width px; font-size:80%; text-align:center;\"><img src= ./__images/chapter-6-conditional_statement_if.png width=\"500\" height=\"300\" style=\"padding-bottom:0.5em;\"> <em>Figure 6.1: Conceptual Drawing of a Conditional Statement</em></div>"
   ]
  },
  {
   "cell_type": "markdown",
   "metadata": {
    "deletable": false,
    "editable": false,
    "run_control": {
     "frozen": true
    }
   },
   "source": [
    "<em>Figure 6.1</em> portrays a conceptual drawing of a conditional statement. As can be observed, <strong>if</strong> a condition is true, Python will change the path it follows to the code of this condition. Thus, Python pretends that the other code path does not exist. Once Python is finished running the conditional code, it returns to the main path. Think of this as you would the phrase:\n",
    "\n",
    "<div align=\"center\"><h4>\n",
    "    Out of sight, out of mind.\n",
    "<a class=\"tocSkip\"></a></h4></div><br></div>\n",
    "When Python reads a conditional statement, it makes a decision as to which path to take based on whether or not its condition is true. <strong>This is not AI</strong>. The computer is not thinking; it is simply following pre-written instructions. You'd be incredibly surprised at what some charlatans of the trade will try to market as AI to the ignorant buyer. It is my hope that by the end of this book you will be better educated in making such distinctions.\n",
    "<br>"
   ]
  },
  {
   "cell_type": "markdown",
   "metadata": {
    "cell_style": "split",
    "deletable": false,
    "editable": false,
    "run_control": {
     "frozen": true
    }
   },
   "source": [
    "<em>Code 6.6.1</em> contains a basic conditional and <em>Figure 6.2</em> explains its anatomy. The first line of a conditional statement starts with the word <strong>if</strong> and ends with a <strong>semicolon</strong> ( <strong>:</strong> ). This informs Python to check to see if the condition in between these two syntaxes is true or false. In other words, the conditional statement in <em>Code 6.1.1</em> is checking to see if <em>people</em> is greater than <em>chairs</em>. After this, one of three things will occur:\n",
    "\n",
    "* If the condition is <strong>true</strong>, Python will run the indented code under the statement.\n",
    "* If the condition is <strong>false</strong>, Python will ignore all of the indented code and resume processing when it sees a line of code that is not indented.\n",
    "* An error will occur, as will be discussed later in this chapter.\n",
    "\n",
    "In Python, <strong>indentation is very important.</strong> It is a critical component of conditional statements, loops, and functions. You can think of it as a special character that tells Python where it can skip code and where it must resume, allowing it to process your code more efficiently.\n",
    "<br><br><br><br><br><br>"
   ]
  },
  {
   "cell_type": "markdown",
   "metadata": {
    "cell_style": "split",
    "deletable": false,
    "editable": false,
    "run_control": {
     "frozen": true
    }
   },
   "source": [
    "<br>"
   ]
  },
  {
   "cell_type": "code",
   "execution_count": null,
   "metadata": {
    "cell_style": "split",
    "deletable": false,
    "editable": false
   },
   "outputs": [],
   "source": [
    "## Code 6.1.1 ##\n",
    "\n",
    "# declaring objects\n",
    "people = 100\n",
    "chairs = 50\n",
    "\n",
    "# creating a condition\n",
    "if people > chairs:\n",
    "    print('We need more chairs!')"
   ]
  },
  {
   "cell_type": "markdown",
   "metadata": {
    "cell_style": "split",
    "deletable": false,
    "editable": false,
    "run_control": {
     "frozen": true
    }
   },
   "source": [
    "<br>"
   ]
  },
  {
   "cell_type": "markdown",
   "metadata": {
    "cell_style": "split",
    "deletable": false,
    "editable": false,
    "run_control": {
     "frozen": true
    }
   },
   "source": [
    "<div style = \"width:image width px; font-size:80%; text-align:center;\"><img src= ./__images/chapter-6-anatomy_of_conditional_statement.png width=\"1000\" height=\"600\" style=\"padding-bottom:0.5em;\"> <em>Figure 6.2: Anatomy of a Conditional Statement</em></div>"
   ]
  },
  {
   "cell_type": "markdown",
   "metadata": {
    "deletable": false,
    "editable": false,
    "run_control": {
     "frozen": true
    }
   },
   "source": [
    "In <em>Code 6.1.1</em>, the condition is met and the <strong>print()</strong> statement runs. However, what if we wanted to display a message when the condition is <em>not</em> met? This is easily done with the use of an <strong>else</strong> clause. Essentially, an <strong>else</strong> clause runs in the event that the criteria given in an <strong>if</strong> statement is not met. This syntax is not mandatory, but can add a lot of value to your code. This can be exemplified from a modified version of the baseball example at the beginning of this chapter:\n",
    "<br><br>\n",
    "\n",
    "~~~\n",
    "IF it's raining...\n",
    "\n",
    "ELSE, the game will take place as scheduled.\n",
    "~~~\n",
    "\n",
    "<br>\n",
    "Without the <strong>else</strong> clause, there would be no instructions to start playing the game! Common sense dictates that the game will start without the need for explicit instructions, but programs do not share the same common sense as humans. This lack of common intuition is similar to a story from when my uncle was in rodeo:\n",
    "<br><br>\n",
    "\n",
    "<hr style=\"height:.9px;border:none;color:#333;background-color:#333;\" />\n",
    "\n",
    "<br><div align=\"center\">\n",
    "One time, my uncle was carpooling to a rodeo competition with two other people. In order to be at their<br>\n",
    "best, he and one of his carpool mates decided they would sleep until they arrived at the competition.<br>\n",
    "The person they left responsible for driving was not the brightest of bulbs, but the only thing he needed<br>\n",
    "to do was stay on the same road the entire time. My uncle and the other passenger instructed him to:\n",
    "<br><br>\n",
    "    <strong><em>Stay on this road and don't get off for any reason!</em></strong>\n",
    "<br><br>\n",
    "Later, they awoke to find that the driver did as requested, but had driven two hours past the exit<br>\n",
    "for the competition. On a side note, while the driver was competing in the rodeo, he got bucked<br>\n",
    "off his steer and landed on his head. His head was didn't injured, but somehow he broke his foot.\n",
    "<a class=\"tocSkip\"></a></div><br>\n",
    "\n",
    "<hr style=\"height:.9px;border:none;color:#333;background-color:#333;\" />\n",
    "    \n",
    "<br>"
   ]
  },
  {
   "cell_type": "markdown",
   "metadata": {
    "cell_style": "split",
    "deletable": false,
    "editable": false,
    "run_control": {
     "frozen": true
    }
   },
   "source": [
    "<em>Code 6.1.2</em> is a modification of <em>Code 6.1.1</em>. In this code, since <em>chairs</em> is greater than <em>people</em>, the <strong>else</strong> statement runs instead of the <strong>if</strong> statement. Notice how the <strong>else</strong> clause does not contain a condition. This is because it only runs if all previous conditions are not met. Also notice how the <strong>else</strong> clause is on the margin, also known as Column 0. When Python realized the condition in the <strong>if</strong> statement was not met, it ignored all indented code and jumped to the next line at Column 0. This reemphasizes the importance of indents."
   ]
  },
  {
   "cell_type": "code",
   "execution_count": null,
   "metadata": {
    "cell_style": "split",
    "deletable": false,
    "editable": false
   },
   "outputs": [],
   "source": [
    "## Code 6.1.2 ##\n",
    "\n",
    "# declaring objects\n",
    "people = 100\n",
    "chairs = 150 # changed to 150\n",
    "\n",
    "# creating a condition\n",
    "if people > chairs:\n",
    "    print('We need more chairs!')\n",
    "\n",
    "# writing an else clause (not indented)\n",
    "else:\n",
    "    print('We have enough chairs.')"
   ]
  },
  {
   "cell_type": "markdown",
   "metadata": {
    "deletable": false,
    "editable": false,
    "run_control": {
     "frozen": true
    }
   },
   "source": [
    "<br><hr style=\"height:.9px;border:none;color:#333;background-color:#333;\" /><br>\n",
    "<h2>6.2 Different Actions for Different Conditions</h2>"
   ]
  },
  {
   "cell_type": "markdown",
   "metadata": {
    "cell_style": "split",
    "deletable": false,
    "editable": false,
    "run_control": {
     "frozen": true
    }
   },
   "source": [
    "<br>Conditionals in Python can be extended to include different actions for different conditions. This can be conceptualized as in <em>Figure 6.3</em>, and can be extended as many times as needed. The syntax to extend a conditional is <strong>elif</strong>, and it has the same anatomy as an <strong>if</strong> statement. As can be observed from <em>Code 6.2.1</em>, <strong>elif</strong> statements are placed at Column 0. This tells Python if the condition in the first statement is not met, read the next conditional statement. If that condition is also not met, continue until you find an <strong>else</strong> clause, or another line of code on Column 0.\n",
    "<br><br><br><br><br>\n",
    "<h4>What happens if more than one condition is met?</h4>\n",
    "In many situations, the conditions from more than one statement may be met (both the <strong>if</strong> and <strong>elif</strong> statements evaluate to true). In such cases, only the first condition will run. Remember, once Python finds a condition that evaluates to true, it ignores all of the other conditions, even if their conditions are more suitable for a given situation. In other words, if the conditions of the <strong>if</strong> statement are true, Python will skip over all of its following conditional statements (<strong>elif</strong> and <strong>else</strong>). In fact, Python will not even realize they have been coded. Order matters, so make sure you organize your code according to the way you would like it to run. This concept is exemplified in <em>Codes 6.2.2</em> and <em>6.2.3</em>."
   ]
  },
  {
   "cell_type": "markdown",
   "metadata": {
    "cell_style": "split",
    "deletable": false,
    "editable": false,
    "run_control": {
     "frozen": true
    }
   },
   "source": [
    "<br><br><div style = \"width:image width px; font-size:80%; text-align:center;\"><img src= ./__images/chapter-6-conditional_statement_elif.png width=\"400\" height=\"200\" style=\"padding-bottom:0.5em;\"> <em>Figure 6.3: Conceptual Drawing of an Extended Conditional Statement</em></div><br><br>"
   ]
  },
  {
   "cell_type": "code",
   "execution_count": null,
   "metadata": {
    "cell_style": "split",
    "deletable": false,
    "editable": false
   },
   "outputs": [],
   "source": [
    "## Code 6.2.1 ##\n",
    "\n",
    "# declaring objects\n",
    "people = 100\n",
    "chairs = 150\n",
    "\n",
    "# writing a conditional statement\n",
    "if people > chairs:\n",
    "    print('We need more chairs!')\n",
    "\n",
    "elif people == chairs:\n",
    "    print('Good job everyone!')\n",
    "    \n",
    "else:\n",
    "    print('We have enough chairs.')"
   ]
  },
  {
   "cell_type": "markdown",
   "metadata": {
    "deletable": false,
    "editable": false,
    "run_control": {
     "frozen": true
    }
   },
   "source": [
    "<br><hr style=\"height:.9px;border:none;color:#333;background-color:#333;\" /><br>"
   ]
  },
  {
   "cell_type": "code",
   "execution_count": null,
   "metadata": {
    "cell_style": "split",
    "deletable": false,
    "editable": false
   },
   "outputs": [],
   "source": [
    "## Code 6.2.2 ##\n",
    "\n",
    "# declaring objects\n",
    "people = 100\n",
    "chairs = 100 # changed to 100\n",
    "\n",
    "# changed if condition to >=\n",
    "if people >= chairs: \n",
    "    print('We need more chairs!')\n",
    "\n",
    "# elif will never run because\n",
    "# the if condition is met\n",
    "elif people == chairs:\n",
    "    print('Good job everyone!')\n",
    "    \n",
    "else:\n",
    "    print('We have enough chairs.')\n"
   ]
  },
  {
   "cell_type": "code",
   "execution_count": null,
   "metadata": {
    "cell_style": "split",
    "deletable": false,
    "editable": false
   },
   "outputs": [],
   "source": [
    "## Code 6.2.3 ##\n",
    "\n",
    "# declaring objects\n",
    "people = 100\n",
    "chairs = 100 # changed to 100\n",
    "\n",
    "# reordering the conditions\n",
    "if people == chairs:\n",
    "    print('Good job everyone!')\n",
    "\n",
    "# has a chance to run\n",
    "elif people >= chairs:\n",
    "    print('We need more chairs!')\n",
    "    \n",
    "else:\n",
    "    print('We have enough chairs.')\n",
    "\n"
   ]
  },
  {
   "cell_type": "markdown",
   "metadata": {
    "deletable": false,
    "editable": false,
    "run_control": {
     "frozen": true
    }
   },
   "source": [
    "<br>\n",
    "As can be observed, the <strong>elif</strong> statement in <em>Code 6.2.2</em> has no chance of running because the condition <em>people == chairs</em> is met in the <strong>if</strong> statement. By reordering the sequence of the conditionals (<em>Code 6.2.3</em>), each conditional statement has a chance of running given the values of <em>people</em> and <em>chairs</em>.\n",
    "\n",
    "<br><hr style=\"height:.9px;border:none;color:#333;background-color:#333;\" /><br>"
   ]
  },
  {
   "cell_type": "markdown",
   "metadata": {
    "deletable": false,
    "editable": false,
    "run_control": {
     "frozen": true
    }
   },
   "source": [
    "<h2>6.3 Using <em>else</em> for something else</h2>\n",
    "\n",
    "Let's shift our attention to <em>Code 6.3.1</em>, which is a reorganized version of <em>Code 4.5.3</em> from <strong>Chapter 4: Numbers, Comparisons, and Randomness</strong> with a few modifications:\n",
    "\n",
    "* The user input prompt offers a hint, telling users the number to guess\n",
    "* The line <em>guess = int(guess)</em> has been commented out.\n",
    "* The final <strong>print()</strong> statement has been turned into a conditional.\n",
    "\n",
    "Try inputting the correct number and see which condition runs.\n",
    "\n",
    "<br>"
   ]
  },
  {
   "cell_type": "code",
   "execution_count": null,
   "metadata": {
    "cell_style": "center",
    "deletable": false,
    "editable": false
   },
   "outputs": [],
   "source": [
    "## Code 6.3.1 ##\n",
    "\n",
    "# adapted from Code 4.5.3\n",
    "\n",
    "# importing random\n",
    "import random\n",
    "\n",
    "# generating a random number\n",
    "number = random.randint(a = 1,\n",
    "                        b = 10)\n",
    "\n",
    "# user input\n",
    "print('Can you guess the number I am thinking of?')\n",
    "guess = input(f\"\"\"\n",
    "Pick a number between 1 and 10.\n",
    "(Hint: The number is {number}.)\n",
    "\"\"\")\n",
    "\n",
    "# turning guess into an integer\n",
    "#guess = int(guess)\n",
    "\n",
    "# creating a conditional\n",
    "if guess == number:\n",
    "    print('Nice job!')\n",
    "    \n",
    "else:\n",
    "    print(f\"Good try, but I was thinking of the number {number}.\")"
   ]
  },
  {
   "cell_type": "markdown",
   "metadata": {
    "deletable": false,
    "editable": false,
    "run_control": {
     "frozen": true
    }
   },
   "source": [
    "<br>\n",
    "No matter what number a user inputs, the <strong>else</strong> clause will always run. Without the line <em>guess = int(guess)</em>, the objects <em>number</em> and <em>guess</em> are of different types. Thus, Python will not consider them to be equal. Obviously, this is a bug in our code, which can be recognized from the <strong>else</strong> clause running. Even though <strong>else</strong> is not mandatory, it is a good practice to include it in conditional statements for this very reason. As our programs become more complex, techniques to recognize bugs become all the more important. Let's consider a more complex example of using <strong>else</strong> as a basic approach to for this task. Take, for example, <em>Code 6.3.2</em> below.\n",
    "<br><br>\n",
    "<strong>Note:</strong> For a review of type conversions, return to <strong>Chapter 3: User Input and Variable Types</strong>."
   ]
  },
  {
   "cell_type": "code",
   "execution_count": null,
   "metadata": {
    "deletable": false,
    "editable": false
   },
   "outputs": [],
   "source": [
    "## Code 6.3.2 ##\n",
    "\n",
    "guess = input(f\"\"\"\n",
    "Which of these sports is played with a basket and a ball?\n",
    "(Please input 1, 2, or 3.)\n",
    "    1. Basketball\n",
    "    2. Fencing\n",
    "    3. Hockey\n",
    "\n",
    "\"\"\")\n",
    "\n",
    "if guess == '1':\n",
    "    print(\"\\nYou know your sports!\")\n",
    "\n",
    "elif guess == '2':\n",
    "    print(\"\\nI'm sorry, that's incorrect.\")\n",
    "    \n",
    "elif guess == '3':\n",
    "    print(\"\\nI'm sorry, that's incorrect.\")\n",
    "\n",
    "else:\n",
    "    print('\\nSomething went wrong')"
   ]
  },
  {
   "cell_type": "markdown",
   "metadata": {
    "deletable": false,
    "editable": false,
    "run_control": {
     "frozen": true
    }
   },
   "source": [
    "<br>\n",
    "<em>Code 6.3.2</em> has some merit in controlling for bugs. It clearly explains that a user should input a number between one and three. Also, the first three conditional statements consider the fact that Python will treat user input as a string, controlling each condition accordingly. Finally, an <strong>else</strong> clause has been coded to catch invalid user input or any additional bugs. If a user were to input <em>'Basketball'</em> instead of <em>1</em>, the <strong>else</strong> clause would run.\n",
    "<br><br>\n",
    "Although <em>Code 6.3.2</em> makes a good effort to control for bugs, it does not provide an optimal user experience. Most notably, the code is too restrictive. Even though the input prompt clearly explains that a user should input <em>1</em>, <em>2</em>, or <em>3</em>, <em>'Basketball'</em> should be a valid answer. This would allow more flexibility to users and create a better user experience. Thinking along these terms, should the inputs <em>'basketball'</em>, <em>'BASKETBALL'</em>, and <em>'BaSkEtBaLl'</em> also be valid entries? Lucky for us, with a few simple modifications, our code can handle such situations with ease.\n",
    "<br><br>\n",
    "<hr style=\"height:.9px;border:none;color:#333;background-color:#333;\" />\n",
    "<br>\n",
    "<h2>6.4 Adding <em>in</em> and Controlling for Case Sensitivity</h2>"
   ]
  },
  {
   "cell_type": "markdown",
   "metadata": {
    "cell_style": "split",
    "deletable": false,
    "editable": false,
    "run_control": {
     "frozen": true
    }
   },
   "source": [
    "One of the most powerful syntaxes to address our challenge of making <em>Code 6.3.2</em> more user friendly is the two letter word <strong>in</strong>. This syntax checks to see if a certain element exists inside a larger set of elements. In the case of strings, <strong>in</strong> can be used to determine if a certain sequence (i.e., a substring) exists in a larger sequence. In other words, it allows us to check if a character or set of characters exists in a string. In <em>Code 6.4.1</em>, since <em>'P'</em> exists in the string stored in the object <em>name</em>, the line of code:\n",
    "\n",
    "~~~\n",
    "'P' in name\n",
    "~~~\n",
    "\n",
    "evaluates to true. However, since there is no lowercase <em>'p'</em> stored in <em>name</em>, <em>Code 6.4.2</em> evaluates to false. Remember, in Python each letter has its own unique address, therefore capital and lowercase letters are different. This aspect of Python becomes a challenge when prompting users for input as there is no guarantee that a user will follow directions."
   ]
  },
  {
   "cell_type": "markdown",
   "metadata": {
    "cell_style": "split",
    "deletable": false,
    "editable": false,
    "run_control": {
     "frozen": true
    }
   },
   "source": [
    "<br>"
   ]
  },
  {
   "cell_type": "code",
   "execution_count": null,
   "metadata": {
    "cell_style": "split",
    "deletable": false,
    "editable": false
   },
   "outputs": [],
   "source": [
    "## Code 6.4.1 ##\n",
    "\n",
    "name = 'Python'\n",
    "\n",
    "# big P\n",
    "'P' in name"
   ]
  },
  {
   "cell_type": "markdown",
   "metadata": {
    "cell_style": "split",
    "deletable": false,
    "editable": false,
    "run_control": {
     "frozen": true
    }
   },
   "source": [
    "<br>"
   ]
  },
  {
   "cell_type": "code",
   "execution_count": null,
   "metadata": {
    "cell_style": "split",
    "deletable": false,
    "editable": false
   },
   "outputs": [],
   "source": [
    "## Code 6.4.2 ##\n",
    "\n",
    "name = 'Python'\n",
    "\n",
    "# small p\n",
    "'p' in name"
   ]
  },
  {
   "cell_type": "markdown",
   "metadata": {
    "deletable": false,
    "editable": false,
    "run_control": {
     "frozen": true
    }
   },
   "source": [
    "<br>For this reason, we must plan accordingly. Instead of trying to consider every possible case for user input, we can utilize one of Python's wonderful <a href=\"https://docs.python.org/3/library/stdtypes.html#string-methods\">string methods</a>. Several methods are available to help us accomplish our task, including those listed in the following table.\n",
    "<br><br>"
   ]
  },
  {
   "cell_type": "markdown",
   "metadata": {
    "deletable": false,
    "editable": false,
    "run_control": {
     "frozen": true
    }
   },
   "source": [
    "<table width=\"475\" align=\"left\">\n",
    "<col width=\"30\"; align=\"left\">\n",
    "<col width=\"150\">\n",
    "    <tr>\n",
    "        <th>Method</th>\n",
    "        <th>Description</th>\n",
    "    </tr>\n",
    "    <tr>\n",
    "        <td> .capitalize() </td>\n",
    "        <td> capitalizes the first character of a string, leaving the rest lowercase</td>\n",
    "    </tr>\n",
    "    <tr>\n",
    "    <tr>\n",
    "        <td> .casefold() </td>\n",
    "        <td> lowercases all characters in a string (<em>includes</em> special characters)</td>\n",
    "    </tr>\n",
    "    <tr>\n",
    "        <td> .lower() </td>\n",
    "        <td> lowercases all characters in a string (<em>excludes</em> special characters)</td>\n",
    "    </tr>   \n",
    "    <tr>\n",
    "        <td> .upper() </td>\n",
    "        <td> capitalizes all characters in a string</td>\n",
    "    </tr>\n",
    "</table>"
   ]
  },
  {
   "cell_type": "markdown",
   "metadata": {
    "cell_style": "center",
    "deletable": false,
    "editable": false,
    "run_control": {
     "frozen": true
    }
   },
   "source": [
    "<br>Any of these methods would work for our task of standardizing the word <em>'basketball'</em> in <em>Code 6.3.2</em>. However, what if instead of inputting text from the English alphabet, a user input 'ß' from the German alphabet? Such a case may be difficult to control given it is in another language. Since it is already lowercase, methods such as <strong>lower()</strong> would do nothing to this character. However, according to the example from the string methods link above, <strong>casefold()</strong> will convert 'ß' to 'ss', which is appropriate given the German alphabet. <em>Code 6.4.3</em> uses this character to test the results of each of the aforementioned string formatting methods.\n",
    "\n",
    "<br>"
   ]
  },
  {
   "cell_type": "code",
   "execution_count": null,
   "metadata": {
    "cell_style": "center",
    "deletable": false,
    "editable": false
   },
   "outputs": [],
   "source": [
    "## Code 6.4.3 ##\n",
    "\n",
    "german_example = 'ß'\n",
    "\n",
    "# Testing different methods\n",
    "print(f\"\"\"\n",
    "FORMAT     | RESULT\n",
    "original   | {german_example}\n",
    "capitalize | {german_example.capitalize()}\n",
    "casefold   | {german_example.casefold()}\n",
    "lower()    | {german_example.lower()}\n",
    "upper()    | {german_example.upper()}\n",
    "\"\"\")"
   ]
  },
  {
   "cell_type": "markdown",
   "metadata": {
    "deletable": false,
    "editable": false,
    "run_control": {
     "frozen": true
    }
   },
   "source": [
    "<br>\n",
    "After applying <strong>.casefold()</strong> to our basketball example, our program will become more robust, granting users more input flexibility and potentially creating a better user experience. However, what if a user were to input something more elaborate? For example: <em>\"I'm not sure, but I think it's probably basketball.\"</em> Obviously, our code is not designed to handle such situations. Coding for every conceivable input using syntax such as <em>==</em> or <em>!=</em> would be incredibly inefficient. Luckily, this functionality can be developed with the use of <strong>in</strong>.\n",
    "<br><br>\n",
    "Instead of coding a conditional statement as follows:\n",
    "<br><br>\n",
    "\n",
    "~~~\n",
    "elif guess == 'basketball':\n",
    "    print(\"\\nYou know your sports!\")\n",
    "~~~\n",
    "<br>\n",
    "we can utilize <strong>in</strong> to search a user's input for the keyword or phrase we are looking for:\n",
    "<br><br>\n",
    "\n",
    "~~~\n",
    "elif 'basketball' in guess:\n",
    "    print(\"\\nYou know your sports!\")\n",
    "~~~\n",
    "\n",
    "<br><hr style=\"height:.9px;border:none;color:#333;background-color:#333;\" />"
   ]
  },
  {
   "cell_type": "markdown",
   "metadata": {
    "cell_style": "split",
    "deletable": false,
    "editable": false,
    "run_control": {
     "frozen": true
    }
   },
   "source": [
    "To further exemplify, <em>Code 6.4.4</em> is checking whether or not the word <em>'stella'</em> is part of the word <em>'constellation'</em>. As this exact character sequence exists in the word <em>'constellation'</em>, this code evaluates to true.\n",
    "<br><br>\n",
    "The syntax <strong>in</strong> can also be applied to other data structures, such as the list in <em>Code 6.4.5</em>. This code is checking if <em>'z'</em> is a member of the object <em>lst</em>. As <em>'z'</em> is not an element of this object, <em>Code 6.4.5</em> evaluates to false.\n",
    "<br><br>\n",
    "The counterpart of <strong>in</strong> is <strong>not in</strong>. This syntax works in a similar fashion to <em>!=</em> from <strong>Chapter 4 - Numbers, Comparisons, and Randomness</strong>. <em>Code 6.4.6</em> utilizes this syntax in order to reverse the logic of <strong>in</strong>. Since <em>'key'</em> is not in inventory, the <strong>elif</strong> clause runs."
   ]
  },
  {
   "cell_type": "markdown",
   "metadata": {
    "cell_style": "split",
    "deletable": false,
    "editable": false,
    "run_control": {
     "frozen": true
    }
   },
   "source": [
    " <br>"
   ]
  },
  {
   "cell_type": "code",
   "execution_count": null,
   "metadata": {
    "cell_style": "split",
    "deletable": false,
    "editable": false
   },
   "outputs": [],
   "source": [
    "## Code 6.4.4 ##\n",
    "\n",
    "# checking for membership\n",
    "'stella' in 'constellation'"
   ]
  },
  {
   "cell_type": "markdown",
   "metadata": {
    "cell_style": "split",
    "deletable": false,
    "editable": false,
    "run_control": {
     "frozen": true
    }
   },
   "source": [
    "<br>"
   ]
  },
  {
   "cell_type": "code",
   "execution_count": null,
   "metadata": {
    "cell_style": "split",
    "deletable": false,
    "editable": false
   },
   "outputs": [],
   "source": [
    "## Code 6.4.5 ##\n",
    "\n",
    "# creating a list\n",
    "lst = ['a', 'b', 'c']\n",
    "\n",
    "# checking for membership\n",
    "print('z' in lst)"
   ]
  },
  {
   "cell_type": "markdown",
   "metadata": {
    "deletable": false,
    "editable": false,
    "run_control": {
     "frozen": true
    }
   },
   "source": [
    "<br><hr style=\"height:.9px;border:none;color:#333;background-color:#333;\" /><br>"
   ]
  },
  {
   "cell_type": "code",
   "execution_count": null,
   "metadata": {
    "deletable": false,
    "editable": false
   },
   "outputs": [],
   "source": [
    "## Code 6.4.6 ##\n",
    "\n",
    "# character inventory\n",
    "inventory = ['staff', 'mage robe', 'dragon gloves']\n",
    "\n",
    "if 'key' in inventory:\n",
    "    print(\"You've unlocked the door and saved the princess!\")\n",
    "    \n",
    "elif 'key' not in inventory:\n",
    "    print(\"This door is locked.\")\n",
    "    \n",
    "else:\n",
    "    print(\"Something went wrong.\")"
   ]
  },
  {
   "cell_type": "markdown",
   "metadata": {
    "deletable": false,
    "editable": false,
    "run_control": {
     "frozen": true
    }
   },
   "source": [
    "<br>\n",
    "<em>Code 6.4.7</em> returns to our basketball example, taking <strong>casefold()</strong> and <strong>in</strong> into consideration. Although more user friendly, this has greatly increased the amount of conditional statements we are using. The next section will discuss ways in which we can consolidate conditions, thus allowing us to shorten our code.\n",
    "<br><br>"
   ]
  },
  {
   "cell_type": "code",
   "execution_count": null,
   "metadata": {
    "deletable": false,
    "editable": false
   },
   "outputs": [],
   "source": [
    "## Code 6.4.7 ##\n",
    "\n",
    "# adapted from Code 6.3.2\n",
    "\n",
    "# adapting the directions\n",
    "guess = input(f\"\"\"\n",
    "Which of these sports is played with a basket and a ball?\n",
    "(Please input the number or name of your choice.)\n",
    "    1. Basketball\n",
    "    2. Fencing\n",
    "    3. Hockey\n",
    "\n",
    "\"\"\")\n",
    "\n",
    "# converting guess using .casefold()\n",
    "guess = guess.casefold()\n",
    "\n",
    "# extending the conditional\n",
    "if guess == '1':\n",
    "    print(\"\\nYou know your sports!\")\n",
    "\n",
    "elif 'basketball' in guess:\n",
    "    print(\"\\nYou know your sports!\")\n",
    "\n",
    "elif guess == '2':\n",
    "    print(\"\\nI'm sorry, that's incorrect.\")\n",
    "\n",
    "elif 'fencing' in guess:\n",
    "    print(\"\\nI'm sorry, that's incorrect.\")\n",
    "\n",
    "elif guess == '3':\n",
    "    print(\"\\nI'm sorry, that's incorrect.\")\n",
    "\n",
    "elif 'hockey' in guess:\n",
    "    print(\"\\nI'm sorry, that's incorrect.\")\n",
    "\n",
    "else:\n",
    "    print('\\nSomething went wrong')"
   ]
  },
  {
   "cell_type": "markdown",
   "metadata": {
    "cell_style": "center",
    "deletable": false,
    "editable": false,
    "run_control": {
     "frozen": true
    }
   },
   "source": [
    "<hr style=\"height:.9px;border:none;color:#333;background-color:#333;\" /><br>\n",
    "\n",
    "<h2>6.5 Consolidating Conditionals with <em>and</em> / <em>or</em></h2>\n",
    "Instead of writing several conditionals that lead to the same result, we can utilize the syntaxes <strong>and</strong> and <strong>or</strong> to help us consolidate our code. As an example, let's apply the <strong>or</strong> syntax  to <em>Code 6.4.7</em>.\n",
    "\n",
    "<br>"
   ]
  },
  {
   "cell_type": "code",
   "execution_count": null,
   "metadata": {
    "deletable": false,
    "editable": false
   },
   "outputs": [],
   "source": [
    "## Code 6.5.1 ##\n",
    "\n",
    "# adapted from Code 6.4.7\n",
    "\n",
    "# adapting the directions\n",
    "guess = input(f\"\"\"\n",
    "Which of these sports is played with a basket and a ball?\n",
    "(Please input the number or name of your choice.)\n",
    "    1. Basketball\n",
    "    2. Fencing\n",
    "    3. Hockey\n",
    "\n",
    "\"\"\")\n",
    "\n",
    "# converting guess using .casefold()\n",
    "guess = guess.casefold()\n",
    "\n",
    "# extending the conditional\n",
    "if guess == '1' or 'basketball' in guess:\n",
    "    print(\"\\nYou know your sports!\")\n",
    "\n",
    "elif guess in ['2', '3'] or 'fencing' in guess or 'hockey' in guess:\n",
    "    print(\"\\nI'm sorry, that's incorrect.\")\n",
    "\n",
    "else:\n",
    "    print('\\nSomething went wrong')"
   ]
  },
  {
   "cell_type": "markdown",
   "metadata": {
    "deletable": false,
    "editable": false,
    "run_control": {
     "frozen": true
    }
   },
   "source": [
    "<br>\n",
    "With the use of <strong>or</strong>, our code has been significantly shortened. As expressed in the code above, <strong>in</strong> and <strong>not in</strong> can be utilized in tandem with <strong>and</strong> and <strong>or</strong>. The following codes are designed to give you practice in using these syntaxes. Fill in the blanks so that each code block evaluates to true.\n",
    "<br><br>"
   ]
  },
  {
   "cell_type": "code",
   "execution_count": null,
   "metadata": {
    "cell_style": "split",
    "solution2": "hidden",
    "solution2_first": true
   },
   "outputs": [],
   "source": [
    "### Code 6.5.6 ##\n",
    "\n",
    "name = 'xiong'\n",
    "\n",
    "'xing' in name ___ 'ong' in name"
   ]
  },
  {
   "cell_type": "code",
   "execution_count": null,
   "metadata": {
    "cell_style": "split",
    "deletable": false,
    "editable": false,
    "solution2": "hidden"
   },
   "outputs": [],
   "source": [
    "### Sample Solution 6.5.6 ##\n",
    "\n",
    "name = 'xiong'\n",
    "\n",
    "'xing' in name or 'ong' in name"
   ]
  },
  {
   "cell_type": "markdown",
   "metadata": {
    "deletable": false,
    "editable": false,
    "run_control": {
     "frozen": true
    }
   },
   "source": [
    "<hr style=\"height:.9px;border:none;color:#333;background-color:#333;\" />"
   ]
  },
  {
   "cell_type": "code",
   "execution_count": null,
   "metadata": {
    "cell_style": "split",
    "solution2": "hidden",
    "solution2_first": true
   },
   "outputs": [],
   "source": [
    "### Code 6.5.7 ##\n",
    "\n",
    "places = ['CAN', 'MEX', 'USA']\n",
    "\n",
    "\n",
    "'CAN' ___ places and 'UK' ___ places"
   ]
  },
  {
   "cell_type": "code",
   "execution_count": null,
   "metadata": {
    "cell_style": "split",
    "deletable": false,
    "editable": false,
    "solution2": "hidden"
   },
   "outputs": [],
   "source": [
    "### Sample Solution 6.5.7 ##\n",
    "\n",
    "places = ['CAN', 'MEX', 'USA']\n",
    "\n",
    "\n",
    "'CAN' in places and 'UK' not in places"
   ]
  },
  {
   "cell_type": "markdown",
   "metadata": {
    "deletable": false,
    "editable": false,
    "run_control": {
     "frozen": true
    }
   },
   "source": [
    "<hr style=\"height:.9px;border:none;color:#333;background-color:#333;\" />"
   ]
  },
  {
   "cell_type": "code",
   "execution_count": null,
   "metadata": {
    "cell_style": "split",
    "solution2": "hidden",
    "solution2_first": true
   },
   "outputs": [],
   "source": [
    "### Code 6.5.8 ##\n",
    "\n",
    "colors = ['red', 'orange', 'yellow',\n",
    "          'green', 'blue', 'indigo',\n",
    "          'violet']\n",
    "\n",
    "len(colors) > 50 ___ \\\n",
    "'r' ___ colors[0] ___ \\\n",
    "'r' ___ colors[2]"
   ]
  },
  {
   "cell_type": "code",
   "execution_count": null,
   "metadata": {
    "cell_style": "split",
    "deletable": false,
    "editable": false,
    "solution2": "hidden"
   },
   "outputs": [],
   "source": [
    "### Sample Solution 6.5.8 ##\n",
    "\n",
    "colors = ['red', 'orange', 'yellow',\n",
    "          'green', 'blue', 'indigo',\n",
    "          'violet']\n",
    "\n",
    "len(colors) > 50 or \\\n",
    "'r' in colors[0] and not\\\n",
    "'r' in colors[2]"
   ]
  },
  {
   "cell_type": "markdown",
   "metadata": {
    "deletable": false,
    "editable": false,
    "run_control": {
     "frozen": true
    }
   },
   "source": [
    "<hr style=\"height:.9px;border:none;color:#333;background-color:#333;\" />"
   ]
  },
  {
   "cell_type": "code",
   "execution_count": null,
   "metadata": {
    "cell_style": "split",
    "solution2": "hidden",
    "solution2_first": true
   },
   "outputs": [],
   "source": [
    "### Code 6.5.9 ##\n",
    "\n",
    "primes = [2, 3, 5, 7, 11]\n",
    "\n",
    "2 ___ primes ___ \\\n",
    "1 ___ _primes ___ \\\n",
    "53 ___ primes"
   ]
  },
  {
   "cell_type": "code",
   "execution_count": null,
   "metadata": {
    "cell_style": "split",
    "deletable": false,
    "editable": false,
    "solution2": "hidden"
   },
   "outputs": [],
   "source": [
    "### Sample Solution 6.5.9 ##\n",
    "\n",
    "primes = [2, 3, 5, 7, 11]\n",
    "\n",
    "2 in primes and \\\n",
    "1 not in primes or \\\n",
    "53 in primes"
   ]
  },
  {
   "cell_type": "markdown",
   "metadata": {
    "deletable": false,
    "editable": false,
    "run_control": {
     "frozen": true
    }
   },
   "source": [
    "<hr style=\"height:.9px;border:none;color:#333;background-color:#333;\" /><br>\n",
    "\n",
    "<h2>6.6 Nested Conditionals</h2>\n",
    "This final section will discuss <strong>nested conditionals</strong> or conditionals that are inside of other conditionals. <strong>Nested conditionals</strong> allow us to develop programs for more complex situations. Conceptually, nested conditionals can be thought of as in <em>Figure 6.4</em> below.\n",
    "<br><br><br>\n",
    "\n",
    "<div style = \"width:image width px; font-size:80%; text-align:center;\"><img src= ./__images/chapter-6-nested_conditional_statement.png width=\"400\" height=\"200\" style=\"padding-bottom:0.5em;\"> <em>Figure 6.4: Conceptual Drawing of a Nested Conditional Statement</em></div>\n",
    "\n",
    "<br><br>\n",
    "The logic of <em>Figure 6.4</em> can be extended to as many levels of inner nesting as needed. The key to managing nested conditionals is to <strong>make sure that each statement is properly indented.</strong> To exemplify, let's return to our people and chairs example from <em>Section 6.2</em>.\n",
    "<br><br>"
   ]
  },
  {
   "cell_type": "code",
   "execution_count": null,
   "metadata": {
    "deletable": false,
    "editable": false
   },
   "outputs": [],
   "source": [
    "## Code 6.6.1 ##\n",
    "\n",
    "# adapted from 6.2.3\n",
    "\n",
    "# declaring objects\n",
    "event_manager = 'Mona'\n",
    "people = 100\n",
    "chairs = 100\n",
    "\n",
    "# outer conditional (indented one level)\n",
    "if 'M' in event_manager:\n",
    "    \n",
    "    # inner conditional (indented two levels)\n",
    "    if people == chairs:\n",
    "        print(\"We’d better get some extra chairs just in case!\")\n",
    "\n",
    "    elif people > chairs:\n",
    "        print(\"Quick, find more chairs!\")\n",
    "\n",
    "    else:\n",
    "        print(\"We have enough chairs.\")\n",
    "\n",
    "# back to outer conditional (indented one level)\n",
    "elif 'M' not in event_manager:\n",
    "    print(\"I think we can get by with less chairs.\")\n",
    "\n",
    "else:\n",
    "    print(\"Something went wrong.\")"
   ]
  },
  {
   "cell_type": "markdown",
   "metadata": {
    "deletable": false,
    "editable": false,
    "run_control": {
     "frozen": true
    }
   },
   "source": [
    "<br>\n",
    "As can be observed, utilizing nested conditionals allows us to develop programs that can handle specific situations. This alleviates the pressure of trying to ensure that our conditionals are in an optimal order, making it possible for the results of each condition to run. Remember, indenting is important and should be done with care. This will save time as indentation errors can be hard to spot and debug.\n",
    "\n",
    "<br><hr style=\"height:.9px;border:none;color:#333;background-color:#333;\" /><br>"
   ]
  },
  {
   "cell_type": "markdown",
   "metadata": {
    "deletable": false,
    "editable": false,
    "run_control": {
     "frozen": true
    }
   },
   "source": [
    "<h2>6.7 Summary</h2>\n",
    "\n",
    "A conditional statement is a coding syntax that runs if a given condition is met. They are very common in many programming languages, and in Python are structured as follows:\n",
    "<br><br>\n",
    "\n",
    "~~~\n",
    "if [CONDITION]:\n",
    "    [CODE TO RUN IF CONDITION IS MET]\n",
    "~~~\n",
    "\n",
    "<br>\n",
    "Conditionals can be extended with the use of <strong>elif</strong> and <strong>else</strong>, and several conditionals can be combined with the use of <strong>and</strong> / <strong>or</strong>. Remember, indenting is very important, as it tells Python what code it is required to run and what code it can skip if a given condition is not met.\n",
    "<br><br>\n",
    "Finally, case methods such as <strong>.capitalize()</strong>, <strong>.casefold()</strong>, <strong>.lower()</strong>, and <strong>.upper()</strong> can help limit the amount of conditionals needed to control user input as well as in other situations where strings are being utilized. Finally, <strong>in</strong> and <strong>not in</strong> are powerful syntaxes that check to see if a certain element exists inside a larger set of elements.\n",
    "<br>\n",
    "\n",
    "~~~\n",
    "___________                   .__  .__                 __  ._.\n",
    "\\_   _____/__  ___ ____  ____ |  | |  |   ____   _____/  |_| |\n",
    " |    __)_\\  \\/  // ___\\/ __ \\|  | |  | _/ __ \\ /    \\   __\\ |\n",
    " |        \\>    <\\  \\__\\  ___/|  |_|  |_\\  ___/|   |  \\  |  \\|\n",
    "/_______  /__/\\_ \\\\___  >___  >____/____/\\___  >___|  /__|  __\n",
    "        \\/      \\/    \\/    \\/               \\/     \\/      \\/\n",
    "~~~"
   ]
  },
  {
   "cell_type": "markdown",
   "metadata": {
    "deletable": false,
    "editable": false,
    "run_control": {
     "frozen": true
    }
   },
   "source": [
    "<br>"
   ]
  }
 ],
 "metadata": {
  "kernelspec": {
   "display_name": "Python 3",
   "language": "python",
   "name": "python3"
  },
  "language_info": {
   "codemirror_mode": {
    "name": "ipython",
    "version": 3
   },
   "file_extension": ".py",
   "mimetype": "text/x-python",
   "name": "python",
   "nbconvert_exporter": "python",
   "pygments_lexer": "ipython3",
   "version": "3.8.5"
  },
  "toc": {
   "base_numbering": 1,
   "nav_menu": {},
   "number_sections": false,
   "sideBar": false,
   "skip_h1_title": false,
   "title_cell": "Table of Contents",
   "title_sidebar": "Contents",
   "toc_cell": false,
   "toc_position": {
    "height": "calc(100% - 180px)",
    "left": "10px",
    "top": "150px",
    "width": "195.4px"
   },
   "toc_section_display": true,
   "toc_window_display": false
  },
  "varInspector": {
   "cols": {
    "lenName": 16,
    "lenType": 16,
    "lenVar": 40
   },
   "kernels_config": {
    "python": {
     "delete_cmd_postfix": "",
     "delete_cmd_prefix": "del ",
     "library": "var_list.py",
     "varRefreshCmd": "print(var_dic_list())"
    },
    "r": {
     "delete_cmd_postfix": ") ",
     "delete_cmd_prefix": "rm(",
     "library": "var_list.r",
     "varRefreshCmd": "cat(var_dic_list()) "
    }
   },
   "types_to_exclude": [
    "module",
    "function",
    "builtin_function_or_method",
    "instance",
    "_Feature"
   ],
   "window_display": false
  }
 },
 "nbformat": 4,
 "nbformat_minor": 2
}
