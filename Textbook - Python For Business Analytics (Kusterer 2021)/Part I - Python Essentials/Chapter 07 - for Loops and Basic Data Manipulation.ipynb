{
 "cells": [
  {
   "cell_type": "markdown",
   "metadata": {
    "deletable": false,
    "editable": false,
    "run_control": {
     "frozen": true
    }
   },
   "source": [
    "<hr style=\"height:.9px;border:none;color:#333;background-color:#333;\" />\n",
    "<hr style=\"height:.9px;border:none;color:#333;background-color:#333;\" />\n",
    "<br><br><br>\n",
    "<h1>Python for Business Analytics</h1>\n",
    "<em>A Nontechnical Approach for Nontechnical People</em><br><br>\n",
    "<em><strong>Custom Edition for Hult International Business School</strong></em><br>\n",
    "\n",
    "Written by Chase Kusterer - Faculty of Analytics <br>\n",
    "Hult International Business School <br>\n",
    "https://github.com/chase-kusterer<br><br><br><br><br>\n",
    "\n",
    "<hr style=\"height:.9px;border:none;color:#333;background-color:#333;\" />\n",
    "<hr style=\"height:.9px;border:none;color:#333;background-color:#333;\" />\n",
    "<br>\n",
    "\n",
    "<h1><u>Chapter 7: for Loops and Basic Data Manipulation</u></h1>"
   ]
  },
  {
   "cell_type": "markdown",
   "metadata": {
    "deletable": false,
    "editable": false,
    "run_control": {
     "frozen": true
    }
   },
   "source": [
    "Conditional statements such as those starting with <strong>if</strong> are an excellent starting point for controlling the flow of a code. Such statements have been appropriately termed <a href=\"https://docs.python.org/3/tutorial/controlflow.html\">control flow tools</a>. This chapter will expand on such tools with a syntax known as <strong>for loops</strong>. <strong>Loops</strong> are a powerful coding structure that allow programmers to <strong>iterate</strong>. In other words, loops allow us to run a code over several items stored in an object without the need to implicitly write code for each run. If this isn't making sense just yet, think of loops as a faster/more advanced alternative to copy/pasting. We will solidify our understanding as we move forward through this chapter.\n",
    "\n",
    "<br><hr style=\"height:.9px;border:none;color:#333;background-color:#333;\" /><br>\n",
    "\n",
    "<h2>7.1 Types of Loops</h2>\n",
    "\n",
    "Loops come in two forms: <strong>for loops</strong> and <strong>while loops</strong>. The former is used to iterate over an iterator (strings, lists, arrays, columns of data, etc.). Without more detailed instruction, <strong>for loops</strong> will run until they have completely iterated over every item in an object. For example, if we have five items in a list, a basic <strong>for loop</strong> will iterate over all five items one at a time. As with conditional statements covered in <strong>Chapter 6: Conditional Statements and Controlling Input</strong>, loops operate on a boolean pretense (True/False). For example, if you run a <strong>for loop</strong> on a list, the loop will run until it is <em>False</em> that there are still items in the list to iterate over. Just like with conditional statements, if a condition is <em>False</em>, Python will move on to the next line of code formatted at Column 0. An example of a <strong>for loop</strong> is displayed in <em>Code 7.1.1</em>.\n",
    "<br><br>\n",
    "A <strong>while loop</strong> can be thought of as an extension of a conditional statement. As long as the given condition is true, a <strong>while loop</strong> will continue to iterate. An example is displayed in <em>Code 7.1.2</em>, and these will be covered in more detail in <strong>Chapter 8: While Loops and Basic Error Handling</strong>.\n",
    "\n",
    "<br>"
   ]
  },
  {
   "cell_type": "code",
   "execution_count": null,
   "metadata": {
    "cell_style": "split",
    "deletable": false,
    "editable": false
   },
   "outputs": [],
   "source": [
    "## Code 7.1.1 ##\n",
    "\n",
    "lst = ['a', 'b', 'c', 'd', 'e']\n",
    "\n",
    "# for loop\n",
    "for element in lst:\n",
    "    print(element)\n"
   ]
  },
  {
   "cell_type": "code",
   "execution_count": null,
   "metadata": {
    "cell_style": "split",
    "deletable": false,
    "editable": false
   },
   "outputs": [],
   "source": [
    "## Code 7.1.2 ##\n",
    "\n",
    "x = 5\n",
    "\n",
    "# while loop\n",
    "while x > 0:\n",
    "    print(x)\n",
    "    x -= 1"
   ]
  },
  {
   "cell_type": "markdown",
   "metadata": {
    "deletable": false,
    "editable": false,
    "run_control": {
     "frozen": true
    }
   },
   "source": [
    "<hr style=\"height:.9px;border:none;color:#333;background-color:#333;\" /><br>\n",
    "\n",
    "<h2>7.2 Working with <em>for</em> Loops</h2>\n",
    "\n",
    "As can be observed, the <strong>for loop</strong> in <em>Code 7.1.1</em> prints each item in <em>lst</em> one at a time. <em>Code 7.2.1</em> runs the same operation using list indexing, as explained in <strong>Chapter 2: Printing, Dynamic Strings, and Escape Sequences</strong>. To exemplify the value of <strong>for loops</strong>, imagine that <em>lst</em> had 5,000 items instead of just five. In such a case, 5,000 lines of code would need to be written where a single <strong>for loop</strong> would suffice. "
   ]
  },
  {
   "cell_type": "markdown",
   "metadata": {
    "cell_style": "split",
    "deletable": false,
    "editable": false,
    "run_control": {
     "frozen": true
    }
   },
   "source": [
    "Essentially, the <strong>for loop</strong> in <em>Code 7.7.1</em> starts by operating on the first item of <em>lst</em>, printing its value. When it has completed this task, it moves on to the second item and performs the same operation. This continues until the contents of the loop have run on all elements in <em>lst</em>. Afterwards, the <strong>for loop</strong> realizes that <em>lst</em> no longer has any items to iterate over and stops running (i.e., it runs until it is <em>False</em> that there are still items in the list to iterate over).\n",
    "<br><br>\n",
    "The anatomy of a <strong>for loop</strong> (<em>Figure 7.1</em>) is very similar to the anatomy of a conditional statement. The first line of a loop starts with a syntax identifying which type of loop is being coded (in this case, a <strong>for loop</strong>), and ends with a semicolon ( : ). In between these two pieces of syntax is a phrase that tells Python what object to look into and what to iterate over. In other words:\n",
    "<br><br>\n",
    "\n",
    "~~~\n",
    "THINGS_TO_ITERATE in ITERATOR\n",
    "~~~\n",
    "\n",
    "\n",
    "<h4>Naming an Iteration Object</h4>\n",
    "It makes no difference what you name the <em>THINGS_TO_ITERATE</em> component (also known as an iteration object). This is just an object name of your choosing. In <em>Code 7.2.2</em>, <em>random_name</em> has been used instead of <em>element</em>. More formal coders like to use the letter <em>i</em>. The key is to make sure that you do not use an object name that already exists in your code as this may cause conflict. Once an iteration object has been named, it will exist in your Python environment and will store the value of the last iteration of it's respective loop. In the case of the loop in <em>Code 7.2.2</em>, the last iteration from <em>lst</em> was the letter <em>'e'</em>. This can be observed from printing the contents of <em>random_name</em>, as in <em>Code 7.2.3</em>. Again, <strong>it makes no difference what you name your iteration object</strong>. This being stated, it is in your best interest to name it something that helps you remember what your loop is supposed to do. <em>Code 7.2.4</em> is an open coding block designed for you to be able experience the fact that it does not matter what the iteration object has been named.\n",
    "<br><br>\n",
    "<strong>Note:</strong> Try running <em>Code 7.2.4</em> without filling in the blank spaces (i.e., the underscores). According to Python, this also counts as a valid object name and the code runs without throwing an error.\n",
    "<br><br>\n",
    "\n",
    "<h4>Loop Content</h4>\n",
    "Notice how the body of a loop (i.e., the code run when the loop has items to iterate over) is indented. As mentioned in <strong>Chapter 6: Conditional Statements and Controlling Input</strong>, indenting is very important in Python. Also notice that the iterator variable is referenced in the loop's body. This is accomplishing two tasks, namely defining:\n",
    "\n",
    "* how many iterations to run\n",
    "* what to run in each iteration\n",
    "\n",
    "These do not necessarily need to be the same. This is exemplified in <em>Code 7.2.5</em>, where instead of printing <em>random_name</em>, the loop is printing <em>number</em>. A lot is happening in this code, so let's break it down step-by-step.\n",
    "<br><br><br>"
   ]
  },
  {
   "cell_type": "markdown",
   "metadata": {
    "cell_style": "split",
    "deletable": false,
    "editable": false,
    "run_control": {
     "frozen": true
    }
   },
   "source": [
    "<br>"
   ]
  },
  {
   "cell_type": "code",
   "execution_count": null,
   "metadata": {
    "cell_style": "split",
    "deletable": false,
    "editable": false,
    "scrolled": true
   },
   "outputs": [],
   "source": [
    "## Code 7.2.1 ##\n",
    "\n",
    "lst = ['a', 'b', 'c', 'd', 'e']\n",
    "\n",
    "print(lst[0]) # a\n",
    "print(lst[1]) # b\n",
    "print(lst[2]) # c\n",
    "print(lst[3]) # d\n",
    "print(lst[4]) # e"
   ]
  },
  {
   "cell_type": "markdown",
   "metadata": {
    "cell_style": "split",
    "deletable": false,
    "editable": false,
    "run_control": {
     "frozen": true
    }
   },
   "source": [
    "<br>\n",
    "<div style = \"width:image width px; font-size:80%; text-align:center;\"><img src= ./__images/chapter-7-anatomy_of_for_loop.png width=\"1000\" height=\"600\" style=\"padding-bottom:0.5em;\"> <em>Figure 7.1: Anatomy of a for Loop</em></div>\n",
    "<br>"
   ]
  },
  {
   "cell_type": "code",
   "execution_count": null,
   "metadata": {
    "cell_style": "split",
    "deletable": false,
    "editable": false
   },
   "outputs": [],
   "source": [
    "## Code 7.2.2 ##\n",
    "\n",
    "# adapted from Code 7.1.1\n",
    "\n",
    "lst = ['a', 'b', 'c', 'd', 'e']\n",
    "\n",
    "# for loop\n",
    "for random_name in lst:\n",
    "    print(random_name)"
   ]
  },
  {
   "cell_type": "markdown",
   "metadata": {
    "cell_style": "split",
    "deletable": false,
    "editable": false,
    "run_control": {
     "frozen": true
    }
   },
   "source": [
    "<br>"
   ]
  },
  {
   "cell_type": "code",
   "execution_count": null,
   "metadata": {
    "cell_style": "split",
    "deletable": false,
    "editable": false
   },
   "outputs": [],
   "source": [
    "## Code 7.2.3 ##\n",
    "\n",
    "# printing random_name\n",
    "print(random_name)"
   ]
  },
  {
   "cell_type": "markdown",
   "metadata": {
    "cell_style": "split",
    "deletable": false,
    "editable": false,
    "run_control": {
     "frozen": true
    }
   },
   "source": [
    "<br>"
   ]
  },
  {
   "cell_type": "code",
   "execution_count": null,
   "metadata": {
    "cell_style": "split"
   },
   "outputs": [],
   "source": [
    "## Code 7.2.4 ##\n",
    "\n",
    "# open coding block\n",
    "\n",
    "fruits = ['apple', 'banana', 'grape',\n",
    "          'orange', 'pear', 'tomato']\n",
    "\n",
    "# for loop\n",
    "for _____ in fruits:\n",
    "    print(_____)"
   ]
  },
  {
   "cell_type": "markdown",
   "metadata": {
    "cell_style": "split",
    "deletable": false,
    "editable": false,
    "run_control": {
     "frozen": true
    }
   },
   "source": [
    "<br>"
   ]
  },
  {
   "cell_type": "code",
   "execution_count": null,
   "metadata": {
    "cell_style": "split",
    "code_folding": [],
    "deletable": false,
    "editable": false
   },
   "outputs": [],
   "source": [
    "## Code 7.2.5 ##\n",
    "\n",
    "# adapted from Code 7.2.2\n",
    "\n",
    "lst = ['a', 'b', 'c', 'd', 'e']\n",
    "number = 5\n",
    "\n",
    "# for loop\n",
    "for random_name in lst:\n",
    "    print(number)\n",
    "    number += number"
   ]
  },
  {
   "cell_type": "markdown",
   "metadata": {
    "cell_style": "split",
    "deletable": false,
    "editable": false,
    "run_control": {
     "frozen": true
    }
   },
   "source": [
    "<br>"
   ]
  },
  {
   "cell_type": "markdown",
   "metadata": {
    "cell_style": "center",
    "deletable": false,
    "editable": false,
    "run_control": {
     "frozen": true
    }
   },
   "source": [
    "<table width=\"375\" align=\"left\">\n",
    "<col width=\"40\">\n",
    "<col width=\"350\">\n",
    "    <tr>\n",
    "        <th>Line</th>\n",
    "        <th>Interpretation</th>\n",
    "    </tr>\n",
    "    <tr>\n",
    "        <td>5-6</td>\n",
    "        <td> The objects <em>lst</em> and <em>number</em> are being defined.</td>\n",
    "    </tr>\n",
    "    <tr>\n",
    "    <tr>\n",
    "        <td>9</td>\n",
    "        <td> for loop is being defined. Python is determining how<br> many iterations to run by counting the length of <em>lst</em>.</td>\n",
    "    </tr>\n",
    "    <tr>\n",
    "        <td>10</td>\n",
    "        <td> <em>number</em> is being printed.</td>\n",
    "    </tr>   \n",
    "    <tr>\n",
    "        <td>11</td>\n",
    "        <td> <em>number</em> is being incremented by itself<br> (doubling with each iteration)</td>\n",
    "    </tr>\n",
    "</table>"
   ]
  },
  {
   "cell_type": "markdown",
   "metadata": {
    "deletable": false,
    "editable": false,
    "run_control": {
     "frozen": true
    }
   },
   "source": [
    "<hr style=\"height:.9px;border:none;color:#333;background-color:#333;\" /><br>\n",
    "\n",
    "<h2>7.3 Iterating on Inner Objects</h2>\n",
    "\n",
    "Oftentimes, <strong>for loops</strong> contain conditional statements. It is very likely that we will encounter situations where we would like to replace values in a list that meet a certain condition, while leaving all other list elements alone. For example, this may occur when working with datasets that contain missing values. Missing values are quite intriguing and will be covered in greater detail in a later chapter. However, for this chapter, it is important to realize that they hinder several analytical operations in programming languages such as Python.\n",
    "<br><br>\n",
    "The list in <em>Code 7.3.1</em> represents retail prices at a local clothing store. For this example, the company's database has become corrupted and some of the pricing data has been lost (labeled as <em>'missing'</em> in the dataset). Since <em>inventory</em> is a list of lists, the for loop in <em>Code 7.3.1</em> returns a list with each iteration.\n",
    "\n",
    "<br>"
   ]
  },
  {
   "cell_type": "code",
   "execution_count": null,
   "metadata": {
    "deletable": false,
    "editable": false
   },
   "outputs": [],
   "source": [
    "## Code 7.3.1 ##\n",
    "\n",
    "# creating an inventory list\n",
    "inventory = [['red blouse', 'missing'], ['pink blouse', 95],\n",
    "                     ['orange blouse', 100], ['yellow blouse', 'missing'],\n",
    "                     ['green blouse', 'missing'], ['blue blouse', 90],\n",
    "                     ['navy blouse', 103], ['purple blouse', 129],\n",
    "                     ['black blouse', 95], ['white blouse', 102],\n",
    "                     ['red skirt', 75], ['pink skirt', 75],\n",
    "                     ['orange skirt', 66], ['yellow skirt', 67],\n",
    "                     ['green skirt', 73], ['blue skirt', 'missing'],\n",
    "                     ['navy skirt', 79], ['purple skirt', 74],\n",
    "                     ['black skirt', 'missing'], ['white skirt', 68]]\n",
    "\n",
    "for info in inventory:\n",
    "    print(info)"
   ]
  },
  {
   "cell_type": "markdown",
   "metadata": {
    "deletable": false,
    "editable": false,
    "run_control": {
     "frozen": true
    }
   },
   "source": [
    "<br>"
   ]
  },
  {
   "cell_type": "markdown",
   "metadata": {
    "cell_style": "split",
    "deletable": false,
    "editable": false,
    "run_control": {
     "frozen": true
    }
   },
   "source": [
    "<h4>Looping Deeper</h4>\n",
    "Given that lists are iterable, lists within lists are also iterable. We can iterate over each item in the inner lists by passing two iteration objects instead of one (<em>Code 7.3.2</em>). If we only wanted to print prices, we could modify our loop as follows:\n",
    "<br><br>\n",
    "\n",
    "~~~\n",
    "for item, price in inventory:\n",
    "    print(price)\n",
    "~~~\n",
    "\n",
    "<br>\n",
    "<strong>Note:</strong> In proper terms, the loop in <em>Code 7.3.2</em> is <strong>unpacking</strong> two values from <em>inventory</em> (<em>item</em> and <em>price</em>). Since each of the inner lists have a length of two, Python knows it needs to iterate over each inner list instead of the outer list. Note that this will only work if all lists are of the same length. If this is not the case, the same result can be achieved by nesting a for loop inside of another for loop, which is explained below.\n",
    "\n",
    "<h4>Looping Even Deeper</h4>\n",
    "As you may recall from <em>Section 7.1</em>, loops can also iterate over strings (i.e. each clothing item in our dataset). In the case of the <em>inventory</em> object, this can be accomplished by nesting a loop inside of another loop. Below is a step-by-step explanation of <em>Code 7.3.3</em>:\n",
    "\n",
    "1. The outer loop tells Python to iterate over each inner list in the <em>inventory</em> object.<br><br>\n",
    "2. Although two components are being iterated over in the outer loop (<em>item</em> and <em>price</em>), only <em>item</em> is being used in the inner loop (<em>price</em> is never referenced, and thus its value is discarded with each iteration of the loop)."
   ]
  },
  {
   "cell_type": "markdown",
   "metadata": {
    "cell_style": "split",
    "deletable": false,
    "editable": false,
    "run_control": {
     "frozen": true
    }
   },
   "source": [
    "<br>"
   ]
  },
  {
   "cell_type": "code",
   "execution_count": null,
   "metadata": {
    "cell_style": "split",
    "deletable": false,
    "editable": false
   },
   "outputs": [],
   "source": [
    "## Code 7.3.2 ##\n",
    "\n",
    "# looping over each inner list\n",
    "for item, price in inventory:\n",
    "    print(item + ':', price)"
   ]
  },
  {
   "cell_type": "markdown",
   "metadata": {
    "cell_style": "split",
    "deletable": false,
    "editable": false,
    "run_control": {
     "frozen": true
    }
   },
   "source": [
    "<br>"
   ]
  },
  {
   "cell_type": "code",
   "execution_count": null,
   "metadata": {
    "cell_style": "split",
    "deletable": false,
    "editable": false
   },
   "outputs": [],
   "source": [
    "## Code 7.3.3 ##\n",
    "\n",
    "# outer loop\n",
    "for item, price in inventory:\n",
    "    \n",
    "    # adding an inner loop\n",
    "    for letter in item:\n",
    "        print(letter)"
   ]
  },
  {
   "cell_type": "markdown",
   "metadata": {
    "cell_style": "split",
    "deletable": false,
    "editable": false,
    "run_control": {
     "frozen": true
    }
   },
   "source": [
    "<br>"
   ]
  },
  {
   "cell_type": "code",
   "execution_count": null,
   "metadata": {
    "cell_style": "split",
    "deletable": false,
    "editable": false
   },
   "outputs": [],
   "source": [
    "## Code 7.3.4 ##\n",
    "\n",
    "# creating a string object\n",
    "my_string = 'string'\n",
    "\n",
    "# looping over a string\n",
    "for letter in my_string:\n",
    "    print(letter)"
   ]
  },
  {
   "cell_type": "markdown",
   "metadata": {
    "deletable": false,
    "editable": false,
    "run_control": {
     "frozen": true
    }
   },
   "source": [
    "3. The inner loop inherits each element of <em>item</em>, one at a time, and iterates over each of its strings, letter by letter (remember, the inner loop only receives one string from <em>item</em> at a time). Once it has finished iterating over each letter in a string from <em>item</em>, the inner loop finishes running.<br><br>\n",
    "4. The outer loop iterates over the next item from <em>inventory</em>, passes <em>item</em> to the inner loop, and the inner loop prints out each individual letter in <em>item</em>. This process continues until the outer loop has nothing left to iterate over.\n",
    "\n",
    "<br>\n",
    "<strong>Note:</strong> For a further example of iterating over strings, see <em>Code 7.3.4</em>.<br><br>\n",
    "\n",
    "<hr style=\"height:.9px;border:none;color:#333;background-color:#333;\" /><br>\n",
    "\n",
    "<h2>7.4 Enhancing <em>for</em> loops with Conditional Statements</h2>\n",
    "\n",
    "The weekend is coming and the shop owner would like to hold a store-wide sale, offering each item at 90% of its original price, rounded to the nearest whole number. The shop owner could calculate the sale price for each individual item line-by-line, but this has several disadvantages, namely:\n",
    "\n",
    "1. The code would be hard to update if the discount level changed (lack of replicability).<br><br>\n",
    "2. If new items were added to the inventory, the shop owner would need to write more lines of code (lack of extensibility).<br><br>\n",
    "3. Compared to coding a loop, individually discounting each item would take longer and be more susceptible to bugs (poor coding hygiene).\n",
    "\n",
    "<br>\n",
    "Let's also imagine that instead of only 20 items, the shop owner had a much larger inventory, making it infeasible to code discounts item-by-item. Given these disadvantages, the shop owner writes the <strong>for loop</strong> in <em>Code 7.4.1</em>. However, due to the missing values in the list, the code throws an error. This is because Python does not know what to do when encountering a string being multiplied by a float. Thus, the list items labeled as <em>'missing'</em> are creating a problem.\n",
    "\n",
    "<br>"
   ]
  },
  {
   "cell_type": "code",
   "execution_count": null,
   "metadata": {
    "deletable": false,
    "editable": false
   },
   "outputs": [],
   "source": [
    "## Code 7.4.1 ##\n",
    "\n",
    "# Note: Code will throw an error.\n",
    "\n",
    "# empty list (to be filled in the loop)\n",
    "weekend_sale_prices = []\n",
    "\n",
    "# loop to create prices for the weekend sale\n",
    "for price in inventory[:]:\n",
    "    sale_price = int(price * 0.90)\n",
    "    weekend_sale_prices.append(sale_price)\n",
    "\n",
    "# printing the prices for the weekend sale\n",
    "print(weekend_sale_prices)"
   ]
  },
  {
   "cell_type": "markdown",
   "metadata": {
    "deletable": false,
    "editable": false,
    "run_control": {
     "frozen": true
    }
   },
   "source": [
    "<br>\n",
    "The shop owner needs to come up with a strategy for imputing the missing prices. Given the owner has domain knowledge of the retail industry, as well as the prices of other items in the shop, she decides that each missing price should have a value of 100. The code snippet below exhibits an <strong>if</strong> statement to solve the challenge of imputing the <em>'missing'</em> prices. While this is a good approach, it suffers from one important drawback: the imputation value for price is being hard coded.\n",
    "<br><br>\n",
    "\n",
    "~~~\n",
    "for price in inventory:\n",
    "    \n",
    "    if price == 'missing':\n",
    "        price = 100\n",
    "\n",
    "    sale_price = round(price * 0.90, 0)\n",
    "    print(sale_price)\n",
    "~~~\n",
    "\n",
    "<br>\n",
    "\n",
    "<h4>Hard Coding v. Soft Coding</h4>\n",
    "<strong>Hard coding</strong> is the process of writing code that contains static syntax (i.e., using <em>hard</em> numbers instead of objects). It may not make a huge difference in the snippet above, but it can create several frustrations in larger codes. For example, let's imagine we were using the imputed value of price (<em> price = 100 </em>) in more than one place in our code. If it was later decided that missing prices should be imputed at a value of 200, we would need to be very careful to ensure that we update every <em>price = 100</em> throughout our script. Additionally, this change may take a long time to code, test, and debug.\n",
    "<br><br>\n",
    "Generally, a good practice is to <strong>soft code</strong> whenever possible. <strong>Soft coding</strong> is the process of writing code utilizing objects instead of static syntax. This allows programmers to declare an object in one place and reuse its value(s) throughout the code. If a requirement came in to change an object's value (i.e., the imputation value for price), this change would only need to be made in one place. Below is a modified code snippet that utilizes soft coding.\n",
    "<br><br>\n",
    "\n",
    "~~~\n",
    "imputation_price = 100\n",
    "\n",
    "for price in inventory:\n",
    "    \n",
    "    if price == 'missing':\n",
    "        price = imputation_price\n",
    "\n",
    "    sale_price = round(price * 0.90, 0)\n",
    "    print(sale_price)\n",
    "~~~\n",
    "\n",
    "<br>\n",
    "<em>Code 7.4.2</em> utilizes a conditional statement to check whether a price is missing, and then utilizes a soft-coded value to impute such anomalies. Once missing prices have been imputed, sale prices are calculated by multiplying the original price by <em>0.90</em>. Sale prices are then stored in a new list object (<em>enhanced_inventory</em>). The final <strong>for loop</strong> prints <em>enhanced_inventory</em> item-by-item. As can be observed from the output of the final loop, sale prices have successfully been processed without error.\n",
    "\n",
    "<br>"
   ]
  },
  {
   "cell_type": "code",
   "execution_count": null,
   "metadata": {
    "deletable": false,
    "editable": false
   },
   "outputs": [],
   "source": [
    "## Code 7.4.2 ##\n",
    "\n",
    "# adapted from Code 7.3.1\n",
    "\n",
    "# creating a new inventory list to include sale price \n",
    "enhanced_inventory = []\n",
    "\n",
    "# soft coding imputation value for price\n",
    "imputed_price = 100\n",
    "\n",
    "# adding a conditional to the for loop\n",
    "for item, price in inventory:\n",
    "    \n",
    "    # setting imputation for missing price\n",
    "    if price == 'missing':\n",
    "        price = imputed_price\n",
    "\n",
    "    # setting sale price\n",
    "    sale_price = round(price * 0.90, 0)\n",
    "    \n",
    "    # adding item, price, and sale_price to enhanced_inventory list\n",
    "    enhanced_inventory.extend([[item, price, sale_price]])\n",
    "\n",
    "# printing enhanced inventory\n",
    "for info in enhanced_inventory:\n",
    "    print(info)"
   ]
  },
  {
   "cell_type": "markdown",
   "metadata": {
    "deletable": false,
    "editable": false,
    "run_control": {
     "frozen": true
    }
   },
   "source": [
    "<br><hr style=\"height:.9px;border:none;color:#333;background-color:#333;\" /><br>\n",
    "\n",
    "<h2>7.5 Adding More Depth with Nested Conditionals</h2>\n",
    "\n",
    "As can be imagined, imputing all missing prices with the same value may not be the best approach. In other words, this strategy may be too general, and it may be more appropriate to impute based on more detailed characteristics of the data. If we can find a trend in the given information, we may feel more confident that our imputed prices more accurately reflect the true prices of each item in our inventory. Given that we currently have no way of knowing what the true value of our missing prices should be, we are unable to measure our degree of imputation accuracy. This challenge will be covered in more detail in a later chapter, but for now, we can run some basic statistics in order to better understand our pricing scheme.\n",
    "<br><br>\n",
    "<strong>Take a look at the information (the data) in <em>Code 7.4.2</em>. Do you notice any trends on which we can use to modify our imputation strategy?</strong> An open coding block is available below in the event that you would like to make any calculations. After your analysis, click <em>Show Solution</em> to see which trend we will be utilizing to enhance our imputation strategy.\n",
    "\n",
    "<br>"
   ]
  },
  {
   "cell_type": "code",
   "execution_count": null,
   "metadata": {
    "solution2": "hidden",
    "solution2_first": true
   },
   "outputs": [],
   "source": [
    "## Code 7.5.1 ##\n",
    "\n",
    "# open coding block\n",
    "\n"
   ]
  },
  {
   "cell_type": "markdown",
   "metadata": {
    "deletable": false,
    "editable": false,
    "run_control": {
     "frozen": true
    },
    "solution2": "hidden"
   },
   "source": [
    "<em><strong>Sample Trend:</strong> It appears that blouses are quite a bit more expensive than skirts.</em>"
   ]
  },
  {
   "cell_type": "markdown",
   "metadata": {
    "deletable": false,
    "editable": false,
    "run_control": {
     "frozen": true
    }
   },
   "source": [
    "<hr style=\"height:.9px;border:none;color:#333;background-color:#333;\" /><br>\n",
    "\n",
    "As the inventory list was small, no explicit calculations were necessary to arrive at the aforementioned trend. Every blouse is more expensive than every skirt with no exceptions. However, it will rarely be this straightforward in real-world data analysis. Thus, it is essential to confirm such a finding numerically.\n",
    "<br>\n",
    "<h4>Calculating (Arithmetic) Means from List Items</h4>\n",
    "Python's <a href=\"https://docs.scipy.org/doc/numpy/user/index.html\">numpy</a> package is packed with useful methods to make calculating <a href=\"https://en.wikipedia.org/wiki/Descriptive_statistics\">descriptive statistics</a> quite simple. In the case of the (arithmetic) mean, <em>numpy</em> contains a method that is appropriately named <strong>mean()</strong>. In order to access it, we first need to import <em>numpy</em>. Conventionally, <em>numpy</em> is imported as <em>np</em>.\n",
    "<br><br>\n",
    "\n",
    "~~~\n",
    "import numpy as np\n",
    "\n",
    "help(np.mean)\n",
    "~~~\n",
    "\n",
    "<br>\n",
    "\n",
    "<em>Code 7.5.2</em> utilizes <em>numpy's</em> <strong>mean()</strong> method, as well as a conditional statement to identify whether or not an item is a skirt or a blouse:\n",
    "\n",
    "<br>"
   ]
  },
  {
   "cell_type": "code",
   "execution_count": null,
   "metadata": {
    "deletable": false,
    "editable": false
   },
   "outputs": [],
   "source": [
    "## Code 7.5.2 ##\n",
    "\n",
    "import numpy as np\n",
    "\n",
    "# creating empty lists for blouses and skirts\n",
    "blouse_prices = []\n",
    "skirt_prices  = []\n",
    "\n",
    "for item, price, sale_price in enhanced_inventory:\n",
    "    if 'blouse' in item:\n",
    "        blouse_prices.append([price])\n",
    "    \n",
    "    elif 'skirt' in item:\n",
    "        skirt_prices.append([price])\n",
    "\n",
    "    else:\n",
    "        print('Unidentified inventory.')\n",
    "\n",
    "# calculating (arithmetic) means\n",
    "blouse_avg = np.mean(blouse_prices)\n",
    "skirt_avg  = np.mean(skirt_prices)\n",
    "\n",
    "print(f\"\"\"\n",
    "Arithmetic Averages:\n",
    "Avg. Blouse Price: {blouse_avg}\n",
    "Avg. Skirt Price:  {skirt_avg}\n",
    "\"\"\")"
   ]
  },
  {
   "cell_type": "markdown",
   "metadata": {
    "deletable": false,
    "editable": false,
    "run_control": {
     "frozen": true
    }
   },
   "source": [
    "<br>\n",
    "\n",
    "The code block above can be broken down as follows:"
   ]
  },
  {
   "cell_type": "markdown",
   "metadata": {
    "deletable": false,
    "editable": false,
    "run_control": {
     "frozen": true
    }
   },
   "source": [
    "<table width=\"375\" align=\"left\">\n",
    "<col width=\"60\">\n",
    "<col width=\"350\">\n",
    "    <tr>\n",
    "        <th>Line</th>\n",
    "        <th>Interpretation</th>\n",
    "    </tr>\n",
    "    <tr>\n",
    "        <td>3</td>\n",
    "        <td> importing numpy as np</td>\n",
    "    </tr>\n",
    "    <tr>\n",
    "        <td>6-7</td>\n",
    "        <td> creating empty lists to separately store blouse and skirt prices</td>\n",
    "    </tr>\n",
    "    <tr>\n",
    "        <td>9-17</td>\n",
    "        <td> for loop to append the <em>blouse_prices</em> and <em>skirt_prices</em> lists</td>\n",
    "    </tr>   \n",
    "    <tr>\n",
    "        <td>20-21</td>\n",
    "        <td> using <em>np.mean</em> to calculate (arithmetic) average prices</td>\n",
    "    </tr>\n",
    "    <tr>\n",
    "        <td>23-27</td>\n",
    "        <td> printing the results</td>\n",
    "    </tr>\n",
    "    \n",
    "</table>"
   ]
  },
  {
   "cell_type": "markdown",
   "metadata": {
    "deletable": false,
    "editable": false,
    "run_control": {
     "frozen": true
    }
   },
   "source": [
    "<em>Code 7.5.2</em> clearly shows a difference between the (arithmetic) average price of blouses and skirts. This indicates that the shop owner's imputation strategy may be improved with the use of such information. Such an enhancement has been performed in <em>Code 7.5.3</em>.\n",
    "<br><br>\n",
    "<strong>Note:</strong> The term <em>mean</em> (i.e., average) is very general and can refer to a number of different statistics, the goal of each being to accurately identify a central point in the data. The term <a href=\"https://docs.scipy.org/doc/numpy/reference/generated/numpy.mean.html\">arithmetic mean</a> specifically refers to the <em>'average'</em> that is calculated by taking the sum of each item in an array (a list, column of data, etc.) and dividing it by the number of items in the array. This is likely the <em>'average'</em> you learned in grade school, along with the <em>median</em> and <em>mode</em>. From this point forward, the term <em>mean</em> will refer to the arithmetic mean.\n",
    "\n",
    "<br>"
   ]
  },
  {
   "cell_type": "code",
   "execution_count": null,
   "metadata": {
    "deletable": false,
    "editable": false
   },
   "outputs": [],
   "source": [
    "## Code 7.5.3 ##\n",
    "\n",
    "import numpy as np\n",
    "\n",
    "# creating empty lists for blouses and skirts\n",
    "blouse_prices = []\n",
    "skirt_prices  = []\n",
    "\n",
    "# returning to the original inventory list\n",
    "for item, price in inventory:\n",
    "\n",
    "    if price != 'missing':\n",
    "        if 'blouse' in item:\n",
    "            blouse_prices.append([price])\n",
    "    \n",
    "        elif 'skirt' in item:\n",
    "            skirt_prices.append([price])\n",
    "\n",
    "        else:\n",
    "            print('Unidentified inventory.')\n",
    "\n",
    "\n",
    "# soft coding imputation prices\n",
    "blouse_imputation = round(np.mean(blouse_prices), 2)\n",
    "skirt_imputation  = round(np.mean(skirt_prices), 2)\n",
    "\n",
    "# creating a new inventory list to include sale price \n",
    "enhanced_inventory = []\n",
    "\n",
    "# returning to the original inventory list\n",
    "for item, price in inventory:\n",
    "    \n",
    "    # setting imputation for missing price\n",
    "    if price == 'missing' and 'blouse' in item:\n",
    "        price = blouse_imputation\n",
    "    \n",
    "    elif price == 'missing' and 'skirt' in item:\n",
    "        price = skirt_imputation\n",
    "\n",
    "    # setting sale price\n",
    "    sale_price = round(price * 0.90, 0)\n",
    "    \n",
    "    # adding item, price, and sale_price to enhanced_inventory list\n",
    "    enhanced_inventory.extend([[item, price, sale_price]])\n",
    "\n",
    "# printing enhanced inventory\n",
    "for info in enhanced_inventory:\n",
    "    print(info)"
   ]
  },
  {
   "cell_type": "markdown",
   "metadata": {
    "deletable": false,
    "editable": false,
    "run_control": {
     "frozen": true
    }
   },
   "source": [
    "<br>\n",
    "Finally, the shop owner has arrived at appropriate sale prices for her inventory. As a final step, let's utilize our knowledge of f-strings to create a flier to help promote the weekend sale. <em>Code 7.5.4</em> is an open coding block designated for this purpose.\n",
    "<br><br>"
   ]
  },
  {
   "cell_type": "code",
   "execution_count": null,
   "metadata": {
    "solution2": "hidden",
    "solution2_first": true
   },
   "outputs": [],
   "source": [
    "## Code 7.5.4 ##\n",
    "\n",
    "# open coding block\n",
    "\n",
    "\n"
   ]
  },
  {
   "cell_type": "code",
   "execution_count": null,
   "metadata": {
    "deletable": false,
    "editable": false,
    "solution2": "hidden"
   },
   "outputs": [],
   "source": [
    "## Sample Solution 7.5.4 ##\n",
    "\n",
    "# importing necessary packages\n",
    "import numpy as np # mathematical essentials\n",
    "import random      # randomness\n",
    "\n",
    "\n",
    "# randomly selecting items\n",
    "ad_item_1 = random.choice(enhanced_inventory)\n",
    "ad_item_2 = random.choice(enhanced_inventory)\n",
    "\n",
    "\n",
    "# allowing for user personalization\n",
    "shop_name = input(\"Create a name for the clothing shop.\\n\")\n",
    "sale_name = input(\"Create a name for the sales event.\\n\")\n",
    "\n",
    "\n",
    "# developing a dynamic flier\n",
    "print(f\"\"\"\n",
    "{'*' * 40}\n",
    "\n",
    "Once again, {shop_name} is having their famous {sale_name} this weekend!\n",
    "\n",
    "All items have been discounted to 90% of their original price!\n",
    "\n",
    "Our beautiful {ad_item_1[0]}s have been marked down from {ad_item_1[1]} to {ad_item_1[2]}!\n",
    "Our long-lasting {ad_item_2[0]}s have been marked down from {ad_item_2[1]} to {ad_item_2[2]}!\n",
    "\n",
    "Don't miss out! Come see our entire selection of discounted merchandise at\n",
    "{sale_name} this weekend at {shop_name}!\n",
    "\n",
    "{'*' * 40}\n",
    "\"\"\")\n"
   ]
  },
  {
   "cell_type": "markdown",
   "metadata": {
    "deletable": false,
    "editable": false,
    "run_control": {
     "frozen": true
    }
   },
   "source": [
    "<br><hr style=\"height:.9px;border:none;color:#333;background-color:#333;\" /><br>\n",
    "\n",
    "<h2>7.6 Summary</h2>\n",
    "\n",
    "Although <strong>for loops</strong> may seem more confusing than our previous content, they are a very important concept to master. They are an incredibly valuable alternative to copy/pasting and trying to iterate line-by-line. The next chapter will continue the discussion of iteration by diving into <strong>while loops</strong>.\n",
    "<br><br>\n",
    "\n",
    "~~~\n",
    " __    __              _                        _ \n",
    "/ / /\\ \\ \\__ _ _   _  | |_ ___     __ _  ___   / \\\n",
    "\\ \\/  \\/ / _` | | | | | __/ _ \\   / _` |/ _ \\ /  /\n",
    " \\  /\\  / (_| | |_| | | || (_) | | (_| | (_) /\\_/ \n",
    "  \\/  \\/ \\__,_|\\__, |  \\__\\___/   \\__, |\\___/\\/   \n",
    "               |___/              |___/           \n",
    "~~~"
   ]
  },
  {
   "cell_type": "markdown",
   "metadata": {
    "deletable": false,
    "editable": false,
    "run_control": {
     "frozen": true
    }
   },
   "source": [
    "<br>"
   ]
  }
 ],
 "metadata": {
  "kernelspec": {
   "display_name": "Python 3",
   "language": "python",
   "name": "python3"
  },
  "language_info": {
   "codemirror_mode": {
    "name": "ipython",
    "version": 3
   },
   "file_extension": ".py",
   "mimetype": "text/x-python",
   "name": "python",
   "nbconvert_exporter": "python",
   "pygments_lexer": "ipython3",
   "version": "3.8.5"
  },
  "toc": {
   "base_numbering": 1,
   "nav_menu": {},
   "number_sections": false,
   "sideBar": true,
   "skip_h1_title": false,
   "title_cell": "Table of Contents",
   "title_sidebar": "Contents",
   "toc_cell": false,
   "toc_position": {
    "height": "calc(100% - 180px)",
    "left": "10px",
    "top": "150px",
    "width": "207.675px"
   },
   "toc_section_display": true,
   "toc_window_display": false
  },
  "varInspector": {
   "cols": {
    "lenName": 16,
    "lenType": 16,
    "lenVar": 40
   },
   "kernels_config": {
    "python": {
     "delete_cmd_postfix": "",
     "delete_cmd_prefix": "del ",
     "library": "var_list.py",
     "varRefreshCmd": "print(var_dic_list())"
    },
    "r": {
     "delete_cmd_postfix": ") ",
     "delete_cmd_prefix": "rm(",
     "library": "var_list.r",
     "varRefreshCmd": "cat(var_dic_list()) "
    }
   },
   "types_to_exclude": [
    "module",
    "function",
    "builtin_function_or_method",
    "instance",
    "_Feature"
   ],
   "window_display": false
  }
 },
 "nbformat": 4,
 "nbformat_minor": 2
}
