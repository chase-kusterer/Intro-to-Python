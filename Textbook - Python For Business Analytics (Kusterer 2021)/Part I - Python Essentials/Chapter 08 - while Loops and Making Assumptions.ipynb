{
 "cells": [
  {
   "cell_type": "markdown",
   "metadata": {
    "deletable": false,
    "editable": false,
    "run_control": {
     "frozen": true
    }
   },
   "source": [
    "<hr style=\"height:.9px;border:none;color:#333;background-color:#333;\" />\n",
    "<hr style=\"height:.9px;border:none;color:#333;background-color:#333;\" />\n",
    "<br><br><br>\n",
    "<h1>Python for Business Analytics</h1>\n",
    "<em>A Nontechnical Approach for Nontechnical People</em><br><br>\n",
    "<em><strong>Custom Edition for Hult International Business School</strong></em><br>\n",
    "\n",
    "Written by Chase Kusterer - Faculty of Analytics <br>\n",
    "Hult International Business School <br>\n",
    "https://github.com/chase-kusterer<br><br><br><br><br>\n",
    "\n",
    "<hr style=\"height:.9px;border:none;color:#333;background-color:#333;\" />\n",
    "<hr style=\"height:.9px;border:none;color:#333;background-color:#333;\" />\n",
    "<br>\n",
    "\n",
    "<h1><u>Chapter 8: while Loops and Making Assumptions</u></h1>"
   ]
  },
  {
   "cell_type": "markdown",
   "metadata": {
    "deletable": false,
    "editable": false,
    "run_control": {
     "frozen": true
    }
   },
   "source": [
    "As mentioned in <strong>Chapter 7: for Loops and Basic Data Manipulation</strong>, a <strong>while loop</strong> can be thought of as an extension of a conditional statement. More specifically, a <strong>while loop</strong> is like a hybrid between a conditional statement and a for loop. They are similar to for loops in the sense that they iterate. Similar to conditional statements, as long as the condition(s) specified is met, a <strong>while loop</strong> will continue running. This powerful coding structure is incredibly useful, as it enables programmers to accomplish a wide array of tasks. For example, they can be used to:\n",
    "\n",
    "* take a list of all the students in a cohort and break them into teams of four\n",
    "* allow a user to reenter their password if their first attempt was invalid\n",
    "* calculate how many NBA seasons it took for Michael Jordan to score 25,000 points\n",
    "\n",
    "<br>\n",
    "In addition to the fundamentals of <strong>while loops</strong>, this chapter will also cover some syntax that is also useful in other coding structures, namely for loops and user-defined functions (covered in the next chapter). For example, in many situations a programmer needs to <strong>break</strong> out of the body of a loop before an iteration has finished. At other times, it may be necessary to skip over an item in an iterable and <strong>continue</strong> the loop by iterating on the next item. As you may have guessed, the syntaxes that enable such functionality are <a href=\"https://docs.python.org/3/tutorial/controlflow.html#break-and-continue-statements-and-else-clauses-on-loops\">break</a> and <a href=\"https://docs.python.org/3/tutorial/controlflow.html#break-and-continue-statements-and-else-clauses-on-loops\">continue</a>. Both are essential in building a solid foundation in Python.\n",
    "<br><br>\n",
    "<strong>Note:</strong> As mentioned, <strong>while loops</strong> will run until a specified condition is no longer met. If we are not careful, we may get stuck in a loop that does not stop running. Before moving forward, you may want to go back to <strong>Chapter 1: Setting Up for Success</strong> to refresh on what to do in such a situation. As an example, notice the difference between <em>Codes 8.0.1</em> and <em>8.0.2</em>. Without the final line in the body of the <strong>while loop</strong>, the loop's condition is always met and the code runs on into infinity (<em>Code 8.0.2</em>). <strong>Make sure you understand how to interrupt your kernel before running this code!</strong>\n",
    "\n",
    "<br>"
   ]
  },
  {
   "cell_type": "code",
   "execution_count": null,
   "metadata": {
    "cell_style": "split",
    "deletable": false,
    "editable": false
   },
   "outputs": [],
   "source": [
    "## Code 8.0.1 ##\n",
    "\n",
    "# adapted from Code 7.1.2\n",
    "\n",
    "# declaring x\n",
    "x = 5\n",
    "\n",
    "# while loop\n",
    "while x > 0:\n",
    "    print(x)\n",
    "    x -= 1"
   ]
  },
  {
   "cell_type": "code",
   "execution_count": null,
   "metadata": {
    "cell_style": "split",
    "deletable": false,
    "editable": false
   },
   "outputs": [],
   "source": [
    "## Code 8.0.2 ##\n",
    "\n",
    "#!# WARNING! The while loop will run forever.\n",
    "\n",
    "# declaring x\n",
    "x = 5\n",
    "\n",
    "# while loop with final line commented out\n",
    "while x > 0:\n",
    "    print(x)\n",
    "#   x -= 1"
   ]
  },
  {
   "cell_type": "markdown",
   "metadata": {
    "cell_style": "center",
    "deletable": false,
    "editable": false,
    "run_control": {
     "frozen": true
    }
   },
   "source": [
    "<br><hr style=\"height:.9px;border:none;color:#333;background-color:#333;\" /><br>\n",
    "\n",
    "<h2>8.1 The Fundamentals of <em>while loops</em></h2>\n",
    "\n",
    "As mentioned in the introduction to this chapter, <strong>while loops</strong> can be utilized to accomplish tasks such as taking a list of all the students in a cohort and breaking them into teams of four. To exemplify this, let's assume our cohort had a total of eight students, as in <em>Code 8.1.1</em>. Let's also assume that teams need to be random and that no student is allowed to be on more than one team. In order to accomplish our task, we need to develop a code that:\n",
    "\n",
    "* randomly selects a student and puts them on a team\n",
    "* removes the student from the selection pool so that they do not end up on more than one team (sampling without replacement)\n",
    "* fills each team to exactly four members\n",
    "* keeps iterating until every student has been placed on a team\n",
    "<br><br>\n",
    "\n",
    "We will start by importing the random package so that we can utilize the method <a href=\"https://docs.python.org/3/library/random.html#functions-for-sequences\">choice</a> in our code. This method is designed to randomly choose one element from a population. Given our requirements, a drawback to using this method is that it samples with replacement, meaning there is a chance that a student will be selected more than once."
   ]
  },
  {
   "cell_type": "markdown",
   "metadata": {
    "cell_style": "center",
    "deletable": false,
    "editable": false,
    "run_control": {
     "frozen": true
    }
   },
   "source": [
    "Unfortunately, there is no optional argument in <strong>random.choice</strong> that enables sampling without replacement. However, the problem of selecting a student more than once can be avoided through a clever design of our code. What if, after a student is selected in an iteration of our loop, they were removed from the <em>students</em> list? This way, there would be no chance of the same student being selected in the next iteration of the loop, as the student would no longer be available for selection. This can be achieved by applying the <strong>.remove()</strong> method on <em>students</em>.\n",
    "<br><br>\n",
    "Also note that at first, the condition of the <strong>while loop</strong> may seem unclear. Essentially, this condition is telling Python to keep looping as long as there is something to iterate over in <em>students</em>. In fact, the syntax:\n",
    "<br><br>\n",
    "\n",
    "~~~\n",
    "while students:\n",
    "~~~\n",
    "\n",
    "<br>\n",
    "Could also be written as:\n",
    "<br><br>\n",
    "\n",
    "~~~\n",
    "while len(students) > 0:\n",
    "~~~\n",
    "\n",
    "<br>\n",
    "Both syntaxes will achieve the same result, although the first is much more common. Also, note that once the loop has iterated over every item in <em>students</em>, the condition that there is still something left to iterate over evaluates to <em>False</em> and the loop stops running.\n",
    "<br><br>\n",
    "Finally, each time <em>Code 8.1.1</em> is run, different teams are created. This does not violate any of the requirements for our task, but it makes it difficult to replicate our results. If our goal was to avoid this, we could employ the use of <strong>random.seed()</strong>, as explained in <strong>Chapter 4: Numbers, Comparisons, and Randomness</strong>."
   ]
  },
  {
   "cell_type": "code",
   "execution_count": null,
   "metadata": {
    "cell_style": "center",
    "deletable": false,
    "editable": false
   },
   "outputs": [],
   "source": [
    "## Code 8.1.1 ##\n",
    "\n",
    "# importing random\n",
    "import random\n",
    "\n",
    "# list of people\n",
    "students = ['Neil', 'Ariel', 'Alex', 'Cristine', \n",
    "            'Andy', 'Alena', 'Ross', 'Isabel']\n",
    "\n",
    "team_1 = []\n",
    "team_2 = []\n",
    "\n",
    "# while loop\n",
    "while students:\n",
    "    person = random.choice(students)\n",
    "\n",
    "    if len(team_1) < 4:\n",
    "        team_1.append(person)\n",
    "    \n",
    "    elif len(team_1) >= 4:\n",
    "        team_2.append(person)\n",
    "    \n",
    "    else:\n",
    "        print(\"Something went wrong.\")\n",
    "        \n",
    "    # removing so students don't get repeated\n",
    "    students.remove(person)\n",
    "\n",
    "# printing teams\n",
    "print(team_1)\n",
    "print(team_2)"
   ]
  },
  {
   "cell_type": "markdown",
   "metadata": {
    "deletable": false,
    "editable": false,
    "run_control": {
     "frozen": true
    }
   },
   "source": [
    "<br><hr style=\"height:.9px;border:none;color:#333;background-color:#333;\" /><br>\n",
    "\n",
    "<h2>8.2 <em>while True</em> and <em>break</em></h2>\n",
    "\n",
    "Sometimes, it makes sense to allow a loop to run on into infinity. This technique becomes very useful in situations such as developing code to allow a user to reenter their password if their first attempt was invalid (user input does not match the stored password). Using a stand-alone conditional statement such as the one below will only permit a user to make a single input attempt, as after evaluating whether or not <em>pwd_attempt</em> and <em>password</em> match, Python will move on to the next line of code formatted at Column 0.\n",
    "<br><br>\n",
    "\n",
    "~~~\n",
    "if pwd_attempt == password:\n",
    "    [do something]\n",
    "\n",
    "elif pwd_attempt != password:\n",
    "    [do something else]\n",
    "\n",
    "else:\n",
    "    [catch bugs]\n",
    "~~~\n",
    "\n",
    "<br>\n",
    "However, by wrapping a <strong>while True</strong> loop around this code, a user will have an infinite number of tries to correctly input their password. To reiterate, <strong>a while loop will run until a condition is no longer met</strong> (i.e., the condition evaluates to <em>False</em>). Since by default the condition of the loop is set to <em>True</em>, the loop will run indefinitely as there is no syntax to change its evaluation to <em>False</em>. Given that our goal is to stop looping when a user enters the correct password, we need to tell Python to <strong>break</strong> out of the loop when this happens. This can be coded as follows:\n",
    "<br><br>\n",
    "\n",
    "~~~\n",
    "while True:\n",
    "    if pwd_attempt == password:\n",
    "        break\n",
    "\n",
    "    elif pwd_attempt != password:\n",
    "        [do something else]\n",
    "    \n",
    "    else:\n",
    "        [catch bugs]\n",
    "~~~\n",
    "\n",
    "<br>\n",
    "<em>Code 8.2.1</em> exemplifies the use of these structures to create a basic check to see if a user's input matches a stored password.\n",
    "\n",
    "<br>"
   ]
  },
  {
   "cell_type": "code",
   "execution_count": null,
   "metadata": {
    "cell_style": "center",
    "deletable": false,
    "editable": false
   },
   "outputs": [],
   "source": [
    "## Code 8.2.1 ##\n",
    "\n",
    "# creating a password\n",
    "password = 'please open the door'\n",
    "\n",
    "\n",
    "# while True\n",
    "while True:\n",
    "    pwd_attempt = input(\"Please enter your password.\\n> \")\n",
    "\n",
    "    if pwd_attempt == password:\n",
    "        print('\\nThat is correct. You may enter.\\n')\n",
    "        input('< Press enter to continue. >\\n')\n",
    "        break\n",
    "\n",
    "    elif pwd_attempt != password:\n",
    "        print('\\nThat is not the correct password.\\n')\n",
    "        input('< Press enter to try again. >\\n')\n",
    "    \n",
    "    else:\n",
    "        print(\"Something went wrong.\")"
   ]
  },
  {
   "cell_type": "markdown",
   "metadata": {
    "deletable": false,
    "editable": false,
    "run_control": {
     "frozen": true
    }
   },
   "source": [
    "<br><hr style=\"height:.9px;border:none;color:#333;background-color:#333;\" /><br>\n",
    "\n",
    "<h2>8.3 <em>while loops</em> with specific conditions</h2>\n",
    "\n",
    "Although we have met the requirement of allowing a user to have multiple password entry attempts, allowing unlimited attempts is dangerous as it would be susceptible to malicious attacks on a user's account. Thus, it would be wise to modify our code so that it only allows a user a specific number of tries. In order to achieve this, the condition of the original <strong>while loop</strong>:\n",
    "<br><br>\n",
    "\n",
    "~~~\n",
    "while True:\n",
    "    [do something]\n",
    "~~~\n",
    "\n",
    "<br>\n",
    "can be altered using a comparison operator (covered in <strong>Chapter 4: Numbers, Comparisons, and Randomness</strong>). In other words, the <em>'True'</em> in <strong>while True</strong> can be replaced with something such as <em>'password_attempts > 0'</em>. For example, if a user were to be allowed only three attempts, <em>Code 8.2.1</em> could be modified to include an object with a stored value of three. Then, the loop could diminish this value by one each time a user inputs an incorrect password. This has been done in <em>Code 8.3.1</em>.\n",
    "\n",
    "<br>"
   ]
  },
  {
   "cell_type": "code",
   "execution_count": null,
   "metadata": {
    "deletable": false,
    "editable": false
   },
   "outputs": [],
   "source": [
    "## Code 8.3.1 ##\n",
    "\n",
    "# adapted from Code 8.2.1\n",
    "\n",
    "# creating a password\n",
    "password = 'please open the door'\n",
    "\n",
    "# setting password attempts to three\n",
    "password_attempts = 3\n",
    "\n",
    "# exiting the loop after three attempts\n",
    "while password_attempts > 0:\n",
    "    pwd_attempt = input(\"Please enter your password.\\n> \")\n",
    "\n",
    "    if pwd_attempt == password:\n",
    "        print('\\nThat is correct. You may enter.\\n')\n",
    "        input('< Press enter to continue. >\\n')\n",
    "        break\n",
    "\n",
    "    # diminishing password_attempts\n",
    "    elif pwd_attempt != password:\n",
    "        password_attempts -= 1\n",
    "        \n",
    "        print(f\"\"\"\n",
    "That is not the correct password.\n",
    "You have {password_attempts} attempt(s) remaining.\\n\"\"\")\n",
    "    \n",
    "    else:\n",
    "        print(\"Something went wrong.\")"
   ]
  },
  {
   "cell_type": "markdown",
   "metadata": {
    "deletable": false,
    "editable": false,
    "run_control": {
     "frozen": true
    }
   },
   "source": [
    "<br>\n",
    "<h3>Looping over Michael Jordan's NBA Career</h3>\n",
    "\n",
    "To further exemplify <strong>while loops</strong> with specific conditions, let's turn our attention to basketball legend <a href=\"https://www.basketball-reference.com/players/j/jordami01.html\">Michael Jordan</a>. According to <a href=\"https://www.basketball-reference.com/\">basketball-reference.com</a>, Jordan played in over 1,000 NBA games across 15 seasons, and in 11 of those seasons, he led the league in total points scored. He also made 14 All-Star appearances and won the league MVP award 5 times. Additionally, he spent the <em>'93-'94</em> season playing Minor League Baseball for the Birmingham Barons (labeled as <em>'DNP'</em>), and went into retirement for three seasons between 1998 and 2001 (labeled as <em>'Retired'</em>). Each sublist in <em>Code 8.3.2</em> represents total points scored for each season in Jordan's NBA career with the following format:\n",
    "<br><br>\n",
    "\n",
    "~~~\n",
    "[ SEASON, TOTAL POINTS SCORED, LEAGUE SCORING LEADER Y/N ]\n",
    "~~~\n",
    "\n",
    "<br>\n",
    "First, let's load this information into our working environment and utilize it to determine how many seasons it took for Jordan to surpass 25,000 points.\n",
    "<br><br>"
   ]
  },
  {
   "cell_type": "code",
   "execution_count": null,
   "metadata": {
    "deletable": false,
    "editable": false
   },
   "outputs": [],
   "source": [
    "## Code 8.3.2 ##\n",
    "\n",
    "# declaring stats list\n",
    "jordan_stats = [[\"'84-'85\", 2313, 'Y'],\n",
    "                [\"'85-'86\", 408,  'N'],\n",
    "                [\"'86-'87\", 3041, 'Y'],\n",
    "                [\"'87-'88\", 2868, 'Y'],\n",
    "                [\"'88-'89\", 2633, 'Y'],\n",
    "                [\"'89-'90\", 2753, 'Y'],\n",
    "                [\"'90-'91\", 2580, 'Y'],\n",
    "                [\"'91-'92\", 2404, 'Y'],\n",
    "                [\"'92-'93\", 2541, 'Y'],\n",
    "                [\"'93-'94\", 'DNP', 'DNP'],\n",
    "                [\"'94-'95\", 457,  'N'],\n",
    "                [\"'95-'96\", 2491, 'Y'],\n",
    "                [\"'96-'97\", 2431, 'Y'],\n",
    "                [\"'97-'98\", 2357, 'Y'],\n",
    "                [\"'98-'99\", 'Retired', 'Retired'],\n",
    "                [\"'99-'00\", 'Retired', 'Retired'],\n",
    "                [\"'00-'01\", 'Retired', 'Retired'],\n",
    "                [\"'01-'02\", 1375, 'N'],\n",
    "                [\"'02-'03\", 1640, 'N']]\n",
    "\n",
    "\n",
    "# looping over results\n",
    "for stat in jordan_stats:\n",
    "    print(stat)"
   ]
  },
  {
   "cell_type": "markdown",
   "metadata": {
    "deletable": false,
    "editable": false,
    "run_control": {
     "frozen": true
    }
   },
   "source": [
    "<br>\n",
    "The long solution to this task would be to sum points in each season one-by-one until we reached the desired amount:\n",
    "<br><br>\n",
    "\n",
    "~~~\n",
    "jordan_stats[0][1] + jordan_stats[1][1] + jordan_stats[2][1] ...\n",
    "~~~\n",
    "\n",
    "<br>\n",
    "\n",
    "However, this is improper for a number of reasons:\n",
    "\n",
    "1. This is a tedious copy/paste approach. Copy/pasting is inefficient and prone to bugs (a programmer would need to remember to update the code after a new line has been pasted). Forgetting to update just one line of code would lead to a bug that may go unnoticed (the code will likely run without throwing an error).\n",
    "<br>\n",
    "\n",
    "2. What if we wanted to change our code so that it calculated something else, such as how many points Jordan scored in seasons where he also led the league in scoring? This slight alteration to our requirements would require us to significantly rewrite our code.\n",
    "<br>\n",
    "\n",
    "3. Let's say our requirements changed again and we wanted to calculate Michael Jordan's total career points. However, let's also say Jordan wasn't retired. In other words, what if new lists were continually being added to <em>jordan_stats</em>? This would require continual updates to our copy/paste solution.\n",
    "\n",
    "<br>\n",
    "Given the above, it is highly beneficial to use loops. First, this would significantly alleviate concerns of accidental copy/paste bugs. Second, if our requirements changed, we may be able to take advantage of other coding structures, such as a conditional statement in the body of the loop. Finally, if the <em>jordan_stats</em> list were continually growing, our loop could adjust to its new length. In other words, it makes no difference if Jordan keeps playing as the loop could be programmed to continue iterating until it has run out of things to iterate over. Before developing our code, however, let's take a moment to discuss the assumptions involved in our task.\n",
    "<br>\n",
    "\n",
    "<br><hr style=\"height:.9px;border:none;color:#333;background-color:#333;\" /><br>\n",
    "\n",
    "<h2>8.4 Making Assumptions about Data</h2>\n",
    "\n",
    "Before making our calculation, we should clean up our data as this would simplify the coding for our analysis. In seasons where Jordan did not play in the NBA, total points scored is coded as a string. Given our goal, it seems unfair to consider these seasons in our calculation, and thus they should be removed. In this, we are making an assumption, and <strong>all assumptions should be documented.</strong> Another analyst could approach the same problem and feel it is more appropriate to include seasons where Jordan did not play in the NBA. The rationale for such a decision could be argued from a number of viewpoints, such as:\n",
    "\n",
    "* This calculation should be made as the total number of seasons between Jordan's first and the one in which he surpassed 25,000 points.\n",
    "* Jordan choose not to play basketball in the '93-'94 season even though he was capable of doing so.\n",
    "* Even though Jordan retired, he came back from retirement. Therefore, those seasons should be counted.\n",
    "\n",
    "<br>\n",
    "The value of an analysis stretches far beyond the sciences, and in many cases, it is much more of an art. Given this, each analysis requires substantial thought regarding the problem at hand, and such considerations lead to various assumptions that make each analytical perspective unique. Without documentation, it is incredibly difficult to understand an analyst's thought process. Moreover, it becomes challenging to trust the findings and actionable insights that resulted from such work. Assumptions need to be documented, whether embedded within scripts, in a document or project management tool, or even in a notebook that you keep next to you while you are working. Although this takes time up front, it will save you countless hours in the long run, especially when working with other analysts or reviewing an analysis that you conducted several months ago.\n",
    "<br><br>\n",
    "<em>Code 8.4.1</em> is designed to create a new list of lists that excludes seasons where Jordan did not play in the NBA. The aforementioned assumption has been embedded at the top of the code block as a triple-quoted string.\n",
    "<br><br>"
   ]
  },
  {
   "cell_type": "code",
   "execution_count": null,
   "metadata": {
    "deletable": false,
    "editable": false
   },
   "outputs": [],
   "source": [
    "## Code 8.4.1 ##\n",
    "\n",
    "\"\"\"\n",
    "Assumptions:\n",
    "    Calculations should only include seasons where Jordan played.\n",
    "\"\"\"\n",
    "\n",
    "# creating an empty list\n",
    "jordan_stats_2 = []\n",
    "\n",
    "\n",
    "# writing a loop on original stats lists\n",
    "for season, points, lead_scorer in jordan_stats:\n",
    "    \n",
    "    # appending new list if points is an integer\n",
    "    if type(points) == int:\n",
    "        jordan_stats_2.append([season, points, lead_scorer])\n",
    "\n",
    "\n",
    "# writing a loop to print new stats lists one-by-one\n",
    "for stats in jordan_stats_2:\n",
    "    print(stats)"
   ]
  },
  {
   "cell_type": "markdown",
   "metadata": {
    "deletable": false,
    "editable": false,
    "run_control": {
     "frozen": true
    }
   },
   "source": [
    "<br>\n",
    "<h4>Developing our Solution</h4>\n",
    "In order to calculate how many seasons it took for Jordan to score more than 25,000 points, we first need to develop a method to iterate over total points in each list of <em>jordan_stats_2</em>. This can be accomplished with the use of a for loop, as covered in <strong>Chapter 7 - for Loops and Basic Data Manipulation</strong>. Our goal is to stop iteration after accumulating a certain number of total points, and for this we have multiple options. More specifically, we may choose to fit out the body of the for loop with either a conditional statement or a <strong>while loop</strong>, as both could solve this task. Since conditional statements were already covered in <strong>Chapter 6 - Conditional Statements and Controlling Input</strong>, we will build a solution using this method first. <em>Code 8.4.2</em> has been left open for this task. Make sure to:\n",
    "\n",
    "* iterate over <em>jordan_stats</em>\n",
    "* stop iteration after accumulating at least 25,000 points\n",
    "* use a conditional statement inside the body of a for loop (don't use a <strong>while loop</strong>)\n",
    "* avoid soft coding wherever feasible\n",
    "<br><br>\n",
    "\n",
    "Below is a skeleton (i.e., an outline) to help get you started:\n",
    "<br><br>\n",
    "\n",
    "~~~\n",
    "for _______ in jordan_stats_2:\n",
    "\n",
    "    if ________:\n",
    "~~~\n",
    "\n",
    "<br><br>\n",
    "After developing a conditional statement solution, compare your results to the sample solution. When you are ready, develop a solution using a <strong>while loop</strong> in <em>Code 8.4.3</em>, which has also been left open. Below is another skeleton to help get you started:\n",
    "<br><br>\n",
    "\n",
    "~~~\n",
    "for _______ in jordan_stats_2:\n",
    "\n",
    "    while ________:\n",
    "~~~\n",
    "\n",
    "<br>"
   ]
  },
  {
   "cell_type": "code",
   "execution_count": null,
   "metadata": {
    "solution2": "hidden",
    "solution2_first": true
   },
   "outputs": [],
   "source": [
    "## Code 8.4.2 ##\n",
    "\n",
    "# open coding block (for loop + conditional statement)\n",
    "\n"
   ]
  },
  {
   "cell_type": "code",
   "execution_count": null,
   "metadata": {
    "cell_style": "center",
    "deletable": false,
    "editable": false,
    "solution2": "hidden"
   },
   "outputs": [],
   "source": [
    "## Sample Solution 8.4.2 ##\n",
    "\n",
    "\"\"\"\n",
    "Assumptions:\n",
    "    Calculations should only include seasons where Jordan played.\n",
    "\"\"\"\n",
    "\n",
    "# declaring objects\n",
    "total_points  = 0\n",
    "total_seasons = 0\n",
    "point_limit   = 25000 # avoiding soft coding\n",
    "\n",
    "# writing the loop\n",
    "for season, points, lead_scorer in jordan_stats_2:\n",
    "\n",
    "    # writing the conditional\n",
    "    if total_points < point_limit:\n",
    "        total_points  += points\n",
    "        total_seasons += 1\n",
    "    \n",
    "    elif total_points >= point_limit:\n",
    "        break\n",
    "    \n",
    "    else:\n",
    "        print('Something went wrong.')\n",
    "\n",
    "\n",
    "# printing the results\n",
    "print(f\"\"\"\n",
    "{'*' * 40}\n",
    "\n",
    "It took {total_seasons} seasons for Jordan to score\n",
    "more than {point_limit} points (scoring {total_points}).\n",
    "\n",
    "{'*' * 40}\n",
    "\"\"\")"
   ]
  },
  {
   "cell_type": "markdown",
   "metadata": {
    "deletable": false,
    "editable": false,
    "run_control": {
     "frozen": true
    }
   },
   "source": [
    "<br><hr style=\"height:.9px;border:none;color:#333;background-color:#333;\" /><br>"
   ]
  },
  {
   "cell_type": "code",
   "execution_count": null,
   "metadata": {
    "solution2": "hidden",
    "solution2_first": true
   },
   "outputs": [],
   "source": [
    "## Code 8.4.3 ##\n",
    "\n",
    "# open coding block (for loop + while loop)\n"
   ]
  },
  {
   "cell_type": "code",
   "execution_count": null,
   "metadata": {
    "code_folding": [],
    "deletable": false,
    "editable": false,
    "solution2": "hidden"
   },
   "outputs": [],
   "source": [
    "## Sample Solution 8.4.3 ##\n",
    "\n",
    "\"\"\"\n",
    "Assumptions:\n",
    "    Calculations should only include seasons where Jordan played.\n",
    "\"\"\"\n",
    "\n",
    "# declaring objects\n",
    "total_points  = 0\n",
    "total_seasons = 0\n",
    "point_limit   = 25000 # avoiding soft coding\n",
    "\n",
    "\n",
    "# writing the outer loop\n",
    "for season, points, lead_scorer in jordan_stats_2:\n",
    "    \n",
    "    # writing the inner loop\n",
    "    while total_points < point_limit:\n",
    "            total_points  += points\n",
    "            total_seasons += 1\n",
    "            break\n",
    "\n",
    "\n",
    "# printing the results\n",
    "print(f\"\"\"\n",
    "{'*' * 40}\n",
    "\n",
    "It took {total_seasons} seasons for Jordan to score\n",
    "more than {point_limit} points (scoring {total_points}).\n",
    "\n",
    "{'*' * 40}\n",
    "\"\"\")"
   ]
  },
  {
   "cell_type": "markdown",
   "metadata": {
    "deletable": false,
    "editable": false,
    "run_control": {
     "frozen": true
    }
   },
   "source": [
    "<br><hr style=\"height:.9px;border:none;color:#333;background-color:#333;\" /><br>\n",
    "\n",
    "<h3>Benefits of using a <em>while</em> loop</h3>\n",
    "\n",
    "The bodies of <em>Codes 8.4.2</em> and <em>8.4.3</em> look very similar. As mentioned earlier in this chapter: <strong>a while loop can be thought of as an extension of a conditional statement.</strong> Also, as expected, both codes lead to the same result. The solution utilizing the <strong>while loop</strong>, however, uses less lines of code. Additionally, this solution appears to be easier to extend if there was a change in our requirements. For example, let's assume that it was decided that points should only be accumulated in seasons where Jordan led the league in scoring. This change is very easy to implement given the <strong>while loop</strong> solution, as only a single line of code needs to be modified:\n",
    "<br><br>\n",
    "\n",
    "~~~\n",
    "while total_points < point_limit and lead_scorer == 'Y':\n",
    "~~~\n",
    "\n",
    "<br>\n",
    "This has been implemented in <em>Code 8.4.4</em>. Notice how the assumptions and print statement have also been updated.\n",
    "\n",
    "<br>"
   ]
  },
  {
   "cell_type": "code",
   "execution_count": null,
   "metadata": {
    "cell_style": "center",
    "deletable": false,
    "editable": false
   },
   "outputs": [],
   "source": [
    "## Code 8.4.4 ##\n",
    "\n",
    "# adapted from Code 8.4.3\n",
    "\n",
    "\"\"\"\n",
    "Assumptions:\n",
    "    Calculations should only include seasons where Jordan:\n",
    "      - played\n",
    "      - led the league points\n",
    "\"\"\"\n",
    "\n",
    "# declaring objects\n",
    "total_points  = 0\n",
    "total_seasons = 0\n",
    "point_limit   = 25000 # avoiding soft coding\n",
    "\n",
    "\n",
    "# writing the outer loop\n",
    "for season, points, lead_scorer in jordan_stats_2:\n",
    "\n",
    "    # MODIFIED inner loop\n",
    "    while total_points < point_limit and lead_scorer == 'Y':\n",
    "        total_points  += points\n",
    "        total_seasons += 1\n",
    "        break\n",
    "        \n",
    "# MODIFIED the print statement\n",
    "print(f\"\"\"\n",
    "{'*' * 40}\n",
    "\n",
    "In seasons where he led the league in scoring,\n",
    "Jordan surpassed {point_limit} points in {total_seasons}\n",
    "seasons (scoring {total_points}).\n",
    "\n",
    "{'*' * 40}\n",
    "\"\"\")"
   ]
  },
  {
   "cell_type": "markdown",
   "metadata": {
    "deletable": false,
    "editable": false,
    "run_control": {
     "frozen": true
    }
   },
   "source": [
    "<br>\n",
    "<h4>Adjusting the Conditional Statement Solution</h4>\n",
    "Adjusting the conditional statement solution is a bit more daunting, as the same modification would result in the <em>else</em> clause running when either of the two conditions is not met. This can be observed in <em>Code 8.4.5</em>.\n",
    "<br><br>"
   ]
  },
  {
   "cell_type": "code",
   "execution_count": null,
   "metadata": {
    "cell_style": "center",
    "deletable": false,
    "editable": false
   },
   "outputs": [],
   "source": [
    "## Code 8.4.5 ##\n",
    "\n",
    "# adapted from Code 8.4.2\n",
    "\n",
    "# declaring objects\n",
    "total_points  = 0\n",
    "total_seasons = 0\n",
    "point_limit   = 25000 # avoiding soft coding\n",
    "\n",
    "# writing the loop\n",
    "for season, points, lead_scorer in jordan_stats_2:\n",
    "\n",
    "    # MODIFIED conditional\n",
    "    if total_points < point_limit and lead_scorer == 'Y':\n",
    "        total_points  += points\n",
    "        total_seasons += 1\n",
    "        print('All is well!') # added print statement for clarity\n",
    "    \n",
    "    elif total_points >= point_limit:\n",
    "        break\n",
    "    \n",
    "    else:\n",
    "        print('Something went wrong.')"
   ]
  },
  {
   "cell_type": "markdown",
   "metadata": {
    "cell_style": "center",
    "deletable": false,
    "editable": false,
    "run_control": {
     "frozen": true
    }
   },
   "source": [
    "<br>\n",
    "By rewriting our code to include a nested conditional statement, we can attain the functionality we desire. If you need a refresher on nested conditionals, please see <strong>Chapter 6: Conditional Statements and Controlling Input</strong>. <em>Code 8.4.6</em> includes this change and also introduces a new syntax: <strong>continue</strong>. The role of this syntax is to terminate the current iteration of a loop and move on to the next iteration. In other words, it stops what's currently happening and <em>continues</em> by starting the next iteration. Since we expect <em>lead_scorer</em> to be equal to <em> 'N' </em> in some iterations, it is a good practice to write an <em>elif</em> statement to <strong>continue</strong> when this is the case. If we do not do this, the <em>else</em> clause will run, falsely indicating that something went wrong.\n",
    "<br><br>"
   ]
  },
  {
   "cell_type": "code",
   "execution_count": null,
   "metadata": {
    "deletable": false,
    "editable": false
   },
   "outputs": [],
   "source": [
    "## Code 8.4.6 ##\n",
    "\n",
    "# adapted from Code 8.4.5\n",
    "\n",
    "\"\"\"\n",
    "Assumptions:\n",
    "    Calculations should only include seasons where Jordan:\n",
    "      - played\n",
    "      - led the league points\n",
    "\"\"\"\n",
    "\n",
    "# declaring objects\n",
    "total_points  = 0\n",
    "total_seasons = 0\n",
    "point_limit   = 25000 # avoiding soft coding\n",
    "\n",
    "# writing the loop\n",
    "for season, points, lead_scorer in jordan_stats_2:\n",
    "\n",
    "    # writing the conditional\n",
    "    if total_points < point_limit:\n",
    "        \n",
    "        if lead_scorer == 'Y':\n",
    "            total_points  += points\n",
    "            total_seasons += 1\n",
    "    \n",
    "        # applying continue\n",
    "        elif lead_scorer == 'N':\n",
    "            continue\n",
    "        \n",
    "        else:\n",
    "            print('Something went wrong.')\n",
    "    \n",
    "    elif total_points >= point_limit:\n",
    "        break\n",
    "    \n",
    "    else:\n",
    "        print('Something went wrong.')\n",
    "\n",
    "\n",
    "# printing the results\n",
    "print(f\"\"\"\n",
    "{'*' * 40}\n",
    "\n",
    "In seasons where he led the league in scoring,\n",
    "Jordan surpassed {point_limit} points in {total_seasons}\n",
    "seasons (scoring {total_points}).\n",
    "\n",
    "{'*' * 40}\n",
    "\"\"\")"
   ]
  },
  {
   "cell_type": "markdown",
   "metadata": {
    "deletable": false,
    "editable": false,
    "run_control": {
     "frozen": true
    }
   },
   "source": [
    "<br>\n",
    "As expected, the results when using a conditional statement are the same as when using a <strong>while</strong> loop. As with before, the <strong>while</strong> loop uses less lines of code. One drawback, however, is that it does not contain an <em>else</em> clause to help catch bugs. This is because <em>else</em> can only be applied to conditional statements. Thus, we need to be diligent in testing our code to ensure it does what it is intended to do. Additionally, if there are potential errors in our code due to things that should have been controlled for, they may go undetected.\n",
    "<br><br>\n",
    "To illustrate, let's assume we wanted to run our code on every player in the history of the NBA. One challenge we may run into is that what we call the NBA today is actually the result of a merger that took place in 1976. From 1967-1976, two nationally-scoped basketball leagues existed in the United States (the National Basketball Association and the <a href=\"https://en.wikipedia.org/wiki/American_Basketball_Association\">American Basketball Association</a>). Thus, each season played within these years has two scoring leaders. If our code was designed to allow only one scoring leader per season, it may throw an error. We may also run into a situation where a player was traded and thus has two records for a given season. This may prove to be a challenge when calculating how many seasons the player took to attain a certain number of points. The good news is that Python contains more advanced coding syntaxes that are incredibly useful in such situations (covered in the next chapter).\n",
    "\n",
    "<br><hr style=\"height:.9px;border:none;color:#333;background-color:#333;\" /><br>\n",
    "\n",
    "<h2>8.4 Summary</h2>"
   ]
  },
  {
   "cell_type": "markdown",
   "metadata": {
    "cell_style": "center",
    "deletable": false,
    "editable": false,
    "run_control": {
     "frozen": true
    }
   },
   "source": [
    "A <strong>while loop</strong> is a useful coding structure that allows programmers to accomplish several tasks. They can be thought of as a hybrid between a conditional statement and a for loop in the sense that they: 1) iterate, and 2) run until a condition or set of conditions is no longer met. The syntax <strong>break</strong> stops a loop from iterating further, and the syntax <strong>continue</strong> ends a loop's current iteration and moves on to the next one.\n",
    "\n",
    "<br>\n",
    "\n",
    "~~~\n",
    "             _                  __  __     _                                _ \n",
    "  /\\  /\\__ _| |_ ___      ___  / _|/ _|   | |_ ___      _   _  ___  _   _  / \\\n",
    " / /_/ / _` | __/ __|    / _ \\| |_| |_    | __/ _ \\    | | | |/ _ \\| | | |/  /\n",
    "/ __  / (_| | |_\\__ \\   | (_) |  _|  _|   | || (_) |   | |_| | (_) | |_| /\\_/ \n",
    "\\/ /_/ \\__,_|\\__|___/    \\___/|_| |_|      \\__\\___/     \\__, |\\___/ \\__,_\\/   \n",
    "                                                        |___/                 \n",
    "~~~"
   ]
  },
  {
   "cell_type": "markdown",
   "metadata": {
    "deletable": false,
    "editable": false,
    "run_control": {
     "frozen": true
    }
   },
   "source": [
    "<br>"
   ]
  }
 ],
 "metadata": {
  "kernelspec": {
   "display_name": "Python 3",
   "language": "python",
   "name": "python3"
  },
  "language_info": {
   "codemirror_mode": {
    "name": "ipython",
    "version": 3
   },
   "file_extension": ".py",
   "mimetype": "text/x-python",
   "name": "python",
   "nbconvert_exporter": "python",
   "pygments_lexer": "ipython3",
   "version": "3.8.5"
  },
  "toc": {
   "base_numbering": 1,
   "nav_menu": {},
   "number_sections": false,
   "sideBar": true,
   "skip_h1_title": false,
   "title_cell": "Table of Contents",
   "title_sidebar": "Contents",
   "toc_cell": false,
   "toc_position": {},
   "toc_section_display": true,
   "toc_window_display": false
  },
  "varInspector": {
   "cols": {
    "lenName": 16,
    "lenType": 16,
    "lenVar": 40
   },
   "kernels_config": {
    "python": {
     "delete_cmd_postfix": "",
     "delete_cmd_prefix": "del ",
     "library": "var_list.py",
     "varRefreshCmd": "print(var_dic_list())"
    },
    "r": {
     "delete_cmd_postfix": ") ",
     "delete_cmd_prefix": "rm(",
     "library": "var_list.r",
     "varRefreshCmd": "cat(var_dic_list()) "
    }
   },
   "types_to_exclude": [
    "module",
    "function",
    "builtin_function_or_method",
    "instance",
    "_Feature"
   ],
   "window_display": false
  }
 },
 "nbformat": 4,
 "nbformat_minor": 2
}
