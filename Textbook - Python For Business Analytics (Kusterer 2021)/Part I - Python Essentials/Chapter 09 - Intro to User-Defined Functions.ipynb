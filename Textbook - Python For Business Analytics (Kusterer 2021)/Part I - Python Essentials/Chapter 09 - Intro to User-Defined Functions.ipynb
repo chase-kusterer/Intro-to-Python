{
 "cells": [
  {
   "cell_type": "markdown",
   "metadata": {
    "deletable": false,
    "editable": false,
    "run_control": {
     "frozen": true
    }
   },
   "source": [
    "<hr style=\"height:.9px;border:none;color:#333;background-color:#333;\" />\n",
    "<hr style=\"height:.9px;border:none;color:#333;background-color:#333;\" />\n",
    "<br><br><br>\n",
    "<h1>Python for Business Analytics</h1>\n",
    "<em>A Nontechnical Approach for Nontechnical People</em><br><br>\n",
    "<em><strong>Custom Edition for Hult International Business School</strong></em><br>\n",
    "\n",
    "Written by Chase Kusterer - Faculty of Analytics <br>\n",
    "Hult International Business School <br>\n",
    "https://github.com/chase-kusterer<br><br><br><br><br>\n",
    "\n",
    "<hr style=\"height:.9px;border:none;color:#333;background-color:#333;\" />\n",
    "<hr style=\"height:.9px;border:none;color:#333;background-color:#333;\" />\n",
    "<br>\n",
    "\n",
    "<h1><u>Chapter 9: User-Defined Functions and Exception Handling</u></h1>"
   ]
  },
  {
   "cell_type": "markdown",
   "metadata": {
    "deletable": false,
    "editable": false,
    "run_control": {
     "frozen": true
    }
   },
   "source": [
    "Python is an extraordinarily popular language for many reasons, one of them being that it has a strong open-source community. In general, <a href=\"https://opensource.com/resources/what-open-source\">open source</a> projects are community-driven, publicly available, and free of charge. More often than not, our analytical endeavors will rely on open source packages such as <a href=\"https://docs.scipy.org/doc/numpy/user/index.html\">numpy</a>, <a href=\"https://pandas.pydata.org/pandas-docs/stable/\">pandas</a>, <a href=\"https://scikit-learn.org/stable/documentation.html\">scikit-learn</a>, <a href=\"https://www.statsmodels.org/stable/index.html\">statsmodels</a>, <a href=\"https://matplotlib.org/3.1.1/contents.html\">matplotlib</a>, <a href=\"https://seaborn.pydata.org/\">seaborn</a>, and many others depending on our task at hand. Each of these packages contains functions that were designed for a specific purpose, and most contain optional or variable arguments to allow a certain level of flexibility and customization in their use.\n",
    "<br><br>\n",
    "Before diving into the aforementioned packages, it is important to have a good understanding of the inner workings of functions. Comprehending how to write, document, test, and exception handle user-defined functions will greatly increase your ability to benefit from functions available in the open source community. This will not only help in utilizing publicly-available resources to their fullest extent, but will also help in identifying when a developer may have cut corners. Every so often, a package is released that contains functions that are unstable or that only work in a limited context. Generally, such packages can be identified by the quality of their documentation. The content of this chapter emcompasses these aspects, as well as best practices when naming functions, variable scope, and common error types.\n",
    "\n",
    "<br><hr style=\"height:.9px;border:none;color:#333;background-color:#333;\" /><br>\n",
    "\n",
    "<h2>9.1 The Function Framework</h2>\n",
    "\n",
    "Functions follow a similar framework to conditional statements and loops in that their first line starts with a designated syntax and ends with a semicolon ( : ). Additionally, anything inside a function's body must be indented. Unlike other coding structures covered thus far, functions need to be defined before they can be run. In other words, you need to give Python the blueprints of your function before you will be able to use it. You can think of this like working with packages in that they must be imported before their methods become available.\n",
    "\n",
    "<h4>Defining a Function</h4>\n",
    "The syntax <strong>def</strong> lets Python know that you are defining a function. After this, the function must be given a unique name, followed by a set of parenthesis <em> (   ) </em> and a semicolon.\n",
    "<br><br>\n",
    "\n",
    "~~~\n",
    "def FUNCTION_NAME(ARGUMENTS):\n",
    "    FUNCTION BODY\n",
    "~~~\n",
    "\n",
    "<br>\n",
    "User-defined functions can have any nonnegative number of arguments (zero or more). However, mandatory arguments must come before optional arguments, and optional arguments must come before variable arguments. If you are a bit rusty on your argument types, return to <strong>Chapter 1: Setting Up for Success</strong> for a refresher."
   ]
  },
  {
   "cell_type": "markdown",
   "metadata": {
    "cell_style": "split",
    "deletable": false,
    "editable": false,
    "run_control": {
     "frozen": true
    }
   },
   "source": [
    "Let's begin by writing a very simple function that has no arguments. This function (<em>Code 9.1.1</em>), is designed to wish a user a happy birthday. Notice that running the definition of the function does not generate any output. Instead, <em>Code 9.1.1</em> simply loads the function so that Python knows what to do every time it is called. When <em>Code 9.1.2</em> is run, Python reads the <em>bday</em> function and outputs the birthday message.\n",
    "<br><br>\n",
    "<strong>It is very important that user-defined functions are given a UNIQUE name.</strong>\n",
    "\n",
    "If not, Python will realize that another function exists with the same name and overwrite it."
   ]
  },
  {
   "cell_type": "markdown",
   "metadata": {
    "cell_style": "split",
    "deletable": false,
    "editable": false,
    "run_control": {
     "frozen": true
    }
   },
   "source": [
    "<br>"
   ]
  },
  {
   "cell_type": "code",
   "execution_count": null,
   "metadata": {
    "cell_style": "split",
    "deletable": false,
    "editable": false
   },
   "outputs": [],
   "source": [
    "## Code 9.1.1 ##\n",
    "\n",
    "# defining a function\n",
    "def bday():  \n",
    "    print('Happy Birthday!')\n",
    "    \n",
    "# code will not produce an output"
   ]
  },
  {
   "cell_type": "markdown",
   "metadata": {
    "cell_style": "split",
    "deletable": false,
    "editable": false,
    "run_control": {
     "frozen": true
    }
   },
   "source": [
    "<br>"
   ]
  },
  {
   "cell_type": "code",
   "execution_count": null,
   "metadata": {
    "cell_style": "split",
    "deletable": false,
    "editable": false,
    "scrolled": true
   },
   "outputs": [],
   "source": [
    "## Code 9.1.2 ##\n",
    "\n",
    "# running the function\n",
    "bday()"
   ]
  },
  {
   "cell_type": "markdown",
   "metadata": {
    "deletable": false,
    "editable": false,
    "run_control": {
     "frozen": true
    }
   },
   "source": [
    "<br>\n",
    "This should be avoided unless you have a very good reason for doing so. Other than overwriting a function in your working environment, another massive danger to this practice is that it will also affect anyone that uses your function. This causes a big headache when a user needs both your function and the one you overwrote."
   ]
  },
  {
   "cell_type": "markdown",
   "metadata": {
    "cell_style": "split",
    "deletable": false,
    "editable": false,
    "run_control": {
     "frozen": true
    }
   },
   "source": [
    "To illustrate, let's take Python's built-in function <a href=\"https://docs.python.org/3/library/functions.html#abs\">abs()</a>, which takes a number and returns its absolute value. <em>Code 9.1.3</em> uses this built-in function to take the absolute value of negative seven. As expected, the function returns positive seven. However, in <em>Code 9.1.4</em>, <em>abs( )</em> is being overwritten as a user-defined function with the same name. After running <em>Code 9.1.4</em>, try running <em>Code 9.1.3</em> again. As expected, this code block now throws an error.\n",
    "<br><br>\n",
    "\n",
    "<h4>Restarting the Python Kernel</h4>\n",
    "As mentioned earlier, overwriting existing functions should be avoided as much as possible. Sometimes, this may happen by accident. In such situations, you can reset your Python kernel, restoring all built-in functions to their default forms. In Jupyter notebook, this can be accomplished by navigating to <strong>Kernel > Restart</strong>."
   ]
  },
  {
   "cell_type": "code",
   "execution_count": null,
   "metadata": {
    "cell_style": "split",
    "deletable": false,
    "editable": false
   },
   "outputs": [],
   "source": [
    "## Code 9.1.3 ##\n",
    "\n",
    "# built-in abs\n",
    "abs(-7)"
   ]
  },
  {
   "cell_type": "markdown",
   "metadata": {
    "cell_style": "split",
    "deletable": false,
    "editable": false,
    "run_control": {
     "frozen": true
    }
   },
   "source": [
    "<br> "
   ]
  },
  {
   "cell_type": "code",
   "execution_count": null,
   "metadata": {
    "cell_style": "split",
    "deletable": false,
    "editable": false
   },
   "outputs": [],
   "source": [
    "## Code 9.1.4 ##\n",
    "\n",
    "# overwriting abs\n",
    "def abs():\n",
    "    print('Happy Birthday')\n",
    "\n",
    "abs()"
   ]
  },
  {
   "cell_type": "markdown",
   "metadata": {
    "cell_style": "split",
    "deletable": false,
    "editable": false,
    "run_control": {
     "frozen": true
    }
   },
   "source": [
    "<br> "
   ]
  },
  {
   "cell_type": "code",
   "execution_count": null,
   "metadata": {
    "cell_style": "split",
    "deletable": false,
    "editable": false
   },
   "outputs": [],
   "source": [
    "## Code 9.1.5 ##\n",
    "\n",
    "# Code to kill a kernel\n",
    "import os\n",
    "os._exit(0)"
   ]
  },
  {
   "cell_type": "markdown",
   "metadata": {
    "deletable": false,
    "editable": false,
    "run_control": {
     "frozen": true
    }
   },
   "source": [
    "<br>Note that upon restarting, all of your declared objects and user-defined functions will be wiped from your working environment (you can add them back by rerunning their codes). Additionally, you can kill your kernel by running <em>Code 9.1.5</em>. How did I discover this code? At one point in my Python journey, I needed to kill my kernel and stumbled upon this technique in a <a href=\"https://stackoverflow.com/questions/37751120/restart-ipython-kernel-with-a-command-from-a-cell\">StackOverflow thread</a>. As mentioned in Chapter 1:<br><br><br>\n",
    "\n",
    "<div align=\"center\"><strong>\n",
    "    As long as you are not one of the world's most advanced Python coders, someone has already experienced and solved your problem.\n",
    "</strong><a class=\"tocSkip\"></a></div><br>\n",
    "\n",
    "There is no shame in needing to look things up. In fact, many coders live on sites like <a href=\"https://stackoverflow.com/\">StackOverflow</a> in the early days of their coding journeys, and I have yet to meet a programmer that does not at least occasionally need to make queries. The coding community is there to help you, so make sure to take advantage and give back by contributing your knowledge as you become more advanced.\n",
    "<br>\n",
    "\n",
    "<br><hr style=\"height:.9px;border:none;color:#333;background-color:#333;\" /><br>\n",
    "\n",
    "<h2>9.2 Arguments and Environments</h2>\n",
    "\n",
    "When we want more out of a user-defined function, we can add additional arguments by placing them within the parenthesis right after the function's name. As mentioned, the order in which arguments must be specified is as follows:\n",
    "\n",
    "1. mandatory arguments (no default value)\n",
    "2. optional arguments (contains default value)\n",
    "3. variable  arguments (vary in length)\n",
    "\n",
    "<br>\n",
    "Let's move forward by defining a function that takes one argument. <em>Code 9.2.1</em> is a user-defined function that takes one mandatory argument and squares its value. To keep things simple, it has been named <em>square</em>. Judging by the body of this function, one may expect <em>Code 9.2.1</em> to output the result of three raised to the power of two. However, running this code block produces no output for a very important reason: we haven't told the function to <strong>return</strong> anything.<br><br><br>\n",
    "<div align=\"center\"><strong>\n",
    "    Programs do what they are programmed to do.\n",
    "</strong><a class=\"tocSkip\"></a></div><br>\n",
    "\n",
    "Computers need to be given instructions in order to perform tasks. In the case of <em>Code 9.2.1</em>, the function did exactly what we told it to do, and that is why it didn't produce any output. This can be addressed by modifying the function to include a <strong>return</strong> statement.\n",
    "<br><br>\n",
    "<strong>Note:</strong> The reason the <em>bday</em> function produced an output is because of the <em>sys.stdout</em> argument in <em>print()</em>."
   ]
  },
  {
   "cell_type": "markdown",
   "metadata": {
    "cell_style": "split",
    "deletable": false,
    "editable": false,
    "run_control": {
     "frozen": true
    }
   },
   "source": [
    "<h4>The Limited World of a Function</h4>\n",
    "It is important to understand why <strong>return</strong> statements are required to get something back from a function. To get there, think of your working environment as the entire planet on which all of your code lives. We will call this the <strong>global environment</strong>. Also, think of declaring an object as creating an living being on your planet, and this being is free to interact with other objects in the global environment. If another object is declared with the same name, it will cause conflict and the former object will be overwritten.\n",
    "<br><br>\n",
    "Now, think of the body of a function as its own island where its inhabitants have been secluded for so many generations that they are completely oblivious to anything that exists elsewhere. This is good because these objects have no way to adversely affect the global environment (i.e., overwriting objects). This island is the function's environment. Oftentimes, we need something from the function's environment to interact with the global environment, and as the master of both environments, we have the ability to make this happen. In other words, at times we need something from the island to <strong>return</strong> to the global environment, and the syntax to accomplish this is, not surprisingly, named <strong>return</strong>.\n",
    "<br><br>\n",
    "A <strong>return</strong> statement has been added to <em>Code 9.2.2</em>, where the <em>square()</em> function is returning the results of a calculation. More commonly, such results are first stored within an object in the body of a function and the object is returned. This is occurring in <em>Code 9.2.3</em>, where the calculation results have been stored in the object <em>val</em>, which is referenced in the <strong>return</strong> statement. Both codes give the same result.\n",
    "<br><br>\n",
    "Note that even though <em>val</em> was returned in <em>Code 9.2.3</em>, it is not actually available as an object in the global environment. This is Python's way of protecting the function's users from accidentally overwriting object names. In other words, if the global environment already contained an object named <em>val</em>, it would be protected from being overwritten. On the same token, any object in the global environment that shares the same name as an object in a function's environment will not be overwritten when the function is called, even if it contains a <strong>return</strong> statement. There is one exception to this rule, which will be covered later in this chapter. The results of <em>Code 9.2.4</em> confirm that <em>val</em> has not been defined globally.\n",
    "<br><br>\n",
    "<h4>Storing Function Output</h4>\n",
    "A common method for storing the returned output of a function is to declare it as an object in the global environment. The type of the declared object depends on what was returned from the function. In <em>Code 9.2.5</em>, since the <em>square()</em> function returned an integer, the object <em>' y '</em> is of this type.\n",
    "<br><br>\n",
    "Also note that once Python executes a <strong>return</strong> statement, it leaves the body of the function, even if another <strong>return</strong> statement is on the next line. However, a <strong>return</strong> statement can reference more than one thing (separated by commas). By default, a function will return a <a href=\"https://docs.python.org/2/tutorial/datastructures.html#tuples-and-sequences\">tuple</a> if more than one object referenced in a <strong>return</strong> statement (<em>Code 9.2.6</em>). <strong>Tuples</strong> are very similar to lists, but are represented with curved brackets and are immutable (they cannot be changed). <strong>Tuples</strong> are very important in functional programming, but are beyond the scope of our current coding needs. For now, it is important to understand that indexing a <strong>tuple</strong> is no different than indexing a list.\n",
    "<br><br>\n",
    "<em>Note:</em> If you would like to return a list instead of a <strong>tuple</strong>, try wrapping square brackets around the objects in your <strong>return</strong> statement:\n",
    "<br><br>\n",
    "\n",
    "~~~\n",
    "return [a, b]\n",
    "~~~"
   ]
  },
  {
   "cell_type": "markdown",
   "metadata": {
    "cell_style": "split",
    "deletable": false,
    "editable": false,
    "run_control": {
     "frozen": true
    }
   },
   "source": [
    "<br>"
   ]
  },
  {
   "cell_type": "code",
   "execution_count": null,
   "metadata": {
    "cell_style": "split",
    "deletable": false,
    "editable": false
   },
   "outputs": [],
   "source": [
    "## Code 9.2.1 ##\n",
    "\n",
    "# defining a function\n",
    "def square(x):\n",
    "    x**2\n",
    "\n",
    "# running the function\n",
    "square(x = 3)"
   ]
  },
  {
   "cell_type": "markdown",
   "metadata": {
    "cell_style": "split",
    "deletable": false,
    "editable": false,
    "run_control": {
     "frozen": true
    }
   },
   "source": [
    "<br>"
   ]
  },
  {
   "cell_type": "code",
   "execution_count": null,
   "metadata": {
    "cell_style": "split",
    "deletable": false,
    "editable": false
   },
   "outputs": [],
   "source": [
    "## Code 9.2.2 ##\n",
    "\n",
    "# adapted from Code 9.2.1\n",
    "\n",
    "# adding return statement\n",
    "def square(x):\n",
    "    return x**2\n",
    "\n",
    "# running the function\n",
    "square(x = 3)"
   ]
  },
  {
   "cell_type": "markdown",
   "metadata": {
    "cell_style": "split",
    "deletable": false,
    "editable": false,
    "run_control": {
     "frozen": true
    }
   },
   "source": [
    "<br>"
   ]
  },
  {
   "cell_type": "code",
   "execution_count": null,
   "metadata": {
    "cell_style": "split",
    "deletable": false,
    "editable": false
   },
   "outputs": [],
   "source": [
    "## Code 9.2.3 ##\n",
    "\n",
    "# adapted from Code 9.2.2\n",
    "\n",
    "# adding return statement\n",
    "def square(x):\n",
    "    val = x**2\n",
    "    return val\n",
    "\n",
    "# running the function\n",
    "square(x = 3)"
   ]
  },
  {
   "cell_type": "markdown",
   "metadata": {
    "cell_style": "split",
    "deletable": false,
    "editable": false,
    "run_control": {
     "frozen": true
    }
   },
   "source": [
    "<br>"
   ]
  },
  {
   "cell_type": "code",
   "execution_count": null,
   "metadata": {
    "cell_style": "split",
    "deletable": false,
    "editable": false
   },
   "outputs": [],
   "source": [
    "## Code 9.2.4 ##\n",
    "\n",
    "print(val)"
   ]
  },
  {
   "cell_type": "markdown",
   "metadata": {
    "cell_style": "split",
    "deletable": false,
    "editable": false,
    "run_control": {
     "frozen": true
    }
   },
   "source": [
    "<br>"
   ]
  },
  {
   "cell_type": "code",
   "execution_count": null,
   "metadata": {
    "cell_style": "split",
    "deletable": false,
    "editable": false
   },
   "outputs": [],
   "source": [
    "## Code 9.2.5 ##\n",
    "\n",
    "# storing output as an object\n",
    "y = square(x = 3)\n",
    "\n",
    "# printing the results\n",
    "print(y)\n",
    "print(type(y))"
   ]
  },
  {
   "cell_type": "markdown",
   "metadata": {
    "cell_style": "split",
    "deletable": false,
    "editable": false,
    "run_control": {
     "frozen": true
    }
   },
   "source": [
    "<br>"
   ]
  },
  {
   "cell_type": "code",
   "execution_count": null,
   "metadata": {
    "cell_style": "split",
    "deletable": false,
    "editable": false
   },
   "outputs": [],
   "source": [
    "## Code 9.2.6 ##\n",
    "\n",
    "# adapted from Code 9.2.3\n",
    "\n",
    "# modifying return statement\n",
    "def square(x):\n",
    "    val = x**2\n",
    "    return val, x\n",
    "\n",
    "# running the function\n",
    "y = square(x = 3)\n",
    "\n",
    "# printing the results\n",
    "print(y)\n",
    "print(type(y))"
   ]
  },
  {
   "cell_type": "markdown",
   "metadata": {
    "deletable": false,
    "editable": false,
    "run_control": {
     "frozen": true
    }
   },
   "source": [
    "<br><hr style=\"height:.9px;border:none;color:#333;background-color:#333;\" /><br>\n",
    "\n",
    "\n",
    "<h2>9.3 Functions with Multiple Arguments</h2>\n",
    "\n",
    "Notice in that in the codes in <em>Section 9.2</em>, the argument <em>' x '</em> was explicitly declared when the function was run ( <em>x = ____</em> ). This is not required, but it is a good practice. This is especially valuable when a function has more than one argument. Without explicit declaration (i.e., <em>' x = 5 '</em> instead of just <em>' 5 '</em>), things can get very confusing. For example, functions such as the following would be far more difficult without explicitly declaring the values for each argument.\n",
    "<br><br>\n",
    "\n",
    "~~~\n",
    "def personal_favorites(food, beverage, book, movie, place, color):\n",
    "        print(f\"\"\"\n",
    "        Your favorite food is {food}.\n",
    "        Your favorite beverage is {beverage}.\n",
    "        Your favorite book is {book}.\n",
    "        Your favorite movie is {movie}.\n",
    "        Your favorite place is {place}.\n",
    "        Your favorite color is {color}.\n",
    "        \"\"\")\n",
    "~~~\n",
    "\n",
    "<br>\n",
    "From this point forward, this text will explicitly declare function arguments.\n",
    "\n",
    "<h4>Setting Default Values with Optional Arguments</h4>\n",
    "A good approach to writing functions is to use as few mandatory arguments as is reasonably feasible. This approach has a number of benefits, such as making a function easier to use and reducing the chance of errors due to an invalid argument input. Oftentimes, however, you will have the need to develop additional features so that your function can be used in a wider array of applications or to allow users a certain level of customization. Such situations call for the use of <strong>optional arguments</strong>, or arguments that have a set default value. To illustrate, let's modify <em>Code 9.2.3</em> so that it takes any number to any power."
   ]
  },
  {
   "cell_type": "markdown",
   "metadata": {
    "cell_style": "split",
    "deletable": false,
    "editable": false,
    "run_control": {
     "frozen": true
    }
   },
   "source": [
    "This modification can be accomplished by defining a second argument in the first line of the function, which has been done in <em>Code 9.3.1</em>. The second argument, <em>power</em>, has been made optional with a default value of two. When selecting the default value for an optional argument, it is a good practice to consider what users will commonly input if the argument was mandatory. Considering our original function was designed to square a number, defaulting <em>power</em> with a value of two seems appropriate.\n",
    "<br><br>\n",
    "<h4>Overriding Defaults in Optional Arguments</h4>\n",
    "Default values in optional arguments can be overridden by declaring a new <strong>parameter</strong> when the function is called. In Python, <strong>parameter</strong> is another word for the value of an argument. In fact, most of Python's help files have a section labeled <em>Parameters</em> that explains what each argument does and indicates what types of inputs are acceptable.\n",
    "<br><br>\n",
    "In the final line of <em>Code 9.3.2</em>, the default value for <em>power</em> is being overridden. As expected, this outputs a different value than that of <em>Code 9.3.1</em>. Also note that overriding an optional argument does not change its default value. If we called <em>power_up</em> again without specifying a value for <em>power</em>, the default for this argument would be used."
   ]
  },
  {
   "cell_type": "markdown",
   "metadata": {
    "cell_style": "split",
    "deletable": false,
    "editable": false,
    "run_control": {
     "frozen": true
    }
   },
   "source": [
    "<br>"
   ]
  },
  {
   "cell_type": "code",
   "execution_count": null,
   "metadata": {
    "cell_style": "split",
    "deletable": false,
    "editable": false
   },
   "outputs": [],
   "source": [
    "## Code 9.3.1 ##\n",
    "\n",
    "# adapted from Code 9.2.3\n",
    "\n",
    "# adding return statement\n",
    "def power_up(x, power=2):\n",
    "    val = x**power\n",
    "    return val\n",
    "\n",
    "# running the function\n",
    "power_up(x = 3)"
   ]
  },
  {
   "cell_type": "markdown",
   "metadata": {
    "cell_style": "split",
    "deletable": false,
    "editable": false,
    "run_control": {
     "frozen": true
    }
   },
   "source": [
    "<br>"
   ]
  },
  {
   "cell_type": "code",
   "execution_count": null,
   "metadata": {
    "cell_style": "split",
    "deletable": false,
    "editable": false,
    "scrolled": true
   },
   "outputs": [],
   "source": [
    "## Code 9.3.2 ##\n",
    "\n",
    "# adapted from Code 9.2.3\n",
    "\n",
    "# adding return statement\n",
    "def power_up(x, power=2):\n",
    "    val = x**power\n",
    "    return val\n",
    "\n",
    "# running the function\n",
    "power_up(x = 3, power = 3)"
   ]
  },
  {
   "cell_type": "markdown",
   "metadata": {
    "deletable": false,
    "editable": false,
    "run_control": {
     "frozen": true
    }
   },
   "source": [
    "<br><hr style=\"height:.9px;border:none;color:#333;background-color:#333;\" /><br>\n",
    "\n",
    "<h2>9.4 Docstrings</h2>\n",
    "\n",
    "Up to this point, we have created a total of three user-defined functions:\n",
    "* <em>bday( )</em> - prints a birthday message\n",
    "* <em>square(x)</em> - raises a number to the power of two\n",
    "* <em>power_up(x, power=2)</em> - raises any number to any power\n",
    "\n",
    "<br>\n",
    "Each of these functions has been given a name that provides suggestion as to what the function does. This is a good start, but a critical element of explanation is missing: the <a href=\"https://www.python.org/dev/peps/pep-0257/#what-is-a-docstring\">docstring</a>. <strong>Docstrings</strong>, also known as documentation strings, do as their name implies: they provide documentation. In other words, their purpose is to help users understand what something does and how it should be used. They are a key component of many coding structures in Python, including functions, classes, modules, and packages, although we will only be discussing them in terms of functions in this chapter. At this point, you should have ample experience working with docstrings, as they are the text that appears when you call <em>help( )</em> on something.\n",
    "<br><br>\n",
    "\n",
    "<h4>Writing a Docstring</h4>\n",
    "Coding a <strong>docstring</strong> for a function is incredibly simple: place a triple-quoted string on the first line of the function's body.\n",
    "<br><br>\n",
    "\n",
    "~~~\n",
    "def FUNCTION_NAME(ARGUMENTS):\n",
    "    \"\"\" DOCSTRING \"\"\"\n",
    "    \n",
    "    FUNCTION BODY\n",
    "~~~\n",
    "\n",
    "<br>\n",
    "As long as the <strong>docstring</strong> is on the first line, it will be referenced every time a user calls <em>help( )</em> on the function. Also, <strong>docstrings</strong> for functions are generally written concisely, consisting of only a single line explaining what the function does. However, there is no reason to restrict yourself from being thorough if you feel it will benefit users. At the time of this writing, the <strong>docstring</strong> for the method <em>pandas.DataFrame</em> is 72 lines long. Not only does the documentation provide details as to what the method does, but also offers a solid explanation of its parameters, outlines similar methods that have been designed to address slightly different needs, and provides usage examples. This <strong>docstring</strong> is shown below."
   ]
  },
  {
   "cell_type": "markdown",
   "metadata": {
    "deletable": false,
    "editable": false,
    "run_control": {
     "frozen": true
    }
   },
   "source": [
    "<hr style=\"height:.9px;border:none;color:gray;background-color:gray;\" />\n",
    "<hr style=\"height:.9px;border:none;color:gray;background-color:gray;\" />\n",
    "\n",
    "    Two-dimensional size-mutable, potentially heterogeneous tabular data\n",
    "    structure with labeled axes (rows and columns). Arithmetic operations\n",
    "    align on both row and column labels. Can be thought of as a dict-like\n",
    "    container for Series objects. The primary pandas data structure.\n",
    "\n",
    "    Parameters\n",
    "    ----------\n",
    "    data : ndarray (structured or homogeneous), Iterable, dict, or DataFrame\n",
    "        Dict can contain Series, arrays, constants, or list-like objects\n",
    "\n",
    "        .. versionchanged :: 0.23.0\n",
    "           If data is a dict, column order follows insertion-order for\n",
    "           Python 3.6 and later.\n",
    "\n",
    "        .. versionchanged :: 0.25.0\n",
    "           If data is a list of dicts, column order follows insertion-order\n",
    "           Python 3.6 and later.\n",
    "\n",
    "    index : Index or array-like\n",
    "        Index to use for resulting frame. Will default to RangeIndex if\n",
    "        no indexing information part of input data and no index provided\n",
    "    columns : Index or array-like\n",
    "        Column labels to use for resulting frame. Will default to\n",
    "        RangeIndex (0, 1, 2, ..., n) if no column labels are provided\n",
    "    dtype : dtype, default None\n",
    "        Data type to force. Only a single dtype is allowed. If None, infer\n",
    "    copy : boolean, default False\n",
    "        Copy data from inputs. Only affects DataFrame / 2d ndarray input\n",
    "\n",
    "    See Also\n",
    "    --------\n",
    "    DataFrame.from_records : Constructor from tuples, also record arrays.\n",
    "    DataFrame.from_dict : From dicts of Series, arrays, or dicts.\n",
    "    DataFrame.from_items : From sequence of (key, value) pairs\n",
    "        read_csv, pandas.read_table, pandas.read_clipboard.\n",
    "\n",
    "    Examples\n",
    "    --------\n",
    "    Constructing DataFrame from a dictionary.\n",
    "\n",
    "    >>> d = {'col1': [1, 2], 'col2': [3, 4]}\n",
    "    >>> df = pd.DataFrame(data=d)\n",
    "    >>> df\n",
    "       col1  col2\n",
    "    0     1     3\n",
    "    1     2     4\n",
    "\n",
    "    Notice that the inferred dtype is int64.\n",
    "\n",
    "    >>> df.dtypes\n",
    "    col1    int64\n",
    "    col2    int64\n",
    "    dtype: object\n",
    "\n",
    "    To enforce a single dtype:\n",
    "\n",
    "    >>> df = pd.DataFrame(data=d, dtype=np.int8)\n",
    "    >>> df.dtypes\n",
    "    col1    int8\n",
    "    col2    int8\n",
    "    dtype: object\n",
    "\n",
    "    Constructing DataFrame from numpy ndarray:\n",
    "\n",
    "    >>> df2 = pd.DataFrame(np.array([[1, 2, 3], [4, 5, 6], [7, 8, 9]]),\n",
    "    ...                    columns=['a', 'b', 'c'])\n",
    "    >>> df2\n",
    "       a  b  c\n",
    "    0  1  2  3\n",
    "    1  4  5  6\n",
    "    2  7  8  9\n",
    "    \n",
    "<hr style=\"height:.9px;border:none;color:gray;background-color:gray;\" />\n",
    "<hr style=\"height:.9px;border:none;color:gray;background-color:gray;\" />"
   ]
  },
  {
   "cell_type": "markdown",
   "metadata": {
    "cell_style": "split",
    "deletable": false,
    "editable": false,
    "run_control": {
     "frozen": true
    }
   },
   "source": [
    "The <em>bday( )</em> function has been modified to include a <strong>docstring</strong> (<em>Code 9.4.1</em>). It may seem trivial to write a <strong>docstring</strong> for such a simple function that has no arguments and offers no customization. However, all coding structures that support <strong>docstrings</strong> should have them, regardless of how simple they may be. They are easy to set up and can immensely accelerate a user's learning curve. Additionally, poor quality documentation may indicate that corners have been cut in the development of the function (it may be unstable). When reading <em>help( )</em> files, you should always look for:\n",
    "\n",
    "* an explanation as to what the function is supposed to do\n",
    "* a list of parameters and how to apply them\n",
    "* usage examples"
   ]
  },
  {
   "cell_type": "markdown",
   "metadata": {
    "cell_style": "split",
    "deletable": false,
    "editable": false,
    "run_control": {
     "frozen": true
    }
   },
   "source": [
    "<br>"
   ]
  },
  {
   "cell_type": "code",
   "execution_count": null,
   "metadata": {
    "cell_style": "split",
    "deletable": false,
    "editable": false
   },
   "outputs": [],
   "source": [
    "## Code 9.4.1 ##\n",
    "\n",
    "# adapted from Code 9.1.1\n",
    "\n",
    "# defining a function with a docstring\n",
    "def bday():\n",
    "    \"\"\"Function prints 'Happy Birthday!'\"\"\"\n",
    "    print('Happy Birthday!')\n",
    "\n",
    "# calling help() on the function\n",
    "help(bday)"
   ]
  },
  {
   "cell_type": "markdown",
   "metadata": {
    "deletable": false,
    "editable": false,
    "run_control": {
     "frozen": true
    }
   },
   "source": [
    "If these are not available, search the <strong>docstring</strong> for a web link that leads to these things. If no such link exists, it may be best to find an alternative tool. <em>Codes 9.4.2</em> and <em>9.4.3</em> have been left open so that you may create <strong>docstrings</strong> for the <em>square( )</em> and <em>power_up( )</em> functions, respectively. As a good practice, make sure to include an explanation of each function's parameters and a usage example.\n",
    "<br><br>\n",
    "<strong>Note:</strong> Many of the most fundamental functions in Python do not have great documentation. This does not mean they are unstable. Instead, it implies that such functions are so critical that their authors are operating under the assumption that users will understand how them. However, user-defined functions and those found in specialized packages should have very well developed docstrings."
   ]
  },
  {
   "cell_type": "code",
   "execution_count": null,
   "metadata": {
    "code_folding": [],
    "solution2": "hidden",
    "solution2_first": true
   },
   "outputs": [],
   "source": [
    "## Code 9.4.2 ##\n",
    "\n",
    "# open coding block\n",
    "\n",
    "# adapted from Code 9.2.3\n",
    "\n",
    "def square(x):\n",
    "    val = x**2\n",
    "    return val\n",
    "    \n",
    "help(square)"
   ]
  },
  {
   "cell_type": "code",
   "execution_count": null,
   "metadata": {
    "deletable": false,
    "editable": false,
    "solution2": "hidden"
   },
   "outputs": [],
   "source": [
    "## Sample Solution 9.4.2 ##\n",
    "\n",
    "# adapted from Code 9.2.3\n",
    "\n",
    "def square(x):\n",
    "    \"\"\"\n",
    "    Takes a number and returns the it raised to the power of two.\n",
    "    \n",
    "    PARAMETERS\n",
    "    ----------\n",
    "    x : int or float\n",
    "        The number to be raised to the power of two.\n",
    "    \n",
    "    \n",
    "    EXAMPLES\n",
    "    --------\n",
    "    >>> two_squared = square(x=2)\n",
    "    >>> print(two_squared) \n",
    "    4\n",
    "    \"\"\"\n",
    "    \n",
    "    val = x**2\n",
    "    return val\n",
    "    \n",
    "help(square)"
   ]
  },
  {
   "cell_type": "markdown",
   "metadata": {
    "deletable": false,
    "editable": false,
    "run_control": {
     "frozen": true
    }
   },
   "source": [
    "<br><hr style=\"height:.9px;border:none;color:#333;background-color:#333;\" /><br>"
   ]
  },
  {
   "cell_type": "code",
   "execution_count": null,
   "metadata": {
    "solution2": "hidden",
    "solution2_first": true
   },
   "outputs": [],
   "source": [
    "## Code 9.4.3 ##\n",
    "\n",
    "# open coding block\n",
    "\n",
    "# adapted from Code 9.3.1\n",
    "\n",
    "def power_up(x, power=2):\n",
    "    val = x**power\n",
    "    return val\n",
    "    \n",
    "help(power_up)"
   ]
  },
  {
   "cell_type": "code",
   "execution_count": null,
   "metadata": {
    "deletable": false,
    "editable": false,
    "solution2": "hidden"
   },
   "outputs": [],
   "source": [
    "## Sample Solution 9.4.3 ##\n",
    "\n",
    "# adapted from Code 9.3.1\n",
    "\n",
    "def power_up(x, power=2):\n",
    "    \"\"\"\n",
    "    Takes a number and returns the it raised to the power of two.\n",
    "    Mathematical representation: x**power\n",
    "    \n",
    "    PARAMETERS\n",
    "    ----------\n",
    "    x : int or float\n",
    "        The number to be raised to a power.\n",
    "    \n",
    "    power : int or float, default 2\n",
    "        The power x will be raised to.\n",
    "    \n",
    "    \n",
    "    EXAMPLES\n",
    "    --------\n",
    "    >>> three_to_three = power_up(x=3, power=3)\n",
    "    >>> print(three_to_three) \n",
    "    27\n",
    "    \"\"\"\n",
    "    \n",
    "    val = x**power\n",
    "    return val\n",
    "    \n",
    "help(power_up)"
   ]
  },
  {
   "cell_type": "code",
   "execution_count": null,
   "metadata": {
    "deletable": false,
    "editable": false,
    "solution2": "hidden"
   },
   "outputs": [],
   "source": [
    "## Sample Solution 9.8.4 ##\n",
    "\n",
    "# replicated from Code 8.3.2\n",
    "jordan_stats = [[\"'84-'85\", '2313', 'Y'],\n",
    "                [\"'85-'86\", '408',  'N'],\n",
    "                [\"'86-'87\", '3041', 'Y'],\n",
    "                [\"'87-'88\", '2868', 'Y'],\n",
    "                [\"'88-'89\", '2633', 'Y'],\n",
    "                [\"'89-'90\", '2753', 'Y'],\n",
    "                [\"'90-'91\", '2580', 'Y'],\n",
    "                [\"'91-'92\", '2404', 'Y'],\n",
    "                [\"'92-'93\", '2541', 'Y'],\n",
    "                [\"'93-'94\", 'DNP', 'DNP'],\n",
    "                [\"'94-'95\", '457',  'N'],\n",
    "                [\"'95-'96\", '2491', 'Y'],\n",
    "                [\"'96-'97\", '2431', 'Y'],\n",
    "                [\"'97-'98\", '2357', 'Y'],\n",
    "                [\"'98-'99\", 'Retired', 'Retired'],\n",
    "                [\"'99-'00\", 'Retired', 'Retired'],\n",
    "                [\"'00-'01\", 'Retired', 'Retired'],\n",
    "                [\"'01-'02\", '1375', 'N'],\n",
    "                [\"'02-'03\", '1640', 'N']]\n",
    "\n",
    "\n",
    "# adapted from Code 8.4.3\n",
    "\"\"\"\n",
    "Assumptions:\n",
    "    Calculations should only include seasons where Jordan played.\n",
    "\"\"\"\n",
    "\n",
    "# declaring objects\n",
    "total_points  = 0\n",
    "total_seasons = 0\n",
    "point_limit   = 25000\n",
    "skipped_seasons = 0\n",
    "\n",
    "\n",
    "# writing loops\n",
    "for season, points, lead_scorer in jordan_stats:\n",
    "\n",
    "    while total_points < point_limit:\n",
    "        \n",
    "        try:\n",
    "            points = int(points)\n",
    "            total_points  += points\n",
    "            total_seasons += 1\n",
    "            break\n",
    "   \n",
    "        # for strings that cannot be converted to integers\n",
    "        except ValueError:\n",
    "            skipped_seasons += 1\n",
    "            break            \n",
    "\n",
    "        \n",
    "# printing the results\n",
    "print(f\"\"\"\n",
    "{'*' * 40}\n",
    "\n",
    "In seasons where he led the league in scoring,\n",
    "Jordan surpassed {point_limit} points after {total_seasons}\n",
    "seasons (scoring {total_points}).\n",
    "      \n",
    "This calculation excludes {skipped_seasons} season(s) where\n",
    "Jordan did not play.\n",
    "\n",
    "{'*' * 40}\n",
    "\"\"\")"
   ]
  },
  {
   "cell_type": "markdown",
   "metadata": {
    "deletable": false,
    "editable": false,
    "run_control": {
     "frozen": true
    }
   },
   "source": [
    "<br><hr style=\"height:.9px;border:none;color:#333;background-color:#333;\" /><br>\n",
    "\n",
    "<h2>9.5 Summary</h2>\n",
    "\n",
    "User-defined functions are a powerful tool that allow programmers to blueprint code so that it can be used over and over again. Defining a function is similar to writing a conditional statement or a loop in that the first line starts with a designated syntax and ends with a semicolon. Also, the body of a function must be indented. Arguments can be specified when defining a function, and can be mandatory (no default value), optional (contains default value), or variable (varies in length). All functions should contain docstrings, regardless of how simple they may be. Docstrings should explain what a function is intended to do, list and explain parameters, and give usage examples.\n",
    "<br><br>\n",
    "A variable's scope can have unexpected consequences on other objects. Nested functions require one to pay particular attention to the scope of each variable, which can be managed with the use of <strong>return</strong> statements and scoping syntax such as <strong>global</strong> and <strong>nonlocal</strong>. Scoping syntax should be used with extreme caution as it may adversely affect a user's code. Also, function names should be unique as to not unintentionally overwrite an existing function.\n",
    "<br><br>\n",
    "Finally, comprehending how to write, document, test, and exception handle user-defined functions will greatly increase your ability to benefit from functions available in the open source community. When researching packages available in the open-source community, the quality of a package's documentation can indicate whether or not the package is stable and/or will work as intended. When encountering a package that is not documented well, it may be wise to search for an alternative tool.\n",
    "<br><br>\n",
    "\n",
    "~~~\n",
    "\n",
    "   ,ggggggg,                                                                            \n",
    " ,dP\"\"\"\"\"\"Y8b                                ,dPYb, ,dPYb,                         I8   \n",
    " d8'    a  Y8                                IP'`Yb IP'`Yb                         I8   \n",
    " 88     \"Y8P'                                I8  8I I8  8I                      88888888\n",
    " `8baaaa                                     I8  8' I8  8'                         I8   \n",
    ",d8P\"\"\"\"        ,gg,   ,gg  ,gggg,   ,ggg,   I8 dP  I8 dP   ,ggg,    ,ggg,,ggg,    I8   \n",
    "d8\"            d8\"\"8b,dP\"  dP\"  \"Yb i8\" \"8i  I8dP   I8dP   i8\" \"8i  ,8\" \"8P\" \"8,   I8   \n",
    "Y8,           dP   ,88\"   i8'       I8, ,8I  I8P    I8P    I8, ,8I  I8   8I   8I  ,I8,  \n",
    "`Yba,,_____,,dP  ,dP\"Y8, ,d8,_    _ `YbadP' ,d8b,_ ,d8b,_  `YbadP' ,dP   8I   Yb,,d88b, \n",
    "  `\"Y88888888\"  dP\"   \"Y8P\"\"Y8888PP888P\"Y8888P'\"Y888P'\"Y88888P\"Y8888P'   8I   `Y88P\"\"Y8 \n",
    "                                                                                        \n",
    "\n",
    "~~~\n"
   ]
  },
  {
   "cell_type": "markdown",
   "metadata": {
    "deletable": false,
    "editable": false,
    "run_control": {
     "frozen": true
    }
   },
   "source": [
    "<br>"
   ]
  }
 ],
 "metadata": {
  "kernelspec": {
   "display_name": "Python 3",
   "language": "python",
   "name": "python3"
  },
  "language_info": {
   "codemirror_mode": {
    "name": "ipython",
    "version": 3
   },
   "file_extension": ".py",
   "mimetype": "text/x-python",
   "name": "python",
   "nbconvert_exporter": "python",
   "pygments_lexer": "ipython3",
   "version": "3.8.5"
  },
  "toc": {
   "base_numbering": 1,
   "nav_menu": {},
   "number_sections": false,
   "sideBar": true,
   "skip_h1_title": false,
   "title_cell": "Table of Contents",
   "title_sidebar": "Contents",
   "toc_cell": false,
   "toc_position": {},
   "toc_section_display": true,
   "toc_window_display": false
  },
  "varInspector": {
   "cols": {
    "lenName": 16,
    "lenType": 16,
    "lenVar": 40
   },
   "kernels_config": {
    "python": {
     "delete_cmd_postfix": "",
     "delete_cmd_prefix": "del ",
     "library": "var_list.py",
     "varRefreshCmd": "print(var_dic_list())"
    },
    "r": {
     "delete_cmd_postfix": ") ",
     "delete_cmd_prefix": "rm(",
     "library": "var_list.r",
     "varRefreshCmd": "cat(var_dic_list()) "
    }
   },
   "oldHeight": 122.22178,
   "position": {
    "height": "375.729px",
    "left": "1033.98px",
    "right": "20px",
    "top": "100.983px",
    "width": "541.285px"
   },
   "types_to_exclude": [
    "module",
    "function",
    "builtin_function_or_method",
    "instance",
    "_Feature"
   ],
   "varInspector_section_display": "block",
   "window_display": false
  }
 },
 "nbformat": 4,
 "nbformat_minor": 2
}
