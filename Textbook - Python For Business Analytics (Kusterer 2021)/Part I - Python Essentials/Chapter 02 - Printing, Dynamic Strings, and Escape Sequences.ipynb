{
 "cells": [
  {
   "cell_type": "markdown",
   "metadata": {
    "deletable": false,
    "editable": false,
    "run_control": {
     "frozen": true
    }
   },
   "source": [
    "<hr style=\"height:.9px;border:none;color:#333;background-color:#333;\" />\n",
    "<hr style=\"height:.9px;border:none;color:#333;background-color:#333;\" />\n",
    "<br><br><br>\n",
    "<h1>Python for Business Analytics</h1>\n",
    "<em>A Nontechnical Approach for Nontechnical People</em><br><br>\n",
    "<em><strong>Custom Edition for Hult International Business School</strong></em><br>\n",
    "\n",
    "Written by Chase Kusterer - Faculty of Analytics <br>\n",
    "Hult International Business School <br>\n",
    "https://github.com/chase-kusterer<br><br><br><br><br>\n",
    "\n",
    "<hr style=\"height:.9px;border:none;color:#333;background-color:#333;\" />\n",
    "<hr style=\"height:.9px;border:none;color:#333;background-color:#333;\" />\n",
    "<br>\n",
    "\n",
    "<h1><u>Chapter 2: Printing, Dynamic Strings, and Escape Sequences</u></h1>"
   ]
  },
  {
   "cell_type": "markdown",
   "metadata": {
    "deletable": false,
    "editable": false,
    "run_control": {
     "frozen": true
    }
   },
   "source": [
    "Without a doubt, <strong>print()</strong> are one of the most fundamental functions in virtually any programming language. Although it is fundamental, it is something that you absolutely need to master. This chapter is dedicated to this function, as well as other very useful tools that will prove invaluable as you move forward. More specifically, this chapter covers:\n",
    "\n",
    "* the <strong>print()</strong> function\n",
    "* objects in Python\n",
    "* working with a function's optional arguments\n",
    "* enabling and escaping the meanings of special characters\n",
    "* developing <strong>print()</strong> statements that are dynamic\n",
    "\n",
    "<br>\n",
    "<hr style=\"height:.9px;border:none;color:#333;background-color:#333;\" />"
   ]
  },
  {
   "cell_type": "markdown",
   "metadata": {
    "deletable": false,
    "editable": false,
    "run_control": {
     "frozen": true
    }
   },
   "source": [
    "<h3>2.1 The Fundamentals of print() Statements</h3>\n",
    "Print statements are one of the most useful and fundamental operations in Python. We rarely want to print the output of every line of code that we write, and will even encounter several programs that do not print anything. The <strong>print()</strong> command helps us to manage what output gets printed, and what output should be suppressed.<br>\n",
    "\n",
    "<h4>What is printing?</h4>\n",
    "To clarify, to <em>print</em> simply means to <em>display</em>. When we call the <strong>print()</strong> function, we are telling Python to display something. When we call <strong>print()</strong> in Jupyter Notebook, by default, Python displays its results directly under the cell containing the <strong>print()</strong> statement.\n",
    "\n",
    "<h4>Basic Functionality</h4>\n",
    "There is a lot we can do with <strong>print()</strong> statements, and this section is dedicated to mastering the fundamentals. Below is a table of the syntax covered in this section:\n",
    "<br><br>\n",
    "<div style = \"width:image width px; font-size:80%; text-align:center;\">\n",
    "<table align=\"center\">\n",
    "<col width=\"100\">\n",
    "<col width=\"10\">   \n",
    "<col width=\"250\">\n",
    "    <tr>\n",
    "        <th>Syntax</th>\n",
    "        <th>    | </th>\n",
    "        <th>Description</th>\n",
    "    </tr>\n",
    "    <tr>\n",
    "        <td>print()</td>\n",
    "        <td>    | </td>\n",
    "        <td> outputs an argument to the console</td>\n",
    "    </tr>\n",
    "    <tr>\n",
    "    <tr>\n",
    "        <td>' '</td>\n",
    "        <td>    | </td>\n",
    "        <td> wrapper to print strings</td>\n",
    "    </tr>\n",
    "    <tr>\n",
    "        <td>\" \"</td>\n",
    "        <td>    | </td>\n",
    "        <td> wrapper to print strings</td>\n",
    "    </tr>   \n",
    "    <tr>\n",
    "        <td>\"\"\" \"\"\"</td>\n",
    "        <td>    | </td>\n",
    "        <td> wrapper to print strings on multiple lines</td>\n",
    "    </tr>\n",
    "    <tr>\n",
    "        <td>f\" {var} \"</td>\n",
    "        <td>    | </td>\n",
    "        <td> dynamically calls variables/objects into print strings</td>\n",
    "    </tr>\n",
    "    <tr>\n",
    "        <td>f\"\"\" {var} \"\"\"</td>\n",
    "        <td>    | </td>\n",
    "        <td> dynamically calls variables/objects into print strings on multiple lines</td>\n",
    "    </tr>\n",
    "    <tr>\n",
    "          <em>Table 2.1: Common <strong>print()</strong> statement syntax.</em>\n",
    "    </tr>\n",
    "</table></div>"
   ]
  },
  {
   "cell_type": "markdown",
   "metadata": {
    "deletable": false,
    "editable": false,
    "run_control": {
     "frozen": true
    }
   },
   "source": [
    "<hr style=\"height:.9px;border:none;color:#333;background-color:#333;\" /><br>\n",
    "<br>\n",
    "As you can see from <em>Table 2.1</em> above, multiple wrappers are available to construct a print statement. A <strong>wrapper</strong> is, well, syntax that wraps around other syntax. For example, in the statement:<br>\n",
    "\n",
    "~~~\n",
    "print('Hello world!')\n",
    "~~~\n",
    "\n",
    "two wrappers are present (the parentheses and the quotation marks). In this section, when we say wrapper, we are referring to the style of quotation marks that is wrapped around what we intend to print.<br>"
   ]
  },
  {
   "cell_type": "markdown",
   "metadata": {
    "cell_style": "split",
    "deletable": false,
    "editable": false,
    "run_control": {
     "frozen": true
    }
   },
   "source": [
    "In <em>Codes 2.1.1(a)</em> through <em>2.1.1(c)</em>, three wrapper methods are presented. Each of these codes results in the same output. This may have you wondering why Python 3 allows for several wrappers to do the same thing. You may also be wondering why we are learning three wrappers if each one results in the same output. There are two reasons for this:<br>\n",
    "1. <em>Hello world!</em> is a special case where all three wrapper techniques result in the same output. As we move forward, you will experience the advantages of having multiple ways to do (almost) the same thing.<br><br>\n",
    "2. You need to be capable enough to read other people's code, and they may use any combination of wrappers.\n",
    "\n",
    "<br><br>"
   ]
  },
  {
   "cell_type": "markdown",
   "metadata": {
    "cell_style": "split",
    "deletable": false,
    "editable": false,
    "run_control": {
     "frozen": true
    }
   },
   "source": [
    "<br>"
   ]
  },
  {
   "cell_type": "code",
   "execution_count": null,
   "metadata": {
    "cell_style": "split",
    "deletable": false,
    "editable": false
   },
   "outputs": [],
   "source": [
    "## Code 2.1.1(a) ##\n",
    "\n",
    "print('Hello world!')"
   ]
  },
  {
   "cell_type": "markdown",
   "metadata": {
    "cell_style": "split",
    "deletable": false,
    "editable": false,
    "run_control": {
     "frozen": true
    }
   },
   "source": [
    "<br>"
   ]
  },
  {
   "cell_type": "code",
   "execution_count": null,
   "metadata": {
    "cell_style": "split",
    "deletable": false,
    "editable": false
   },
   "outputs": [],
   "source": [
    "## Code 2.1.1(b) ##\n",
    "\n",
    "print(\"Hello world!\")"
   ]
  },
  {
   "cell_type": "markdown",
   "metadata": {
    "cell_style": "split",
    "deletable": false,
    "editable": false,
    "run_control": {
     "frozen": true
    }
   },
   "source": [
    "<br>"
   ]
  },
  {
   "cell_type": "code",
   "execution_count": null,
   "metadata": {
    "cell_style": "split",
    "deletable": false,
    "editable": false
   },
   "outputs": [],
   "source": [
    "## Code 2.1.1(c) ##\n",
    "\n",
    "print(\"\"\"Hello world!\"\"\")"
   ]
  },
  {
   "cell_type": "markdown",
   "metadata": {
    "deletable": false,
    "editable": false,
    "run_control": {
     "frozen": true
    }
   },
   "source": [
    "<hr style=\"height:.9px;border:none;color:#333;background-color:#333;\" />\n",
    "\n",
    "<h4>Effective Use of Print Wrappers</h4>\n",
    "Suppose we wanted to print the following two statements:\n",
    "<br><br>\n",
    "    \n",
    "~~~\n",
    "\"I told my wife that she's drawing her eyebrows too high,\" said the husband.\n",
    "~~~\n",
    "    \n",
    "~~~\n",
    "\"She looked surprised.\"\n",
    "~~~\n",
    "    \n",
    "<br>\n",
    "<em>Code 2.1.2</em> below utilizes single, double, and triple quote wrappers in an attempt to print the first of these statements. Notice the differences in syntax coloring between each of these techniques. Using the single-quote wrapper, the string to be printed is cut off at the apostrophe in <em>she's</em>, and then picks up again at the end of the quote. Technically, this <strong>print()</strong> statement contains two strings: 1) <em>\"I told my wife that she</em> (wrapped in single-quotes), and 2) <em>said the husband.')</em> (starting with a double-quote but never ending). The remaining text is not recognized as a string. Although this is clearly not what we had intended, it is important to note that this print statement will fail for three reasons:"
   ]
  },
  {
   "cell_type": "markdown",
   "metadata": {
    "cell_style": "center",
    "deletable": false,
    "editable": false,
    "run_control": {
     "frozen": true
    }
   },
   "source": [
    "1. The Python interpreter will reach the end of the first string and look for either a comma or a closing of the print statement. Since instead it will find the letter <em>s</em>, it does not know what to do and throws a syntax error.<div style=\"margin-bottom:0.5em;\"></div>\n",
    "2. The letter <em>s</em> (as well as the other words in-between the strings) are currently not defined as objects in our environment.<div style=\"margin-bottom:0.5em;\"></div>\n",
    "3. The second string is open. It needs to be closed with another double quote."
   ]
  },
  {
   "cell_type": "markdown",
   "metadata": {
    "deletable": false,
    "editable": false,
    "run_control": {
     "frozen": true
    }
   },
   "source": [
    "These \"bugs\" have been fixed in <em>Code 2.1.3</em>. Still there are much easier (and more effective) ways to solve such issues. Such remedies are offered in <em>Code 2.1.4</em>."
   ]
  },
  {
   "cell_type": "code",
   "execution_count": null,
   "metadata": {
    "cell_style": "center",
    "deletable": false,
    "editable": false,
    "run_control": {
     "frozen": true
    }
   },
   "outputs": [],
   "source": [
    "## Code 2.1.2 ##\n",
    "\n",
    "## Note: This code is locked and will not run ##\n",
    "\n",
    "# Single-quote wrapper\n",
    "print('\"I told my wife that she's drawing her eyebrows too high,\" said the husband.')\n",
    "\n",
    "# Double-quote wrapper\n",
    "print(\"\"I told my wife that she's drawing her eyebrows too high,\" said the husband.\")\n",
    "\n",
    "# Triple-quote wrapper\n",
    "print(\"\"\"\"I told my wife that she's drawing her eyebrows too high,\" said the husband.\"\"\")"
   ]
  },
  {
   "cell_type": "markdown",
   "metadata": {
    "deletable": false,
    "editable": false,
    "run_control": {
     "frozen": true
    }
   },
   "source": [
    "<hr style=\"height:.9px;border:none;color:#333;background-color:#333;\" />"
   ]
  },
  {
   "cell_type": "code",
   "execution_count": null,
   "metadata": {
    "deletable": false,
    "editable": false
   },
   "outputs": [],
   "source": [
    "## Code 2.1.3 ##\n",
    "\n",
    "# Defining objects (covered in Section 2.2)\n",
    "s        = 's'\n",
    "drawing  = 'drawing'\n",
    "her      = 'her'\n",
    "eyebrows = 'eyebrows'\n",
    "too      = 'too'\n",
    "high     = 'high'\n",
    "\n",
    "# (Mostly) Debugged single-quote wrapper\n",
    "print('\"I told my wife that she', s, drawing, her, eyebrows, too, high, \"said the husband.'\")\n"
   ]
  },
  {
   "cell_type": "markdown",
   "metadata": {
    "deletable": false,
    "editable": false,
    "run_control": {
     "frozen": true
    }
   },
   "source": [
    "<hr style=\"height:.9px;border:none;color:#333;background-color:#333;\" />"
   ]
  },
  {
   "cell_type": "code",
   "execution_count": null,
   "metadata": {
    "deletable": false,
    "editable": false
   },
   "outputs": [],
   "source": [
    "## Code 2.1.4 ##\n",
    "\n",
    "# Single-quote wrapper with escape sequence(s) (covered in Section 2.4)\n",
    "print('\"I told my wife that she\\'s drawing her eyebrows too high,\" said the husband.')\n",
    "\n",
    "\n",
    "# Double-quote wrapper with escape sequence(s) (covered in Section 2.4)\n",
    "print(\"\\\"I told my wife that she's drawing her eyebrows too high,\\\" said the husband.\")\n",
    "\n",
    "\n",
    "# Combination of single and double quote wrappers\n",
    "print('\"I told my wife that', \"she's drawing her eyebrows too\", 'high,\" said the husband.')"
   ]
  },
  {
   "cell_type": "markdown",
   "metadata": {
    "deletable": false,
    "editable": false,
    "run_control": {
     "frozen": true
    }
   },
   "source": [
    "Success! The first line of our two statements is debugged. Now it's time to print our second statement. We could opt to write two print statements, or we could utilize the primary advantage of the triple quote wrapper, which allows us to print on multiple lines. This wrapper also simplifies debugging, as by using it, our strings won't break if apostrophes or quotation marks are present. Remember, we are trying to print the following:<br><br>\n",
    "\n",
    "~~~\n",
    "\"I told my wife that she's drawing her eyebrows too high,\" said the husband.\n",
    "\n",
    "\"She looked surprised.\"\n",
    "~~~\n",
    "\n",
    "<br>Triple quote wrappers also offer the opportunity to format print layouts in a similar manner to how we would do so in Microsoft Word or a similar software. I have found that a good practice when using triple-quotes is to give structure the wrapper such that it sits on its own lines of code. This is exemplified in <em>Code 2.1.5</em>."
   ]
  },
  {
   "cell_type": "code",
   "execution_count": null,
   "metadata": {
    "deletable": false,
    "editable": false
   },
   "outputs": [],
   "source": [
    "## Code 2.1.5 ##\n",
    "\n",
    "print(\n",
    "\"\"\"\n",
    "\"I told my wife that she's drawing her eyebrows too high,\" said the husband.\n",
    "\n",
    "\"She looked surprised.\"\n",
    "\"\"\")"
   ]
  },
  {
   "cell_type": "markdown",
   "metadata": {
    "deletable": false,
    "editable": false,
    "run_control": {
     "frozen": true
    }
   },
   "source": [
    "<br>The structure of <em>Code 2.1.5</em> allows for creative customization of our print statement. Below is an open coding block for you to experiment with different spacing.<br><br>"
   ]
  },
  {
   "cell_type": "code",
   "execution_count": null,
   "metadata": {},
   "outputs": [],
   "source": [
    "## Code 2.1.6 ##\n",
    "\n",
    "## Play with the code below ##\n",
    "\n",
    "print(\n",
    "\"\"\"\n",
    "\"I told my wife that she's drawing her eyebrows too high,\" said the husband.\n",
    "\n",
    "\"She...\n",
    "            looked...\n",
    "                        surprised.\"\n",
    "\"\"\")"
   ]
  },
  {
   "cell_type": "markdown",
   "metadata": {
    "deletable": false,
    "editable": false,
    "run_control": {
     "frozen": true
    }
   },
   "source": [
    "<hr style=\"height:.9px;border:none;color:#333;background-color:#333;\" />"
   ]
  },
  {
   "cell_type": "markdown",
   "metadata": {
    "cell_style": "split",
    "deletable": false,
    "editable": false,
    "run_control": {
     "frozen": true
    }
   },
   "source": [
    "<h4>Printing v. Sample Outputs</h4>\n",
    "Notice that in <em>Code 2.1.7</em>, we simply ran 'Hello world!' without a <strong>print()</strong> wrapper. At first glance, it appears that we have attained the same result as in <em>Codes 2.1.1(a) through 2.1.1(c)</em>. However, notice what happens when we add additional syntax to our code block, as in <em>Code 2.1.7</em>. Ah ha! Now things are different! Instead of outputting <em>Hello world!</em>, Python decided to output the result of *1 + 1*. In other words, Python outputted the final line of code that it processed.<br><br><strong>Outputting is not the same as printing!</strong> If we created a program consisting of just the two lines in <em>Code 2.1.8</em>, the program would run behind the scenes and not generate any output. Jupyter Notebook, in a way, is doing us a favor by showing us the results of the last line of code. However, we need to be mindful that we do not confuse this with something being printed.\n",
    "<br><br>\n",
    "To make things more interesting, let's see what happens when we add a print wrapper around <em>'Hello world!'</em> and keep the other lines of code the same (<em>Code 2.1.9</em>). In this code block, <em>Hello world!</em> printed (i.e. appeared on our visual interface) and the result of the calculation <em>1 + 1</em> also appeared. As you may have imagined, if we add any lines of code under <em>1 + 1</em>, this output will no longer show up (<em>Code 2.1.10</em>). This is exactly why we have <strong>print()</strong> statements!"
   ]
  },
  {
   "cell_type": "code",
   "execution_count": null,
   "metadata": {
    "cell_style": "split",
    "deletable": false,
    "editable": false
   },
   "outputs": [],
   "source": [
    "## Code 2.1.7 ##\n",
    "\n",
    "'Hello world!'"
   ]
  },
  {
   "cell_type": "code",
   "execution_count": null,
   "metadata": {
    "cell_style": "split",
    "deletable": false,
    "editable": false
   },
   "outputs": [],
   "source": [
    "## Code 2.1.8 ##\n",
    "\n",
    "'Hello world!'\n",
    "\n",
    "1 + 1"
   ]
  },
  {
   "cell_type": "code",
   "execution_count": null,
   "metadata": {
    "cell_style": "split",
    "deletable": false,
    "editable": false
   },
   "outputs": [],
   "source": [
    "## Code 2.1.9 ##\n",
    "\n",
    "print('Hello world!')\n",
    "\n",
    "1 + 1"
   ]
  },
  {
   "cell_type": "code",
   "execution_count": null,
   "metadata": {
    "cell_style": "split",
    "deletable": false,
    "editable": false
   },
   "outputs": [],
   "source": [
    "## Code 2.1.10 ##\n",
    "\n",
    "print('Hello world!')\n",
    "\n",
    "1 + 1\n",
    "\n",
    "2 + 2"
   ]
  },
  {
   "cell_type": "code",
   "execution_count": null,
   "metadata": {
    "cell_style": "split",
    "deletable": false,
    "editable": false
   },
   "outputs": [],
   "source": [
    "## Code 2.1.11 ##\n",
    "\n",
    "print('Hello world!')\n",
    "\n",
    "print(1 + 1)\n",
    "\n",
    "print(2 + 2)\n"
   ]
  },
  {
   "cell_type": "markdown",
   "metadata": {
    "deletable": false,
    "editable": false,
    "run_control": {
     "frozen": true
    }
   },
   "source": [
    "<hr style=\"height:.9px;border:none;color:#333;background-color:#333;\" />"
   ]
  },
  {
   "cell_type": "markdown",
   "metadata": {
    "cell_style": "split",
    "deletable": false,
    "editable": false,
    "run_control": {
     "frozen": true
    }
   },
   "source": [
    "<h3>2.2 Defining Objects</h3>\n",
    "A good way to think of an object in Python is to think of a suitcase, or better yet, a magic suitcase. Have you ever flown on an airplane where bringing any luggage other than a carry-on bag was prohibitively expensive (maybe even to the point where the baggage fee was higher than the cost of the actual suitcase you were trying to bring)? Have you, or someone you know, ever tried to avoid any additional baggage fees by filling your carry-on so full that you had to sit on it to get it closed? Have you ever experienced a situation where so many passengers had carry-on bags that there was not enough room in the overhead bins and someone had to put their bag under the plane, thus defeating the purpose of carry-on? If you said \"yes\" to any of these questions, I feel your pain. If we met in real life, I imagine we could have a detailed conversation on how we would change airline luggage policies if we were in power."
   ]
  },
  {
   "cell_type": "markdown",
   "metadata": {
    "cell_style": "split",
    "deletable": false,
    "editable": false,
    "run_control": {
     "frozen": true
    }
   },
   "source": [
    "<br><br>"
   ]
  },
  {
   "cell_type": "code",
   "execution_count": null,
   "metadata": {
    "cell_style": "split",
    "deletable": false,
    "editable": false
   },
   "outputs": [],
   "source": [
    "## Code 2.1.12 ##\n",
    "\n",
    "part_1 = 'Hello'\n",
    "part_2 = 'world'\n",
    "part_3 = '!'\n",
    "\n",
    "print(part_1, part_2, part_3)"
   ]
  },
  {
   "cell_type": "markdown",
   "metadata": {
    "deletable": false,
    "editable": false,
    "run_control": {
     "frozen": true
    }
   },
   "source": [
    "However, what if instead of focusing on airline policies, we focused on the luggage itself? What if we sat down together and invented a suitcase that would adapt in size based on the amount of things you put into it? What if this suitcase could also magically disappear when you put it in the overhead bin, and would reappear only when needed? We would probably need to label our luggage very well so that it doesn't get confused with someone else's, but imagine how much more pleasant air travel would be if such a magic suitcase existed.<br><br><strong>Objects in Python can be thought of as magic suitcases.</strong> They automatically adapt in size, meaning they are exactly as large as they need to be, and no larger. They can also store anything that needs to be stored, and exist only when they are told to exist. They need to be labeled very clearly, as no two objects can have the same name, and object names should be intuitive enough so that we know what's being stored inside them. There are a few guidelines to naming objects in Python, which can be found in <a href=\"https://docs.python.org/3/reference/lexical_analysis.html\">Section 2.3 of the official Python documentation</a>: object names can contain <em>\"the uppercase and lowercase letters A through Z, the underscore _ and, except for the first character, the digits 0 through 9.\"</em>\n",
    "<br><br>\n",
    "<hr style=\"height:.9px;border:none;color:#333;background-color:#333;\" /><br>"
   ]
  },
  {
   "cell_type": "markdown",
   "metadata": {
    "cell_style": "split",
    "deletable": false,
    "editable": false,
    "run_control": {
     "frozen": true
    }
   },
   "source": [
    "<h3>2.3 Working with Optional Arguments</h3>\n",
    "\n",
    "Notice how the result of <em>Code 2.3.1</em> contains spaces between each printed object. This is because the <strong>print()</strong> statement has an optional argument called <strong>sep</strong>, which stands for separator and has a default value of a single space. If you were unaware of this optional argument, please reference the <strong>help()</strong> documentation for the <strong>print()</strong> statement. If you have no idea how to do this, or are unsure what an optional argument is, please review <strong>Chapter 1: Before Learning Anything Else, Learn This</strong>.<br><br>\n",
    "We can alter this argument by overriding its default value (i.e., setting <em>sep</em> equal to something other than ' ' (space)). This has been done in <em>Code 2.3.2</em>. There is virtually no limit to the way we can separate our <strong>print()</strong> statements. We can also override the default value for the <strong>end</strong> argument, which by default is set to start a new line after each individual <strong>print()</strong> statement. An example of this has been done in <em>Code 2.3.3</em>. In this code, the two print statements end with a <em><tab\\></em> and an arrow ( --> ), respectively. Overriding optional arguments emphasizes a critical coding practice:<br><br><br>\n",
    "    <div align=\"center\"><strong>\n",
    "    Read the documentation.\n",
    "        </strong><a class=\"tocSkip\"></a></div><br>\n",
    "\n",
    "Short, simple, and sweet. Reading a function's documentation (i.e. its <em>help()</em> files and what's officially posted by the <a href=\"https://www.python.org/\">Python Software Foundation</a> is an excellent way to understand what a function is capable of doing. Regardless of the coding language you are trying to learn:<br><br><br>\n",
    "\n",
    "<div align=\"center\"><strong>\n",
    "    It is better to learn how to do fifty things with one function than to try and learn fifty functions that do relatively the same thing.\n",
    "    </strong><a class=\"tocSkip\"></a></div><br>\n",
    "\n",
    "This is a philosophy that I live by. Keep this in mind, and take your time to read the documentation and play with the new syntax that you discover."
   ]
  },
  {
   "cell_type": "markdown",
   "metadata": {
    "cell_style": "split",
    "deletable": false,
    "editable": false,
    "run_control": {
     "frozen": true
    }
   },
   "source": [
    "<br><br>"
   ]
  },
  {
   "cell_type": "code",
   "execution_count": null,
   "metadata": {
    "cell_style": "split",
    "deletable": false,
    "editable": false
   },
   "outputs": [],
   "source": [
    "## Code 2.3.1 ##\n",
    "\n",
    "part_1 = 'Hello'\n",
    "part_2 = 'world'\n",
    "part_3 = '!'\n",
    "\n",
    "print(part_1, part_2, part_3)"
   ]
  },
  {
   "cell_type": "markdown",
   "metadata": {
    "cell_style": "split",
    "deletable": false,
    "editable": false,
    "run_control": {
     "frozen": true
    }
   },
   "source": [
    "<br>"
   ]
  },
  {
   "cell_type": "code",
   "execution_count": null,
   "metadata": {
    "cell_style": "split",
    "deletable": false,
    "editable": false
   },
   "outputs": [],
   "source": [
    "## Code 2.3.2 ##\n",
    "\n",
    "part_1 = 'Hello'\n",
    "part_2 = 'world'\n",
    "part_3 = '!'\n",
    "\n",
    "print(part_1, part_2, part_3,\n",
    "      sep = '') # no space\n",
    "\n",
    "print(part_1, part_2, part_3,\n",
    "      sep = '---') # dashes\n",
    "\n",
    "print(part_1, part_2, part_3,\n",
    "      sep = '<-_*>') # being creative"
   ]
  },
  {
   "cell_type": "markdown",
   "metadata": {
    "cell_style": "split",
    "deletable": false,
    "editable": false,
    "run_control": {
     "frozen": true
    }
   },
   "source": [
    "<br> "
   ]
  },
  {
   "cell_type": "code",
   "execution_count": null,
   "metadata": {
    "cell_style": "split",
    "deletable": false,
    "editable": false
   },
   "outputs": [],
   "source": [
    "## Code 2.3.3 ##\n",
    "\n",
    "part_1 = 'Hello'\n",
    "part_2 = 'world'\n",
    "part_3 = '!'\n",
    "\n",
    "print(part_1, part_2, part_3,\n",
    "      sep = ' ',\n",
    "      end = '\\t')\n",
    "\n",
    "print(part_1, part_2, part_3,\n",
    "      sep = ' ',\n",
    "      end = ' --> ')\n",
    "\n",
    "print(part_1, part_2, part_3,\n",
    "      sep = ' ',\n",
    "      end = ' <THE END> ')"
   ]
  },
  {
   "cell_type": "markdown",
   "metadata": {
    "cell_style": "center",
    "deletable": false,
    "editable": false,
    "run_control": {
     "frozen": true
    }
   },
   "source": [
    "<hr style=\"height:.9px;border:none;color:#333;background-color:#333;\" /><br>\n",
    "<h3>2.4 Escape Sequences</h3>\n",
    "By now, you have been working with several characters in Python that have special meanings ( <em>'</em> , <em>#</em> , <em>\"</em> , etc.). Such characters are appropriately named <strong>special characters</strong>. Oftentimes, we want to drop the special meaning of a character and use it as text. At other times, we want to take a character that Python normally interprets are text and activate its special meaning. If you're confused, have no fear. There is only one concept to understand and everything else will come with practice. Essentially, Python has a built-in character that we can think of as a light switch: it's job is to turn on or turn off the meaning of special characters.\n",
    "\n",
    "<h4>Backslash ( \\ ), the Light Switch for Special Characters</h4>\n",
    "Earlier in this chapter (<em>Code 2.1.4</em>), we initiated an escape sequence using a backslash to turn off the special meaning of the apostrophe character ( <em>'</em> ). By placing a backslash immediately before any such character, Python will ignore its special meaning and interpret it as text. Likewise, the default interpretation of some characters is text, and placing a backslash immediately before such characters activates a special meaning. <em>Table 2.2</em> displays some of the most commonly used escape sequences and special meanings for our current level of programming. A complete list can be found in <a href=\"https://docs.python.org/3/reference/lexical_analysis.html\">the official Python documentation</a>.\n",
    "\n",
    "<br><br>\n",
    "<div style = \"width:image width px; font-size:80%; text-align:center;\">\n",
    "<table align=\"center\">\n",
    "<col width=\"100\">\n",
    "<col width=\"10\">   \n",
    "<col width=\"400\">\n",
    "    <tr>\n",
    "        <th>Sequence</th>\n",
    "        <th>    | </th>\n",
    "        <th>Description</th>\n",
    "    </tr>\n",
    "    <tr>\n",
    "        <td> \\\\ </td>\n",
    "        <td>    | </td>\n",
    "        <td> escapes the special meaning of the backslash ( / )</td>\n",
    "    </tr>\n",
    "    <tr>\n",
    "    <tr>\n",
    "        <td> \\' </td>\n",
    "        <td>    | </td>\n",
    "        <td> escapes the special meaning of the single quote wrapper </td>\n",
    "    </tr>\n",
    "    <tr>\n",
    "        <td> \\\" </td>\n",
    "        <td>    | </td>\n",
    "        <td> escapes the special meaning of the double quote wrapper </td>\n",
    "    </tr>   \n",
    "    <tr>\n",
    "        <td> \\n </td>\n",
    "        <td>    | </td>\n",
    "        <td> activates the special meaning of 'n' (new line) </td>\n",
    "    </tr>\n",
    "    <tr>\n",
    "        <td> \\t </td>\n",
    "        <td>    | </td>\n",
    "        <td> activates the special meaning of 't' (horizonal tab) </td>\n",
    "    </tr>\n",
    "    <tr>\n",
    "          <em>Table 2.2: Common escape sequences.\n",
    "    </tr>\n",
    "</table></div>\n",
    "\n",
    "<br>\n",
    "\n",
    "<hr style=\"height:.9px;border:none;color:#333;background-color:#333;\" /><br>"
   ]
  },
  {
   "cell_type": "markdown",
   "metadata": {
    "cell_style": "split",
    "deletable": false,
    "editable": false,
    "run_control": {
     "frozen": true
    }
   },
   "source": [
    "<h4>Emojis work in the same way.</h4>\n",
    "If you're having trouble with the concept of special characters, think of emojis. <em>Figure 2.1</em> is a screen shot of a conversation I was having with myself in WeChat. That may seem like an odd thing to do, but let's look past this weirdness for the time being and talk about the special meaning of the string \"Python\" in the text.<br><br>\n",
    "\n",
    "As can be observed, when \"Python\" is typed, a special character pops up in one of the predictive text boxes. In this case, it is an emoji that looks like a snake. The same occurs when we type smile, ball, fish, or any of several other strings or phrases. In essence, WeChat (the app being utilized for this example) is recognizing that the string we have typed can have more than one meaning and is giving us options to choose from. If we hit the <em>Send</em> button, WeChat will make a decision on which meaning to use. Sometimes, programs like WeChat will auto-correct our spelling. This enhanced functionality also utilizes the concept of default values.<br><br>\n",
    "Like WeChat, Python 3 makes several decisions based on default values. Unlike WeChat, however, it does not give options when a character has more than one meaning. Instead, each special character has a default value that can be overridden. This much like the optional arguments covered in <strong>Section 1.1 of Chapter 1 - Setting Up for Success</strong>. Our light switch (a.k.a. the backslash) allows us to override/activate special characters.<br><br>"
   ]
  },
  {
   "cell_type": "markdown",
   "metadata": {
    "cell_style": "split",
    "deletable": false,
    "editable": false,
    "run_control": {
     "frozen": true
    }
   },
   "source": [
    "<br><br>\n",
    "<div style = \"width:image width px; font-size:80%; text-align:center;\"><img src=./__images/chapter-2-emoji_python.jpg width=\"150\" height=\"200\" style=\"padding-bottom:0.5em;\"> <em>Figure 2.1: Python emoji example in WeChat</em></div>"
   ]
  },
  {
   "cell_type": "markdown",
   "metadata": {
    "cell_style": "split",
    "deletable": false,
    "editable": false,
    "run_control": {
     "frozen": true
    }
   },
   "source": [
    "<br><br>\n",
    "<div style = \"width:image width px; font-size:80%; text-align:center;\"><img src=./__images/chapter-2-emoji_smile.jpg width=\"150\" height=\"200\" style=\"padding-bottom:0.5em;\"> <em>Figure 2.2: Smile emoji example in WeChat</em></div>"
   ]
  },
  {
   "cell_type": "markdown",
   "metadata": {
    "cell_style": "center",
    "deletable": false,
    "editable": false,
    "run_control": {
     "frozen": true
    }
   },
   "source": [
    "<hr style=\"height:.9px;border:none;color:#333;background-color:#333;\" /><br>"
   ]
  },
  {
   "cell_type": "markdown",
   "metadata": {
    "deletable": false,
    "editable": false,
    "run_control": {
     "frozen": true
    }
   },
   "source": [
    "<h3>2.5 Dynamic Strings</h3>\n",
    "\n",
    "Up to this point, all of our strings have been static in that their components have been fixed. Given this, it would be incredibly hard to design even a simple program, such as one to tell us what time it is. This can be addressed with the use of <strong>dynamic strings</strong>, also known as formatted strings or f-strings. A <strong>dynamic string</strong> is a string that contains objects (i.e. variables) or calculations. If the string's variables get updated, the string will adapt. These can come in very handy in several applications, such as dynamic reports, dashboards, personalized emails, and much more.<br><br>\n",
    "<em>Code 2.5.1</em> contains a basic program designed to tell us the current time. When I wrote this program, the current time was 19:51. As one can imagine, this is only useful in a very limited context. Functionally, <em>Code 2.5.2</em> is equally useless, but exemplifies how to convert a standard <em>print()</em> statement into one that is dynamic. As of right now, <em>Code 2.5.2</em> creates no benefit beyond what is offered in <em>Code 2.5.1</em>, but it is one step closer to developing the program we intend to create.<br><br>"
   ]
  },
  {
   "cell_type": "code",
   "execution_count": null,
   "metadata": {
    "cell_style": "split",
    "deletable": false,
    "editable": false
   },
   "outputs": [],
   "source": [
    "## Code 2.5.1 ##\n",
    "\n",
    "time = '19:51'\n",
    "\n",
    "print('The time is:', time)"
   ]
  },
  {
   "cell_type": "code",
   "execution_count": null,
   "metadata": {
    "cell_style": "split",
    "deletable": false,
    "editable": false
   },
   "outputs": [],
   "source": [
    "## Code 2.5.2 ##\n",
    "\n",
    "time = '19:51'\n",
    "\n",
    "print(f'The time is: {time}')"
   ]
  },
  {
   "cell_type": "markdown",
   "metadata": {
    "deletable": false,
    "editable": false,
    "run_control": {
     "frozen": true
    }
   },
   "source": [
    "<br><br>\n",
    "In the following (advanced) code, the <em>time</em> object varies based on the current time. This code (presented in <em>Code 2.5.3</em>) utilizes a very useful technique called <strong>method chaining</strong>.\n",
    "<br><br>"
   ]
  },
  {
   "cell_type": "code",
   "execution_count": null,
   "metadata": {
    "deletable": false,
    "editable": false
   },
   "outputs": [],
   "source": [
    "## Code 2.5.3 ##\n",
    "\n",
    "# Importing datetime (where a function for the current time exists)\n",
    "import datetime\n",
    "\n",
    "# Method chaining\n",
    "time = str(datetime.datetime.now().strftime(\"%H:%M\"))\n",
    "\n",
    "# Printing the result\n",
    "print(f'The time is: {time}')"
   ]
  },
  {
   "cell_type": "markdown",
   "metadata": {
    "deletable": false,
    "editable": false,
    "run_control": {
     "frozen": true
    }
   },
   "source": [
    "<hr style=\"height:.9px;border:none;color:#333;background-color:#333;\" /><br>\n",
    "\n",
    "Let's dissect <em>Code 2.5.3</em> piece by piece:<br><br>\n",
    "\n",
    "~~~\n",
    "1  |  ## Code 2.5.3 ##\n",
    "2  |  \n",
    "3  |  import datetime\n",
    "4  |  \n",
    "5  |  time = str(datetime.datetime.now().strftime(\"%H:%M\"))\n",
    "6  |  \n",
    "7  |  print(f'The time is: {time}')\n",
    "~~~\n",
    "\n",
    "<br><h4>Line 3 - Importing datetime</h4>\n",
    "\n",
    "The <em>datetime</em> package contains a number of useful functions for, manipulating dates and times. <strong>You are not expected to memorize every detail of the <em>datetime</em> package.</strong> Many packages have an incredible amount of methods inside of them, and you will learn more about various methods as you encounter new situations along your coding journey. Our present situation requires us to find a method that returns the current time.\n",
    "\n",
    "<h4>Line 5 - Method Chaining</h4>\n",
    "After importing <em>datetime</em>, we need to access the method <em>now()</em> that returns the current time. How did I know about this method? I searched on Google and noticed <a href=https://stackoverflow.com/questions/415511/how-to-get-the-current-time-in-python>this Stack Overflow thread</a> in the search results. This method is deep within datetime, hence all of the dots (' . ') being used to access it. When we call <em>now()</em>, it returns the exact current time, including the year, month, day, hour, minute, second, and microsecond. This is more detail than we need to develop our program, but we are off to a good start. The method after the next dot (<em>strftime</em>) allows us to dissect the result of <em>now()</em> so that it only returns the current hour and minute. Through this process, we have successfully created a program to tell us the current time!<br><br>\n",
    "The process of linking methods together using dots is a technique called <strong>method chaining</strong>. It is similar to the chaining technique used in <strong>Section 1.1 of Chapter 1 - Setting Up for Success</strong>, and is extremely common in Python programming for business analytics. We will learn more about this in later chapters.\n",
    "\n",
    "<h4>Line 7 - Printing the Result</h4>\n",
    "Dynamic strings can be created in one of two ways. In <em>Code 2.5.3</em>, the letter 'f' that is placed immediately before the string in the <em>print()</em> statement tells Python that this code is meant to be dynamic. Objects to be referenced in dynamic strings need to be placed between curly brackets {}. Any time Python sees a set of curly brackets in a dynamic string, it treats whatever is inside as its own line of code. The second method for creating dynamic strings is the .format method, which can be found in <a href=\"https://docs.python.org/3.4/library/string.html\">Section 6.1.2 of the Python documentation</a>.\n",
    "    \n",
    "    \n",
    "<strong>Side Note:</strong> If you're trying to print curly brackets in a dynamic string, remember that you can use the backslash to escape special characters.<br><br>"
   ]
  },
  {
   "cell_type": "markdown",
   "metadata": {
    "deletable": false,
    "editable": false,
    "run_control": {
     "frozen": true
    }
   },
   "source": [
    "<hr style=\"height:.9px;border:none;color:#333;background-color:#333;\" /><br>\n",
    "\n",
    "<h4>The Advantage of Dynamic Strings</h4>\n",
    "\n",
    "Dynamic strings allow for more than just the inclusion of objects. They also allow programmers to:\n",
    "* create less objects, thus enhancing the speed of our working environment\n",
    "* better control the formatting of strings\n",
    "<br>\n",
    "\n",
    "<strong>Section 1.2 of Chapter 1 - Setting Up for Success</strong> discussed how our working environment gets slower as more objects and packages get loaded. Therefore, it is beneficial to minimize the amount of objects we create. <em>Code 2.5.4</em> is an adaptation of our program in which no objects are created. Instead, code for the <em>time</em> object has been embedded within the dynamic string. These minor enhancements can add up to a big difference in speed!<br><br>"
   ]
  },
  {
   "cell_type": "code",
   "execution_count": null,
   "metadata": {
    "cell_style": "center",
    "deletable": false,
    "editable": false
   },
   "outputs": [],
   "source": [
    "## Code 2.5.4 ##\n",
    "\n",
    "# Importing datetime (where a function for the current time exists)\n",
    "import datetime\n",
    "\n",
    "# Method chaining and printing\n",
    "print(f'The time is: {datetime.datetime.now().strftime(\"%H:%M\")}')"
   ]
  },
  {
   "cell_type": "markdown",
   "metadata": {
    "deletable": false,
    "editable": false,
    "run_control": {
     "frozen": true
    }
   },
   "source": [
    "<br>\n",
    "<h4>Dynamic Strings and Triple-Quotes</h4>\n",
    "\n",
    "Things start to get really interesting when we combine dynamic strings with triple quotes, allowing for the inclusion of objects formatted to our specifications. Below is an adapted version of <em>Code 2.5.4</em> that utilizes these two powerful tools.\n",
    "<br><br>"
   ]
  },
  {
   "cell_type": "code",
   "execution_count": null,
   "metadata": {
    "deletable": false,
    "editable": false
   },
   "outputs": [],
   "source": [
    "## Code 2.5.5 ##\n",
    "\n",
    "# Importing datetime (where a function for the current time exists)\n",
    "import datetime\n",
    "\n",
    "# Formatted Method chaining and printing\n",
    "print(\n",
    "f\"\"\"\n",
    "**********************************************************************\n",
    "\n",
    "Today is {datetime.datetime.now().strftime(\"%A, %B %d\")}\n",
    "\n",
    "The current time is {datetime.datetime.now().strftime(\"%H:%M\")}\n",
    "\n",
    "                        Have a nice day! :)\n",
    "\n",
    "**********************************************************************\n",
    "\"\"\")"
   ]
  },
  {
   "cell_type": "markdown",
   "metadata": {
    "deletable": false,
    "editable": false,
    "run_control": {
     "frozen": true
    }
   },
   "source": [
    "<hr style=\"height:.9px;border:none;color:#333;background-color:#333;\" /><br>\n",
    "<h2>2.6 Summary</h2>\n",
    "\n",
    "<br>\n",
    "\n",
    "~~~\n",
    "\n",
    " dP\"\"b8 88\"\"Yb 888888    db    888888      88888  dP\"Yb  88\"\"Yb d8b \n",
    "dP   `\" 88__dP 88__     dPYb     88           88 dP   Yb 88__dP Y8P \n",
    "Yb  \"88 88\"Yb  88\"\"    dP__Yb    88       o.  88 Yb   dP 88\"\"Yb `\"' \n",
    " YboodP 88  Yb 888888 dP\"\"\"\"Yb   88       \"bodP'  YbodP  88oodP (8) \n",
    "\n",
    "~~~                                                                         \n",
    "\n",
    "<br>You're two chapters deep! Now that we've covered some of the basics, it's time to move into some syntax that is a bit more interesting. By the time you finish the next chapter, you will be ready to build a basic application that interacts with users!\n",
    "\n",
    "The next chapter will build upon this one, and help solidify your understanding of:\n",
    "* the <strong>print()</strong> function\n",
    "* objects in Python\n",
    "* working with a function's optional arguments\n",
    "* enabling and escaping the meanings of special characters\n",
    "* developing <strong>print()</strong> statements that are dynamic"
   ]
  },
  {
   "cell_type": "markdown",
   "metadata": {
    "deletable": false,
    "editable": false,
    "run_control": {
     "frozen": true
    }
   },
   "source": [
    "<br>"
   ]
  }
 ],
 "metadata": {
  "kernelspec": {
   "display_name": "Python 3",
   "language": "python",
   "name": "python3"
  },
  "language_info": {
   "codemirror_mode": {
    "name": "ipython",
    "version": 3
   },
   "file_extension": ".py",
   "mimetype": "text/x-python",
   "name": "python",
   "nbconvert_exporter": "python",
   "pygments_lexer": "ipython3",
   "version": "3.8.5"
  },
  "toc": {
   "base_numbering": 1,
   "nav_menu": {},
   "number_sections": false,
   "sideBar": true,
   "skip_h1_title": false,
   "title_cell": "Table of Contents",
   "title_sidebar": "Contents",
   "toc_cell": false,
   "toc_position": {
    "height": "calc(100% - 180px)",
    "left": "10px",
    "top": "150px",
    "width": "240px"
   },
   "toc_section_display": true,
   "toc_window_display": false
  },
  "varInspector": {
   "cols": {
    "lenName": 16,
    "lenType": 16,
    "lenVar": 40
   },
   "kernels_config": {
    "python": {
     "delete_cmd_postfix": "",
     "delete_cmd_prefix": "del ",
     "library": "var_list.py",
     "varRefreshCmd": "print(var_dic_list())"
    },
    "r": {
     "delete_cmd_postfix": ") ",
     "delete_cmd_prefix": "rm(",
     "library": "var_list.r",
     "varRefreshCmd": "cat(var_dic_list()) "
    }
   },
   "types_to_exclude": [
    "module",
    "function",
    "builtin_function_or_method",
    "instance",
    "_Feature"
   ],
   "window_display": false
  }
 },
 "nbformat": 4,
 "nbformat_minor": 2
}
