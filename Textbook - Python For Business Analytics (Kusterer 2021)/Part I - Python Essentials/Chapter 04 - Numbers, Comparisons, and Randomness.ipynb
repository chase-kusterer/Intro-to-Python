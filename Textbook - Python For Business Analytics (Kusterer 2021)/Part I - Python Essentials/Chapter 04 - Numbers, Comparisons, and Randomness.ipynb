{
 "cells": [
  {
   "cell_type": "markdown",
   "metadata": {
    "deletable": false,
    "editable": false,
    "run_control": {
     "frozen": true
    }
   },
   "source": [
    "<hr style=\"height:.9px;border:none;color:#333;background-color:#333;\" />\n",
    "<hr style=\"height:.9px;border:none;color:#333;background-color:#333;\" />\n",
    "<br><br><br>\n",
    "<h1>Python for Business Analytics</h1>\n",
    "<em>A Nontechnical Approach for Nontechnical People</em><br><br>\n",
    "<em><strong>Custom Edition for Hult International Business School</strong></em><br>\n",
    "\n",
    "Written by Chase Kusterer - Faculty of Analytics <br>\n",
    "Hult International Business School <br>\n",
    "https://github.com/chase-kusterer<br><br><br><br><br>\n",
    "\n",
    "<hr style=\"height:.9px;border:none;color:#333;background-color:#333;\" />\n",
    "<hr style=\"height:.9px;border:none;color:#333;background-color:#333;\" />\n",
    "<br>\n",
    "\n",
    "<h1><u>Chapter 4: Numbers, Comparisons, and Randomness</u></h1>"
   ]
  },
  {
   "cell_type": "markdown",
   "metadata": {
    "deletable": false,
    "editable": false,
    "run_control": {
     "frozen": true
    }
   },
   "source": [
    "Up to this point, we have covered basic operations related to printing, formatting text, and prompting users for <strong>input()</strong>. These, along with other skills such as working with optional arguments and exploring documentation files, will prove invaluable as we move into the next chapters. In this chapter, we will dive into another important building block: <strong>operands</strong>. Operands come in two basic forms: numerical and comparison. Having a thorough understanding of both is vital to our success as we move into more advanced programming concepts.\n",
    "<br><br>\n",
    "This chapter also extends beyond these concepts with random number generation. \n",
    "<br><br>\n",
    "<hr style=\"height:.9px;border:none;color:#333;background-color:#333;\" />\n",
    "<br>\n",
    "<h2>4.1 Numerical and Comparison Operands</h2>"
   ]
  },
  {
   "cell_type": "markdown",
   "metadata": {
    "cell_style": "center",
    "deletable": false,
    "editable": false,
    "run_control": {
     "frozen": true
    }
   },
   "source": [
    "<br>As you may remember from <strong>Chapter 1 - Setting Up for Success</strong>, Python has been designed to be easy to learn, and numerical operands are no exception. To clarify, a <strong>numerical operand</strong> is a character that has a special meaning, allowing users to perform computational operations. For example, the <em><strong>+</strong></em> operand allows users to add two things together. These things can be numbers or something more exotic (for example, strings or more complicated objects). Below is a table of some of the more familiar numerical operands.\n",
    "<br><br>\n",
    "\n",
    "<table width=\"375\" align=\"left\">\n",
    "<col width=\"50\"; align=\"left\">\n",
    "<col width=\"150\">\n",
    "    <tr>\n",
    "        <th>Operand</th>\n",
    "        <th>Description</th>\n",
    "    </tr>\n",
    "    <tr>\n",
    "        <td> + </td>\n",
    "        <td> addition</td>\n",
    "    </tr>\n",
    "    <tr>\n",
    "    <tr>\n",
    "        <td> - </td>\n",
    "        <td> subtraction</td>\n",
    "    </tr>\n",
    "    <tr>\n",
    "        <td> * </td>\n",
    "        <td> multiplication</td>\n",
    "    </tr>   \n",
    "    <tr>\n",
    "        <td> / </td>\n",
    "        <td> division</td>\n",
    "    </tr>\n",
    "    <tr>\n",
    "        <td> % </td>\n",
    "        <td> modulus (remainder from division)</td>\n",
    "    </tr>\n",
    "    <tr>\n",
    "        <td> ** </td>\n",
    "        <td> exponentiation</td>\n",
    "    </tr>\n",
    "</table>"
   ]
  },
  {
   "cell_type": "markdown",
   "metadata": {
    "deletable": false,
    "editable": false,
    "run_control": {
     "frozen": true
    }
   },
   "source": [
    "<br>\n",
    "The order of operations in Python is the same as in standard mathematics, which can be denoted with the acronym PEMDAS (parentheses, expontentiation, multiplication/division; addition/subtraction). However, Python has a deeper set of operands (comparison operands). Many methods in Python take an input, make a calculation, and then do something based in its result. Therefore, our acronym needs to be extended to PEMDAS+. In other words, Python will first handle all PEMDAS computations before running any comparisons. Below is a table of comparison operands:\n",
    "<br><br>\n",
    "<table width=\"375\" align=\"left\">\n",
    "<col width=\"50\"; align=\"left\">\n",
    "<col width=\"150\">\n",
    "    <tr>\n",
    "        <th>Operand</th>\n",
    "        <th>Description</th>\n",
    "    </tr>\n",
    "    <tr>\n",
    "        <td> == </td>\n",
    "        <td> checks to see if two operands are equal</td>\n",
    "    </tr>\n",
    "    <tr>\n",
    "    <tr>\n",
    "        <td> != </td>\n",
    "        <td> Checks to see if two operands are not equal</td>\n",
    "    </tr>\n",
    "    <tr>\n",
    "        <td> > </td>\n",
    "        <td> greater than</td>\n",
    "    </tr>   \n",
    "    <tr>\n",
    "        <td> < </td>\n",
    "        <td> less than</td>\n",
    "    </tr>\n",
    "    <tr>\n",
    "        <td> >= </td>\n",
    "        <td> greater than or equal to</td>\n",
    "    </tr>\n",
    "    <tr>\n",
    "        <td> <= </td>\n",
    "        <td> less than or equal to</td>\n",
    "    </tr>\n",
    "</table>"
   ]
  },
  {
   "cell_type": "markdown",
   "metadata": {
    "deletable": false,
    "editable": false,
    "run_control": {
     "frozen": true
    }
   },
   "source": [
    "<hr style=\"height:.9px;border:none;color:#333;background-color:#333;\" /><br>\n",
    "\n",
    "<h2>4.2 Practice with Numerical and Comparison Operands</h2>\n",
    "\n",
    "The syntax in the two tables above should be familiar, but if you need a refresher before starting this section, feel free to consult any of the great resources you may have on hand or on the Internet. In the following exercises, try to guess the result of each calculation before checking the solutions.\n",
    "\n",
    "<br>"
   ]
  },
  {
   "cell_type": "code",
   "execution_count": null,
   "metadata": {
    "cell_style": "split",
    "deletable": false,
    "editable": false,
    "run_control": {
     "frozen": true
    },
    "solution2": "hidden",
    "solution2_first": true
   },
   "outputs": [],
   "source": [
    "## Code 4.2.1 ##\n",
    "\n",
    "5 * 2"
   ]
  },
  {
   "cell_type": "code",
   "execution_count": null,
   "metadata": {
    "cell_style": "split",
    "deletable": false,
    "editable": false,
    "run_control": {
     "frozen": true
    },
    "solution2": "hidden"
   },
   "outputs": [],
   "source": [
    "## Sample Solution 4.2.1 ##\n",
    "\n",
    "10"
   ]
  },
  {
   "cell_type": "markdown",
   "metadata": {
    "deletable": false,
    "editable": false,
    "run_control": {
     "frozen": true
    }
   },
   "source": [
    "<hr style=\"height:.9px;border:none;color:#333;background-color:#333;\" />"
   ]
  },
  {
   "cell_type": "code",
   "execution_count": null,
   "metadata": {
    "cell_style": "split",
    "deletable": false,
    "editable": false,
    "run_control": {
     "frozen": true
    },
    "solution2": "hidden",
    "solution2_first": true
   },
   "outputs": [],
   "source": [
    "## Code 4.2.2 ##\n",
    "\n",
    "3 + (5 * 2)"
   ]
  },
  {
   "cell_type": "code",
   "execution_count": null,
   "metadata": {
    "cell_style": "split",
    "deletable": false,
    "editable": false,
    "run_control": {
     "frozen": true
    },
    "solution2": "hidden"
   },
   "outputs": [],
   "source": [
    "## Sample Solution 4.2.2 ##\n",
    "\n",
    "13"
   ]
  },
  {
   "cell_type": "markdown",
   "metadata": {
    "deletable": false,
    "editable": false,
    "run_control": {
     "frozen": true
    }
   },
   "source": [
    "<hr style=\"height:.9px;border:none;color:#333;background-color:#333;\" />"
   ]
  },
  {
   "cell_type": "code",
   "execution_count": null,
   "metadata": {
    "cell_style": "split",
    "deletable": false,
    "editable": false,
    "run_control": {
     "frozen": true
    },
    "solution2": "hidden",
    "solution2_first": true
   },
   "outputs": [],
   "source": [
    "## Code 4.2.3 ##\n",
    "\n",
    "(3 + 5) * 2"
   ]
  },
  {
   "cell_type": "code",
   "execution_count": null,
   "metadata": {
    "cell_style": "split",
    "deletable": false,
    "editable": false,
    "run_control": {
     "frozen": true
    },
    "solution2": "hidden"
   },
   "outputs": [],
   "source": [
    "## Sample Solution 4.2.3 ##\n",
    "\n",
    "16"
   ]
  },
  {
   "cell_type": "markdown",
   "metadata": {
    "deletable": false,
    "editable": false,
    "run_control": {
     "frozen": true
    }
   },
   "source": [
    "<hr style=\"height:.9px;border:none;color:#333;background-color:#333;\" />"
   ]
  },
  {
   "cell_type": "code",
   "execution_count": null,
   "metadata": {
    "cell_style": "split",
    "deletable": false,
    "editable": false,
    "run_control": {
     "frozen": true
    },
    "solution2": "hidden",
    "solution2_first": true
   },
   "outputs": [],
   "source": [
    "## Code 4.2.4 ##\n",
    "\n",
    "(3 + 5) * 2 == (5 + 3) * 2"
   ]
  },
  {
   "cell_type": "code",
   "execution_count": null,
   "metadata": {
    "cell_style": "split",
    "deletable": false,
    "editable": false,
    "run_control": {
     "frozen": true
    },
    "solution2": "hidden"
   },
   "outputs": [],
   "source": [
    "## Sample Solution 4.2.4 ##\n",
    "\n",
    "True"
   ]
  },
  {
   "cell_type": "markdown",
   "metadata": {
    "deletable": false,
    "editable": false,
    "run_control": {
     "frozen": true
    }
   },
   "source": [
    "<hr style=\"height:.9px;border:none;color:#333;background-color:#333;\" />"
   ]
  },
  {
   "cell_type": "code",
   "execution_count": null,
   "metadata": {
    "cell_style": "split",
    "deletable": false,
    "editable": false,
    "run_control": {
     "frozen": true
    },
    "solution2": "hidden",
    "solution2_first": true
   },
   "outputs": [],
   "source": [
    "## Code 4.2.5 ##\n",
    "\n",
    "int(True)"
   ]
  },
  {
   "cell_type": "code",
   "execution_count": null,
   "metadata": {
    "cell_style": "split",
    "deletable": false,
    "editable": false,
    "run_control": {
     "frozen": true
    },
    "solution2": "hidden"
   },
   "outputs": [],
   "source": [
    "## Sample Solution 4.2.5 ##\n",
    "\n",
    "1"
   ]
  },
  {
   "cell_type": "markdown",
   "metadata": {
    "deletable": false,
    "editable": false,
    "run_control": {
     "frozen": true
    }
   },
   "source": [
    "<hr style=\"height:.9px;border:none;color:#333;background-color:#333;\" />"
   ]
  },
  {
   "cell_type": "code",
   "execution_count": null,
   "metadata": {
    "cell_style": "split",
    "deletable": false,
    "editable": false,
    "run_control": {
     "frozen": true
    },
    "solution2": "hidden",
    "solution2_first": true
   },
   "outputs": [],
   "source": [
    "## Code 4.2.6 ##\n",
    "\n",
    "10 * ((3 + 5) * 2 == (5 + 3) * 2)"
   ]
  },
  {
   "cell_type": "code",
   "execution_count": null,
   "metadata": {
    "cell_style": "split",
    "deletable": false,
    "editable": false,
    "run_control": {
     "frozen": true
    },
    "solution2": "hidden"
   },
   "outputs": [],
   "source": [
    "## Sample Solution 4.2.6 ##\n",
    "\n",
    "10"
   ]
  },
  {
   "cell_type": "markdown",
   "metadata": {
    "deletable": false,
    "editable": false,
    "run_control": {
     "frozen": true
    }
   },
   "source": [
    "<hr style=\"height:.9px;border:none;color:#333;background-color:#333;\" />"
   ]
  },
  {
   "cell_type": "code",
   "execution_count": null,
   "metadata": {
    "cell_style": "split",
    "deletable": false,
    "editable": false,
    "run_control": {
     "frozen": true
    },
    "solution2": "hidden",
    "solution2_first": true
   },
   "outputs": [],
   "source": [
    "## Code 4.2.7 ##\n",
    "\n",
    "(3 + 5) * 2 == 50"
   ]
  },
  {
   "cell_type": "code",
   "execution_count": null,
   "metadata": {
    "cell_style": "split",
    "deletable": false,
    "editable": false,
    "run_control": {
     "frozen": true
    },
    "solution2": "hidden"
   },
   "outputs": [],
   "source": [
    "## Sample Solution 4.2.7 ##\n",
    "\n",
    "False"
   ]
  },
  {
   "cell_type": "markdown",
   "metadata": {
    "deletable": false,
    "editable": false,
    "run_control": {
     "frozen": true
    }
   },
   "source": [
    "<hr style=\"height:.9px;border:none;color:#333;background-color:#333;\" />"
   ]
  },
  {
   "cell_type": "code",
   "execution_count": null,
   "metadata": {
    "cell_style": "split",
    "deletable": false,
    "editable": false,
    "run_control": {
     "frozen": true
    },
    "solution2": "hidden",
    "solution2_first": true
   },
   "outputs": [],
   "source": [
    "## Code 4.2.8 ##\n",
    "\n",
    "int(False)"
   ]
  },
  {
   "cell_type": "code",
   "execution_count": null,
   "metadata": {
    "cell_style": "split",
    "deletable": false,
    "editable": false,
    "run_control": {
     "frozen": true
    },
    "solution2": "hidden"
   },
   "outputs": [],
   "source": [
    "## Sample Solution 4.2.8 ##\n",
    "\n",
    "0"
   ]
  },
  {
   "cell_type": "markdown",
   "metadata": {
    "deletable": false,
    "editable": false,
    "run_control": {
     "frozen": true
    }
   },
   "source": [
    "<hr style=\"height:.9px;border:none;color:#333;background-color:#333;\" />"
   ]
  },
  {
   "cell_type": "code",
   "execution_count": null,
   "metadata": {
    "cell_style": "split",
    "deletable": false,
    "editable": false,
    "run_control": {
     "frozen": true
    },
    "solution2": "hidden",
    "solution2_first": true
   },
   "outputs": [],
   "source": [
    "## Code 4.2.9 ##\n",
    "\n",
    "10 * ((3 + 5) * 2 == 50)"
   ]
  },
  {
   "cell_type": "code",
   "execution_count": null,
   "metadata": {
    "cell_style": "split",
    "deletable": false,
    "editable": false,
    "run_control": {
     "frozen": true
    },
    "solution2": "hidden"
   },
   "outputs": [],
   "source": [
    "## Sample Solution 4.2.9 ##\n",
    "\n",
    "0"
   ]
  },
  {
   "cell_type": "markdown",
   "metadata": {
    "deletable": false,
    "editable": false,
    "run_control": {
     "frozen": true
    }
   },
   "source": [
    "<hr style=\"height:.9px;border:none;color:#333;background-color:#333;\" />"
   ]
  },
  {
   "cell_type": "code",
   "execution_count": null,
   "metadata": {
    "cell_style": "split",
    "deletable": false,
    "editable": false,
    "run_control": {
     "frozen": true
    },
    "solution2": "hidden",
    "solution2_first": true
   },
   "outputs": [],
   "source": [
    "## Code 4.2.10 ##\n",
    "\n",
    "(3 + 5) * 2 != 50"
   ]
  },
  {
   "cell_type": "code",
   "execution_count": null,
   "metadata": {
    "cell_style": "split",
    "deletable": false,
    "editable": false,
    "run_control": {
     "frozen": true
    },
    "solution2": "hidden"
   },
   "outputs": [],
   "source": [
    "## Sample Solution 4.2.10 ##\n",
    "\n",
    "True"
   ]
  },
  {
   "cell_type": "markdown",
   "metadata": {
    "deletable": false,
    "editable": false,
    "run_control": {
     "frozen": true
    }
   },
   "source": [
    "<hr style=\"height:.9px;border:none;color:#333;background-color:#333;\" /><br>"
   ]
  },
  {
   "cell_type": "markdown",
   "metadata": {
    "deletable": false,
    "editable": false,
    "run_control": {
     "frozen": true
    }
   },
   "source": [
    "<h3>4.3 Advanced Operand Practice</h3>\n",
    "Below are some additional practice exercieses. Again, try to determine the each result before revealing the solutions."
   ]
  },
  {
   "cell_type": "code",
   "execution_count": null,
   "metadata": {
    "cell_style": "split",
    "deletable": false,
    "editable": false,
    "run_control": {
     "frozen": true
    },
    "solution2": "hidden",
    "solution2_first": true
   },
   "outputs": [],
   "source": [
    "## Code 4.3.1 ##\n",
    "\n",
    "x = 2\n",
    "y = 3\n",
    "\n",
    "((x <= y) + (y == y)) / (x - y)"
   ]
  },
  {
   "cell_type": "code",
   "execution_count": null,
   "metadata": {
    "cell_style": "split",
    "deletable": false,
    "editable": false,
    "run_control": {
     "frozen": true
    },
    "solution2": "hidden"
   },
   "outputs": [],
   "source": [
    "## Sample Solution 4.3.1 ##\n",
    "\n",
    "-2.0\n",
    "\n",
    "\n"
   ]
  },
  {
   "cell_type": "markdown",
   "metadata": {
    "deletable": false,
    "editable": false,
    "run_control": {
     "frozen": true
    }
   },
   "source": [
    "<hr style=\"height:.9px;border:none;color:#333;background-color:#333;\" />"
   ]
  },
  {
   "cell_type": "code",
   "execution_count": null,
   "metadata": {
    "cell_style": "split",
    "deletable": false,
    "editable": false,
    "run_control": {
     "frozen": true
    },
    "solution2": "hidden",
    "solution2_first": true
   },
   "outputs": [],
   "source": [
    "## Code 4.3.2 ##\n",
    "\n",
    "obj_1 = 'apple'\n",
    "obj_2 = \"\"\"apple\"\"\"\n",
    "\n",
    "obj_1 == obj_2"
   ]
  },
  {
   "cell_type": "code",
   "execution_count": null,
   "metadata": {
    "cell_style": "split",
    "deletable": false,
    "editable": false,
    "run_control": {
     "frozen": true
    },
    "solution2": "hidden"
   },
   "outputs": [],
   "source": [
    "## Sample Solution 4.3.2 ##\n",
    "\n",
    "True\n",
    "\n",
    "\n"
   ]
  },
  {
   "cell_type": "markdown",
   "metadata": {
    "deletable": false,
    "editable": false,
    "run_control": {
     "frozen": true
    }
   },
   "source": [
    "<hr style=\"height:.9px;border:none;color:#333;background-color:#333;\" />"
   ]
  },
  {
   "cell_type": "code",
   "execution_count": null,
   "metadata": {
    "cell_style": "split",
    "deletable": false,
    "editable": false,
    "run_control": {
     "frozen": true
    },
    "solution2": "hidden",
    "solution2_first": true
   },
   "outputs": [],
   "source": [
    "## Code 4.3.3 ##\n",
    "\n",
    "obj_1 = 'orange'\n",
    "obj_2 = \"\"\"oRaNgE\"\"\"\n",
    "\n",
    "float(obj_1 == obj_2)"
   ]
  },
  {
   "cell_type": "code",
   "execution_count": null,
   "metadata": {
    "cell_style": "split",
    "deletable": false,
    "editable": false,
    "run_control": {
     "frozen": true
    },
    "solution2": "hidden"
   },
   "outputs": [],
   "source": [
    "## Sample Solution 4.3.3 ##\n",
    "\n",
    "0.0\n",
    "\n",
    "\n"
   ]
  },
  {
   "cell_type": "markdown",
   "metadata": {
    "deletable": false,
    "editable": false,
    "run_control": {
     "frozen": true
    }
   },
   "source": [
    "<hr style=\"height:.9px;border:none;color:#333;background-color:#333;\" />"
   ]
  },
  {
   "cell_type": "code",
   "execution_count": null,
   "metadata": {
    "cell_style": "split",
    "deletable": false,
    "editable": false,
    "run_control": {
     "frozen": true
    },
    "solution2": "hidden",
    "solution2_first": true
   },
   "outputs": [],
   "source": [
    "## Code 4.3.4 ##\n",
    "\n",
    "obj_1 = \"'grape'\"\n",
    "obj_2 = \"'grape'\"\n",
    "\n",
    "round(float(obj_1 == obj_2), 5000)"
   ]
  },
  {
   "cell_type": "code",
   "execution_count": null,
   "metadata": {
    "cell_style": "split",
    "deletable": false,
    "editable": false,
    "run_control": {
     "frozen": true
    },
    "solution2": "hidden"
   },
   "outputs": [],
   "source": [
    "## Sample Solution 4.3.4 ##\n",
    "\n",
    "1.0\n",
    "\n",
    "\n"
   ]
  },
  {
   "cell_type": "markdown",
   "metadata": {
    "deletable": false,
    "editable": false,
    "run_control": {
     "frozen": true
    }
   },
   "source": [
    "<hr style=\"height:.9px;border:none;color:#333;background-color:#333;\" /><br>"
   ]
  },
  {
   "cell_type": "markdown",
   "metadata": {
    "cell_style": "split",
    "deletable": false,
    "editable": false,
    "run_control": {
     "frozen": true
    }
   },
   "source": [
    "\n",
    "\n",
    "<h3>4.4 Numerical Overwrites</h3>\n",
    "\n",
    "Oftentimes, programmers have the need to overwrite a stored numerical value, as in <em>Code 4.4.1</em>. This is quite easy to accomplish, but such an operation happens so frequently that Python contains a built-in shortcut. Instead of overwriting an object as follows:\n",
    "\n",
    "~~~\n",
    "x = x + 5\n",
    "~~~\n",
    "\n",
    "We can do so by combining the plus ( <em>+</em> ) and equals ( <em>=</em> ) signs in our code:\n",
    "\n",
    "~~~\n",
    "x += 5\n",
    "~~~\n",
    "\n",
    "This may seem like a trivial enhancement, and you may feel it is unnecessary to learn. However, keep in mind that other people are likely to use this syntax in their code, and as an analyst using Python, you will be expected to know what it means. Think of it as you would a <a href=\"https://dictionary.cambridge.org/grammar/british-grammar/writing/contractions\">contraction</a> in the English language. Even if you do not use them, they're very common in everyday speech.\n",
    "<br><br>\n",
    "Essentially, any standard numerical operand can be contracted by simply adding an equals sign after its syntax. Below is a modified table of the numerical operand syntax covered thus far. Feel free to play with them in the open coding block below the table."
   ]
  },
  {
   "cell_type": "markdown",
   "metadata": {
    "cell_style": "split",
    "deletable": false,
    "editable": false,
    "run_control": {
     "frozen": true
    }
   },
   "source": [
    "<br>"
   ]
  },
  {
   "cell_type": "code",
   "execution_count": null,
   "metadata": {
    "cell_style": "split",
    "deletable": false,
    "editable": false
   },
   "outputs": [],
   "source": [
    "## Code 4.4.1 ##\n",
    "\n",
    "# creating an object\n",
    "x = 5\n",
    "\n",
    "# overwriting the object\n",
    "x = x + 5\n",
    "\n",
    "# printing the object\n",
    "print(x)"
   ]
  },
  {
   "cell_type": "markdown",
   "metadata": {
    "cell_style": "split",
    "deletable": false,
    "editable": false,
    "run_control": {
     "frozen": true
    }
   },
   "source": [
    "<br>"
   ]
  },
  {
   "cell_type": "code",
   "execution_count": null,
   "metadata": {
    "cell_style": "split",
    "deletable": false,
    "editable": false
   },
   "outputs": [],
   "source": [
    "## Code 4.4.2 ##\n",
    "\n",
    "# creating an object\n",
    "x = 5\n",
    "\n",
    "# overwriting the object\n",
    "x += 5\n",
    "\n",
    "# printing the object\n",
    "print(x)"
   ]
  },
  {
   "cell_type": "markdown",
   "metadata": {
    "deletable": false,
    "editable": false,
    "run_control": {
     "frozen": true
    }
   },
   "source": [
    "<br>"
   ]
  },
  {
   "cell_type": "markdown",
   "metadata": {
    "cell_style": "split",
    "deletable": false,
    "editable": false,
    "run_control": {
     "frozen": true
    }
   },
   "source": [
    "<table width=\"300\" align=\"left\">\n",
    "<col width=\"50\"; align=\"left\">\n",
    "<col width=\"150\">\n",
    "    <tr>\n",
    "        <th>Operand</th>\n",
    "        <th>Description</th>\n",
    "    </tr>\n",
    "    <tr>\n",
    "        <td> += </td>\n",
    "        <td> addition and overwrite</td>\n",
    "    </tr>\n",
    "    <tr>\n",
    "    <tr>\n",
    "        <td> -= </td>\n",
    "        <td> subtraction and overwrite</td>\n",
    "    </tr>\n",
    "    <tr>\n",
    "        <td> *= </td>\n",
    "        <td> multiplication and overwrite</td>\n",
    "    </tr>   \n",
    "    <tr>\n",
    "        <td> /= </td>\n",
    "        <td> division and overwrite</td>\n",
    "    </tr>\n",
    "    <tr>\n",
    "        <td> %= </td>\n",
    "        <td> modulus and overwrite</td>\n",
    "    </tr>\n",
    "    <tr>\n",
    "        <td> **= </td>\n",
    "        <td> exponentiation and overwrite</td>\n",
    "    </tr>\n",
    "</table>"
   ]
  },
  {
   "cell_type": "markdown",
   "metadata": {
    "cell_style": "split"
   },
   "source": [
    " "
   ]
  },
  {
   "cell_type": "code",
   "execution_count": null,
   "metadata": {
    "cell_style": "split"
   },
   "outputs": [],
   "source": [
    "## Code 4.4.3 ##\n",
    "\n",
    "# Open coding block\n",
    "\n",
    "\n",
    "\n",
    "\n"
   ]
  },
  {
   "cell_type": "markdown",
   "metadata": {
    "deletable": false,
    "editable": false,
    "run_control": {
     "frozen": true
    }
   },
   "source": [
    "<hr style=\"height:.9px;border:none;color:#333;background-color:#333;\" />"
   ]
  },
  {
   "cell_type": "markdown",
   "metadata": {
    "deletable": false,
    "editable": false,
    "run_control": {
     "frozen": true
    }
   },
   "source": [
    "<h3>4.5 Basic Randomness and Ranges</h3>\n",
    "\n",
    "In many cases, programs require a way to generate a random number or element. There are many packages in Python to help solve such a challenge, and in this chapter we will focus on those existing in the <strong>random</strong> package. As its name implies, <a href=\"https://docs.python.org/3.6/library/random\">the random package</a> contains several methods to generate random variables.<br>\n",
    "\n",
    "<h4>4.5.1 The Need for Different Types of Generators</h4>\n",
    "The field of random number generation is extremely interesting. This is partly because computers are not very good at doing things that they are not programmed to do. In other words, computers are not meant to be random. If this were <em>not</em> the case, tasks such as debugging would be incredibly difficult. This being said, computer scientists have developed methods to address this challenge. Essentially, random numbers come in two forms: pseudo-random and true random. According to <a href=\"https://www.howtogeek.com/183051/htg-explains-how-computers-generate-random-numbers/\">howtogeek.com</a>:\n",
    "<br><br><div align=\"center\"><em>\n",
    "    Computers can generate truly random numbers by observing some outside data,<br>\n",
    "    like mouse movements or fan noise, which is not predictable, and creating data from it.<br>This is known as entropy. Other times, they generate “pseudorandom” numbers by using<br>\n",
    "    an algorithm so the results appear random, even though they aren’t.\n",
    "</em><a class=\"tocSkip\"></a></div><br>\n",
    "When we ask a program to pick a random number, we are asking it to follow a sequence (i.e., an algorithm), resulting in a number being generated that only <em>appears</em> to be random. In fact, the computer is not being random at all, but instead is following its programming instructions as expected. For many programming challenges (including those covered in this chapter), pseudo-random number generation is a good solution as it is easy to implement and control. However, in fields such as security encryption, pseudo-random can be dangerous for the very reason that it can be predictable.\n",
    "<br><br>\n",
    "Random number generation also interesting because randomness makes it difficult to replicate results. If a researcher was attempting to confirm a study by a colleague, uncontrolled randomness would complicate this process. To hurdle this obstacle, most random number generators come with an optional <strong>seed</strong> argument. Essentially, a seed is a starting point in pseudo-random number generation. In other words, you can conceptualize a seed in random number generation as you would any other seed: they are the starting point for where something starts growing. For example, if we wanted to plant roses in a garden, we would bury rose seeds in the spots where we want our roses to grow (and there will be variation in each rose, hence randomness). As another example, let's assume we wanted to select one number from the following sequence of ten numbers:<br><br>\n",
    "\n",
    "~~~\n",
    "0, 1, 1, 2, 3, 5, 8, 13, 21, 34\n",
    "~~~\n",
    "\n",
    "<br>If we do not set a seed (i.e. a starting point), each number would have a 10% chance of being selected. However, if we set a seed to start at, say, the fifth number, that number has a 100% chance of being selected. This becomes more useful in cases where we would like to select more than one number from a sequence. Also, as you might imagine, random number sequences are quite a bit more complex than the one above. Therefore, it is difficult to intuitively determine the results from using a given random seed.\n",
    "\n",
    "<h4>4.5.2 Random Number Generation and the Philosophy of Analytics</h4>\n",
    "Take a moment to ponder the following question:\n",
    "<br><br><div align=\"center\"><em><strong>\n",
    "    What is random?</strong>\n",
    "</em><a class=\"tocSkip\"></a></div><br>\n",
    "    \n",
    "Try to think of a random number between 1 and 100. How did you make your selection? If asked the same question again, do you feel you would have chosen a different number? Do you feel that all numbers between 1 and 100 had an equal chance of selection, or do you feel that your choice may have been biased? If you felt your selection was biased, select another number. Did you compensate for this bias? If so, do you feel your selection is more random, or more predictable?<br><br>\n",
    "Thought experiments such as this help shed light on an interesting notion: it may be completely infeasible to generate a truly random number. We all have biases, and as analysts it is our responsibility to acknowledge and minimize their effects on our endeavors. Each of our ideas should be supported by data, and our results should be replicable. Also, it is unlikely that the results of our analysis will fully reflect the phenomenon we wish to study without error. In fact, a common philosophy in statistics that the true value of something as fundamental as a population mean will never truly be known, and can only be estimated within a certain degree of confidence. This implies that we also need to keep an open mind when attaining results that go against our intuition (i.e. one of our biases). It is unlikely that we will ever generate truly random numbers, just as it is unlikely that we will ever truly attain results that are completely error-free. This perspective will become incredibly valuable when we venture into the chapters dedicated to data analysis.\n",
    "<br>\n",
    "<h4>4.5.3 Ranges</h4>\n",
    "In order to generate a random number in Python, we first need to specify a range of values in which to draw a random number from. In other words, we need to tell Python which values it is allowed to use. In Python, a <strong>range</strong> is a sequence of index values, and in simple terms, <strong>index</strong> means position. For example, each number in our previous sequence has its own position. This helps Python understand where each number is located, and allows us to do many powerful things (covered in <strong>Chapter 5 - Lists and List Operations</strong>). By default, indexes start at zero.\n",
    "<br><br>\n",
    "\n",
    "~~~\n",
    "Index:    0  |  1  |  2  |  3  |  4  |  5  |  6  |  7  |  8  |  9  |\n",
    "Value:    0  |  1  |  1  |  2  |  3  |  5  |  8  | 13  | 21  | 34  |\n",
    "~~~\n",
    "\n",
    "<br>\n",
    "<strong>Note:</strong> You may be wondering why sequences in Python start at zero and not one. This is because Python was engineered using concepts from linear algebra. If you are unfamiliar with linear algebra, think of the x- y- coordinate plane, where the origin is at point (0, 0). As our sequence above is one dimensional, its origin is point zero. Thus, Python uses this number as the first index value.\n",
    "<br>\n",
    "\n",
    "<h4>4.5.4 Generating Pseudo-Random Numbers in Python</h4>\n",
    "As stated earlier, we shall be utilizing the <strong>random</strong> package. This package is filled with a delightful set of methods that allow us to add randomness to our code. We shall start with importing <strong>random</strong> and using its <strong>randint()</strong> method. Remember, it is important to <strong>read the <a href=\"https://docs.python.org/3/library/random.html#random.randint\">Python documentation</a></strong> when using a new method. Calling <strong>help()</strong> on this method gives the following result:\n",
    "<br><br><br>\n",
    "\n",
    "~~~\n",
    "Help on method randint in module random:\n",
    "\n",
    "randint(a, b) method of random.Random instance\n",
    "    Return random integer in range [a, b], including both end points.\n",
    "~~~\n",
    "\n",
    "<br><p>\n",
    "Notice two things in the <strong>help()</strong> documentation: the square brackets <em>[&nbsp;&nbsp;&nbsp;]</em> and that the range includes both endpoints. These two aspects of the <strong>help()</strong> file are redundant. In mathematics, square brackets imply that an end point is inclusive. Their counterpart, round brackets <em>(&nbsp;&nbsp;&nbsp;)</em>, imply the opposite. Little details such as whether or not a range includes endpoints are extremely important. As mentioned in previous chapters, spending a little time to better understand how a method works can save you hours in the long run.\n",
    "</p><br>\n",
    "Let's start making some random numbers!\n",
    "\n",
    "<br><hr style=\"height:.9px;border:none;color:#333;background-color:#333;\" />"
   ]
  },
  {
   "cell_type": "code",
   "execution_count": null,
   "metadata": {
    "deletable": false,
    "editable": false
   },
   "outputs": [],
   "source": [
    "## Code 4.5.1 ##\n",
    "\n",
    "# importing random (don't forget to do this!)\n",
    "import random"
   ]
  },
  {
   "cell_type": "markdown",
   "metadata": {
    "deletable": false,
    "editable": false,
    "run_control": {
     "frozen": true
    }
   },
   "source": [
    "<br>"
   ]
  },
  {
   "cell_type": "code",
   "execution_count": null,
   "metadata": {
    "deletable": false,
    "editable": false
   },
   "outputs": [],
   "source": [
    "## Code 4.5.2 ##\n",
    "\n",
    "# spacing out my code so that it is more read\n",
    "random.randint(a = 1,  # spacing out my code so\n",
    "               b = 10) # that it is more readable"
   ]
  },
  {
   "cell_type": "markdown",
   "metadata": {
    "cell_style": "center",
    "deletable": false,
    "editable": false,
    "run_control": {
     "frozen": true
    }
   },
   "source": [
    "<hr style=\"height:.9px;border:none;color:#333;background-color:#333;\" /><br>\n",
    "\n",
    "Woo hoo! We've just generated a random number! Notice how if you run <em>Code 4.5.2</em> again, it will generate a different number. This is a perfect opportunity to create a guessing game. <em>Code 4.5.3</em> is open for you to create. Try to build something that:\n",
    "1. asks a user to play your guessing game\n",
    "2. prompts a user to make a guess\n",
    "3. generates a random number between 1 and 10\n",
    "4. prints whether or not the answer was correct\n",
    "\n",
    "You have all the skills you need to accomplish this task, so have fun!\n",
    "\n",
    "<br><hr style=\"height:.9px;border:none;color:#333;background-color:#333;\" />"
   ]
  },
  {
   "cell_type": "code",
   "execution_count": null,
   "metadata": {
    "solution2": "hidden",
    "solution2_first": true
   },
   "outputs": [],
   "source": [
    "## Code 4.5.3 ##\n",
    "\n",
    "# Open coding block\n",
    "\n",
    "\n",
    "\n",
    "\n",
    "\n",
    "\n",
    "\n",
    "\n",
    "\n",
    "\n",
    "\n",
    "\n"
   ]
  },
  {
   "cell_type": "code",
   "execution_count": null,
   "metadata": {
    "cell_style": "center",
    "deletable": false,
    "editable": false,
    "solution2": "hidden"
   },
   "outputs": [],
   "source": [
    "## Sample Solution 4.5.3 ##\n",
    "\n",
    "# user input\n",
    "print('Can you guess the number I am thinking of?')\n",
    "guess = input('Pick a number between 1 and 10.\\n')\n",
    "\n",
    "# turning guess into an integer\n",
    "guess = int(guess)\n",
    "\n",
    "# generating a random number\n",
    "number = random.randint(a = 1,\n",
    "                        b = 10)\n",
    "\n",
    "print(f\"\"\"\n",
    "Did you guess correctly (True/False)?\n",
    "{guess == number}\n",
    "\n",
    "I was thinking of the number {number}!\n",
    "\"\"\")"
   ]
  },
  {
   "cell_type": "markdown",
   "metadata": {
    "deletable": false,
    "editable": false,
    "run_control": {
     "frozen": true
    }
   },
   "source": [
    "<hr style=\"height:.9px;border:none;color:#333;background-color:#333;\" /><br>\n",
    "Remember, we can set a seed so that we always get the same result. This becomes very important in later chapters. For now, however, we can use this technique to <em>game</em> our guessing game. This is, potentially, a great way to impress your friends that do not know how to read code, and the method <strong>random.seed()</strong> will help us in doing so. If this is your first time using this method, take a minute to look at the help documentation (it briefly explains how the random package generates random numbers... interesting, right!).\n",
    "<br><br>\n",
    "<hr style=\"height:.9px;border:none;color:#333;background-color:#333;\" />"
   ]
  },
  {
   "cell_type": "code",
   "execution_count": null,
   "metadata": {
    "deletable": false,
    "editable": false
   },
   "outputs": [],
   "source": [
    "## Code 4.5.4 ##\n",
    "\n",
    "random.seed(123)\n",
    "\n",
    "# user input\n",
    "print('Can you guess the number I am thinking of?')\n",
    "guess = input('Pick a number between 1 and 10.\\n')\n",
    "\n",
    "# turning guess into an integer\n",
    "guess = int(guess)\n",
    "\n",
    "# generating a random number\n",
    "number = random.randint(a = 1,\n",
    "                        b = 10)\n",
    "\n",
    "print(f\"\"\"\n",
    "Did you guess correctly (True/False)?\n",
    "{guess == number}\n",
    "\n",
    "I was thinking of the number {number}!\n",
    "\"\"\")"
   ]
  },
  {
   "cell_type": "markdown",
   "metadata": {
    "deletable": false,
    "editable": false,
    "run_control": {
     "frozen": true
    }
   },
   "source": [
    "<hr style=\"height:.9px;border:none;color:#333;background-color:#333;\" /><br>\n",
    "\n",
    "<h2>4.6 Summary</h2>\n",
    "\n",
    "<br>\n",
    "\n",
    "~~~\n",
    "  _    _ _       _        __ _           _ \n",
    " | |  | (_)     | |      / _(_)         | |\n",
    " | |__| |_  __ _| |__   | |_ ___   _____| |\n",
    " |  __  | |/ _` | '_ \\  |  _| \\ \\ / / _ \\ |\n",
    " | |  | | | (_| | | | | | | | |\\ V /  __/_|\n",
    " |_|  |_|_|\\__, |_| |_| |_| |_| \\_/ \\___(_)\n",
    "            __/ |                          \n",
    "           |___/                           \n",
    "~~~                                                                         \n",
    "\n",
    "<br>\n",
    "There is much, much more to learn about random number generation in Python. For now, feel good about yourself for moving a little further in your Python journey."
   ]
  },
  {
   "cell_type": "markdown",
   "metadata": {
    "deletable": false,
    "editable": false,
    "run_control": {
     "frozen": true
    }
   },
   "source": [
    "<br>"
   ]
  }
 ],
 "metadata": {
  "kernelspec": {
   "display_name": "Python 3",
   "language": "python",
   "name": "python3"
  },
  "language_info": {
   "codemirror_mode": {
    "name": "ipython",
    "version": 3
   },
   "file_extension": ".py",
   "mimetype": "text/x-python",
   "name": "python",
   "nbconvert_exporter": "python",
   "pygments_lexer": "ipython3",
   "version": "3.8.5"
  },
  "toc": {
   "base_numbering": 1,
   "nav_menu": {},
   "number_sections": false,
   "sideBar": true,
   "skip_h1_title": false,
   "title_cell": "Table of Contents",
   "title_sidebar": "Contents",
   "toc_cell": false,
   "toc_position": {
    "height": "calc(100% - 180px)",
    "left": "10px",
    "top": "150px",
    "width": "165px"
   },
   "toc_section_display": true,
   "toc_window_display": false
  },
  "varInspector": {
   "cols": {
    "lenName": 16,
    "lenType": 16,
    "lenVar": 40
   },
   "kernels_config": {
    "python": {
     "delete_cmd_postfix": "",
     "delete_cmd_prefix": "del ",
     "library": "var_list.py",
     "varRefreshCmd": "print(var_dic_list())"
    },
    "r": {
     "delete_cmd_postfix": ") ",
     "delete_cmd_prefix": "rm(",
     "library": "var_list.r",
     "varRefreshCmd": "cat(var_dic_list()) "
    }
   },
   "types_to_exclude": [
    "module",
    "function",
    "builtin_function_or_method",
    "instance",
    "_Feature"
   ],
   "window_display": false
  }
 },
 "nbformat": 4,
 "nbformat_minor": 2
}
