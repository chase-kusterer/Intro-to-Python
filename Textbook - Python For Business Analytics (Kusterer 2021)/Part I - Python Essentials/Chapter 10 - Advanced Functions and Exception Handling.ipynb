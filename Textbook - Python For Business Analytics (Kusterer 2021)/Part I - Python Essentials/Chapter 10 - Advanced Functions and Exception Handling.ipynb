{
 "cells": [
  {
   "cell_type": "markdown",
   "metadata": {
    "deletable": false,
    "editable": false,
    "run_control": {
     "frozen": true
    }
   },
   "source": [
    "<hr style=\"height:.9px;border:none;color:#333;background-color:#333;\" />\n",
    "<hr style=\"height:.9px;border:none;color:#333;background-color:#333;\" />\n",
    "<br><br><br>\n",
    "<h1>Python for Business Analytics</h1>\n",
    "<em>A Nontechnical Approach for Nontechnical People</em><br><br>\n",
    "<em><strong>Custom Edition for Hult International Business School</strong></em><br>\n",
    "\n",
    "Written by Chase Kusterer - Faculty of Analytics <br>\n",
    "Hult International Business School <br>\n",
    "https://github.com/chase-kusterer<br><br><br><br><br>\n",
    "\n",
    "<hr style=\"height:.9px;border:none;color:#333;background-color:#333;\" />\n",
    "<hr style=\"height:.9px;border:none;color:#333;background-color:#333;\" />\n",
    "<br>\n",
    "\n",
    "<h1><u>Chapter 10: Advanced Functions and Exception Handling</u></h1>"
   ]
  },
  {
   "cell_type": "markdown",
   "metadata": {
    "deletable": false,
    "editable": false,
    "run_control": {
     "frozen": true
    }
   },
   "source": [
    "User-defined functions are a very important concept in Python. This chapter is dedicated to some of the more advanced tools available to allow functions to be flexible and stable. If you struggle with some of the concepts in this chapter, rest assured that your knowledge will solidify as you start to develop your own codes. Also note that your efforts in this chapter will also pay off in terms of working with packages and code snippets you find online.\n",
    "\n",
    "<h2>10.1 Functions with Variable Arguments</h2>\n",
    "Recall from  <strong>Chapter 1: Learn This Before Learning Else</strong> that <em>*args</em> and <em>**kwargs</em> allow for arguments of varying length. In other words, these syntaxes are very useful when there is need to allow flexibility in the amount of inputs a user can specify. A good example of such a need is a shopping list. To keep things simple, let's assume that the requirements for our <em>shopping_list</em> function are to take items as arguments and then print them out one-by-one. Also, common knowledge implies that different users will have shopping lists of different lengths. Therefore, it would be very challenging if users were forced to make their lists of a certain length. For example, if our function was designed as follows:\n",
    "<br><br>\n",
    "\n",
    "~~~\n",
    "def shopping_list(item_1, item_2, item_3):\n",
    "    print(f\"\"\"\n",
    "Shopping List:\n",
    "    * {item_1}\n",
    "    * {item_2}\n",
    "    * {item_3}\n",
    "    \"\"\")\n",
    "~~~\n",
    "\n",
    "<br>\n",
    "users would be required to have shopping lists that consist of exactly three items. Otherwise, the function will throw an error. A remedy to allow users more flexibility would be to make all of the arguments optional, setting their default values to <em>None</em>. Using this approach, users would be able to input as many items as they like, up to the amount of optional arguments that exist in the function. Additionally, the number of optional arguments could be increased to allow for longer lists. Although this approach solves the need for more flexibility, the function's body becomes unnecessarily long and inefficient:\n",
    "<br><br>\n",
    "\n",
    "~~~\n",
    "def shopping_list(item_1=None, item_2=None, item_3=None):\n",
    "    print(\"Shopping List:\")\n",
    "    \n",
    "    item_list = []\n",
    "    \n",
    "    if item_1 != None:\n",
    "        item_list.append(item_1)\n",
    "    \n",
    "    if item_2 != None:\n",
    "        item_list.append(item_2)\n",
    "        \n",
    "    if item_3 != None:\n",
    "        item_list.append(item_3)\n",
    "    \n",
    "    for item in item_list:\n",
    "        print('\\t*',item)\n",
    "~~~\n",
    "\n",
    "<br>\n",
    "A more pragmatic approach is to use <em>*args</em>, which will allow for flexibility while keeping the function short and simple. Such an approach creates an opportunity to redesign the body of the function so that it contains a single <em>for</em> loop, as exemplified in <em>Code 10.1.1</em>.\n",
    "\n",
    "<br>"
   ]
  },
  {
   "cell_type": "code",
   "execution_count": null,
   "metadata": {
    "cell_style": "center",
    "deletable": false,
    "editable": false
   },
   "outputs": [],
   "source": [
    "## Code 10.1.1 ##\n",
    "\n",
    "# replicated from Code 1.1.5\n",
    "\n",
    "# defining a function with *args\n",
    "def shopping_list(*args):\n",
    "    print(\"Shopping List:\")\n",
    "    \n",
    "    for item in args:\n",
    "        print(item)\n",
    "\n",
    "# testing the function\n",
    "shopping_list('bananas', 'oranges', \n",
    "              'grapes', 'pears', \n",
    "              'apples')"
   ]
  },
  {
   "cell_type": "markdown",
   "metadata": {
    "deletable": false,
    "editable": false,
    "run_control": {
     "frozen": true
    }
   },
   "source": [
    "<br>\n",
    "The concept of <em>**kwargs</em> is very similar to that of <em>*args</em>, but instead of operating on individual argument inputs, <em>**kwargs</em> operates on key/value pairs. Conceptually, keys can be thought of as groups or categories, and values the members of each group. In an Excel spreadsheet, keys are the names of each column and values the data in each row. In Python, key/value pairs are the essence of a special built-in object known as <a href=\"https://docs.python.org/3/tutorial/datastructures.html#dictionaries\">dictionaries</a>, which will be covered in a later chapter.\n",
    "<br><br>\n",
    "To exemplify, let's use <em>**kwargs</em> to create a function for daily exercise that consists of three parts: warm up, workout, and cool down (the <em>keys</em>).  Each activity can be considered a value. For example, if our warm up consisted of stretching, running, push ups, and sit ups, we could use this information to create the following key/value pair:\n",
    "<br><br>\n",
    "\n",
    "~~~\n",
    "warm_up  = ['stretch', 'run', 'push ups', 'sit ups']\n",
    "~~~\n",
    "\n",
    "<br>\n",
    "Indexing key/value pairs is a bit more complicated than indexing lists or tuples, and this will be discussed in a later chapter. For now, let's turn our attention to <em>Code 10.1.2</em> to better understand how <em>**kwargs</em> can be applied.\n",
    "<br><br>"
   ]
  },
  {
   "cell_type": "code",
   "execution_count": null,
   "metadata": {
    "cell_style": "center",
    "deletable": false,
    "editable": false
   },
   "outputs": [],
   "source": [
    "## Code 10.1.2 ##\n",
    "\n",
    "# defining a function with **kwargs\n",
    "def daily_workout(**kwargs):\n",
    "    \n",
    "    for key, value in kwargs.items():\n",
    "        print(f'\\n{key.upper()}:')\n",
    "        \n",
    "        for v in value:\n",
    "            print('\\t__',v)\n",
    "\n",
    "\n",
    "# testing the function\n",
    "daily_workout(warm_up  = ['stretch',\n",
    "                         'run for 10 minutes',\n",
    "                         '10 push ups',\n",
    "                         '10 sit ups'],\n",
    "              \n",
    "              workout  = ['3 sets shadow boxing',\n",
    "                          '3 sets weight lifting circuit (arms & back)'\n",
    "                          'cycle for 30 minutes'],\n",
    "              \n",
    "              cooldown = ['run for 10 minutes',\n",
    "                          'stretch'])\n"
   ]
  },
  {
   "cell_type": "markdown",
   "metadata": {
    "deletable": false,
    "editable": false,
    "run_control": {
     "frozen": true
    }
   },
   "source": [
    "<br>\n",
    "Having an understanding of keyword arguments will pay dividends when working with open-source packages. For example, the method <a href=\"https://seaborn.pydata.org/generated/seaborn.heatmap.html\">heatmap</a> from the data visualization package <a href=\"https://seaborn.pydata.org/\">seaborn</a> contains a number of optional arguments, allowing for a high degree of customization. Even so, the final argument in its function definition is <em>**kwargs</em>, as can be seen below:\n",
    "<br><br>\n",
    "\n",
    "~~~\n",
    "heatmap(data, vmin=None, vmax=None, cmap=None, center=None, robust=False, annot=None, fmt='.2g', annot_kws=None, linewidths=0, linecolor='white', cbar=True, cbar_kws=None, cbar_ax=None, square=False, xticklabels='auto', yticklabels='auto', mask=None, ax=None, **kwargs)\n",
    "~~~\n",
    "\n",
    "<br>\n",
    "Through an analysis of the <em>help( )</em> file for <em>seaborn.heatmap( )</em>, the <em>**kwargs</em> parameter is meant to house other keyword arguments that are passed to <a href=\"https://matplotlib.org/3.1.1/api/_as_gen/matplotlib.axes.Axes.pcolormesh.html\">ax.pcolormesh</a>:\n",
    "<br><br>\n",
    "\n",
    "~~~\n",
    "kwargs : other keyword arguments\n",
    "        All other keyword arguments are passed to ``ax.pcolormesh``.\n",
    "~~~\n",
    "\n",
    "<br>\n",
    "This means that you can use arguments from <em>ax.pcolormesh( )</em> to further customize the output of <em>seaborn.heatmap( )</em>. The reason this is possible is because <em>seaborn</em> was built on top of the package <a href=\"https://matplotlib.org/3.1.1/index.html\">matplotlib</a>. Instead of redundantly loading <em>seaborn.heatmap( )</em> with a plethora of arguments that already exist in <em>matplotlib.axes.Axes.pcolormesh( )</em>, the developers made these arguments available as <em>**kwargs</em>. Therefore, they can be accessed indirectly.\n",
    "\n",
    "\n",
    "<br><hr style=\"height:.9px;border:none;color:#333;background-color:#333;\" /><br>\n",
    "\n",
    "<h2>10.2 Variable Scope and Nested Functions</h2>\n",
    "\n",
    "As with conditional statements, functions can be written within functions. Before discussing further, however, it is important to reemphasize that objects in a function's body are in a different environment than objects outside of a function's body. This is a concept known as <strong>variable scope</strong>. The default environment outside of a function's body is known as the <strong>global environment</strong>. This is where you will be if you open a blank Jupyter Notebook or a new Python script. All variables created in the <strong>global environment</strong> are globally scoped. This means that these variables are available in every part of your script (including the body of a function unless overridden)."
   ]
  },
  {
   "cell_type": "markdown",
   "metadata": {
    "cell_style": "split",
    "deletable": false,
    "editable": false,
    "run_control": {
     "frozen": true
    }
   },
   "source": [
    "For example, if we defined the object <em>' y '</em> in the global environment, we could then reference it in the body of a function. This is occurring in <em>Code 10.2.1</em>, which is an adapted version of <em>Code 9.2.3</em>. As can be observed, <em>' y '</em> is being declared in the global environment and then is referenced within the body of a function. Even though this variable has not been explicitly declared within <em>power_function</em>, <em>Code 10.2.1</em> runs without error. Behind the scenes:\n",
    "\n",
    "1. Python realizes that an object has been referenced in the body of a function.\n",
    "2. It starts searching upwards, line by line, within the function's body to see if this object has been declared.\n",
    "3. If it finds the object's declaration within the body, it uses this value.\n",
    "4. If it doesn't find a declaration, continues its search in the global environment.\n",
    "\n",
    "<br>\n",
    "In <em>Code 10.2.2</em>, the object <em>' y '</em> has been declared in both the global environment and the function's environment (also known as the <strong>local environment</strong>). As <em>' y '</em> has been declared locally, Python uses the local declaration of <em>' y '</em> each time <em>power_function</em> is run. However, this does not effect the global declaration of this variable, which retains its originally declared value of two.\n",
    "<br><br>\n",
    "Things get very interesting when working with nested functions, as in such situations there are more than two levels of scope:\n",
    "<br><br>\n",
    "\n",
    "~~~\n",
    "GLOBAL\n",
    "\n",
    "    def outer_function():\n",
    "        LOCAL\n",
    "        \n",
    "        def inner_function:\n",
    "            EVEN MORE LOCAL\n",
    "~~~"
   ]
  },
  {
   "cell_type": "markdown",
   "metadata": {
    "cell_style": "split",
    "deletable": false,
    "editable": false,
    "run_control": {
     "frozen": true
    }
   },
   "source": [
    "<br>"
   ]
  },
  {
   "cell_type": "code",
   "execution_count": null,
   "metadata": {
    "cell_style": "split",
    "deletable": false,
    "editable": false
   },
   "outputs": [],
   "source": [
    "## Code 10.2.1 ##\n",
    "\n",
    "# adapted from Code 9.2.3\n",
    "\n",
    "# declaring an object\n",
    "y = 2\n",
    "\n",
    "# writing a function using the declared object\n",
    "def power_function(x):\n",
    "    val = x**y\n",
    "    return val\n",
    "    \n",
    "power_function(x=2)"
   ]
  },
  {
   "cell_type": "markdown",
   "metadata": {
    "cell_style": "split",
    "deletable": false,
    "editable": false,
    "run_control": {
     "frozen": true
    }
   },
   "source": [
    "<br>"
   ]
  },
  {
   "cell_type": "code",
   "execution_count": null,
   "metadata": {
    "cell_style": "split",
    "deletable": false,
    "editable": false
   },
   "outputs": [],
   "source": [
    "## Code 10.2.2 ##\n",
    "\n",
    "# adapted from Code 10.2.1\n",
    "\n",
    "# declaring an object\n",
    "y = 2\n",
    "\n",
    "# writing a function using the declared object\n",
    "def power_function(x):\n",
    "    y = 3\n",
    "    val = x**y\n",
    "    return val\n",
    "    \n",
    "print(power_function(x=2))\n",
    "print(y)"
   ]
  },
  {
   "cell_type": "markdown",
   "metadata": {
    "deletable": false,
    "editable": false,
    "run_control": {
     "frozen": true
    }
   },
   "source": [
    "<br>\n",
    "This creates a challenge when trying to manage the scope of objects. To help sort out the confusion, let's give a unique name to each level:\n",
    "<br><br>"
   ]
  },
  {
   "cell_type": "markdown",
   "metadata": {
    "deletable": false,
    "editable": false,
    "run_control": {
     "frozen": true
    }
   },
   "source": [
    "<table align=\"left\">\n",
    "<col width=\"100\">\n",
    "<col width=\"250\">\n",
    "    <tr>\n",
    "        <th>Level of Scope</th>\n",
    "        <th>Interpretation</th>\n",
    "    </tr>\n",
    "    <tr>\n",
    "        <td>global</td>\n",
    "        <td> outer-most environment</td>\n",
    "    </tr>\n",
    "    <tr>\n",
    "    <tr>\n",
    "        <td>non-local</td>\n",
    "        <td> environment of the <strong>outer</strong> function</td>\n",
    "    </tr>\n",
    "    <tr>\n",
    "        <td>local</td>\n",
    "        <td> environment of the <strong>inner</strong> function</td>\n",
    "    </tr>\n",
    "</table>"
   ]
  },
  {
   "cell_type": "markdown",
   "metadata": {
    "deletable": false,
    "editable": false,
    "run_control": {
     "frozen": true
    }
   },
   "source": [
    "<br>\n",
    "As stated earlier in this chapter, by default, anything that takes place inside of a function has no effect on objects in the global environment. The same is true for functions nested inside of other functions: by default, the environment of the inner function has no effect on the environment of the outer function. It was also mentioned earlier that you can conceptualize the <strong>global environment</strong> as an entire planet and the <strong>non-local environment</strong> as its own secluded island. As such, the <strong>local environment</strong> can be thought of as a cave on the secluded island, where its inhabitants are isolated from the rest of the island's population. If a <strong>return</strong> statement is placed in the <strong>non-local environment</strong>, something returns to the <strong>global environment</strong>. Likewise, if a <strong>return</strong> statement is placed in the <strong>local environment</strong>, something returns to the <strong>non-local environment</strong>. This is exemplified in <em>Code 10.2.3</em>. For the convenience of the reader, each environment has been labeled with comments and outlined with hashtags ( <em>' # '</em> ).\n",
    "<br><br>"
   ]
  },
  {
   "cell_type": "code",
   "execution_count": null,
   "metadata": {
    "deletable": false,
    "editable": false
   },
   "outputs": [],
   "source": [
    "## Code 10.2.3 ##\n",
    "\n",
    "# global environment\n",
    "\n",
    "##############################################################################\n",
    "def outer_function():\n",
    "    # non-local environment\n",
    "    given_name  = 'Long'\n",
    "    family_name = 'Silver'\n",
    "\n",
    "    ##################################################\n",
    "    def inner_function():\n",
    "        # local environment\n",
    "        middle_name = 'John'\n",
    "        return middle_name\n",
    "    ##################################################\n",
    "    \n",
    "    # non-local environment\n",
    "    middle = inner_function()\n",
    "    full_name = given_name + ' ' + middle + ' ' + family_name\n",
    "    \n",
    "    return full_name\n",
    "\n",
    "##############################################################################\n",
    "\n",
    "# global environment\n",
    "outer_function()"
   ]
  },
  {
   "cell_type": "markdown",
   "metadata": {
    "deletable": false,
    "editable": false,
    "run_control": {
     "frozen": true
    }
   },
   "source": [
    "<br>\n",
    "This code starts by defining an outer function where two objects are declared: <em>given_name</em> and <em>family_name</em>. In the definition of the inner function, one new object is declared (<em>middle_initial</em>) and returned to the <strong>non-local environment</strong> (i.e., the environment of the outer function). Notice how after the inner function is defined, it is called in the outer function. Remember, in order to use a function, it must be called after it has been defined. The results of <em>inner_function</em> are being stored as a new object in <em>outer_function</em>, and this object is being used as an input for the object <em>full_name</em>. Finally, <em>full_name</em> is being returned to the <strong>global environment</strong>. When the function is called on the last line of <em>Code 10.2.3</em>, Python outputs what is stored in <em>full_name</em>, which is a concatenation of <em>given_name</em>, <em>middle_initial</em>, and <em>family_name</em>.\n",
    "\n",
    "<br><hr style=\"height:.9px;border:none;color:#333;background-color:#333;\" /><br>\n",
    "\n",
    "<h2>10.3 <em>global</em> and <em>nonlocal</em> Variable Assignment</h2>\n",
    "\n",
    "As mentioned in <em>Section 9.2</em>, Python has been designed such that objects in inner environments have no effect on objects in outer environments <strong>with one exception:</strong> explicitly stating that an inner object should override variables in outer environments. This can be accomplished with the use of the syntaxes <strong>global</strong> and <strong>nonlocal</strong>.\n",
    "<br><br>\n",
    "Essentially, when these syntaxes are used, they override assigned objects in outer environments. As their names suggest, <strong>global</strong> will override objects in the global environment, and <strong>nonlocal</strong> will override objects in an outer function. If there are multiple levels of function nesting, <strong>nonlocal</strong> will act similar to <em>break</em> in nested loops: it will override objects one level up in the environment hierarchy. <em>Code 10.3.1</em> exemplifies how to declare a variable as <strong>global</strong>. \n",
    "<br><br>\n",
    "<strong>Note:</strong> Declaring variables as <strong>global</strong> or <strong>nonlocal</strong> should be done with extreme caution as it can cause undue side effects in your code. For more information, check out <a href=\"https://stackoverflow.com/questions/19158339/why-are-global-variables-evil\">this thread on StackOverflow</a>.\n",
    "<br><br>"
   ]
  },
  {
   "cell_type": "code",
   "execution_count": null,
   "metadata": {
    "deletable": false,
    "editable": false
   },
   "outputs": [],
   "source": [
    "## Code 10.3.1 ##\n",
    "\n",
    "# adapted from Code 10.2.3\n",
    "\n",
    "# global environment\n",
    "\n",
    "##############################################################################\n",
    "def character():\n",
    "    # non-local environment\n",
    "    \n",
    "    global character_name\n",
    "    character_name   = 'Long John Silver'\n",
    "    # no return statement needed\n",
    "\n",
    "##############################################################################\n",
    "\n",
    "# global environment\n",
    "\n",
    "# calling character() and printing name\n",
    "character()\n",
    "print(f'Character Name:  {character_name}')"
   ]
  },
  {
   "cell_type": "markdown",
   "metadata": {
    "deletable": false,
    "editable": false,
    "run_control": {
     "frozen": true
    }
   },
   "source": [
    "<br>\n",
    "Notice in <em>Code 10.3.1</em> that <em>character_name</em> was not originally defined in the global environment, and the <em>character( )</em> function does not have a <strong>return</strong> statement. Even so, the function returns <em>character_name</em>. Behind the scenes, when <em>character_name</em> is declared <strong>global</strong>, its return statement is implied and it is automatically declared as an object in the <strong>global environment</strong>. Also note that <em>character_name</em> must be declared <strong>global</strong> before it is assigned any value.\n",
    "<br><br>\n",
    "<strong>global</strong> can also be used to override an existing object in the <strong>global environment</strong>. This is exemplified in <em>Code 10.3.2</em>, where <em>character_name</em> is being overridden when the <em>character( )</em> function is being called.\n",
    "<br><br>"
   ]
  },
  {
   "cell_type": "code",
   "execution_count": null,
   "metadata": {
    "deletable": false,
    "editable": false
   },
   "outputs": [],
   "source": [
    "## Code 10.3.2 ##\n",
    "\n",
    "# adapted from Code 10.2.3\n",
    "\n",
    "# global environment\n",
    "character_name = 'Long Silver'\n",
    "\n",
    "##############################################################################\n",
    "def character():\n",
    "    # non-local environment\n",
    "    \n",
    "    global character_name\n",
    "    character_name   = 'Long John Silver'\n",
    "\n",
    "##############################################################################\n",
    "\n",
    "# global environment\n",
    "\n",
    "# printing name before function is called\n",
    "print(f'Character Name BEFORE function: {character_name}')\n",
    "\n",
    "# calling character() and printing name again\n",
    "character()\n",
    "print(f'Character Name AFTER function:  {character_name}')"
   ]
  },
  {
   "cell_type": "markdown",
   "metadata": {
    "deletable": false,
    "editable": false,
    "run_control": {
     "frozen": true
    }
   },
   "source": [
    "<br>\n",
    "Declaring an object as <strong>nonlocal</strong> is very similar to declaring it as <strong>global</strong>. As with before, it is unnecessary to write a <strong>return</strong> statement at the end of the inner function. However, in order for a variable to be declared <strong>nonlocal</strong>, it must first be defined in the outer function's environment. Otherwise, the code will throw an error. Also note that declaring an object as <strong>nonlocal</strong> does not affect the <strong>global environment</strong>. <em>Code 10.3.2</em> provides an example as to how to apply a <strong>nonlocal</strong> declaration.\n",
    "<br><br>"
   ]
  },
  {
   "cell_type": "code",
   "execution_count": null,
   "metadata": {
    "deletable": false,
    "editable": false
   },
   "outputs": [],
   "source": [
    "## Code 10.3.2 ##\n",
    "\n",
    "# adapted from Code 10.2.3\n",
    "\n",
    "# global environment\n",
    "\n",
    "##############################################################################\n",
    "def character():\n",
    "    # non-local environment\n",
    "    \n",
    "    # setting defaults as Homer Simpson\n",
    "    given_name  = 'Long John'\n",
    "    family_name = 'Silver'\n",
    "    character   = given_name + ' ' + family_name\n",
    "    \n",
    "    ##################################################\n",
    "    def change_character():\n",
    "        # local environment\n",
    "        \n",
    "        # using nonlocal to override local given_name\n",
    "        nonlocal character\n",
    "        character = 'Captain Flint'\n",
    "    ##################################################        \n",
    "    \n",
    "    # non-local environment\n",
    "    print(f\"\"\"\n",
    "You are currently playing as {given_name} {family_name}.\\n\n",
    "    \"\"\")\n",
    "    \n",
    "    # allowing for character change\n",
    "    change = input(\"Would you like to play as Captain Flint instead? [y]/n\\n\")\n",
    "    change = change.casefold()\n",
    "    \n",
    "    \n",
    "    # conditionally changing character\n",
    "    if 'y' in change:\n",
    "        change_character()\n",
    "\n",
    "    # passing if a user does not want to change characters\n",
    "    elif 'y' not in change:\n",
    "        pass\n",
    "    \n",
    "    else:\n",
    "        print('Something went wrong.')\n",
    "\n",
    "    # outputting final character\n",
    "    return character\n",
    "\n",
    "##############################################################################\n",
    "\n",
    "# global environment\n",
    "player = character()\n",
    "print(f'\\nWelcome to the game {player}!')"
   ]
  },
  {
   "cell_type": "markdown",
   "metadata": {
    "deletable": false,
    "editable": false,
    "run_control": {
     "frozen": true
    }
   },
   "source": [
    "<br>\n",
    "This code block also introduces the syntax <strong>pass</strong>, which is Python's way of saying <em>'do nothing and continue'</em>. Generally, <strong>pass</strong> is used as a placeholder when building complex code. For example, when building a code with several nested functions, loops, or conditional statements, a programmer may decide to first build a skeleton (i.e., an outline). With the use of <strong>pass</strong>, the programmer can build various parts of the code and immediately test them. Without <strong>pass</strong>, Python will throw an error each time it sees a conditional statement with no body. The use of <strong>pass</strong> is illustrated in the code below.\n",
    "<br><br>\n",
    "\n",
    "~~~\n",
    "buttons = 50\n",
    "\n",
    "if buttons < 5:\n",
    "    pass\n",
    "   \n",
    "elif buttons <= 25:\n",
    "    pass\n",
    "   \n",
    "elif buttons > 25:\n",
    "    print(\"That's a lot of buttons!\")\n",
    "   \n",
    "else:\n",
    "    print('Something went wrong.')\n",
    "\n",
    "\n",
    "~~~\n",
    "\n",
    "<br><hr style=\"height:.9px;border:none;color:#333;background-color:#333;\" /><br>\n",
    "\n",
    "<h2>10.4 Exception Handling</h2>\n",
    "\n",
    "According to <a href=\"https://docs.python.org/3/tutorial/errors.html\">the Python documentation</a>, errors come in two forms: syntax errors and exceptions. Syntax errors occur when a code violates the grammar of Python (a missing semicolon, improper indentation, etc.), and generally result in the following error message:\n",
    "<br><br>\n",
    "\n",
    "~~~\n",
    "SyntaxError: invalid syntax\n",
    "~~~\n",
    "\n",
    "<br>\n",
    "Exceptions are events that disrupt the flow of a program's execution.  Things such as attempting to divide by zero, calling an object that has not been defined, or trying to divide a string by another string will lead to an exception. When an exception occurs, Python throws an <a href='https://docs.python.org/3/library/exceptions.html#concrete-exceptions'>exception error</a>, which is a message designed to help programmers understand why their code did not run as intended. The table below exhibits some common exception messages you may experience while applying Python to business analytics.\n",
    "\n",
    "<br><table width=\"600\" align=\"left\">\n",
    "<col width=\"125\">\n",
    "<col width=\"475\">\n",
    "    <tr>\n",
    "        <th>Exception Message</th>\n",
    "        <th>Interpretation</th>\n",
    "    </tr>\n",
    "    <tr>\n",
    "        <td> ImportError </td>\n",
    "        <td> raised during <em>import</em> when Python is having trouble loading a module</td>\n",
    "    </tr>\n",
    "    <tr>\n",
    "        <td> ModuleNotFoundError </td>\n",
    "        <td> raised during <em>import</em> when a module cannot be found</td>\n",
    "    </tr>\n",
    "    <tr>\n",
    "        <td> IndexError </td>\n",
    "        <td> raised when an index value is out of range</td>\n",
    "    </tr>   \n",
    "    <tr>\n",
    "        <td> KeyboardInterrupt </td>\n",
    "        <td> raised when you interrupt/restart your Python kernel</td>\n",
    "    </tr>\n",
    "    <tr>\n",
    "        <td> NameError </td>\n",
    "        <td> raised when an object is referenced that cannot be found</td>\n",
    "    </tr>\n",
    "    <tr>\n",
    "        <td> TypeError </td>\n",
    "        <td> raised when an operation fails due to an inappropriate object type</td>\n",
    "    </tr>\n",
    "    <tr>\n",
    "        <td> ValueError </td>\n",
    "        <td> raised when an object is of an appropriate type, but is of an inappropriate value</td>\n",
    "    </tr>\n",
    "    <tr>\n",
    "        <td> ZeroDivisionError </td>\n",
    "        <td> raised when an operation attempts to divide by zero</td>\n",
    "    </tr>\n",
    "    <tr>\n",
    "        <td> FileNotFoundError </td>\n",
    "        <td> raised when Python cannot find a file that has been referenced</td>\n",
    "    </tr>\n",
    "</table>"
   ]
  },
  {
   "cell_type": "markdown",
   "metadata": {
    "deletable": false,
    "editable": false,
    "run_control": {
     "frozen": true
    }
   },
   "source": [
    "<br>"
   ]
  },
  {
   "cell_type": "markdown",
   "metadata": {
    "deletable": false,
    "editable": false,
    "run_control": {
     "frozen": true
    }
   },
   "source": [
    "Once an exception is thrown, Python will terminate whatever operations it is running as it does not know how to move forward. This also gives programmers an opportunity to fix their code. However, as we know from <a href=\"https://github.com/chase-kusterer/Python-for-Business-Analytics\">Chapter 3: User Input and Variable Types</a>, errors can also be caused by user input. To help manage this, Python includes two useful syntaxes: <strong>try</strong> and <strong>except</strong>. As their names suggest, <strong>try</strong> permits a program to <em>try</em> to do something, and <strong>except</strong> is used to instruct Python on what to do in the event that the program throws an <em>exception</em> after trying. Essentially, the <strong>try</strong>/<strong>except</strong> structure is like a conditional statement designed to help manage errors.\n",
    "<br><br>\n",
    "As an example, let's turn our attention to <em>Code 10.4.1</em>, which is a replication of <em>Code 3.2.5</em>. As you may recall, if a user inputs anything other than an integer, this code will throw an exception. For example, if a user were to input a string or float, Python would throw the following:\n",
    "<br><br>\n",
    "\n",
    "~~~\n",
    "ValueError: invalid literal for int() with base 10: 'VALUE'\n",
    "~~~\n"
   ]
  },
  {
   "cell_type": "code",
   "execution_count": null,
   "metadata": {
    "cell_style": "center",
    "deletable": false,
    "editable": false
   },
   "outputs": [],
   "source": [
    "## Code 10.4.1 ##\n",
    "\n",
    "# replicated from Code 3.2.5\n",
    "\n",
    "number = input(\"\"\"\n",
    "What is your favorite number between 1 and 10?\n",
    "Please input numbers (no text).\\t\"\"\")\n",
    "\n",
    "print(f\"\\nYou've input {number}.\")\n",
    "\n",
    "# Converting number to type int\n",
    "number = int(number)\n",
    "\n",
    "double = number * 2\n",
    "\n",
    "print(f\"\"\"\n",
    "If you double that number, it becomes {double}.\n",
    "\"\"\")"
   ]
  },
  {
   "cell_type": "markdown",
   "metadata": {
    "deletable": false,
    "editable": false,
    "run_control": {
     "frozen": true
    }
   },
   "source": [
    "<br>\n",
    "This is due to the type conversion in <em>Line 12</em>, as Python does not know what to do when encountering a non-integer value. However, <strong>try</strong>/<strong>except</strong> can be utilized to prevent this code from terminating in such a situation. In its base form, the <strong>except</strong> clause will run regardless which type of exception occurs. If applied to the body of a <em>while True</em> loop, <strong>try</strong>/<strong>except</strong> can be used with <em>break</em> and <em>continue</em> to keep looping until a user gives an appropriate input. This has been developed in <em>Code 10.4.2</em>. \n",
    "<br><br>"
   ]
  },
  {
   "cell_type": "code",
   "execution_count": null,
   "metadata": {
    "cell_style": "center",
    "deletable": false,
    "editable": false
   },
   "outputs": [],
   "source": [
    "## Code 10.4.2 ##\n",
    "\n",
    "# adapted from Code 3.2.5\n",
    "\n",
    "while True:\n",
    "    number = input(\"\"\"\n",
    "What is your favorite number between 1 and 10?\n",
    "Please input numbers (no text).\\t\"\"\")\n",
    "\n",
    "    print(f\"\\nYou've input {number}.\")\n",
    "\n",
    "    # Converting number to type int\n",
    "    try:\n",
    "        number = int(number)\n",
    "        break\n",
    "\n",
    "    except:\n",
    "        print(\"That wasn't a proper input.\")\n",
    "        continue\n",
    "\n",
    "double = number * 2\n",
    "\n",
    "print(f\"\"\"\n",
    "If you double that number, it becomes {double}.\n",
    "\"\"\")\n"
   ]
  },
  {
   "cell_type": "markdown",
   "metadata": {
    "deletable": false,
    "editable": false,
    "run_control": {
     "frozen": true
    }
   },
   "source": [
    "<br>\n",
    "<h3>Customizing <em>try</em>/<em>except</em> based on Exception Types</h3>\n",
    "Generally, it is a good practice to write an exception clause for each error that a user may reasonably encounter. Such a practice allows for different exceptions to lead to different actions. For example, the user-defined function in <em>Code 10.4.3</em> is likely to encounter either a <em>TypeError</em> (user did not overwrite the default value for the argument <em>apples</em>), or a <em>ValueError</em> (user did not input an integer value for <em>apples</em>). As such, two <strong>except</strong> clauses have been coded, each leading to a different action in order to remedy its respective error. Once the function receives an appropriate value for <em>apples</em>, the <strong>try</strong> clause runs successfully and breaks out of the <em>while True</em> loop.\n",
    "<br><br>"
   ]
  },
  {
   "cell_type": "code",
   "execution_count": null,
   "metadata": {
    "deletable": false,
    "editable": false
   },
   "outputs": [],
   "source": [
    "## Code 10.4.3 ##\n",
    "\n",
    "# declaring an object\n",
    "apple_inventory = 0\n",
    "\n",
    "# writing a function\n",
    "def apple_orchard(apples=None, inventory=apple_inventory):\n",
    "    \"\"\"This function adds apples to your inventory.\"\"\"\n",
    "    \n",
    "    # handling exceptions\n",
    "    while True:\n",
    "        try:\n",
    "            apples = int(apples)\n",
    "            break\n",
    "       \n",
    "        except TypeError:\n",
    "            apples = input(\"How many apples have you picked?\\n\")\n",
    "        \n",
    "        except ValueError:\n",
    "            print(\"That's not a valid number of apples. Please try again\")\n",
    "            apples = input('>')\n",
    "\n",
    "    print(f\"Adding {int(apples)} apples to your inventory!\")\n",
    "    inventory += apples\n",
    "    return inventory\n",
    "\n",
    "# running the function\n",
    "apple_inventory = apple_orchard()"
   ]
  },
  {
   "cell_type": "markdown",
   "metadata": {
    "deletable": false,
    "editable": false,
    "run_control": {
     "frozen": true
    }
   },
   "source": [
    "<br>\n",
    "Let's apply <strong>try</strong>/<strong>except</strong> to <em>Code 8.4.3</em>, which has been replicated in <em>Code 10.4.4</em>. As you may recall, this code was designed to calculate how many seasons it took for Michael Jordan to score 25,000 points. Our original approach threw exceptions when encountering strings in the points per season data (Index\\[1] in each sublist). Thus, one of our first steps was to clean the data so that points per season only contained integers. This was a good approach, but it is limited. To illustrate, let's assume an overnight change was made to our data source and all data within had been converted to strings. In such a case, the data cleaning process conducted in <strong>Chapter 8: while Loops and Making Assumptions</strong> would result in all data being removed due to its type. A more sound approach would be to <strong>try</strong> to convert each string into an integer and tally successful attempts accordingly. This would also allow for the possibility of calculating how many seasons were skipped due to Jordan not playing. <em>Code 10.4.4</em> has been left open for you to:\n",
    "\n",
    "* convert the values for points per season into an integer\n",
    "* handle exceptions when a value is inappropriate for the aforementioned type conversion\n",
    "* add new functionality such that the code outputs the number of seasons where Jordan did not play leading up to surpassing the point limit\n",
    "\n",
    "<br>"
   ]
  },
  {
   "cell_type": "code",
   "execution_count": null,
   "metadata": {
    "solution2": "hidden",
    "solution2_first": true
   },
   "outputs": [],
   "source": [
    "## Code 10.4.4 ##\n",
    "\n",
    "# open coding block\n",
    "\n",
    "# replicated from Code 8.3.2\n",
    "jordan_stats = [[\"'84-'85\", '2313', 'Y'],\n",
    "                [\"'85-'86\", '408',  'N'],\n",
    "                [\"'86-'87\", '3041', 'Y'],\n",
    "                [\"'87-'88\", '2868', 'Y'],\n",
    "                [\"'88-'89\", '2633', 'Y'],\n",
    "                [\"'89-'90\", '2753', 'Y'],\n",
    "                [\"'90-'91\", '2580', 'Y'],\n",
    "                [\"'91-'92\", '2404', 'Y'],\n",
    "                [\"'92-'93\", '2541', 'Y'],\n",
    "                [\"'93-'94\", 'DNP', 'DNP'],\n",
    "                [\"'94-'95\", '457',  'N'],\n",
    "                [\"'95-'96\", '2491', 'Y'],\n",
    "                [\"'96-'97\", '2431', 'Y'],\n",
    "                [\"'97-'98\", '2357', 'Y'],\n",
    "                [\"'98-'99\", 'Retired', 'Retired'],\n",
    "                [\"'99-'00\", 'Retired', 'Retired'],\n",
    "                [\"'00-'01\", 'Retired', 'Retired'],\n",
    "                [\"'01-'02\", '1375', 'N'],\n",
    "                [\"'02-'03\", '1640', 'N']]\n",
    "\n",
    "\n",
    "# adapted from Code 8.4.3\n",
    "\"\"\"\n",
    "Assumptions:\n",
    "    Calculations should only include seasons where Jordan played.\n",
    "\"\"\"\n",
    "\n",
    "# declaring objects\n",
    "total_points  = 0\n",
    "total_seasons = 0\n",
    "point_limit   = 25000\n",
    "\n",
    "\n",
    "# writing the outer loop\n",
    "for season, points, lead_scorer in jordan_stats_2:\n",
    "    \n",
    "    # writing the inner loop\n",
    "    while total_points < point_limit:\n",
    "            total_points  += points\n",
    "            total_seasons += 1\n",
    "            break\n",
    "\n",
    "\n",
    "# printing the results\n",
    "print(f\"\"\"\n",
    "{'*' * 40}\n",
    "\n",
    "It took {total_seasons} seasons for Jordan to score\n",
    "more than {point_limit} points (scoring {total_points}).\n",
    "\n",
    "{'*' * 40}\n",
    "\"\"\")"
   ]
  },
  {
   "cell_type": "code",
   "execution_count": null,
   "metadata": {
    "deletable": false,
    "editable": false,
    "solution2": "hidden"
   },
   "outputs": [],
   "source": [
    "## Sample Solution 10.4.4 ##\n",
    "\n",
    "# replicated from Code 8.3.2\n",
    "jordan_stats = [[\"'84-'85\", '2313', 'Y'],\n",
    "                [\"'85-'86\", '408',  'N'],\n",
    "                [\"'86-'87\", '3041', 'Y'],\n",
    "                [\"'87-'88\", '2868', 'Y'],\n",
    "                [\"'88-'89\", '2633', 'Y'],\n",
    "                [\"'89-'90\", '2753', 'Y'],\n",
    "                [\"'90-'91\", '2580', 'Y'],\n",
    "                [\"'91-'92\", '2404', 'Y'],\n",
    "                [\"'92-'93\", '2541', 'Y'],\n",
    "                [\"'93-'94\", 'DNP', 'DNP'],\n",
    "                [\"'94-'95\", '457',  'N'],\n",
    "                [\"'95-'96\", '2491', 'Y'],\n",
    "                [\"'96-'97\", '2431', 'Y'],\n",
    "                [\"'97-'98\", '2357', 'Y'],\n",
    "                [\"'98-'99\", 'Retired', 'Retired'],\n",
    "                [\"'99-'00\", 'Retired', 'Retired'],\n",
    "                [\"'00-'01\", 'Retired', 'Retired'],\n",
    "                [\"'01-'02\", '1375', 'N'],\n",
    "                [\"'02-'03\", '1640', 'N']]\n",
    "\n",
    "\n",
    "# adapted from Code 8.4.3\n",
    "\"\"\"\n",
    "Assumptions:\n",
    "    Calculations should only include seasons where Jordan played.\n",
    "\"\"\"\n",
    "\n",
    "# declaring objects\n",
    "total_points  = 0\n",
    "total_seasons = 0\n",
    "point_limit   = 25000\n",
    "skipped_seasons = 0\n",
    "\n",
    "\n",
    "# writing loops\n",
    "for season, points, lead_scorer in jordan_stats:\n",
    "\n",
    "    while total_points < point_limit:\n",
    "        \n",
    "        try:\n",
    "            points = int(points)\n",
    "            total_points  += points\n",
    "            total_seasons += 1\n",
    "            break\n",
    "   \n",
    "        # for strings that cannot be converted to integers\n",
    "        except ValueError:\n",
    "            skipped_seasons += 1\n",
    "            break            \n",
    "\n",
    "        \n",
    "# printing the results\n",
    "print(f\"\"\"\n",
    "{'*' * 40}\n",
    "\n",
    "In seasons where he led the league in scoring,\n",
    "Jordan surpassed {point_limit} points after {total_seasons}\n",
    "seasons (scoring {total_points}).\n",
    "      \n",
    "This calculation excludes {skipped_seasons} season(s) where\n",
    "Jordan did not play.\n",
    "\n",
    "{'*' * 40}\n",
    "\"\"\")"
   ]
  },
  {
   "cell_type": "markdown",
   "metadata": {
    "deletable": false,
    "editable": false,
    "run_control": {
     "frozen": true
    }
   },
   "source": [
    "<br><hr style=\"height:.9px;border:none;color:#333;background-color:#333;\" /><br>\n",
    "\n",
    "<h2>10.5 Summary</h2>\n",
    "\n",
    "User-defined functions have a wide array of tools that allow for flexibility and stability. Understanding these tools not only helps in developing functions that achieve their intended purpose, but also in utilizing functions from packages and code snippets found online. The scope of a variable affects where it can be accessed, and syntax such as <strong>global</strong> and <strong>nonlocal</strong> can be used to adjust scope (although they can have unintended consequences). The <strong>try</strong>/<strong>except</strong> structure can be implemented to handle exceptions and is a great approach to stabilizing codes that require user input.\n",
    "<br><br>\n",
    "\n",
    "~~~\n",
    "\n",
    " ________  _ ____  _____ ____  _____  _  ____  _      ____  _    \n",
    "/  __/\\  \\///   _\\/  __//  __\\/__ __\\/ \\/  _ \\/ \\  /|/  _ \\/ \\   \n",
    "|  \\   \\  / |  /  |  \\  |  \\/|  / \\  | || / \\|| |\\ ||| / \\|| |   \n",
    "|  /_  /  \\ |  \\_ |  /_ |  __/  | |  | || \\_/|| | \\||| |-||| |_/\\\n",
    "\\____\\/__/\\\\\\____/\\____\\\\_/     \\_/  \\_/\\____/\\_/  \\|\\_/ \\|\\____/\n",
    "                                                                 \n",
    "\n",
    "~~~\n"
   ]
  },
  {
   "cell_type": "markdown",
   "metadata": {
    "deletable": false,
    "editable": false,
    "run_control": {
     "frozen": true
    }
   },
   "source": [
    "<br>"
   ]
  }
 ],
 "metadata": {
  "kernelspec": {
   "display_name": "Python 3",
   "language": "python",
   "name": "python3"
  },
  "language_info": {
   "codemirror_mode": {
    "name": "ipython",
    "version": 3
   },
   "file_extension": ".py",
   "mimetype": "text/x-python",
   "name": "python",
   "nbconvert_exporter": "python",
   "pygments_lexer": "ipython3",
   "version": "3.8.5"
  },
  "toc": {
   "base_numbering": 1,
   "nav_menu": {},
   "number_sections": false,
   "sideBar": true,
   "skip_h1_title": false,
   "title_cell": "Table of Contents",
   "title_sidebar": "Contents",
   "toc_cell": false,
   "toc_position": {},
   "toc_section_display": true,
   "toc_window_display": false
  },
  "varInspector": {
   "cols": {
    "lenName": 16,
    "lenType": 16,
    "lenVar": 40
   },
   "kernels_config": {
    "python": {
     "delete_cmd_postfix": "",
     "delete_cmd_prefix": "del ",
     "library": "var_list.py",
     "varRefreshCmd": "print(var_dic_list())"
    },
    "r": {
     "delete_cmd_postfix": ") ",
     "delete_cmd_prefix": "rm(",
     "library": "var_list.r",
     "varRefreshCmd": "cat(var_dic_list()) "
    }
   },
   "oldHeight": 122.22178,
   "position": {
    "height": "375.729px",
    "left": "1033.98px",
    "right": "20px",
    "top": "100.983px",
    "width": "541.285px"
   },
   "types_to_exclude": [
    "module",
    "function",
    "builtin_function_or_method",
    "instance",
    "_Feature"
   ],
   "varInspector_section_display": "block",
   "window_display": false
  }
 },
 "nbformat": 4,
 "nbformat_minor": 2
}
