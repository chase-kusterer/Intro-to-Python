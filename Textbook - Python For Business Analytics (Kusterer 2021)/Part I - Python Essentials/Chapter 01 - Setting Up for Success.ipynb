{
 "cells": [
  {
   "cell_type": "markdown",
   "metadata": {
    "deletable": false,
    "editable": false,
    "run_control": {
     "frozen": true
    }
   },
   "source": [
    "<hr style=\"height:1px;border:none;color:#333;background-color:#333;\" />\n",
    "<hr style=\"height:1px;border:none;color:#333;background-color:#333;\" />\n",
    "<br><br><br>\n",
    "\n",
    "<h1>Python for Business Analytics</h1>\n",
    "<em>A Nontechnical Approach for Nontechnical People</em><br><br>\n",
    "<em><strong>Custom Edition for Hult International Business School</strong></em><br>\n",
    "Written by Chase Kusterer - Faculty of Analytics <br>\n",
    "Hult International Business School <br>\n",
    "<a href=\"https://github.com/chase-kusterer\">https://github.com/chase-kusterer</a> <br><br><br><br><br>\n",
    "\n",
    "<hr style=\"height:1px;border:none;color:#333;background-color:#333;\" />\n",
    "<hr style=\"height:1px;border:none;color:#333;background-color:#333;\" />\n",
    "<br>\n",
    "\n",
    "<h1><u>Chapter 1: Before Learning Anything Else, Learn This</u></h1>"
   ]
  },
  {
   "cell_type": "markdown",
   "metadata": {
    "deletable": false,
    "editable": false,
    "run_control": {
     "frozen": true
    }
   },
   "source": [
    "<strong>If you are new to coding, do not skip this chapter.</strong><br><br>\n",
    "Python was designed to be a simple programming language. In fact, in 1999, Guido van Rossum, the founder of the Python language, sent a funding proposal to DARPA for his <em>Computer Programming for Everybody</em> initiative, where he posited the following question:<br><br>\n",
    "\n",
    "<div align=\"center\"><strong>\n",
    "    \"What would the world look like if users could program their own computer?\"\n",
    "    </strong><a class=\"tocSkip\"></a></div><br>\n",
    "The proposal went on to make the following claim:<br><br>\n",
    "<div align=\"center\"><strong>\n",
    "\"There is enough (anecdotal) evidence that Python is easy to<br>learn for people who are (nearly) computer-illiterate.\"\n",
    "    </strong><a class=\"tocSkip\"></a></div>\n",
    "\n",
    "This proposal, which was submitted by van Rossum and the <em>Python in Education Special Interest Group</em> <a href=\"https://www.python.org/doc/essays/everybody/\">can be found here</a>. It is an interesting read and makes some very good points. However, even though Python may be easy to learn, <strong>it is important to learn how to learn Python, and that is the purpose of this chapter.</strong> At times, you will get stuck, and you need to know what to do. There will also be many times when your code won't run properly, even when you've spent hours trying to debug it. This is very frustrating, and it is something all coders experience from time to time. The good news is that as long as you are not one of the world's most advanced Python coders, someone has already experienced and solved your problem. More importantly, it is very likely that a solution to your problem has been generously shared to the open source community. All you need to know is where to find it. Not knowing can be devastating to your morale. To exemplify this, the following story is from one of my former students, which took place while conducting an analysis for the course: Machine Learning.<br><br>\n",
    "\n",
    "<div align=\"left\">\n",
    "<em><strong>Lucas Barros - Masters of Business Analytics - Class of 2019</strong></em><br>\n",
    "    \n",
    "“While studying in the Masters of Business Analytics program, I was also working part time at the café on campus. It's always good to make some extra money as a graduate student. Learning analytics, especially coding, was a very interesting experience, although sometimes I would lose confidence, questioning whether this was the right field for me. A great example of this is the Game of Thrones Character Prediction analysis project.<br>\n",
    "        \n",
    "We had a dataset based on the book series, which contained around 2000 characters and several features describing each character. It was probably the most stressful project of my life. Throughout this project, sleeping 6 hours a night was a luxury. I spent countless hours working on the dataset: engineering new features, testing out different machine learning algorithms, and trying not to question my life choices too deeply. On the note of life choices, coincidentally, the campus café was looking to hire a new manager and they asked me if I would like the position. I have to be very sincere, after the lack of sleep, the stress of hours of trying to debug my code to no avail, and the process of trying to build an algorithm that predicts reasonably well, the option of giving up and living a more chill life sounded very appealing.<br>\n",
    "\n",
    "Nonetheless, after some more nights with minimal time to sleep, I found solutions to my coding issues and am proud to say I completed the project. While being one of the most difficult projects I've ever encountered, it was by far one of the most rewarding!”\n",
    "<a class=\"tocSkip\"></a></div><br>\n",
    "\n",
    "In this chapter, we will cover five critical resources in an effort to alleviate your long-term coding frustration:\n",
    "\n",
    "* finding help with the help() wrapper\n",
    "* code complete in Jupyter notebook\n",
    "* finding answers on the Internet\n",
    "* talking to humans through code comments\n",
    "\n",
    "<strong>Reminder:</strong> If you are new to coding, do not skip this chapter. Time invested here will save you several hours as you move forward."
   ]
  },
  {
   "cell_type": "markdown",
   "metadata": {
    "cell_style": "center",
    "deletable": false,
    "editable": false,
    "run_control": {
     "frozen": true
    }
   },
   "source": [
    "<h2>1.1 Finding Help with the help() wrapper</h2>\n",
    "<h3>Introduction</h3>\n",
    "One of the most critical functions for programmers at all levels is the <strong>help()</strong> function. This is one of the most amazing functions ever written, and you will be using it quite often. To learn more about what it does, search <em>help</em> in the <strong>help()</strong> function (<em>Code 1.1.1</em>)."
   ]
  },
  {
   "cell_type": "markdown",
   "metadata": {
    "deletable": false,
    "editable": false,
    "run_control": {
     "frozen": true
    }
   },
   "source": [
    " "
   ]
  },
  {
   "cell_type": "code",
   "execution_count": null,
   "metadata": {
    "cell_style": "split",
    "deletable": false,
    "editable": false
   },
   "outputs": [],
   "source": [
    "## Code 1.1.1 ##\n",
    "\n",
    "help(help)"
   ]
  },
  {
   "cell_type": "markdown",
   "metadata": {
    "deletable": false,
    "editable": false,
    "run_control": {
     "frozen": true
    }
   },
   "source": [
    " "
   ]
  },
  {
   "cell_type": "markdown",
   "metadata": {
    "deletable": false,
    "editable": false,
    "run_control": {
     "frozen": true
    }
   },
   "source": [
    "<hr style=\"height:.9px;border:none;color:#333;background-color:#333;\" /><br>\n",
    "\n",
    "We call the output of *Code 1.1.1* the help function's <strong>documentation</strong>. According to the documentation for <strong>help()</strong>, there are two ways to use this function:\n",
    "* <strike>Calling help() at the Python prompt starts an interactive help session.</strike>\n",
    "* Calling help(thing) prints help for the Python object 'thing'.\n",
    "\n",
    "Notice how the first bullet point above has been stricken out. That is because we are going to <strong>avoid using interactive help for the time being</strong>. Believe it or not, interactive help sessions can (ironically) cause problems that most beginners are not ready to solve. If you are not comfortable using a command-line interface (i.e. terminal or PowerShell), avoid using interactive help. If you don't know what a command-line interface is, don't worry. For now, we are going to focus on mastering the <em>help(thing)</em> option. In <em>Code 1.1.2</em>, we are using this to check the documentation for the <em>print()</em> function.\n",
    "\n",
    "<h4>Side Note: The Challenge with Interactive Help</h4>\n",
    "After starting an interactive help session, you may run into a situation where you are unable to run any code. This is because your Python kernel is still running interactive help, and it cannot move on until you give it a command to do so. This can be done by typing <strong>quit</strong> into the help search box, but if we accidentally tried to run some code without closing interactive help, our Python kernel might get confused and need to be restarted.<br><br>\n"
   ]
  },
  {
   "cell_type": "markdown",
   "metadata": {
    "deletable": false,
    "editable": false,
    "run_control": {
     "frozen": true
    }
   },
   "source": [
    "<h3>Using help()</h3>"
   ]
  },
  {
   "cell_type": "code",
   "execution_count": null,
   "metadata": {
    "cell_style": "split",
    "deletable": false,
    "editable": false
   },
   "outputs": [],
   "source": [
    "## Code 1.1.2 ##\n",
    "\n",
    "# Starting an interactive help session\n",
    "help(print)"
   ]
  },
  {
   "cell_type": "markdown",
   "metadata": {
    "deletable": false,
    "editable": false,
    "run_control": {
     "frozen": true
    }
   },
   "source": [
    " "
   ]
  },
  {
   "cell_type": "markdown",
   "metadata": {
    "deletable": false,
    "editable": false,
    "run_control": {
     "frozen": true
    }
   },
   "source": [
    "*Code 1.1.2* generates a very manageable amount of output. Let's dissect each component piece by piece. First, let's add line numbers for easier interpretation."
   ]
  },
  {
   "cell_type": "markdown",
   "metadata": {
    "cell_style": "center",
    "deletable": false,
    "editable": false,
    "run_control": {
     "frozen": true
    }
   },
   "source": [
    "1&nbsp;&nbsp;&nbsp;|&nbsp;&nbsp;&nbsp; Help on built-in function print in module builtins:\n",
    "<br>2&nbsp;&nbsp;&nbsp;|\n",
    "<br>3&nbsp;&nbsp;&nbsp;|&nbsp;&nbsp;&nbsp; print(...)\n",
    "<br>4&nbsp;&nbsp;&nbsp;|&nbsp;&nbsp;&nbsp;\n",
    "<br>5&nbsp;&nbsp;&nbsp;|&nbsp;&nbsp;&nbsp;&nbsp;&nbsp;&nbsp; print(value, ..., sep=' ', end='\\n', file=sys.stdout, flush=False)\n",
    "<br>6&nbsp;&nbsp;&nbsp;|&nbsp;&nbsp;&nbsp;\n",
    "<br>7&nbsp;&nbsp;&nbsp;|&nbsp;&nbsp;&nbsp;&nbsp;&nbsp;&nbsp; Prints the values to a stream, or to sys.stdout by default.\n",
    "<br>8&nbsp;&nbsp;&nbsp;|&nbsp;&nbsp;&nbsp;&nbsp;&nbsp;&nbsp; Optional keyword arguments:\n",
    "<br>9&nbsp;&nbsp;&nbsp;|&nbsp;&nbsp;&nbsp;&nbsp;&nbsp;&nbsp; file:  a file-like object (stream); defaults to the current sys.stdout.\n",
    "<br>10&nbsp;|&nbsp;&nbsp;&nbsp;&nbsp;&nbsp;&nbsp; sep:   string inserted between values, default a space.\n",
    "<br>11&nbsp;|&nbsp;&nbsp;&nbsp;&nbsp;&nbsp;&nbsp; end:   string appended after the last value, default a newline.\n",
    "<br>12&nbsp;|&nbsp;&nbsp;&nbsp;&nbsp;&nbsp;&nbsp; flush: whether to forcibly flush the stream.<br>"
   ]
  },
  {
   "cell_type": "markdown",
   "metadata": {
    "deletable": false,
    "editable": false,
    "run_control": {
     "frozen": true
    }
   },
   "source": [
    "<table width=\"400\" align=\"left\">\n",
    "<col width=\"50\">\n",
    "<col width=\"350\">\n",
    "    <tr>\n",
    "        <th>Line</th>\n",
    "        <th>Interpretation</th>\n",
    "    </tr>\n",
    "    <tr>\n",
    "        <td>1</td>\n",
    "        <td>States that this is a <strong>built-in function</strong>.</td>\n",
    "    </tr>\n",
    "    <tr>\n",
    "    <tr>\n",
    "        <td>3</td>\n",
    "        <td>The function being looked up.</td>\n",
    "    </tr>\n",
    "    <tr>\n",
    "        <td>5</td>\n",
    "        <td> The arguments for the function.</td>\n",
    "    </tr>   \n",
    "    <tr>\n",
    "        <td>7</td>\n",
    "        <td> Explains what the function does.</td>\n",
    "    </tr>\n",
    "    <tr>\n",
    "        <td>9-12</td>\n",
    "        <td> Explains what each argument does.</td>\n",
    "    </tr>\n",
    "</table>"
   ]
  },
  {
   "cell_type": "markdown",
   "metadata": {
    "deletable": false,
    "editable": false,
    "run_control": {
     "frozen": true
    }
   },
   "source": [
    "<h4>Line 1 - Built-in functions</h4>\n",
    "Python comes with a set of default, or <strong>built-in functions</strong>. These are also referred to as <strong>primitives</strong>, and are functions that are so important, they are available without the need to import additional packages (for an example of a package import, see <em>Code 1.1.3</em> where we import the package <em>pandas</em>). At the time of this writing, the most recent version of Python (<em>version 3.7.3</em>) has 69 built-in functions, which can be found in <a href=\"https://docs.python.org/3/library/functions.html\">the Python documentation on Built-In Functions</a>. Python also comes with a series of other built-ins. For example, <em>built-in types</em>. According <a href=\"https://docs.python.org/3/library/stdtypes.html\">to the Python documentation on Built-In Types</a>, principal built-in types include numerics, sequences, mappings, classes, instances and exceptions. Think of built-ins as the primary numbers of Python: every function can be broken down into these built-ins. Also, keep in mind that Python was designed to be used for a wide variety of programming tasks, and what is commonly used for business analytics is just one small subset. To avoid information overload, this book will primarily focus on the built-ins, functions, methods, and packages that are most relevant to our purposes. If you're not sure what a function, method, or package is, don't worry. We will go into these details in later chapters.\n",
    "\n",
    "<h4>Line 3 - The function being looked up</h4>\n",
    "As the heading implies, this line specifies what you have looked up. When we called help on the <em>print()</em> function in <em>Code 1.1.2</em>, this didn't seem to add a lot of value. However, this information becomes extremely useful in other situations, such as in <em>Code 1.1.3</em> where <em>help()</em> is being called on a user-created object. For now, don't focus on what <em>Code 1.1.2</em> is trying to do. Instead, focus on the <em>help()</em> function in the last line.\n",
    "<br><br>\n",
    "<hr style=\"height:1px;border:none;color:#333;background-color:#333;\" />"
   ]
  },
  {
   "cell_type": "markdown",
   "metadata": {
    "cell_style": "split",
    "deletable": false,
    "editable": false,
    "run_control": {
     "frozen": true
    }
   },
   "source": [
    "In <em>Code 1.1.3</em>, we created an object and called <strong>help()</strong> on it (creating objects will be covered in more detail in <strong>Chapter 2 - Printing, Dynamic Strings, and Escape Sequences</strong>. From the object's name (<em>my_list_converted</em>), it is unclear as to what this object actually is. Notice that the help function recognized that this object is a DataFrame and returned its respective documentation. This is the result when we call help on any named object. Below is a snippet of Line 3 for <em>Code 1.1.3</em><br><br>\n",
    "~~~\n",
    "class DataFrame(pandas.core.generic.NDFrame)\n",
    "~~~"
   ]
  },
  {
   "cell_type": "markdown",
   "metadata": {
    "cell_style": "split",
    "deletable": false,
    "editable": false,
    "run_control": {
     "frozen": true
    }
   },
   "source": [
    " "
   ]
  },
  {
   "cell_type": "code",
   "execution_count": null,
   "metadata": {
    "cell_style": "split",
    "deletable": false,
    "editable": false
   },
   "outputs": [],
   "source": [
    "## Code 1.1.3 ##\n",
    "\n",
    "import pandas as pd\n",
    "\n",
    "my_list = [[1, 2, 3] , [4, 5, 6]]\n",
    "\n",
    "my_list_converted = pd.DataFrame(my_list)\n",
    "\n",
    "help(my_list_converted)"
   ]
  },
  {
   "cell_type": "markdown",
   "metadata": {
    "deletable": false,
    "editable": false,
    "run_control": {
     "frozen": true
    }
   },
   "source": [
    "<hr style=\"height:.9px;border:none;color:#333;background-color:#333;\" /><br>\n",
    "<h4>Line 5 - Function Arguments</h4>\n",
    "For most functions you will encounter, arguments will come in three forms: <em>mandatory</em>, <em>optional</em>, and <em>variable</em> (<em>*args</em>  and <em>**kwargs</em>). Line 5 of <em>Code 1.1.2</em> contains mandatory and optional arguments.<br><br>\n",
    "\n",
    "<div style=\"margin-left: 1em;\">\n",
    "<h4>Mandatory Arguments</h4>\n",
    "Mandatory arguments are those that do not have a default value. All mandatory arguments must be specified for a function to run. If at least one is missing, the function will throw an error. The easiest way to tell if an argument is mandatory is by checking whether or not it already has a value assigned to it, which is indicated by an equals sign. <strong>If no equals sign, then the argument is mandatory.</strong> In <em>Code 1.1.2</em>, the argument <em>value</em> is mandatory.<br>\n",
    "\n",
    "<h4>Optional Arguments</h4>\n",
    "Optional arguments have a default value, which is indicated after an equals sign. If you do not specify anything for these arguments, the default value will be used and the function will run properly. In <em>Code 1.1.2</em>, the arguments <em>sep</em>, <em>end</em>, <em>file</em>, <em>flush</em> are optional arguments.\n",
    "    \n",
    "<h4>Variable Arguments</h4>\n",
    "Variable arguments are slightly more advanced. As their name implies, they allow a function to accept a <em>variable</em> number of arguments from a user. For example, if a programmer wanted to create a function to generate a grocery list, utilizing a variable argument would allow users to create grocery lists of any length. If mandatory arguments were used, such as in <em>Code 1.1.4</em>, the grocery list would be restricted to an exact number of items.\n",
    "    </div>\n",
    "<br><br>\n",
    "\n",
    "<hr style=\"height:1px;border:none;color:#333;background-color:#333;\" />"
   ]
  },
  {
   "cell_type": "code",
   "execution_count": null,
   "metadata": {
    "cell_style": "center",
    "deletable": false,
    "editable": false
   },
   "outputs": [],
   "source": [
    "## Code 1.1.4 ##\n",
    "\n",
    "def shopping_list(item_1, item_2, item_3):\n",
    "    print(\"Shopping List:\")\n",
    "    print(item_1)\n",
    "    print(item_2)\n",
    "    print(item_3)\n",
    "\n",
    "shopping_list('bananas', 'oranges', 'grapes')"
   ]
  },
  {
   "cell_type": "markdown",
   "metadata": {
    "cell_style": "center",
    "deletable": false,
    "editable": false,
    "run_control": {
     "frozen": true
    }
   },
   "source": [
    "A challenge arises in that the function in <em>Code 1.1.4</em> requires exactly three items to work properly as all arguments are mandatory. In other words, each shopping list needs to be exactly three items long. Intuitively, we know that the number of items on a shopping list will vary, and programmers can accomplish this functionality with variable arguments.<br><br>\n",
    "By changing the arguments to <em>*args</em> as in <em>Code 1.1.5</em>, our shopping list can be of any length. Additionally, <em>**kwargs</em> is similar to <em>*args</em> in that it allows for arguments of varying length. However, it operates using keywords, which is a concept for a later chapter.\n",
    "<br>\n",
    "\n",
    "<strong>Note:</strong> Try not to get caught up in the syntax of Code 1.1.5. It will be explained in later chapters."
   ]
  },
  {
   "cell_type": "markdown",
   "metadata": {
    "deletable": false,
    "editable": false,
    "run_control": {
     "frozen": true
    }
   },
   "source": [
    "<hr style=\"height:1px;border:none;color:#333;background-color:#333;\"/>"
   ]
  },
  {
   "cell_type": "code",
   "execution_count": null,
   "metadata": {
    "cell_style": "center",
    "deletable": false,
    "editable": false
   },
   "outputs": [],
   "source": [
    "## Code 1.1.5 ##\n",
    "\n",
    "def shopping_list(*args):\n",
    "    print(\"Shopping List:\")\n",
    "    \n",
    "    for item in args:\n",
    "        print(item)\n",
    "\n",
    "shopping_list('bananas', 'oranges',\n",
    "              'grapes', 'pears', 'apples')"
   ]
  },
  {
   "cell_type": "markdown",
   "metadata": {
    "deletable": false,
    "editable": false,
    "run_control": {
     "frozen": true
    }
   },
   "source": [
    "<hr style=\"height:1px;border:none;color:#333;background-color:#333;\" /><br>\n",
    "<h4>Line 7 - What the Function Does</h4>\n",
    "Line 7 of <em>Code 1.1.2</em> states that the print function:\n",
    "<br><br><div align=\"center\"><em>\n",
    "    Prints the values to a stream, or to sys.stdout by default.\n",
    "</em><a class=\"tocSkip\"></div><br>\n",
    "The programmers designing this function decided that this was the best way to explain what the <em>print()</em> function does. To someone less technical, this explanation may do more harm than good. An important concept to keep in mind is that:\n",
    "<br><br><div align=\"center\"><strong>\n",
    "    Programmers like to write in ways that other programmers can understand.<br>If you are not a programmer, you are not their target audience.\n",
    "</strong><a class=\"tocSkip\"></div><br>\n",
    "\n",
    "This is a disadvantage for those of us that did not study software engineering or a similar subject. Luckily, there are ways to mitigate this disadvantage, which are discussed in Section 1.2. If you consider yourself to be less technical than a software engineer, please remember that as you advance in Python, your understanding of technical concepts will grow.\n",
    "#### Lines 9-12 - What each argument does.\n",
    "This section is very important as it will save you several hours of time when learning how to code. By reading and understanding the arguments, you will be able to do many things with only a handful of functions. Understanding a few functions at a detailed level is far more efficient than trying to memorize the basics of several functions. You will find that you can do more with less, and will have built a strong foundation and set good coding habits.\n",
    "\n",
    "<br><hr style=\"height:1px;border:none;color:#333;background-color:#333;\" />"
   ]
  },
  {
   "cell_type": "markdown",
   "metadata": {
    "deletable": false,
    "editable": false,
    "run_control": {
     "frozen": true
    }
   },
   "source": [
    "<h2>1.2 Code Complete in Jupyter Notebook</h2>"
   ]
  },
  {
   "cell_type": "markdown",
   "metadata": {
    "cell_style": "split",
    "deletable": false,
    "editable": false,
    "run_control": {
     "frozen": true
    }
   },
   "source": [
    "Jupyter Notebook, like many other interfaces, offers a code complete feature. This can come in very handy, and in this section we will discuss using code complete to enhance our abilities to use <em>help()</em>. This is a great way to explore a new package and develop an understanding as to its methods.<br><br>\n",
    "To activate code complete, simply start typing in a coding block and press <em><tab\\></em> on the keyboard. If this doesn't work, check your keyboard shortcuts in Jupyter's menu under <em>Help > Keyboard Shortcuts</em>. For example, if we open up a coding cell and type the letter <em>p</em>, followed by pressing <em><tab\\></em>, we get the result in <em>Figure 1.1</em>. In this case, Jupyter's code complete tool recognized the letter <em>p</em> and returned every currently-available syntax that starts with this letter."
   ]
  },
  {
   "cell_type": "markdown",
   "metadata": {
    "cell_style": "split",
    "deletable": false,
    "editable": false,
    "run_control": {
     "frozen": true
    }
   },
   "source": [
    "Much of the syntax displayed in <em>Figure 1.1</em> are beyond our current scope, but with this feature, we can dive into new packages and syntax with ease, as exemplified in <em>Figures 1.2a through 1.2d</em>.<br><br>\n",
    "<div style = \"width:image width px; font-size:80%; text-align:center;\"><img src=\"./__images/chapter-1-code-complete-1.png\" width=\"100\" height=\"300\" style=\"padding-bottom:0.5em;\"> <em>Figure 1.1: Code complete results.</em></div>"
   ]
  },
  {
   "cell_type": "markdown",
   "metadata": {},
   "source": [
    " "
   ]
  },
  {
   "cell_type": "markdown",
   "metadata": {
    "cell_style": "center",
    "deletable": false,
    "editable": false,
    "run_control": {
     "frozen": true
    }
   },
   "source": [
    "<br><hr style=\"height:0.9px;border:none;color:#333;\" /><br>\n",
    "\n",
    "The steps throughout <em>Figures 1.2a through 1.2d</em> are using a technique called <strong>chaining</strong>, or linking multiple Python syntax together using a dot (i.e. a \".\"), to explore part of the <em>pandas</em> package. According to its <a href=\"https://pandas.pydata.org/\">documentation from  pydata.org</a> <em>pandas</em> is an open source, BSD-licensed library providing high-performance, easy-to-use data structures and data analysis tools for the Python programming language. It is a very powerful package for business analytics, and it is a very large. Anaconda has kindly included it in their Python 3 installation, and all we need to do is <strong>import</strong> it.\n",
    "\n",
    "<h4>Importing Packages in Python 3</h4>\n",
    "Importing packages is easy. To import pandas, we simply write: <br><br>\n",
    "\n",
    "~~~\n",
    "import pandas\n",
    "~~~\n",
    "\n",
    "<br>Conventionally, <em>pandas</em> should be imported as <em>pd</em>, so we modify the above code as follows:<br><br>\n",
    "\n",
    "~~~\n",
    "import pandas as pd\n",
    "~~~\n",
    "\n",
    "<br>We can also import specific modules and functions from a package with a minor adjustment to our syntax. For example, if we just wanted to import <strong>DataFrame</strong> (i.e. Python's version of a spreadsheet) instead of the entire <em>pandas</em> package, we could do so as follows:<br><br>\n",
    "\n",
    "~~~\n",
    "from pandas import DataFrame\n",
    "~~~\n",
    "\n",
    "<br>To illustrate the value of the line of code above: Have you ever noticed that when you get close to filling up your computer's hard drive it becomes very slow? The same concept applies to our Python environment. Every time something is imported, our Python environment slows down. This is why taking a minimalist approach by only importing what we need is a good practice. Since our current task involves exploring the <em>pandas</em> package, we will import the entire thing.\n",
    "<br><br>"
   ]
  },
  {
   "cell_type": "markdown",
   "metadata": {
    "cell_style": "split",
    "deletable": false,
    "editable": false,
    "run_control": {
     "frozen": true
    }
   },
   "source": [
    "After <em>pandas</em> has been imported (as <em>pd</em>), it becomes available in our Python environment. If we run <em>help(pd)</em>, Python will return some documentation on <em>pandas</em>. If we add a dot to our syntax and press <em>tab</em> on the keyboard as in <em>Figure 1.2(a)</em>, code complete displays all of the wonderful tools <em>pandas</em> has to offer. Some of these tools have deeper levels, including <em>np</em>, which stands for <em>numpy</em>. This is another key package for business analytics, and it is included in <em>pandas</em> (<em>pandas</em> is built on top of <em>numpy</em>).<br><br>\n",
    "    If we chain <em>np.</em> onto our code and press <em>tab</em>, code complete will display all of the wonderful tools available in this package, as in <em>Figure 1.2(b)</em>.<br><br>\n",
    "This drill-down process can continue until we are at the deepest level of a package. <em>Figure 1.2(c)</em> drills down one level deeper by chaining <em>absolute.</em> onto our code, and <em>Figure 1.2(d)</em> drills down one level deeper by chaining <em>accumulate</em>. Since there are no further levels to drill down into, code complete does not display a popup window when trying to extend the chain beyond <em>pd.np.absolute.accumulate</em>.\n",
    "\n",
    "Much of the syntax discovered in each step of this chaining example is beyond our current scope, and seeing it for the first time can be overwhelming. Keep in mind: Python was designed for a wide array of programming tasks. Having so many things pre-built and maintained is going to save you an immense amount of time without costing you a penny. This is one of the key benefits of Python as well as other open source programming languages.\n",
    "\n",
    "Below is a summary of the chaining steps:\n",
    "\n",
    "1. <em>pandas</em> was imported as <em>pd</em><div style=\"margin-bottom:0.5em;\"></div>\n",
    "2. a <em>help()</em> wrapper was created<div style=\"margin-bottom:0.5em;\"></div>\n",
    "3. Code complete was called on <em>pd.</em> to access its available syntax<div style=\"margin-bottom:0.5em;\"></div>\n",
    "4. <em>np</em> was selected, chaining together <em>pd.np</em><div style=\"margin-bottom:0.5em;\"></div>\n",
    "5. Code complete was called on <em>pd.np.</em> to access its available syntax<div style=\"margin-bottom:0.5em;\"></div>\n",
    "6. <em>absolute</em> was selected, chaining together <em>pd.np.absolute</em>.<div style=\"margin-bottom:0.5em;\"></div>\n",
    "7. Code complete was called on <em>pd.np.absolute.</em> to access its available syntax<div style=\"margin-bottom:0.5em;\"></div>\n",
    "8. <em>absolute</em> was selected, chaining together <em>pd.np.absolute.accumulate</em><div style=\"margin-bottom:0.5em;\"></div>\n",
    "<br><br>\n"
   ]
  },
  {
   "cell_type": "markdown",
   "metadata": {
    "cell_style": "split",
    "deletable": false,
    "editable": false,
    "run_control": {
     "frozen": true
    }
   },
   "source": [
    "<br><br>\n",
    "<div style = \"width:image width px; font-size:80%; text-align:center;\"><img src=./__images/chapter-1-code-complete-2a.png width=\"200\" height=\"300\" style=\"padding-bottom:0.5em;\"> <em>Figure 1.2(a): Exploring the pandas package (1 of 4).</em></div>\n",
    "<br><br>\n",
    "\n",
    "<hr style=\"height:.9px;border:none;color:#333;background-color:#333;\" />\n",
    "<br><br>\n",
    "\n",
    "<div style = \"width:image width px; font-size:80%; text-align:center;\"><img src=./__images/chapter-1-code-complete-2b.png width=\"200\" height=\"300\" style=\"padding-bottom:0.5em;\"> <em>Figure 1.2(b): Exploring the pandas package (2 of 4).</em></div>\n",
    "<br><br>\n",
    "\n",
    "<hr style=\"height:.9px;border:none;color:#333;background-color:#333;\" />\n",
    "\n",
    "<br><br>\n",
    "<div style = \"width:image width px; font-size:80%; text-align:center;\"><img src=./__images/chapter-1-code-complete-2c.png width=\"200\" height=\"300\" style=\"padding-bottom:0.5em;\"> <em>Figure 1.2(c): Exploring the pandas package (3 of 4).</em></div>\n",
    "<br><br>\n",
    "\n",
    "<hr style=\"height:.9px;border:none;color:#333;background-color:#333;\" /><br>\n",
    "\n",
    "<br><br>\n",
    "<div style = \"width:image width px; font-size:80%; text-align:center;\"><img src=./__images/chapter-1-code-complete-2d.png width=\"200\" height=\"300\" style=\"padding-bottom:0.5em;\"> <em>Figure 1.2(d): Exploring the pandas package (4 of 4).</em></div>\n",
    "<br><br>\n",
    "\n",
    "<hr style=\"height:.9px;border:none;color:#333;background-color:#333;\" /><br>\n",
    "\n",
    "<br>"
   ]
  },
  {
   "cell_type": "markdown",
   "metadata": {
    "deletable": false,
    "editable": false,
    "run_control": {
     "frozen": true
    }
   },
   "source": [
    "<em>Figure 1.3</em> displays each of these steps side-by-side. Its final code can be run in <em>Code 1.2.1</em>.\n",
    "<br><br>\n",
    "<div style = \"width:image width px; font-size:80%; text-align:center;\">\n",
    "    </div>\n",
    "\n",
    "<div style = \"width:image width px; font-size:80%; text-align:center;\">\n",
    "<img src=./__images/chapter-1-code-complete-2a.png style=\"float: left; width: 20%; margin-right: 1%; margin-bottom: 0.5em; padding-left:0.5em;\">\n",
    "<img src=./__images/chapter-1-code-complete-2b.png style=\"float: left; width: 20%; margin-right: 1%; margin-bottom: 0.5em; padding-left:0.5em;\">\n",
    "<img src=./__images/chapter-1-code-complete-2c.png style=\"float: left; width: 20%; margin-right: 1%; margin-bottom: 0.5em; padding-left:0.5em;\">\n",
    "<img src=./__images/chapter-1-code-complete-2d.png style=\"float: left; width: 20%; margin-right: 1%; margin-bottom: 0.5em; padding-left:0.5em;\">\n",
    "<p style=\"clear: both;\">\n",
    "<em>Figure 1.3: Code complete results after method chaining.</em>\n",
    "</div>\n",
    "\n",
    "<br><br><hr style=\"height:.9px;border:none;color:#333;background-color:#333;\" />"
   ]
  },
  {
   "cell_type": "code",
   "execution_count": null,
   "metadata": {
    "cell_style": "center",
    "deletable": false,
    "editable": false
   },
   "outputs": [],
   "source": [
    "## Code 1.2.1 ##\n",
    "\n",
    "import pandas as pd\n",
    "\n",
    "help(pd.np.absolute.accumulate)"
   ]
  },
  {
   "cell_type": "markdown",
   "metadata": {
    "deletable": false,
    "editable": false,
    "run_control": {
     "frozen": true
    }
   },
   "source": [
    "<br>"
   ]
  },
  {
   "cell_type": "code",
   "execution_count": null,
   "metadata": {
    "cell_style": "center"
   },
   "outputs": [],
   "source": [
    "## Space to practice using help() ##\n",
    "\n",
    "\n",
    "\n"
   ]
  },
  {
   "cell_type": "markdown",
   "metadata": {
    "deletable": false,
    "editable": false,
    "run_control": {
     "frozen": true
    }
   },
   "source": [
    "<hr style=\"height:.9px;border:none;color:#333;background-color:#333;\" />"
   ]
  },
  {
   "cell_type": "markdown",
   "metadata": {
    "deletable": false,
    "editable": false,
    "run_control": {
     "frozen": true
    }
   },
   "source": [
    "<h2>1.3 Finding Answers on the Internet</h2>"
   ]
  },
  {
   "cell_type": "markdown",
   "metadata": {
    "deletable": false,
    "editable": false,
    "run_control": {
     "frozen": true
    }
   },
   "source": [
    "<em>Note:</em> This is by no means an exhaustive list, and there are many great resources that are not mentioned here. If you find a different resource that explains code in a way that fits well with your learning style, use it. These two resources are mentioned as I have found them incredibly helpful in my coding journey.<br>\n",
    "\n",
    "<h3>Stack Overflow</h3>\n",
    "There are many great coding resources available on the Internet. At the time of this writing, <a href=\"www.stackoverflow.com\">Stack Overflow</a> is one of the most popular. According to its website:\n",
    "<br><br><div align=\"center\"><em>\n",
    "    Stack Overflow is a question and answer site for professional and enthusiast programmers.\n",
    "</em><a class=\"tocSkip\"></a></div><br>\n",
    "In other words, Stack Overflow is a place where coders ask questions to coders. It is a wonderful place to find information to help get you through your coding challenges, and is also a place where you can post your own questions so that the coding community can help you out. This is one of the key benefits of the platform, and it is free of charge.<br>\n",
    "    \n",
    "<strong>Caution:</strong> The relevance of your search results can be hit or miss. Sometimes you will have trouble articulating your question in a way that gets good results. Other times you may find solutions to your question, but they are too complicated for your current coding ability. Every now and then, you will be more confused than when you started your search. This is normal. Keep in mind that Stack Overflow was designed so that coders could ask questions to coders, regardless of their programming level. You will find some very advanced solutions to problems that you never even knew existed. This leads us to search engines.\n",
    "\n",
    "\n",
    "<h3>Working with a Search Engine</h3>\n",
    "It goes without saying that many of your coding questions can be resolved via a search engine. However, it is a good idea to reflect on why search engines are a good resource. Most notably, they allow us to ask questions the way that a human would ask them. We can use this to our advantage, thus alleviating any disadvantages we may have from not being the target audience of a programmer.\n",
    "<br><br><div align=\"center\"><strong>\n",
    "    Ask questions with a search engine the way that you would ask someone at your programming level.\n",
    "</strong><a class=\"tocSkip\"></a></div><br>\n",
    "Interestingly enough, in many cases after experiencing poor results when searching on Stack Overflow, you will find that the top search result in a search engine is a page on Stack Overflow. Think about this. Search engines were designed in a way that is friendly to humans. The search in Stack Overflow was designed in a way that it is friendly to programmers, which is a subset of humans with a sophisticated understanding of programming jargon. When this happens, click on the Stack Overflow page and take note of how the question was phrased. This is a good way to improve your ability to find the information you need.\n",
    "\n",
    "\n",
    "<strong>Challenge for the Reader:</strong> If you are serious about learning Python, register with Stack Overflow and start writing answers to other people's questions. This will intensify your learning speed. Stack Overflow also assists new contributors in that they let other coders know that they are new to the platform. This means that other coders will realize you are trying your best, and in many cases they will be more than willing to give you feedback.\n",
    "    \n",
    "<br><hr style=\"height:.9px;border:none;color:#333;background-color:#333;\" /><br>\n",
    "\n",
    "<h2 align=left>1.4 Talking to Humans through Comments</h2>\n",
    "    \n",
    "Even though you may have very little coding experience, try reading the following code and understanding what the programmer was trying to accomplish:\n",
    "\n",
    "<br>"
   ]
  },
  {
   "cell_type": "code",
   "execution_count": null,
   "metadata": {
    "cell_style": "center",
    "deletable": false,
    "editable": false
   },
   "outputs": [],
   "source": [
    "## Code 1.3.1 ##\n",
    "\n",
    "import pandas as pd\n",
    "\n",
    "original_df = pd.DataFrame([[None, 2, 3],\n",
    "                            [4, None, 6],\n",
    "                            [7, 8, None]])\n",
    "\n",
    "df_mean = pd.DataFrame.copy(original_df)\n",
    "\n",
    "for col in df_mean:\n",
    "    if df_mean[col].isnull().any():\n",
    "        col_mean = df_mean[col].mean()\n",
    "        df_mean[col] = df_mean[col].fillna(col_mean).round(2)\n",
    "        \n",
    "print(df_mean)"
   ]
  },
  {
   "cell_type": "markdown",
   "metadata": {
    "deletable": false,
    "editable": false,
    "run_control": {
     "frozen": true
    }
   },
   "source": [
    "<hr style=\"height:.9px;border:none;color:#333;background-color:#333;\" /><br>\n",
    "We will be using a slightly modified version of this code later in this book. However, the code above can seem intimidating. However, as learned in <em>Section 1.1</em>, we can use the <em>help()</em> function to understand what each line of code means. From reading the code, however, it is difficult to intuitively understand what this code is trying to do. Wouldn't it be great if the person who wrote this code gave us some additional documentation, in human language, that outlined what was happening step-by-step?<br><br>\n",
    "\n",
    "In the coding world, we provide this additional documentation via <strong>comments</strong>. Comments allow humans to talk to other humans within their code. They are very special in that when we write them, the computer knows we are talking to other humans and ignores our writing. This gives us the freedom to write anything we need to in order to clearly explain our code to others. In this section, we will cover two of the most widely-used forms of comments:\n",
    "* hashtag comments (#)\n",
    "* triple-quote comments (\"\"\" \"\"\")\n",
    "\n",
    "<br><hr style=\"height:.9px;border:none;color:#333;background-color:#333;\" /><br>"
   ]
  },
  {
   "cell_type": "markdown",
   "metadata": {
    "cell_style": "split",
    "deletable": false,
    "editable": false,
    "run_control": {
     "frozen": true
    }
   },
   "source": [
    "<h4>Hashtag Comments (#)</h4>\n",
    "As the name implies, hashtag comments are denoted by, well, a hashtag (#). The essential purpose of hashtag comments is that they help others understand what you are doing, even if you are doing it wrong. If there is a discrepancy between your hashtag comments and your code, more experienced coders are likely to pick up on this and give you feedback. Clear communication through comments will not only help you develop your skills, but will also help you understand previous codes you have written (trust me, you will forget).\n",
    "\n",
    "Comments have been added to the previous code in <em>Code 1.3.2</em>."
   ]
  },
  {
   "cell_type": "markdown",
   "metadata": {
    "cell_style": "split",
    "deletable": false,
    "editable": false,
    "run_control": {
     "frozen": true
    }
   },
   "source": [
    "<br><br><div align=\"center\"><em>\n",
    "<a href=\"https://imgflip.com/i/32441k\"><img src=\"https://i.imgflip.com/32441k.jpg\" title=\"made at imgflip.com\" width=\"250\" height=\"250\" alt=\"Game of Thrones Meme\">Created with imgflip Meme Generator.</a>\n",
    "</em><a class=\"tocSkip\"></div>"
   ]
  },
  {
   "cell_type": "markdown",
   "metadata": {
    "deletable": false,
    "editable": false,
    "run_control": {
     "frozen": true
    }
   },
   "source": [
    "<hr style=\"height:.9px;border:none;color:#333;background-color:#333;\" />"
   ]
  },
  {
   "cell_type": "code",
   "execution_count": null,
   "metadata": {
    "code_folding": [],
    "deletable": false,
    "editable": false
   },
   "outputs": [],
   "source": [
    "## Code 1.4.2 ##\n",
    "\n",
    "# Importing packages\n",
    "import pandas as pd  # data science essentials\n",
    "\n",
    "# Creating a DataFrame that has missing values\n",
    "original_df = pd.DataFrame([[None, 2, 3],\n",
    "                            [4, None, 6],\n",
    "                            [7, 8, None]])\n",
    "\n",
    "# Creating a copy of the original dataset so that I don't destroy the\n",
    "# original.\n",
    "# I'm planning to impute missing values on this dataset using the mean.\n",
    "# This is why I called this df_mean instead of something else.\n",
    "df_mean = pd.DataFrame.copy(original_df)\n",
    "\n",
    "# This is a loop that looks for missing values in a column.\n",
    "# For each column with missing values, use the mean to fill in the missing\n",
    "# values.\n",
    "for col in df_mean:\n",
    "    if df_mean[col].isnull().any():\n",
    "        col_mean = df_mean[col].mean()\n",
    "        df_mean[col] = df_mean[col].fillna(col_mean).round(2)\n",
    "        \n",
    "# printing the results\n",
    "print(df_mean)"
   ]
  },
  {
   "cell_type": "markdown",
   "metadata": {
    "deletable": false,
    "editable": false,
    "run_control": {
     "frozen": true
    }
   },
   "source": [
    "<hr style=\"height:.9px;border:none;color:#333;background-color:#333;\" /><br><br>\n",
    "Although the functionality of <em>Code 1.4.2</em> is identical to <em>Code 1.4.1</em>, it is much easier to understand what each line is doing and the rationale behind why it was coded. Again, the computer does not care that these lines are here. It will see each '#' and know to skip anything on that line written after it.\n",
    "\n",
    "<h4>Stand-Alone Strings</h4>\n",
    "Now that we know Python ignores hashtags, it is not surprising that Python ignores other things as well. More accurately, there are some things that Python reads but does not know what to do with, and thus it does not affect our code. One such example is a <strong>stand-alone string</strong>. Take for example <em>Code 1.4.3</em>, which is a modified version of <em>Code 1.4.2</em>:\n",
    "\n",
    "<br><hr style=\"height:.9px;border:none;color:#333;background-color:#333;\" />"
   ]
  },
  {
   "cell_type": "code",
   "execution_count": null,
   "metadata": {
    "cell_style": "center",
    "deletable": false,
    "editable": false
   },
   "outputs": [],
   "source": [
    "# Code 1.4.3 ##\n",
    "\n",
    "# Importing packages\n",
    "import pandas as pd  # data science essentials\n",
    "\n",
    "# Creating a DataFrame that has missing values\n",
    "original_df = pd.DataFrame([[None, 2, 3],\n",
    "                            [4, None, 6],\n",
    "                            [7, 8, None]])\n",
    "\n",
    "(\"\"\"Creating a copy of the original dataset so that I don't destroy the\n",
    "   original. I'm planning to impute missing values on this dataset using the\n",
    "   mean. This is why I called this df_mean instead of something else.\"\"\")\n",
    "df_mean = pd.DataFrame.copy(original_df)\n",
    "\n",
    "(\"\"\"This is a loop that looks for missing values in a column.\n",
    "   For each column with missing values, use the mean to fill in the missing\n",
    "   values.\"\"\")\n",
    "for col in df_mean:\n",
    "    if df_mean[col].isnull().any():\n",
    "        col_mean = df_mean[col].mean()\n",
    "        df_mean[col] = df_mean[col].fillna(col_mean).round(2)\n",
    "        \n",
    "        \n",
    "(\"\"\"Printing the results\"\"\")\n",
    "print(df_mean)"
   ]
  },
  {
   "cell_type": "markdown",
   "metadata": {
    "deletable": false,
    "editable": false,
    "run_control": {
     "frozen": true
    }
   },
   "source": [
    "<hr style=\"height:.9px;border:none;color:#333;background-color:#333;\" /><br>\n",
    "\n",
    "<h2>1.4 Talking to Humans through Comments</h2>\n",
    "Notice how in <em>Code 1.4.3</em> we replaced the longer hashtag comments with triple-quote strings. This is a way to provide comments to humans on multiple lines in a more readable way. Technically speaking, Python will recognize these as lines of code and then try to run them. However, since there is no <em>print()</em> wrapper around these statements and they are not assigned to objects, Python has no use for them and immediately forgets that they exist. In other words, since Python has not been instructed to do anything with the triple-quoted statements, it ignores them. Finally, notice also that we added parentheses around each of the triple quotes. This is a good practice as it helps to organize our code and helps to prevent unwanted errors.<br><br>\n",
    "<em>Note:</em> There may be a time when someone reviewing your code tells you that using stand-alone strings (i.e. strings that aren't part of an object or a <em>print()</em> statement) to make comments is a bad practice. There is some rationale to this. Since Python runs stand-alone strings, it may take a tiny bit longer to process when compared to hashtag comments. In the real world, however, there are much larger technical bottlenecks, and I have yet to see a situation where things were so optimized that commenting style was the biggest processing obstacle affecting a code. For now, if you feel that your code is better communicated with stand-alone strings, use them.  Different companies will have different guidelines for commenting, and it is best that you follow a style that you are comfortable with while learning.\n",
    "<br><br>\n",
    "In business analytics, the purpose of most projects is to gain actionable insights and make recommendations. This takes a thorough and thoughtful exploration of the data, as well as constant communication with stakeholders to truly understand the problem you are trying to solve. <strong>One of your goals will be to communicate as clearly as possible.</strong> If this is best done by using stand-alone strings, use them.<br><br>\n",
    "\n",
    "<em>Code 1.4.4(a)</em> and <em>Code 1.4.4(b)</em> demonstrate the additional processing time from the use of stand-alone strings. As can be observed, the use of stand-alone strings had a very minor, if any, impact on the processing time of our code.<br><br>\n",
    "<hr style=\"height:.9px;border:none;color:#333;background-color:#333;\" />"
   ]
  },
  {
   "cell_type": "code",
   "execution_count": null,
   "metadata": {
    "cell_style": "center",
    "deletable": false,
    "editable": false
   },
   "outputs": [],
   "source": [
    "## Code 1.4.4(a) ##\n",
    "\n",
    "import time\n",
    "start_time = time.time()\n",
    "\n",
    "# importing packages\n",
    "import pandas as pd  # data science essentials\n",
    "\n",
    "# creating a DataFrame that has missing values\n",
    "original_df = pd.DataFrame([[None, 2, 3],\n",
    "                            [4, None, 6],\n",
    "                            [7, 8, None]])\n",
    "\n",
    "\n",
    "\n",
    "\n",
    "df_mean = pd.DataFrame.copy(original_df)\n",
    "\n",
    "\n",
    "\n",
    "\n",
    "\n",
    "for col in df_mean:\n",
    "    if df_mean[col].isnull().any():\n",
    "        col_mean = df_mean[col].mean()\n",
    "        df_mean[col] = df_mean[col].fillna(col_mean).round(2)\n",
    "\n",
    "\n",
    "print(\"My program took\", time.time() - start_time, \"to run\")"
   ]
  },
  {
   "cell_type": "markdown",
   "metadata": {
    "deletable": false,
    "editable": false,
    "run_control": {
     "frozen": true
    }
   },
   "source": [
    "<br>"
   ]
  },
  {
   "cell_type": "code",
   "execution_count": null,
   "metadata": {
    "cell_style": "center",
    "deletable": false,
    "editable": false
   },
   "outputs": [],
   "source": [
    "## Code 1.4.4(b) ##\n",
    "\n",
    "import time\n",
    "start_time = time.time()\n",
    "\n",
    "# importing packages\n",
    "import pandas as pd  # data science essentials\n",
    "\n",
    "# creating a DataFrame that has missing values\n",
    "original_df = pd.DataFrame([[None, 2, 3],\n",
    "                            [4, None, 6],\n",
    "                            [7, 8, None]])\n",
    "\n",
    "(\"\"\"Creating a copy of the original dataset so that I don't destroy the\n",
    "   original. I'm planning to impute missing values on this dataset using the\n",
    "   mean. This is why I called this df_mean instead of something else.\"\"\")\n",
    "df_mean = pd.DataFrame.copy(original_df)\n",
    "\n",
    "(\"\"\"This is a loop that looks for missing values in a column.\n",
    "   For each column with missing values, use the mean to fill in the missing\n",
    "   values.\"\"\")\n",
    "for col in df_mean:\n",
    "    if df_mean[col].isnull().any():\n",
    "        col_mean = df_mean[col].mean()\n",
    "        df_mean[col] = df_mean[col].fillna(col_mean).round(2)\n",
    "\n",
    "        \n",
    "\n",
    "print(\"My program took\", time.time() - start_time, \"to run\")"
   ]
  },
  {
   "cell_type": "markdown",
   "metadata": {
    "deletable": false,
    "editable": false,
    "run_control": {
     "frozen": true
    }
   },
   "source": [
    "<hr style=\"height:.9px;border:none;color:#333;background-color:#333;\" />"
   ]
  },
  {
   "cell_type": "markdown",
   "metadata": {
    "cell_style": "center",
    "deletable": false,
    "editable": false,
    "run_control": {
     "frozen": true
    }
   },
   "source": [
    "<h4>Side Note: Code Processing Time</h4>\n",
    "The code used to time the difference between the two codes was found via <a href=\"https://stackoverflow.com/questions/12444004/how-long-does-my-python-application-take-to-run\">this page on Stack Overflow</a>.\n",
    "<br><br>\n",
    "<hr style=\"height:.9px;border:none;color:#333;background-color:#333;\" />"
   ]
  },
  {
   "cell_type": "markdown",
   "metadata": {
    "deletable": false,
    "editable": false,
    "run_control": {
     "frozen": true
    }
   },
   "source": [
    "<h2>1.5 Summary</h2>\n",
    "\n",
    "<br>\n",
    "\n",
    "~~~\n",
    " __   __        __   __       ___                ___    __        __    /\n",
    "/  ` /  \\ |\\ | / _` |__)  /\\   |  |  | |     /\\   |  | /  \\ |\\ | /__`  / \n",
    "\\__, \\__/ | \\| \\__> |  \\ /~~\\  |  \\__/ |___ /~~\\  |  | \\__/ | \\| .__/ .  \n",
    "~~~                                                                         \n",
    "\n",
    "<br>\n",
    "\n",
    "Hats off to you for finishing the first chapter of this book. You are now ready to move forward given your understanding of:\n",
    "* finding help with the help() wrapper\n",
    "* code complete in Jupyter notebook\n",
    "* finding answers on the Internet\n",
    "* talking to humans through code comments"
   ]
  },
  {
   "cell_type": "markdown",
   "metadata": {
    "deletable": false,
    "editable": false,
    "run_control": {
     "frozen": true
    }
   },
   "source": [
    "<br>"
   ]
  }
 ],
 "metadata": {
  "kernelspec": {
   "display_name": "Python 3 (ipykernel)",
   "language": "python",
   "name": "python3"
  },
  "language_info": {
   "codemirror_mode": {
    "name": "ipython",
    "version": 3
   },
   "file_extension": ".py",
   "mimetype": "text/x-python",
   "name": "python",
   "nbconvert_exporter": "python",
   "pygments_lexer": "ipython3",
   "version": "3.9.7"
  },
  "toc": {
   "base_numbering": 1,
   "nav_menu": {},
   "number_sections": false,
   "sideBar": true,
   "skip_h1_title": false,
   "title_cell": "Table of Contents",
   "title_sidebar": "Contents",
   "toc_cell": false,
   "toc_position": {
    "height": "calc(100% - 180px)",
    "left": "10px",
    "top": "150px",
    "width": "307.2px"
   },
   "toc_section_display": true,
   "toc_window_display": false
  },
  "varInspector": {
   "cols": {
    "lenName": 16,
    "lenType": 16,
    "lenVar": 40
   },
   "kernels_config": {
    "python": {
     "delete_cmd_postfix": "",
     "delete_cmd_prefix": "del ",
     "library": "var_list.py",
     "varRefreshCmd": "print(var_dic_list())"
    },
    "r": {
     "delete_cmd_postfix": ") ",
     "delete_cmd_prefix": "rm(",
     "library": "var_list.r",
     "varRefreshCmd": "cat(var_dic_list()) "
    }
   },
   "types_to_exclude": [
    "module",
    "function",
    "builtin_function_or_method",
    "instance",
    "_Feature"
   ],
   "window_display": false
  }
 },
 "nbformat": 4,
 "nbformat_minor": 2
}
