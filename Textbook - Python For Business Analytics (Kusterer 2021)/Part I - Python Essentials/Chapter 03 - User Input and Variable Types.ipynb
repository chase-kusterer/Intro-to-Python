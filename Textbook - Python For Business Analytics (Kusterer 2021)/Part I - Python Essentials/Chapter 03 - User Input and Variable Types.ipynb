{
 "cells": [
  {
   "cell_type": "markdown",
   "metadata": {
    "deletable": false,
    "editable": false,
    "run_control": {
     "frozen": true
    }
   },
   "source": [
    "<hr style=\"height:.9px;border:none;color:#333;background-color:#333;\" />\n",
    "<hr style=\"height:.9px;border:none;color:#333;background-color:#333;\" />\n",
    "<br><br><br>\n",
    "<h1>Python for Business Analytics</h1>\n",
    "<em>A Nontechnical Approach for Nontechnical People</em><br><br>\n",
    "<em><strong>Custom Edition for Hult International Business School</strong></em><br>\n",
    "\n",
    "Written by Chase Kusterer - Faculty of Analytics <br>\n",
    "Hult International Business School <br>\n",
    "https://github.com/chase-kusterer<br><br><br><br><br>\n",
    "\n",
    "<hr style=\"height:.9px;border:none;color:#333;background-color:#333;\" />\n",
    "<hr style=\"height:.9px;border:none;color:#333;background-color:#333;\" />\n",
    "<br>\n",
    "\n",
    "<h1><u>Chapter 3: Interacting with Users and Variable Types</u></h1>"
   ]
  },
  {
   "cell_type": "markdown",
   "metadata": {
    "deletable": false,
    "editable": false,
    "run_control": {
     "frozen": true
    }
   },
   "source": [
    "Now that we have an understanding of printing and formatting, it's time to develop our way towards interacting with users. More specifically, this chapter focuses on syntax that allows users to <strong>input()</strong> information that can be used in our programs. This functionality is quite extraordinary as it grants us the ability to collect information and personalize the user experience accordingly.\n",
    "<br><br>After completing this chapter, you will be ready to build a basic application that interacts with users. Thus, this chapter concludes with a project that does just that. To get there, we will cover:\n",
    "* prompting users for input\n",
    "* converting object types\n",
    "* writing more efficient code\n",
    "<br><br>\n",
    "\n",
    "<strong>Note:</strong> In <strong>Chapter 1 - Before Learning Anything Else, Learn This</strong>, it was mentioned that interactive help sessions can cause challenges that most beginners are not ready to solve. This is due to the <em>interactivity</em> of interactive <strong>help()</strong>, as while this is running, your Python <a href=\"https://ipython.org/ipython-doc/dev/development/kernels.html\">kernel</a> cannot move on to process other code. In this chapter, we will learn what to do in such situations.\n",
    "\n",
    "<br><hr style=\"height:.9px;border:none;color:#333;background-color:#333;\" />"
   ]
  },
  {
   "cell_type": "markdown",
   "metadata": {
    "deletable": false,
    "editable": false,
    "run_control": {
     "frozen": true
    }
   },
   "source": [
    "<h2>3.1 Prompting Users</h2>\n",
    "\n",
    "As its name implies, the <strong>input()</strong> function allows us to prompt users to give us input."
   ]
  },
  {
   "cell_type": "markdown",
   "metadata": {
    "cell_style": "split",
    "deletable": false,
    "editable": false,
    "run_control": {
     "frozen": true
    }
   },
   "source": [
    "Objects created from <strong>input()</strong> allow for interactive and dynamic programs. Such a program has been developed in <em>Code 3.1.1</em>. In this code, we are using <strong>input()</strong> to prompt a user to input their name. When this code is run, a special window pops up under the coding cell to prompt users for input. It is important to understand what is happening here, as forgetting to respond to an open <strong>input()</strong> will prevent you from running additional code <em>(see the note at the beginning of this chapter for more details)</em>. <em>Figure 3.1</em> outlines Jupyter Notebook's behavior when a user is prompted for <strong>input()</strong>.<br><br>\n",
    "Notice the star (\\*) status in <em>Figure 3.2</em>. This indicates that the kernel is currently busy. There are several reasons why this might occur, including an open user input prompt, a code that hasn't finished processing, or a loop that was never instructed to stop running (covered in a later chapter). As mentioned earlier, while the Python kernel is busy, you cannot move on to process other code. If you run into a situation in Jupyter Notebook where the star won't go away, you can interrupt the kernel by pressing <em>ESC + i</em>.\n",
    "<br><br>\n",
    "<strong>Note:</strong> If you're interested in learning more hotkeys for Jupyter Notebook, try pressing <em>ESC + h</em>.\n",
    "<br><br><br><br><br>"
   ]
  },
  {
   "cell_type": "markdown",
   "metadata": {
    "cell_style": "split",
    "deletable": false,
    "editable": false,
    "run_control": {
     "frozen": true
    }
   },
   "source": [
    "<br><br>"
   ]
  },
  {
   "cell_type": "code",
   "execution_count": null,
   "metadata": {
    "cell_style": "split",
    "deletable": false,
    "editable": false
   },
   "outputs": [],
   "source": [
    "## Code 3.1.1 ##\n",
    "\n",
    "name = input()\n",
    "\n",
    "print(f'Welcome {name}')"
   ]
  },
  {
   "cell_type": "markdown",
   "metadata": {
    "cell_style": "split",
    "deletable": false,
    "editable": false,
    "run_control": {
     "frozen": true
    }
   },
   "source": [
    "<br>"
   ]
  },
  {
   "cell_type": "markdown",
   "metadata": {
    "cell_style": "split",
    "deletable": false,
    "editable": false,
    "run_control": {
     "frozen": true
    }
   },
   "source": [
    "<div style = \"width:image width px; font-size:80%; text-align:left;\"><img src= ./__images/chapter-3-User_Input_Prompt.png width=\"400\" height=\"400\" style=\"padding-bottom:0.5em;\"><em>Figure 3.1: Jupyter Notebook's behavior when a user is prompted.</em></div>"
   ]
  },
  {
   "cell_type": "markdown",
   "metadata": {
    "cell_style": "split"
   },
   "source": [
    "<br>"
   ]
  },
  {
   "cell_type": "markdown",
   "metadata": {
    "cell_style": "split",
    "deletable": false,
    "editable": false,
    "run_control": {
     "frozen": true
    }
   },
   "source": [
    "<div style = \"width:image width px; font-size:80%; text-align:left;\"><img src= ./__images/chapter-3-anatomy_of_input_prompt.png width=\"400\" height=\"400\" style=\"padding-bottom:0.5em;\"><em>Figure 3.2: The anatomy of an input(&nbsp;) prompt.</em></div>"
   ]
  },
  {
   "cell_type": "markdown",
   "metadata": {
    "deletable": false,
    "editable": false,
    "run_control": {
     "frozen": true
    }
   },
   "source": [
    "The second red box in the lower part of <em>Figure 3.1</em> is the <strong>user input prompt</strong>. Anything typed into this prompt will be stored as a <strong>string</strong> in the object <em>name</em>. Strings and other variable types will be covered in <em>Section 3.2</em>. To reiterate, the Python kernel will continue processing this code block until something is input into this prompt (even something as simple as pressing <em>return</em> on the keyboard). If you accidentally move through your code too quickly and it stops giving you output, look for the star ( \\* ) in previous code blocks and check to see if there is an open user prompt.\n",
    "<br><br>\n",
    "\n",
    "\n",
    "<h4>Concept Clarification - Kernels</h4>\n",
    "\n",
    "If you're having trouble conceptualizing a kernel, think of it as an escalator. That's right, an escalator.<br><br>\n",
    "\n",
    "<div align=\"center\">\n",
    "<strong>escalator</strong> - <em>power-driven set of stairs arranged like an endless belt<br> that ascend or descend continuously. - <a href= 'https://www.merriam-webster.com/dictionary/escalator' class='headernavlink'>\n",
    "Merriam-Webster</a></em>\n",
    "<a class=\"tocSkip\"></a></div>\n",
    "<br>\n",
    "\n",
    "Let's say, for example, people are in a straight line walking towards an escalator to go upstairs. For the sake of this argument, let's assume the escalator is only wide enough to fit one person per step. If all goes according to plan, the line of people will reach the top of the escalator in the order in which they started. However, what if the first person in line reaches the bottom of the escalator, was a split second from stepping on, and realizes that they are afraid of riding escalators? According to <a href=\"https://www.fearof.net/fear-of-escalators-phobia-escalaphobia/\">fearof.net</a>, this is a legitimate phobia known as Escalaphobia, and it affects hundreds of thousands of individuals globally. In this situation, every person in the entire line is stuck until the first person steps on the escalator or moves out of the way.\n",
    "<br><br>\n",
    "This is how kernels work, and it brushes upon important mathematical concepts in the field of <a href=\"https://en.wikipedia.org/wiki/Queueing_theory\">Queuing Theory</a>. Think of the escalator like a pathway to your processor, and only one line of code can go through the processor at a time. If something is holding up the line, such as in the case of a code block waiting for user input, no code in line behind it can move forward.\n",
    "<br><br>\n",
    "<hr style=\"height:.9px;border:none;color:#333;background-color:#333;\" /><br>\n",
    "<h3>Optional Arguments for input()</h3>\n",
    "\n",
    "<strong>input()</strong> has only one optional argument, as can be observed from the <strong>help()</strong> call in <em>Code 3.1.2</em>. As a refresher, an optional argument is one that has a default value, denoted with an equals sign ( <em>=</em> ). As can be observed in <em>Codes 3.1.3</em> and <em>3.1.4</em>, we can utilize this argument by calling its name and providing a value (i.e., <strong>prompt</strong> = 'some_text'), or we can simply type some text and Python will understand what we are trying to do (i.e., 'some_text'). As its name implies, the optional <strong>prompt></strong> argument <em>prompts</em> a user on what they should do.\n",
    "<br><br>"
   ]
  },
  {
   "cell_type": "code",
   "execution_count": null,
   "metadata": {
    "cell_style": "center",
    "deletable": false,
    "editable": false
   },
   "outputs": [],
   "source": [
    "## Code 3.1.2 ##\n",
    "\n",
    "help(input)"
   ]
  },
  {
   "cell_type": "markdown",
   "metadata": {
    "cell_style": "center",
    "deletable": false,
    "editable": false,
    "run_control": {
     "frozen": true
    }
   },
   "source": [
    "<br><div align=\"center\">\n",
    "<strong>Do not underestimate the value of an informative prompt.</strong>\n",
    "    <a class=\"tocSkip\"></a></div><br>\n",
    "    \n",
    "You cannot expect a user to intuitively understand what they are supposed to input into a prompt. If you require a number with no decimal places, make sure to inform users that this is required. If you require a date in a specific format, make sure to use your <strong>prompt</strong> accordingly. Users are free to put anything into an <strong>input()</strong> prompt, so your directions are incredibly important. We will learn how to control for correct user input in a later chapter.\n",
    "<br><br>"
   ]
  },
  {
   "cell_type": "code",
   "execution_count": null,
   "metadata": {
    "cell_style": "center",
    "deletable": false,
    "editable": false
   },
   "outputs": [],
   "source": [
    "## Code 3.1.3 ##\n",
    "\n",
    "# Specifying prompt\n",
    "name = input(prompt = 'Input your name: ')\n",
    "\n",
    "print(f'Welcome {name}')"
   ]
  },
  {
   "cell_type": "markdown",
   "metadata": {
    "cell_style": "center",
    "deletable": false,
    "editable": false,
    "run_control": {
     "frozen": true
    }
   },
   "source": [
    "<br>"
   ]
  },
  {
   "cell_type": "code",
   "execution_count": null,
   "metadata": {
    "cell_style": "center",
    "code_folding": [],
    "deletable": false,
    "editable": false
   },
   "outputs": [],
   "source": [
    "## Code 3.1.4 ##\n",
    "\n",
    "# Not specifying prompt (code will still work but bad practice)\n",
    "name = input('Input your name: ')\n",
    "\n",
    "print(f'Welcome {name}')"
   ]
  },
  {
   "cell_type": "markdown",
   "metadata": {
    "deletable": false,
    "editable": false,
    "run_control": {
     "frozen": true
    }
   },
   "source": [
    "<hr style=\"height:.9px;border:none;color:#333;background-color:#333;\" /><br>\n",
    "\n",
    "In <em>Codes 3.1.3</em> and <em>3.1.4</em>, we have specified that a user should input their name. Notice how this message is followed by a space. Without the trailing space, the output would look like this:<br><br><br>\n",
    "\n",
    "<div style = \"width:image width px; font-size:80%; text-align:center;\"><img src= ./__images/chapter-3-User_Prompt_No_Space.png width=\"150\" height=\"150\" style=\"padding-bottom:0.5em;\"><em>Figure 3.2: Prompt result with no trailing space.</em></div><br><br>\n",
    "As can be observed below, the user experience can be slightly improved with the trailing space. This may seem trivial, but little details such as this can make a huge difference in how your program is perceived by its audience.<br><br><br>\n",
    "<div style = \"width:image width px; font-size:80%; text-align:center;\"><img src= ./__images/chapter-3-User_Prompt_Space.png width=\"150\" height=\"150\" style=\"padding-bottom:0.5em;\"><em>Figure 3.3: Prompt result with a trailing space.</em></div><br><br>"
   ]
  },
  {
   "cell_type": "markdown",
   "metadata": {
    "deletable": false,
    "editable": false,
    "run_control": {
     "frozen": true
    }
   },
   "source": [
    "<hr style=\"height:.9px;border:none;color:#333;background-color:#333;\" /><br><h2>3.2 Type Conversions</h2><br>\n",
    "As stated earlier, a user is free to input anything into an <strong>input()</strong> prompt. Given this, Python needs to be very careful not to make assumptions as to what we are trying to achieve with any given prompt. To address this concern, Python treats data from an <strong>input()</strong> prompt as a <a href=\"https://docs.python.org/3/library/stdtypes.html#str\">string</a>. Simply put, a string is a set of characters that can be read as text. This is very important to understand, as even if a number were input into an <strong>input()</strong> prompt, Python would treat it as a string instead of making assumptions on how a program will use this information. This can create bugs if we are not careful. For example, in the code below, we are prompting a user to <strong>input()</strong> a number and then attempting to make a calculation with their input.<br><br>\n",
    "\n",
    "~~~\n",
    "number = input(\"\"\"\n",
    "What is your favorite number between 1 and 10?\n",
    "Please input numbers (no text).\"\"\")\n",
    "\n",
    "print(f\"\\nYou've input {number}.\")\n",
    "\n",
    "double = number * 2\n",
    "\n",
    "print(f\"\"\"\n",
    "If you double that number, it becomes {double}.\"\"\")\n",
    "~~~\n",
    "\n",
    "<br>\n",
    "As the object <em>number</em> is coded as a string, Python prints <em>number</em> twice (<em>Code 3.2.1</em>). Although this is not what we intended, such functionality can be quite useful. For example, if we wanted to create a border around our output, as in <em>Code 3.2.2</em>, we could take advantage of how Python interprets strings. We could also utilize multiplication, such as in <em>Code 3.2.3</em>."
   ]
  },
  {
   "cell_type": "code",
   "execution_count": null,
   "metadata": {
    "cell_style": "center",
    "deletable": false,
    "editable": false
   },
   "outputs": [],
   "source": [
    "## Code 3.2.1 ##\n",
    "\n",
    "number = input(\"\"\"\n",
    "What is your favorite number between 1 and 10?\n",
    "Please input numbers (no text).\\t\"\"\")\n",
    "\n",
    "print(f\"\\nYou've input {number}.\")\n",
    "\n",
    "double = number * 2\n",
    "\n",
    "print(f\"\"\"\n",
    "If you double that number, it becomes {double}.\"\"\")"
   ]
  },
  {
   "cell_type": "markdown",
   "metadata": {
    "deletable": false,
    "editable": false,
    "run_control": {
     "frozen": true
    }
   },
   "source": [
    "<hr style=\"height:.9px;border:none;color:#333;background-color:#333;\" />"
   ]
  },
  {
   "cell_type": "code",
   "execution_count": null,
   "metadata": {
    "cell_style": "split",
    "deletable": false,
    "editable": false
   },
   "outputs": [],
   "source": [
    "## Code 3.2.2 ##\n",
    "\n",
    "print(\"\"\"\n",
    "******************************\n",
    "\n",
    "Happy birthday!!!!!\n",
    "\n",
    "******************************\n",
    "\"\"\")"
   ]
  },
  {
   "cell_type": "code",
   "execution_count": null,
   "metadata": {
    "cell_style": "split",
    "deletable": false,
    "editable": false
   },
   "outputs": [],
   "source": [
    "## Code 3.2.3 ##\n",
    "\n",
    "print(f\"\"\"\n",
    "{'*' * 30}\n",
    "\n",
    "Happy birthday!!!!!\n",
    "\n",
    "{'*' * 30}\n",
    "\"\"\")"
   ]
  },
  {
   "cell_type": "markdown",
   "metadata": {
    "deletable": false,
    "editable": false,
    "run_control": {
     "frozen": true
    }
   },
   "source": [
    "<hr style=\"height:.9px;border:none;color:#333;background-color:#333;\" />"
   ]
  },
  {
   "cell_type": "markdown",
   "metadata": {
    "cell_style": "split",
    "deletable": false,
    "editable": false,
    "run_control": {
     "frozen": true
    }
   },
   "source": [
    "As can be observed, <em>Codes 3.2.2</em> and <em>3.2.3</em> generate the same output. Utilizing string calculations for formatting is especially intriguing when considering how easy it is to ensure we have the same number of stars above and below the <em>Happy Birthday!!!!!</em> message. As our coding skills become more advanced, we will also see that such a practice can save a huge amount of time when debugging.\n",
    "\n",
    "<h3>Common Object Types</h3>\n",
    "There are an ever-growing number of object types in Python. This is because Python programmers have an ever-growing number of needs. For example and as a preview of what's to come, the data science package <em>pandas</em> is home to the <em>DataFrame</em> object type, which is Python's version of a spreadsheet. Looking further out, when instantiating a model object in the machine learning package <em>scikit-learn</em>, each model object is of its own type. The rationale behind having so many different object types is that it allows each object to behave the way its programmer intended. You can think of an object type like a template, or even better, a tool to perform a specific task. Some tools are flexible and can perform a diverse set of tasks, while others were designed to solve a very limited number of needs. This is another great example as to why you should read the documentation. The <a href=\"https://docs.python.org/3/library/datatypes.html\">documentation on data types</a> can be bewildering for first-time coders, but it contains a wealth of information as to what each object is designed to do, as well as useful methods to help you use each type to its fullest extent."
   ]
  },
  {
   "cell_type": "markdown",
   "metadata": {
    "cell_style": "split"
   },
   "source": [
    "<br>"
   ]
  },
  {
   "cell_type": "code",
   "execution_count": null,
   "metadata": {
    "cell_style": "split",
    "solution2": "hidden",
    "solution2_first": true
   },
   "outputs": [],
   "source": [
    "## Code 3.2.4 ##\n",
    "\n",
    "# Open coding block for type()\n",
    "\n",
    "\"\"\"\n",
    "Objects created thus far:\n",
    "    + name\n",
    "    + number\n",
    "    + double\n",
    "\n",
    "Space below to check object types\n",
    "\"\"\"\n",
    "\n",
    "\n",
    "\n",
    "\n",
    "\n",
    "\n"
   ]
  },
  {
   "cell_type": "code",
   "execution_count": null,
   "metadata": {
    "cell_style": "split",
    "deletable": false,
    "editable": false,
    "scrolled": false,
    "solution2": "hidden"
   },
   "outputs": [],
   "source": [
    "## Sample Solution 3.2.4 ##\n",
    "\n",
    "print(type(name))\n",
    "print(type(number))\n",
    "print(type(double))"
   ]
  },
  {
   "cell_type": "markdown",
   "metadata": {
    "cell_style": "split"
   },
   "source": [
    "<br>"
   ]
  },
  {
   "cell_type": "markdown",
   "metadata": {
    "deletable": false,
    "editable": false,
    "run_control": {
     "frozen": true
    }
   },
   "source": [
    "<br>\n",
    "Below is a table of the most common object types. Also note that when in doubt, you can wrap <strong>type()</strong> around an object, and as its name implies, Python will output the object's type. <em>Code 3.2.4</em> is an open coding block where you can call type on any of the objects we have created in the above codes.<br><br>\n",
    "<strong>Note:</strong> Make sure you have run the coding cells above. If you get an error stating that an object is not defined, it generally means that you forgot to run the coding cell where that object was created.\n",
    "<br><br><table width=\"375\" align=\"left\">\n",
    "<col width=\"50\">\n",
    "<col width=\"150\">\n",
    "    <tr>\n",
    "        <th>Wrapper</th>\n",
    "        <th>Interpretation</th>\n",
    "    </tr>\n",
    "    <tr>\n",
    "        <td> str() </td>\n",
    "        <td> string - changes object type to text</td>\n",
    "    </tr>\n",
    "    <tr>\n",
    "    <tr>\n",
    "        <td> int() </td>\n",
    "        <td> integer - a number <strong>with no</strong> decimal places</td>\n",
    "    </tr>\n",
    "    <tr>\n",
    "        <td> float() </td>\n",
    "        <td> float - a number <strong>with</strong> decimal places</td>\n",
    "    </tr>   \n",
    "    <tr>\n",
    "        <td> bool() </td>\n",
    "        <td> boolean - True or False</td>\n",
    "    </tr>\n",
    "</table>"
   ]
  },
  {
   "cell_type": "markdown",
   "metadata": {
    "deletable": false,
    "editable": false,
    "run_control": {
     "frozen": true
    }
   },
   "source": [
    "<hr style=\"height:.9px;border:none;color:#333;background-color:#333;\" /><br>\n",
    "<em>Code 3.2.5</em> is a replica of <em>Code 3.2.1</em> with one enhancement: the object <em>number</em> is being converted into an integer before the object <em>double</em> makes its calculation. Now the program functions in the way we intended!"
   ]
  },
  {
   "cell_type": "code",
   "execution_count": null,
   "metadata": {
    "cell_style": "center",
    "deletable": false,
    "editable": false
   },
   "outputs": [],
   "source": [
    "## Code 3.2.5 ##\n",
    "\n",
    "number = input(prompt = \"\"\"\n",
    "What is your favorite number between 1 and 10?\n",
    "Please input numbers (no text).\\t\"\"\")\n",
    "\n",
    "print(f\"\\nYou've input {number}.\")\n",
    "\n",
    "# Converting number to type int\n",
    "number = int(number)\n",
    "\n",
    "double = number * 2\n",
    "\n",
    "print(f\"\"\"\n",
    "If you double that number, it becomes {double}.\"\"\")"
   ]
  },
  {
   "cell_type": "markdown",
   "metadata": {
    "deletable": false,
    "editable": false,
    "run_control": {
     "frozen": true
    }
   },
   "source": [
    "<br><hr style=\"height:.9px;border:none;color:#333;background-color:#333;\" /><br>\n",
    "<h2>3.3 Avoiding the Unnecessary - Writing Efficient Code</h2>\n",
    "\n",
    "In <em>Code 3.2.4</em>, we are attempting to create a code to be used when someone has a birthday."
   ]
  },
  {
   "cell_type": "markdown",
   "metadata": {
    "cell_style": "center",
    "deletable": false,
    "editable": false,
    "run_control": {
     "frozen": true
    }
   },
   "source": [
    "In this code, we would like to:\n",
    "* Prompt a user to input their birthday\n",
    "* Display a happy birthday message, which includes the user's input\n",
    "* Convert the user's age into days, hours, minutes, and seconds\n",
    "* Display True if a user's age is even\n",
    "<br>"
   ]
  },
  {
   "cell_type": "code",
   "execution_count": null,
   "metadata": {
    "cell_style": "center",
    "deletable": false,
    "editable": false
   },
   "outputs": [],
   "source": [
    "## Code 3.3.1 ##\n",
    "\n",
    "# Age input\n",
    "age = input(prompt = \"\"\"\n",
    "I hear it's your birthday! How old are you today?\n",
    "Please input your age (as a number) in years.\\t\n",
    "\"\"\")\n",
    "\n",
    "# Birthday message\n",
    "print(f\"\"\"\n",
    "****************************************\n",
    "\n",
    "Happy birthday you beautiful {age} year old!\n",
    "      \n",
    "That's the equivalent of:\n",
    "{int(age) * 365.25} days\n",
    "{int(age) * 365.25 * 24} hours\n",
    "{int(age) * 365.25 * 24 * 60} minutes\n",
    "{int(age) * 365.25 * 24 * 60 * 60} seconds\n",
    "\n",
    "It's {bool(age)} that your age in years is an even number.\n",
    "\n",
    "****************************************\n",
    "\"\"\")"
   ]
  },
  {
   "cell_type": "markdown",
   "metadata": {
    "deletable": false,
    "editable": false,
    "run_control": {
     "frozen": true
    }
   },
   "source": [
    "<em>Code 3.3.1</em> meets its requirements, assuming a user input their age as instructed by the <strong>input()</strong> prompt. However, the code can be improved. In particular, it does not take advantage of string calculations, and has several <strong>int()</strong> type conversions spread throughout the code when just one could be used to achieve the same result. Also, the format of the output looks as if it could be improved. The output for <em>days</em> looks appropriate, as depending on the user's input, it displays trailing decimal places (according to \n",
    "<a href=\"https://pumas.jpl.nasa.gov/examples/index.php?id=46\"> NASA</a>, a year is approximately 365.25 days long).<br><br>\n",
    "However, the results for hours, minutes, and seconds are showing a trailing zero. We can clean this up by implementing an <strong>int()</strong> wrapper around each calculation within the curly brackets in our <strong>print()</strong> statement. To keep our code consistent, we should also put a wrapper around the calculation for <em>days</em>, even though it is already functioning properly. This is to help avoid unknown errors, and to also help inform other coders of our intended output.<br><br>\n",
    "Such enhancements have been made in <em>Code 3.3.2</em>. As can be observed, the <em>age</em> object is being converted into an integer immediately after it is defined. Notice how this object does not need to be converted back into a string in the line of code reading <em>Happy birthday you beautiful...</em> . Python is doing this for us behind the scenes of the <strong>print()</strong> statement. Design decisions such as this one help make Python a truly remarkable language.\n",
    "<br><br>\n",
    "Also in <em>Code 3.3.2</em>, the star borders of the birthday message have been recoded using string calculations. Also notice the enhanced functionality of the exclamation point in the birthday message. With this addition, the message will print one exclamation point for every year since the user's birth. Finally, the conversions to days, hours, minutes, and seconds have been wrapped with their appropriate type conversion wrappers.<br><br>\n",
    "There are many ways to further enhance our code. For example, if a user were to input data of type string, float, or boolean in the <strong>input()</strong> prompt instead of an integer, <em>Code 3.3.2</em> would throw a <em>Value Error</em>. It is important to control for such errors, which is a concept known as <a href=\"https://docs.python.org/3/tutorial/errors.html\">exception handling</a>. However, we will save this conversation for a later point in our coding journey."
   ]
  },
  {
   "cell_type": "markdown",
   "metadata": {
    "cell_style": "center",
    "deletable": false,
    "editable": false,
    "run_control": {
     "frozen": true
    }
   },
   "source": [
    "<br>"
   ]
  },
  {
   "cell_type": "code",
   "execution_count": null,
   "metadata": {
    "cell_style": "center",
    "deletable": false,
    "editable": false
   },
   "outputs": [],
   "source": [
    "## Code 3.3.2 ##\n",
    "\n",
    "# Age input\n",
    "age = input(\"\"\"\n",
    "I hear it's your birthday! How old are you today?\n",
    "Please input your age (as a number) in years.\\t\n",
    "\"\"\")\n",
    "\n",
    "# Age conversion\n",
    "age = int(age)\n",
    "\n",
    "# Birthday message\n",
    "print(f\"\"\"\n",
    "{'*' * 40}\n",
    "\n",
    "Happy birthday you beautiful {age} year old{'!' * age}\n",
    "      \n",
    "That's the equivalent of:\n",
    "{float(age * 365.25)} days\n",
    "{int(age * 365.25 * 24)} hours\n",
    "{int(age * 365.25 * 24 * 60)} minutes\n",
    "{int(age * 365.25 * 24 * 60 * 60)} seconds\n",
    "\n",
    "It's {bool(age)} that your age in years is an even number.\n",
    "\n",
    "{'*' * 40}\n",
    "\"\"\")"
   ]
  },
  {
   "cell_type": "markdown",
   "metadata": {
    "deletable": false,
    "editable": false,
    "run_control": {
     "frozen": true
    }
   },
   "source": [
    "<br>\n",
    "Upon critiquing <em>Code 3.3.2</em>, you may wonder if the line displaying <em>True</em> when a user's age is even adds any value. It seems intuitive that we can assume a user old enough to use a computer will also be at a mathematical level where they have a solid understanding of even and odd numbers. Perhaps we should alter this line of code to provide more useful information, such as whether or not a user was born in a leap year. Although this requires a more detailed knowledge of Python than we have currently covered, it is imperative to consider the following:\n",
    "\n",
    "<br><div align=\"center\">\n",
    "<strong>It is better to build something that is challenging to code than to build something that is easy but adds no value.</strong>\n",
    "<a class=\"tocSkip\"></a></div><br>\n",
    "\n",
    "At this point, our coding abilities are limited. However, we should not let this dictate our design. Encountering a coding challenge that is beyond our current capabilities is a prime opportunity to improve. Spend some time doing research. If needed, go back to <strong>Chapter 1: Before Learning Anything Else, Learn This</strong> and refresh yourself on how to learn Python. For now, we will move forward to develop our code to be more valuable to users.<br><br>\n",
    "\n",
    "<h3>Adding Additional Functionality</h3>\n",
    "In addition to adding a leap year calculation, it would be interesting to more precisely state the number of days in a year. Returning to research from <a href=\"https://pumas.jpl.nasa.gov/examples/index.php?id=46\">NASA</a>: \"the true length of a year on Earth is 365.2422 days.\" Before reading on, use the open coding block below to try to adjust the code to meet these new requirements:\n",
    "\n",
    "* adjust the number of days per year to 365.2422\n",
    "* change the 'age in years is even' functionality to one that returns True if a user was born in a leap year\n",
    "* add any other changes you feel could add value (such as calculating a user's birth year based on their age)\n",
    "\n",
    "<br>\n",
    "\n",
    "When ready, move on to see a sample solution in <em>Code 3.3.6</em> and read the rationale behind it.<br>"
   ]
  },
  {
   "cell_type": "code",
   "execution_count": null,
   "metadata": {},
   "outputs": [],
   "source": [
    "## Code 3.3.4 ##\n",
    "\n",
    "# Open coding block to meet new requirements\n",
    "\n",
    "# Age input\n",
    "age = input(\"\"\"\n",
    "I hear it's your birthday! How old are you today?\n",
    "Please input your age (as a number) in years.\\t\n",
    "\"\"\")\n",
    "\n",
    "# Age conversion\n",
    "age = int(age)\n",
    "\n",
    "# Birthday message\n",
    "print(f\"\"\"\n",
    "{'*' * 40}\n",
    "\n",
    "Happy birthday you beautiful {age} year old{'!' * age}\n",
    "      \n",
    "That's the equivalent of:\n",
    "{float(age * 365.25)} days\n",
    "{int(age * 365.25 * 24)} hours\n",
    "{int(age * 365.25 * 24 * 60)} minutes\n",
    "{int(age * 365.25 * 24 * 60 * 60)} seconds\n",
    "\n",
    "It's {bool(age)} that your age in years is an even number.\n",
    "\n",
    "{'*' * 40}\n",
    "\"\"\")"
   ]
  },
  {
   "cell_type": "markdown",
   "metadata": {
    "deletable": false,
    "editable": false,
    "run_control": {
     "frozen": true
    }
   },
   "source": [
    "<strong>Note:</strong> The following code may seem intense, especially when compared to <em>Code 3.3.2</em>. Adding a check to see if the user was born in a leap year was not in our original requirements. Thus, much of <em>Code 3.3.2</em> needs to be rewritten. This is commonly the case, and emphasizes how important it is to plan out what you would like your code to do ahead of time.<br><br>\n",
    "In order to achieve the functionality we desire, several changes need to occur. First, we need to develop a method for calculating someone's birth year given their age. This can be engineered by taking the current year and subtracting the users age. Luckily, a method already exists in the subpackage <strong>date</strong>, which is part of the <strong>datetime</strong> package. Here we can find the method <strong>today()</strong> and chain it to the method <strong>year</strong>. When deciding how to determine if a user was born in a leap year, we have two choices: 1) develop a logic in our code, or 2) use a code that is already developed and available in Python. This is a classic make or buy decision, except that the open source packages in Python are free of charge. Therefore, before attempting to develop our own logic, it is in our best interest to search to see if someone has already solved this challenge. If you are currently unaware of such functionality, take some time to search before moving on.<br>"
   ]
  },
  {
   "cell_type": "markdown",
   "metadata": {
    "cell_style": "split",
    "deletable": false,
    "editable": false,
    "run_control": {
     "frozen": true
    }
   },
   "source": [
    "After some research, you may have discovered that the <strong>calendar</strong> package has just the method we are looking for (<strong>isleap</strong>). This function returns True if a year is a leap year, and False otherwise. If you were unable to find this in your search, or if you stumbled onto forums where nobody had yet figured this out, this is a good opportunity for you to go back and contribute to the conversation. With <strong>date.today().year</strong> and <strong>isleap</strong>, we are ready to adjust our code.<br><br>\n",
    "In addition to these enhancements, we should allow the calculations for hours, minutes, and seconds to <strong>float</strong>, or contain decimal places. Converting objects into floats can have strange formatting results, such as several trailing zeros followed by a seemingly random number (<em>Code 3.3.4</em>)."
   ]
  },
  {
   "cell_type": "markdown",
   "metadata": {
    "cell_style": "split",
    "deletable": false,
    "editable": false,
    "run_control": {
     "frozen": true
    }
   },
   "source": [
    "<br>"
   ]
  },
  {
   "cell_type": "code",
   "execution_count": null,
   "metadata": {
    "cell_style": "split",
    "deletable": false,
    "editable": false
   },
   "outputs": [],
   "source": [
    "## Code 3.3.4 ##\n",
    "\n",
    "age = 5\n",
    "\n",
    "print(f\"\"\"\n",
    "{float(age) * 365.2422} days\n",
    "\"\"\")"
   ]
  },
  {
   "cell_type": "markdown",
   "metadata": {
    "deletable": false,
    "editable": false,
    "run_control": {
     "frozen": true
    }
   },
   "source": [
    "This formatting issue can be resolved using a <strong>round()</strong> wrapper. As can be observed from its <strong>help()</strong> documentation, <strong>round()</strong> has one mandatory argument (a number) and one optional argument (the number of digits to round to). By utilizing this wrapper, our output looks cleaner, providing a better experience for our users. A redeveloped solution, enhanced based on the new requirements, is available in <em>Code 3.3.5</em>."
   ]
  },
  {
   "cell_type": "code",
   "execution_count": null,
   "metadata": {
    "deletable": false,
    "editable": false
   },
   "outputs": [],
   "source": [
    "## Code 3.3.5 ##\n",
    "\n",
    "# Importing necessary modules\n",
    "from calendar import isleap\n",
    "from datetime import date\n",
    "\n",
    "# Saving the current year\n",
    "current_year = date.today().year\n",
    "\n",
    "# Saving a precise days per year\n",
    "days_in_year = 365.2422\n",
    "\n",
    "# Prompting a user for their birth year\n",
    "age = input(\"\"\"\n",
    "I hear it's your birthday! How old are you today?\n",
    "Please input your age (as a number) in years.\\t\n",
    "\"\"\")\n",
    "\n",
    "# Converting age\n",
    "age = int(age)\n",
    "\n",
    "# Calculating birth year\n",
    "b_year = current_year - age\n",
    "\n",
    "# Birthday message\n",
    "print(f\"\"\"\n",
    "{'*' * 40}\n",
    "\n",
    "Happy birthday you beautiful {age} year old{'!' * age}\n",
    "\n",
    "That's the equivalent of:\n",
    "{round(float(age * days_in_year), 4)} days\n",
    "{round(float(age * days_in_year * 24), 4)} hours\n",
    "{round(float(age * days_in_year * 24 * 60), 4)} minutes\n",
    "{round(float(age * days_in_year * 24 * 60 * 60), 4)} seconds\n",
    "\n",
    "You were born in {b_year}, and it is {isleap(int(b_year))}\n",
    "that you were born in a leap year.\n",
    "\n",
    "{'*' * 40}\n",
    "\"\"\")"
   ]
  },
  {
   "cell_type": "markdown",
   "metadata": {
    "deletable": false,
    "editable": false,
    "run_control": {
     "frozen": true
    }
   },
   "source": [
    "<hr style=\"height:.9px;border:none;color:#333;background-color:#333;\" /><br>\n",
    "\n",
    "<h2>3.4 Summary</h2><br>\n",
    "<br>You're one step closer to being able to design interactive programs! This chapter has prepared you for:\n",
    "* prompting users for input\n",
    "* converting object types\n",
    "* making your code more efficient\n",
    "\n",
    "<br>\n",
    "We have also focused our design decisions on creating an optimal user experience. Although this is not directly related to the work of a business analyst, it is an important consideration when designing any sort of technical solution. Later, when we discuss data exploration and insights, this mindset will become critical to success. Even the most groundbreaking data-driven discoveries are likely to be discarded if they are hard to interpret or infeasible to implement. There's plenty to look forward to in the coming chapters, and it is my hope that upon completion of this book, you will not only be capable in business analytics using Python, but also in driving analytics as a core strategic component of business strategy.\n",
    "\n",
    "<br><br>\n",
    "<hr style=\"height:.9px;border:none;color:#333;background-color:#333;\" />\n",
    "<hr style=\"height:.9px;border:none;color:#333;background-color:#333;\" />\n",
    "\n",
    "~~~\n",
    " _           _           _ \n",
    "|_) __ _ __ |_)_|_ o __ (_|\n",
    "|   | (_)||||   |_ | | |__|\n",
    " __                   |    \n",
    "(_     _  _  _  _  _  |    \n",
    "__)|_|(_ (_ (/__> _>  o    \n",
    "~~~                                                                         \n",
    "\n",
    "<br>\n",
    "<hr style=\"height:.9px;border:none;color:#333;background-color:#333;\" />\n",
    "<hr style=\"height:.9px;border:none;color:#333;background-color:#333;\" />"
   ]
  },
  {
   "cell_type": "markdown",
   "metadata": {
    "deletable": false,
    "editable": false,
    "run_control": {
     "frozen": true
    }
   },
   "source": [
    "<br>"
   ]
  }
 ],
 "metadata": {
  "kernelspec": {
   "display_name": "Python 3",
   "language": "python",
   "name": "python3"
  },
  "language_info": {
   "codemirror_mode": {
    "name": "ipython",
    "version": 3
   },
   "file_extension": ".py",
   "mimetype": "text/x-python",
   "name": "python",
   "nbconvert_exporter": "python",
   "pygments_lexer": "ipython3",
   "version": "3.8.5"
  },
  "toc": {
   "base_numbering": 1,
   "nav_menu": {},
   "number_sections": false,
   "sideBar": false,
   "skip_h1_title": false,
   "title_cell": "Table of Contents",
   "title_sidebar": "Contents",
   "toc_cell": false,
   "toc_position": {
    "height": "calc(100% - 180px)",
    "left": "10px",
    "top": "150px",
    "width": "165px"
   },
   "toc_section_display": true,
   "toc_window_display": false
  },
  "varInspector": {
   "cols": {
    "lenName": 16,
    "lenType": 16,
    "lenVar": 40
   },
   "kernels_config": {
    "python": {
     "delete_cmd_postfix": "",
     "delete_cmd_prefix": "del ",
     "library": "var_list.py",
     "varRefreshCmd": "print(var_dic_list())"
    },
    "r": {
     "delete_cmd_postfix": ") ",
     "delete_cmd_prefix": "rm(",
     "library": "var_list.r",
     "varRefreshCmd": "cat(var_dic_list()) "
    }
   },
   "types_to_exclude": [
    "module",
    "function",
    "builtin_function_or_method",
    "instance",
    "_Feature"
   ],
   "window_display": false
  }
 },
 "nbformat": 4,
 "nbformat_minor": 2
}
