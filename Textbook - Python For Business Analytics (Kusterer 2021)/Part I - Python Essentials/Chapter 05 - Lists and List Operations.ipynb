{
 "cells": [
  {
   "cell_type": "markdown",
   "metadata": {
    "deletable": false,
    "editable": false,
    "run_control": {
     "frozen": true
    }
   },
   "source": [
    "<hr style=\"height:.9px;border:none;color:#333;background-color:#333;\" />\n",
    "<hr style=\"height:.9px;border:none;color:#333;background-color:#333;\" />\n",
    "<br><br><br>\n",
    "<h1>Python for Business Analytics</h1>\n",
    "<em>A Nontechnical Approach for Nontechnical People</em><br><br>\n",
    "<em><strong>Custom Edition for Hult International Business School</strong></em><br>\n",
    "\n",
    "Written by Chase Kusterer - Faculty of Analytics <br>\n",
    "Hult International Business School <br>\n",
    "https://github.com/chase-kusterer<br><br><br><br><br>\n",
    "\n",
    "<hr style=\"height:.9px;border:none;color:#333;background-color:#333;\" />\n",
    "<hr style=\"height:.9px;border:none;color:#333;background-color:#333;\" />\n",
    "<br>\n",
    "\n",
    "<h1><u>Chapter 5: Lists and List Operations</u></h1>"
   ]
  },
  {
   "cell_type": "markdown",
   "metadata": {
    "deletable": false,
    "editable": false,
    "run_control": {
     "frozen": true
    }
   },
   "source": [
    "<h2>5.1 Why Lists are Important</h2>\n",
    "\n",
    "Having learned the basics of indexes in the previous chapter, we are ready to understand the value of declaring lists. For our purposes:<br><br>\n",
    "\n",
    "<div align=\"center\"><h3>\n",
    "    Lists are a way to better organize information.\n",
    "<a class=\"tocSkip\"></a></h3></div><br>\n",
    "\n",
    "Our goal with lists is to store more than one item in the same place. You can think of this as declaring one object that holds many things. Conceptually, lists are the simplest of Python's four built-in data structures (lists, tuples, dictionaries, and sets), and are something that you must be comfortable with before conducting data analysis. They are used very frequently, and your time spent understanding them will pay dividends on your ability to grasp more advanced concepts.\n",
    "<br><br>\n",
    "<h4>A special note for Excel users:</h4>\n",
    "If you're used to working with Excel sheets, also known as flat files, please note that these exist in Python as well. We call these DataFrames, and they are housed in the <strong>pandas</strong> package. You may be wondering:<br><br>\n",
    "\n",
    "<div align=\"center\"><em>\"Why do I need to learn about lists if I can use a data structure that I'm more familiar with?\"</em></div>\n",
    "\n",
    "This mentality held me back when I was first learning to code. I was used to my data being structured in a spreadsheet and expected it to always be this way. It also didn't help that in most cases, data science competitions provided data in a spreadsheet or something that could easily be converted into one. I did not fully understand the value of other data structures until I started to work on real projects. In the real world, data comes in <em>many</em> formats, and in today's world of analytics, you will be expected to do much more than work with flat files.\n",
    "\n",
    "The key lesson to keep in mind is that <strong>coding involves a different type of thinking than working with software such as Excel</strong>. You will not regret the time invested in learning how to work with different data structures.<br><br>\n",
    "\n",
    "<hr style=\"height:.9px;border:none;color:#333;background-color:#333;\" /><br>\n",
    "\n",
    "<h2>5.2 Declaring a List</h2>\n",
    "\n",
    "Declaring a list is very similar to declaring any of the objects we have covered in previous chapters. In fact, declaring almost anything in Python is very similar to what we have already covered."
   ]
  },
  {
   "cell_type": "markdown",
   "metadata": {
    "cell_style": "split",
    "deletable": false,
    "editable": false,
    "run_control": {
     "frozen": true
    }
   },
   "source": [
    "<em>Codes 5.2.1</em> and <em>5.2.2</em> are virtually the same. The only difference is that in the latter, we added <strong>square brackets</strong> <em>[ ]</em> around the item being stored. The square brackets tell Python that we are creating a list. We can even declare a list with nothing inside of it. This idea may seem bizarre, but it is actually done quite often. We will explain the rationale for this when we discuss <strong>for loops</strong> in a later chapter.\n",
    "<br><br>\n",
    "Notice that the output of the <strong>print()</strong> statement in *Code 5.2.2* also has square brackets. This is to inform you that *my_list* is a list and not a scalar (single) variable. This is also apparent when using the <strong>type()</strong> wrapper around each object, as in <em>Code 5.2.3</em>. As can be observed, the objects <em>my_variable</em> and <em>my_list</em> are different object types.<br><br>\n",
    "\n",
    "<h4>A Brief Explanation of Classes</h4>\n",
    "The output of <em>Code 5.2.3</em> uses the word class to describe each object type. A <strong>class</strong> is a template to create objects. When we created <em>my_variable</em>, we created an object that stores an integer. Integers are very common in Python, thus they have a template (i.e., a class). Classes help to ensure that objects behave the way that they are supposed to so that programmers don't get unexpected results. More information on classes can be found in <a href=\"https://docs.python.org/3.7/tutorial/classes.html\">the official Python documentation</a>.<br><br>\n",
    "\n",
    "<h4>Returning to Lists</h4>\n",
    "Since <em>my_variable</em> and <em>my_list</em> are of different classes, they are not the same type of object. Therefore, we cannot expect them to behave in the same way. To exemplify this, see <em>Code 5.2.4</em>. Even though both objects contain the value 5, we do not get the same result when applying simple numerical operands such as multiplication. Again,<br><br>\n",
    "\n",
    "<div align=\"center\"><h4><em>Coding involves a different type of thinking.</em></h4></div><br>\n",
    "\n",
    "Knowing that these objects are of different classes informs us that they are not intended to work in the same way. Furthermore, one of the first places to check when a code is not working properly is the type of each object."
   ]
  },
  {
   "cell_type": "markdown",
   "metadata": {
    "cell_style": "split",
    "deletable": false,
    "editable": false,
    "run_control": {
     "frozen": true
    }
   },
   "source": [
    "<br>"
   ]
  },
  {
   "cell_type": "code",
   "execution_count": null,
   "metadata": {
    "cell_style": "split",
    "deletable": false,
    "editable": false
   },
   "outputs": [],
   "source": [
    "## Code 5.2.1 ##\n",
    "\n",
    "# Declaring a variable\n",
    "my_variable = 5\n",
    "\n",
    "print(my_variable)"
   ]
  },
  {
   "cell_type": "markdown",
   "metadata": {
    "cell_style": "split",
    "deletable": false,
    "editable": false,
    "run_control": {
     "frozen": true
    }
   },
   "source": [
    "<br>"
   ]
  },
  {
   "cell_type": "code",
   "execution_count": null,
   "metadata": {
    "cell_style": "split",
    "deletable": false,
    "editable": false
   },
   "outputs": [],
   "source": [
    "## Code 5.2.2 ##\n",
    "\n",
    "# Declaring a list\n",
    "my_list = [5]\n",
    "\n",
    "print(my_list)"
   ]
  },
  {
   "cell_type": "markdown",
   "metadata": {
    "cell_style": "split",
    "deletable": false,
    "editable": false,
    "run_control": {
     "frozen": true
    }
   },
   "source": [
    "<br>"
   ]
  },
  {
   "cell_type": "code",
   "execution_count": null,
   "metadata": {
    "cell_style": "split",
    "deletable": false,
    "editable": false
   },
   "outputs": [],
   "source": [
    "## Code 5.2.3 ##\n",
    "\n",
    "# Printing object types\n",
    "print(f\"\"\"\n",
    "my_variable:  {type(my_variable)}\n",
    "my_list: \\t {type(my_list)}\n",
    "\"\"\")"
   ]
  },
  {
   "cell_type": "markdown",
   "metadata": {
    "cell_style": "split",
    "deletable": false,
    "editable": false,
    "run_control": {
     "frozen": true
    }
   },
   "source": [
    "<br>"
   ]
  },
  {
   "cell_type": "code",
   "execution_count": null,
   "metadata": {
    "cell_style": "split",
    "deletable": false,
    "editable": false
   },
   "outputs": [],
   "source": [
    "## Code 5.2.4 ##\n",
    "\n",
    "# Applying basic operations\n",
    "print(f\"\"\"\n",
    "my_variable * 2 = {my_variable * 2}\n",
    "my_list     * 2 = {my_list * 2}\n",
    "\"\"\")"
   ]
  },
  {
   "cell_type": "markdown",
   "metadata": {
    "deletable": false,
    "editable": false,
    "run_control": {
     "frozen": true
    }
   },
   "source": [
    "<hr style=\"height:.9px;border:none;color:#333;background-color:#333;\" /><br>\n",
    "\n",
    "<h2>5.3 The Advantages of Lists Over Several Independent Objects</h2>\n",
    "\n",
    "Lists have several advantages over creating a large amount of individual objects. In the context of coding for analytics, lists have three of the primary advantages. They are:\n",
    "\n",
    "* Mutatable   (easy to change)\n",
    "* Extensible  (easy to add new items/quantities)\n",
    "* Convertable (for example, from a list to a DataFrame)\n",
    "\n",
    "In this chapter, we will work with some of the code from <strong>Project Chapter 5 - Preparing for a Party</strong>. To get started, we need to load some required base objects. This has been done in <em>Code 5.3.1</em>, where three lists are being declared to store the names and amounts of various food items. These lists are then being stored into a master list named <em>food_n_beverage</em>."
   ]
  },
  {
   "cell_type": "code",
   "execution_count": null,
   "metadata": {
    "cell_style": "center",
    "code_folding": [],
    "deletable": false,
    "editable": false
   },
   "outputs": [],
   "source": [
    "## Code 5.3.1 ##\n",
    "\n",
    "# Required from Project Chapter 5\n",
    "\n",
    "chips           = ['bags of chips', 50]\n",
    "salsa           = ['jars of salsa', 25]\n",
    "still_water     = ['liters of still water', 100]\n",
    "\n",
    "food_n_beverage = [chips, salsa, still_water]\n",
    "\n",
    "# This code will not produce an output"
   ]
  },
  {
   "cell_type": "markdown",
   "metadata": {
    "deletable": false,
    "editable": false,
    "run_control": {
     "frozen": true
    }
   },
   "source": [
    "<br><br>\n",
    "\n",
    "Before moving forward, notice a few characteristics of the lists created in <em>Code 5.3.1</em>. First, the lists <em>chips</em>, <em>salsa</em>, and <em>still_water</em> each contain more than one object type (strings and integers). This is no problem for Python. Also notice that <em>food_n_beverage</em> is a list of lists. Since lists are similar to any of our other object types, Python can handle this as well.\n",
    "\n",
    "<h3>Lists are mutable.</h3>\n",
    "\n",
    "If we needed more chips, we could simply change the amount of chips in the chips object. Notice that after doing so, we need to make sure to rerun our <em>food_n_beverage</em> object so that it contains this new information.\n",
    "\n",
    "<br><br>"
   ]
  },
  {
   "cell_type": "code",
   "execution_count": null,
   "metadata": {
    "deletable": false,
    "editable": false
   },
   "outputs": [],
   "source": [
    "## Code 5.3.2 ##\n",
    "\n",
    "chips           = ['bags of chips', 75] # changed to 75\n",
    "salsa           = ['jars of salsa', 25]\n",
    "still_water     = ['liters of still water', 100]\n",
    "\n",
    "food_n_beverage = [chips, salsa, still_water]\n",
    "\n",
    "# Printing the current food and beverage list\n",
    "print(food_n_beverage)"
   ]
  },
  {
   "cell_type": "markdown",
   "metadata": {
    "deletable": false,
    "editable": false,
    "run_control": {
     "frozen": true
    }
   },
   "source": [
    "<br><br>\n",
    "\n",
    "<h3>Lists are extensible.</h3>\n",
    "\n",
    "We can add new items to lists in several different ways. For example, we can use the <strong>.append()</strong> method to add something to the end of a list. We will cover more methods for adding items to lists later in this chapter.\n",
    "\n",
    "<br><br>"
   ]
  },
  {
   "cell_type": "code",
   "execution_count": null,
   "metadata": {
    "deletable": false,
    "editable": false
   },
   "outputs": [],
   "source": [
    "## Code 5.3.3 ##\n",
    "\n",
    "sparkling_water = ['liters sparkling water', 100]\n",
    "\n",
    "food_n_beverage.append(sparkling_water) # appending the list\n",
    "\n",
    "print(food_n_beverage)"
   ]
  },
  {
   "cell_type": "markdown",
   "metadata": {
    "deletable": false,
    "editable": false,
    "run_control": {
     "frozen": true
    }
   },
   "source": [
    "<br><br>\n",
    "\n",
    "<h3>Lists are convertable.</h3>\n",
    "\n",
    "Lists are easy to convert into other object types. Although this is beyond our current scope, <em>Code 5.3.4</em> converts our <em>food_n_beverage</em> list into a pandas DataFrame (Python's equivalent of a spreadsheet). This simple process will be explained in more detail in a later chapter.\n",
    "\n",
    "<br><br>"
   ]
  },
  {
   "cell_type": "code",
   "execution_count": null,
   "metadata": {
    "deletable": false,
    "editable": false
   },
   "outputs": [],
   "source": [
    "## Code 5.3.4 ##\n",
    "\n",
    "# Importing pandas\n",
    "import pandas as pd\n",
    "\n",
    "# Converting food_n_beverage to a DataFrame\n",
    "food_n_beverage_df = pd.DataFrame(food_n_beverage) # df is short for DataFrame\n",
    "\n",
    "# Outputting the results\n",
    "food_n_beverage_df"
   ]
  },
  {
   "cell_type": "markdown",
   "metadata": {
    "deletable": false,
    "editable": false,
    "run_control": {
     "frozen": true
    }
   },
   "source": [
    "<br><br>\n",
    "\n",
    "The conversion in <em>Code 5.3.4</em> becomes even more powerful when using common DataFrame features. Such features are exemplified in <em>Code 5.3.5</em>, where each column is being named and the <em>Item</em> column is being used as an index. Performing the latter allows us to search for each item by name instead of its index number.\n",
    "\n",
    "<br><br>"
   ]
  },
  {
   "cell_type": "code",
   "execution_count": null,
   "metadata": {
    "deletable": false,
    "editable": false
   },
   "outputs": [],
   "source": [
    "## Code 5.3.5 ##\n",
    "\n",
    "# Reconverting to a DataFrame with column names\n",
    "food_n_beverage_df = pd.DataFrame(food_n_beverage,\n",
    "                                  columns = ['Item', 'Quantity'])\n",
    "\n",
    "# Setting row names\n",
    "food_n_beverage_df.set_index('Item',\n",
    "                             inplace = True)\n",
    "\n",
    "# Outputting the results\n",
    "food_n_beverage_df"
   ]
  },
  {
   "cell_type": "markdown",
   "metadata": {
    "deletable": false,
    "editable": false,
    "run_control": {
     "frozen": true
    }
   },
   "source": [
    "<hr style=\"height:.9px;border:none;color:#333;background-color:#333;\" /><br>\n",
    "\n",
    "<h2>5.4 Accessing List Elements</h2>"
   ]
  },
  {
   "cell_type": "markdown",
   "metadata": {
    "deletable": false,
    "editable": false,
    "run_control": {
     "frozen": true
    }
   },
   "source": [
    "Mastering how to access list elements will pay off greatly in the future. This technique is applicable in a wide array of situations, such as accessing elements in more complex data structures, filtering and subsetting, and creating new columns in a dataset. As you may have noticed, the foods (chips and salsa) are at the beginning of the <em>food_n_beverage</em> list. These can be accessed by referencing each element's <strong>index</strong> value.<br><br>\n",
    "\n",
    "<h3>Indexing in Python</h3>\n",
    "\n",
    "Consider the following list:\n",
    "\n",
    "~~~\n",
    "['first', 'second', 'third']\n",
    "~~~\n",
    "\n",
    "Reiterating from the previous chapter, <strong>indexing in Python starts at 0.</strong> Therefore, the first element of a list is at index 0. You can think of this like the x- y-coordinate plane in geometry, where (0, 0) represents the origin, or where the x-axis meets the y-axis. There are two common methods for indexing lists: forward and backward.\n",
    "<br><br>\n",
    "<strong>To index forward</strong>, place a <em>non-negative</em> number in brackets immediately after a list (i.e., example_list[0]). This will access the list's first element.\n",
    "<br><br>\n",
    "<strong>To index backward</strong>, use a <em>negative</em> number instead of a non-negative number (i.e., example_list[-1]). The <em>-1</em> represents the last element of a list, implying that <em>-2</em> represents the second to last element, <em>-3</em> the third to last, and so on. \n",
    "<br><br>\n",
    "<strong>Slicing an index</strong> refers to pulling more than one sequential value from a list (i.e., example_list[0:2]). Lists can also be sliced by specifying multiple index values, separated by a semi-colon (i.e., example_list[0:2; 5]).\n",
    "\n",
    "<strong>Note:</strong> The last value in an index slice is exclusive, meaning it will not be returning in the slice.\n",
    "\n",
    "<br>"
   ]
  },
  {
   "cell_type": "code",
   "execution_count": null,
   "metadata": {
    "deletable": false,
    "editable": false
   },
   "outputs": [],
   "source": [
    "## Code 5.4.1 ##\n",
    "\n",
    "# Declaring a list\n",
    "example_list = ['first', 'second', 'third']\n",
    "\n",
    "# Printing the first element of the list (forward indexing)\n",
    "print(example_list[0])"
   ]
  },
  {
   "cell_type": "markdown",
   "metadata": {
    "deletable": false,
    "editable": false,
    "run_control": {
     "frozen": true
    }
   },
   "source": [
    "<br>"
   ]
  },
  {
   "cell_type": "code",
   "execution_count": null,
   "metadata": {
    "deletable": false,
    "editable": false
   },
   "outputs": [],
   "source": [
    "## Code 5.4.2 ##\n",
    "\n",
    "# Printing the last element of the list (backward indexing)\n",
    "print(example_list[-1])"
   ]
  },
  {
   "cell_type": "markdown",
   "metadata": {
    "deletable": false,
    "editable": false,
    "run_control": {
     "frozen": true
    }
   },
   "source": [
    "<br>"
   ]
  },
  {
   "cell_type": "code",
   "execution_count": null,
   "metadata": {
    "deletable": false,
    "editable": false
   },
   "outputs": [],
   "source": [
    "## Code 5.4.3 ##\n",
    "\n",
    "# Slicing the first and second elements of the list\n",
    "print(example_list[0:2])"
   ]
  },
  {
   "cell_type": "markdown",
   "metadata": {
    "deletable": false,
    "editable": false,
    "run_control": {
     "frozen": true
    }
   },
   "source": [
    "<br>"
   ]
  },
  {
   "cell_type": "code",
   "execution_count": null,
   "metadata": {
    "deletable": false,
    "editable": false
   },
   "outputs": [],
   "source": [
    "## Code 5.4.4 ##\n",
    "\n",
    "# Equating forward and backwards slicing methods\n",
    "example_list[0:2] == example_list[-3:-1]"
   ]
  },
  {
   "cell_type": "markdown",
   "metadata": {
    "deletable": false,
    "editable": false,
    "run_control": {
     "frozen": true
    }
   },
   "source": [
    "<strong>Note:</strong> More information related to data structures and their methods can be found in <a href=\"https://docs.python.org/3/tutorial/datastructures.html\">the official Python documentation</a>."
   ]
  },
  {
   "cell_type": "markdown",
   "metadata": {
    "deletable": false,
    "editable": false,
    "run_control": {
     "frozen": true
    }
   },
   "source": [
    "<br><hr style=\"height:.9px;border:none;color:#333;background-color:#333;\" /><br>\n",
    "\n",
    "<h2>5.5 Adding Items to a List</h2>\n",
    "\n",
    "In this section, we will cover three methods to add items to a list: <strong>.append()</strong>, <strong>.insert()</strong>, and <strong>.extend()</strong>.\n",
    "<br>\n",
    "<h3>list.append()</h3>\n",
    "\n",
    "The method <strong>.append()</strong> adds a single object to the end of a list. This object can be of any data type (string, integer, float, etc.). It can even be a more complex structure such as another list or a tuple. <em>Code 5.5.2</em> is an example as to how to use <strong>.append()</strong>. Try running this code block several times to see what happens to <em>example_list</em>.<br><br>"
   ]
  },
  {
   "cell_type": "code",
   "execution_count": null,
   "metadata": {
    "deletable": false,
    "editable": false
   },
   "outputs": [],
   "source": [
    "## Code 5.5.1 ##\n",
    "\n",
    "# Creating a list\n",
    "example_list = [7]"
   ]
  },
  {
   "cell_type": "markdown",
   "metadata": {
    "deletable": false,
    "editable": false,
    "run_control": {
     "frozen": true
    }
   },
   "source": [
    "<br>"
   ]
  },
  {
   "cell_type": "code",
   "execution_count": null,
   "metadata": {
    "deletable": false,
    "editable": false
   },
   "outputs": [],
   "source": [
    "## Code 5.5.2 ##\n",
    "\n",
    "# Appending the list\n",
    "example_list.append(9)\n",
    "\n",
    "# Printing the results\n",
    "print(example_list)"
   ]
  },
  {
   "cell_type": "markdown",
   "metadata": {
    "deletable": false,
    "editable": false,
    "run_control": {
     "frozen": true
    }
   },
   "source": [
    "<br>\n",
    "\n",
    "<h3>list.insert()</h3>\n",
    "\n",
    "The method <strong>.insert()</strong> takes two arguments: an index and an object. You can consider this as a more complex version of the <strong>.append()</strong> method, giving you the flexibility to choose in which position you would like to insert an item. This method works as follows: \n",
    "<br><br>\n",
    "\n",
    "~~~\n",
    "list.insert(index, object)\n",
    "~~~\n",
    "\n",
    "<br>\n",
    "As with other methods, it is not required to specify each argument by name. As long as the arguments are kept in order, this method will work as expected. Be careful: <strong>.insert()</strong> places an object in the position you specify and shifts the positions of later list objects one place to the right. In other words, the index value of list items after the position of your insert are one value higher than their original index. <em>Code 5.5.3</em> exemplifies the use of this method.\n",
    "\n",
    "<br><br>"
   ]
  },
  {
   "cell_type": "code",
   "execution_count": null,
   "metadata": {
    "cell_style": "center",
    "deletable": false,
    "editable": false
   },
   "outputs": [],
   "source": [
    "## Code 5.5.3 ##\n",
    "\n",
    "# Declaring my_list\n",
    "my_list = [7, 9]\n",
    "\n",
    "# Inserting at the beginning of the list\n",
    "my_list.insert(0, 6)\n",
    "\n",
    "# Inserting in the middle of the list\n",
    "my_list.insert(2, 8)\n",
    "\n",
    "# Inserting at the end of the list\n",
    "my_list.insert(4, 10)\n",
    "\n",
    "# Printing the results\n",
    "print(my_list)"
   ]
  },
  {
   "cell_type": "markdown",
   "metadata": {
    "deletable": false,
    "editable": false,
    "run_control": {
     "frozen": true
    }
   },
   "source": [
    "<br>\n",
    "\n",
    "Notice what happens when we try to use backward indexing to insert an item at the end of the list (<em>Code 5.5.4</em>). As can be observed, our result may not be what we expected. However, this makes perfect sense."
   ]
  },
  {
   "cell_type": "markdown",
   "metadata": {
    "cell_style": "split",
    "deletable": false,
    "editable": false,
    "run_control": {
     "frozen": true
    }
   },
   "source": [
    "<strong>.insert()</strong> added a new item to the end of the existing list. Since there was already an object at the end of the list, it was shifted one place to the right. Your first thought may be to try indexing at <em>-0</em> instead of <em>-1</em>, but Python will treat <em>-0</em> as it treats <em>0</em> and insert at the beginning of the list. We could also simply count the number of items that are currently in the list, but this is not always feasible given that our list is changing size with each <strong>.insert()</strong>.\n",
    "<br><br>\n",
    "Instead, we can employ the <a href=\"https://docs.python.org/3/library/functions.html\">built-in function len()</a> to solve this challenge. The purpose of <strong>len()</strong> is to count the number of items in a container (an object that can hold more than one item). Therefore, this function will adapt to the changing size of our list, making it an ideal solution for what we are trying to achieve. This has been done in <em>Code 5.5.5</em>."
   ]
  },
  {
   "cell_type": "markdown",
   "metadata": {
    "cell_style": "split",
    "deletable": false,
    "editable": false,
    "run_control": {
     "frozen": true
    }
   },
   "source": [
    "<br>"
   ]
  },
  {
   "cell_type": "code",
   "execution_count": null,
   "metadata": {
    "cell_style": "split",
    "deletable": false,
    "editable": false
   },
   "outputs": [],
   "source": [
    "## Code 5.5.4 ##\n",
    "\n",
    "my_list.insert(-1, 11)\n",
    "\n",
    "print(my_list)"
   ]
  },
  {
   "cell_type": "markdown",
   "metadata": {
    "cell_style": "split",
    "deletable": false,
    "editable": false,
    "run_control": {
     "frozen": true
    }
   },
   "source": [
    "<br>"
   ]
  },
  {
   "cell_type": "code",
   "execution_count": null,
   "metadata": {
    "cell_style": "split",
    "deletable": false,
    "editable": false
   },
   "outputs": [],
   "source": [
    "## Code 5.5.5 ##\n",
    "\n",
    "# Resetting my_list\n",
    "my_list = [6, 7, 8, 9, 10]\n",
    "\n",
    "my_list.insert(len(my_list), 11)\n",
    "\n",
    "print(my_list)"
   ]
  },
  {
   "cell_type": "markdown",
   "metadata": {
    "deletable": false,
    "editable": false,
    "run_control": {
     "frozen": true
    }
   },
   "source": [
    "<h3>list.extend()</h3>\n",
    "\n",
    "The method <strong>.extend()</strong> is useful when you need to append multiple objects to the end of a list. It takes an <strong>iterable</strong> as its only argument. The word <strong>iterable</strong> is programming jargon for something that can be operated over sequentially. In other words, an <strong>iterable</strong> is a series of objects that can be processed one-by-one. Each of our lists are examples of iterables.\n",
    "<br><br>\n",
    "If we used <strong>.extend()</strong> to add the values of <em>my_list</em> to another list (<em>my_list_2</em> in <em>Code 5.5.6</em>), it would add each element in <em>my_list</em> sequentially. If we instead used the <strong>.append()</strong> method, <em>my_list</em> would be added as a single item (a list). This can be observed in <em>Code 5.5.7</em>.\n",
    "\n",
    "<br>"
   ]
  },
  {
   "cell_type": "code",
   "execution_count": null,
   "metadata": {
    "cell_style": "split",
    "deletable": false,
    "editable": false
   },
   "outputs": [],
   "source": [
    "## Code 5.5.6 ##\n",
    "\n",
    "# Creating a new list\n",
    "my_list_2 = [1, 2, 3, 4, 5]\n",
    "\n",
    "# Extending the list\n",
    "my_list_2.extend(my_list)\n",
    "\n",
    "# Printing the list\n",
    "print(my_list_2)"
   ]
  },
  {
   "cell_type": "code",
   "execution_count": null,
   "metadata": {
    "cell_style": "split",
    "code_folding": [],
    "deletable": false,
    "editable": false
   },
   "outputs": [],
   "source": [
    "## Code 5.5.7 ##\n",
    "\n",
    "# Resetting the list\n",
    "my_list_2 = [1, 2, 3, 4, 5]\n",
    "\n",
    "# Appending the list\n",
    "my_list_2.append(my_list)\n",
    "\n",
    "# Printing the list\n",
    "print(my_list_2)"
   ]
  },
  {
   "cell_type": "markdown",
   "metadata": {
    "deletable": false,
    "editable": false,
    "run_control": {
     "frozen": true
    }
   },
   "source": [
    "<hr style=\"height:.9px;border:none;color:#333;background-color:#333;\" /><br>\n",
    "\n",
    "<h2>5.6 The Elegance of Simplicity</h2>\n",
    "\n",
    "<strong>.extend()</strong> was designed to add items to the end of a list. This being stated, what if we wanted to add multiple items to the beginning of a list? For example, what if we wanted to add foods to the beginning of the <em>food_n_beverage</em> list from the beginning of this chapter? We could take the long and tedious approach of coding several <strong>.insert()</strong> statements, but there is a more elegant solution. To get there, let's analyze our current situation:\n",
    "<br><br>\n",
    "\n",
    "<strong>Current Situation</strong><pre>\n",
    "<u>Goal</u>:             Add multiple items to the beginning of a list.\n",
    "<u>Optimal Solution</u>: One line of code.\n",
    "<u>Rationale</u>:        This will be easy to update/maintain/reuse.\n",
    "\n",
    "<u>Drawback(s) of Current Techniques</u>\n",
    "<strong>.insert()</strong> - more than one line of code is needed\n",
    "<strong>.extend()</strong> - adds to the end of a list, not the beginning\n",
    "</pre>\n"
   ]
  },
  {
   "cell_type": "markdown",
   "metadata": {
    "cell_style": "center",
    "deletable": false,
    "editable": false,
    "run_control": {
     "frozen": true
    }
   },
   "source": [
    "We could attempt to feed more than one object into <strong>.insert()</strong> as in <em>Code 5.6.1</em>, but this will generate a <strong>TypeError</strong>. Type errors occur when we provide a method with an object type that it was not designed to handle. In the case of <em>Code 5.6.1</em>, we have provided the <strong>.insert()</strong> method with a list for the index argument. Unfortunately for us, the index argument for <strong>.insert()</strong> must be an integer. This makes perfect sense, as indexes are integers. Also, as <strong>.insert()</strong> is one of Python's built-in base functions, it is very likely that its designers wanted to keep it as simple and stable as possible. This also makes a lot of sense, as other programmers can use <strong>.insert()</strong> to build more advanced functions without having to worry about unexpected results.\n",
    "<br>"
   ]
  },
  {
   "cell_type": "code",
   "execution_count": null,
   "metadata": {
    "cell_style": "center",
    "deletable": false,
    "editable": false,
    "run_control": {
     "frozen": true
    }
   },
   "outputs": [],
   "source": [
    "# Code 5.6.1 ##\n",
    "\n",
    "food_n_beverage.insert([0,1], [['avocados', 10],\n",
    "                                ['bananas', 10]])\n",
    "\n",
    "\"\"\"\n",
    "---------------------------------------------------------------------------\n",
    "TypeError                                 Traceback (most recent call last)\n",
    "<ipython-input-28-e8dc5f2de52c> in <module>\n",
    "      2 \n",
    "      3 food_n_beverage.insert([0,1], [['avocados', 10],\n",
    "----> 4                                 ['bananas', 10]])\n",
    "\n",
    "TypeError: 'list' object cannot be interpreted as an integer\n",
    "\"\"\""
   ]
  },
  {
   "cell_type": "markdown",
   "metadata": {
    "cell_style": "center",
    "deletable": false,
    "editable": false,
    "run_control": {
     "frozen": true
    }
   },
   "source": [
    "<hr style=\"height:.9px;border:none;color:#333;background-color:#333;\" /><br>\n",
    "\n",
    "Let's consider <strong>.extend()</strong> from <em>Code 5.5.6</em>. This method takes one and only one argument: the iterable to sequentially append to the end of a list. Although this method does not natively solve our problem, what if we restructured our problem instead of our solution? In other words, what if we:\n",
    "\n",
    "1. Reversed our list so that foods are at the end\n",
    "2. Used the <strong>.extend()</strong> method to add new foods\n",
    "3. Reversed the list again so that foods are back at the beginning\n",
    "\n",
    "This would solve our problem, and we can use a wonderful method named <strong>.reverse()</strong> to help accomplish this. How did I know about this method? I read <a href=\"https://docs.python.org/3/tutorial/datastructures.html\">the official Python documentation</a> related to lists. If you skipped over this link in Section 5.4 above, now is a good time to do your research. Let's apply this method and see if it solves our problem."
   ]
  },
  {
   "cell_type": "markdown",
   "metadata": {
    "cell_style": "split",
    "deletable": false,
    "editable": false,
    "run_control": {
     "frozen": true
    }
   },
   "source": [
    "<h3>Reversing a list with .reverse()</h3>\n",
    "\n",
    "For lists, the <strong>.reverse()</strong> method does exactly as its name implies: it reverses the order of a list. We can see this from <em>Codes 5.6.2</em> and <em>5.6.3</em>.\n",
    "<br><br>\n",
    "<strong>We need to be careful to remember whether or not our list is reversed.</strong> As this is our first time working with <strong>.reverse()</strong>, it is best to take a conservative approach and create a new object for the reversed-version of our list (<em>Code 5.6.4</em>). In doing so, we also need to be careful not to copy our original list in the wrong way.\n",
    "<br>\n",
    "<h3>The <em>Wrong</em> Way to Copy Lists</h3>\n",
    "\n",
    "Before we learn how to do this the right way, let's see what happens when we copy an object in the <em>wrong</em> way. In <em>Code 5.6.4</em>, we have created a new object (<em>rev_my_list</em>) with the intention of using it to make our reversal while preserving the integrity of our original list (<em>my_list</em>).\n",
    "<br><br>\n",
    "So far, everything appears to be working properly. However, notice what happens to <em>my_list</em> in <em>Code 5.6.5</em>. Our change to <em>rev_my_list</em> also changed <em>my_list</em>. This may seem strange, but this is the way objects work in Python. When we ran:\n",
    "\n",
    "~~~\n",
    "rev_my_list = my_list\n",
    "~~~\n",
    "\n",
    "in <em>Code 5.6.5</em>, we created two objects that share the same address. In other words, the lists are two different names for the same object. Changing either list will affect both of them. This is better observed by the use of the built-in function <strong>id()</strong> in <em>Code 5.6.6</em>. We can resolve this problem by using the method <strong>.copy()</strong>.\n",
    "<br><br>\n",
    "<h3>Copying a list with .copy()</h3>\n",
    "\n",
    "In short, the method <strong>.copy()</strong> makes a copy of an object, storing it in a new address. In the context of our lists, this will prevent both lists from changing when we use <strong>.reverse()</strong> and <strong>.extend()</strong>. This has been done in <em>Code 5.6.7</em>. As can be observed, using <strong>.copy()</strong> prevents the undue consequence of two objects being effected by each other's changes. We have arrived at our intended result, and covered some of the key components of lists and list operations along the way.\n",
    "<br>\n",
    "<h3>Wrapping Up</h3>\n",
    "\n",
    "At the time of this writing, Python 3 has 11 built-in methods for lists, which can be found in <a href=\"https://docs.python.org/3/tutorial/datastructures.html\">the official Python documentation</a>. Masting the ones presented in this chapter, as well as indexing and slicing, shall provide a strong foundation to move forward into more advanced concepts. <strong>Project Chapter 5 - Preparing for a Party</strong> is designed to help you achieve such mastery.\n",
    "<br><br><br><br><br><br><br><br><br><br><br><br><br><br><br>"
   ]
  },
  {
   "cell_type": "markdown",
   "metadata": {
    "cell_style": "split",
    "deletable": false,
    "editable": false,
    "run_control": {
     "frozen": true
    }
   },
   "source": [
    " <br>"
   ]
  },
  {
   "cell_type": "code",
   "execution_count": null,
   "metadata": {
    "cell_style": "split",
    "deletable": false,
    "editable": false
   },
   "outputs": [],
   "source": [
    "## Code 5.6.2 ##\n",
    "\n",
    "my_list = [1, 2, 3, 4, 5]\n",
    "\n",
    "print(my_list)"
   ]
  },
  {
   "cell_type": "markdown",
   "metadata": {
    "cell_style": "split",
    "deletable": false,
    "editable": false,
    "run_control": {
     "frozen": true
    }
   },
   "source": [
    "<br>"
   ]
  },
  {
   "cell_type": "code",
   "execution_count": null,
   "metadata": {
    "cell_style": "split",
    "deletable": false,
    "editable": false
   },
   "outputs": [],
   "source": [
    "## Code 5.6.3 ##\n",
    "\n",
    "my_list.reverse()\n",
    "\n",
    "print(my_list)"
   ]
  },
  {
   "cell_type": "markdown",
   "metadata": {
    "cell_style": "split",
    "deletable": false,
    "editable": false,
    "run_control": {
     "frozen": true
    }
   },
   "source": [
    "<br>"
   ]
  },
  {
   "cell_type": "code",
   "execution_count": null,
   "metadata": {
    "cell_style": "split",
    "deletable": false,
    "editable": false
   },
   "outputs": [],
   "source": [
    "## Code 5.6.4 ##\n",
    "\n",
    "my_list = [1, 2, 3, 4, 5]\n",
    "\n",
    "# The WRONG way to copy lists\n",
    "rev_my_list = my_list\n",
    "\n",
    "print(f\"\"\"\n",
    "my_list:     {my_list}\n",
    "rev_my_list: {rev_my_list}\n",
    "\"\"\")"
   ]
  },
  {
   "cell_type": "markdown",
   "metadata": {
    "cell_style": "split",
    "deletable": false,
    "editable": false,
    "run_control": {
     "frozen": true
    }
   },
   "source": [
    "<br>"
   ]
  },
  {
   "cell_type": "code",
   "execution_count": null,
   "metadata": {
    "cell_style": "split",
    "deletable": false,
    "editable": false
   },
   "outputs": [],
   "source": [
    "## Code 5.6.5 ##\n",
    "\n",
    "# Reversing my_list\n",
    "rev_my_list.reverse()\n",
    "\n",
    "# Extending rev_my_list with new items\n",
    "rev_my_list.extend([0, -1])\n",
    "\n",
    "# Reversing the list back to original form\n",
    "rev_my_list.reverse()\n",
    "\n",
    "# Printing the result\n",
    "print(f\"\"\"\n",
    "my_list:     {my_list}\n",
    "rev_my_list: {rev_my_list}\n",
    "\"\"\")"
   ]
  },
  {
   "cell_type": "markdown",
   "metadata": {
    "cell_style": "split",
    "deletable": false,
    "editable": false,
    "run_control": {
     "frozen": true
    }
   },
   "source": [
    "<br>"
   ]
  },
  {
   "cell_type": "code",
   "execution_count": null,
   "metadata": {
    "cell_style": "split",
    "deletable": false,
    "editable": false
   },
   "outputs": [],
   "source": [
    "## Code 5.6.6 ##\n",
    "\n",
    "# Checking the addresses of each list\n",
    "print(f\"\"\"\n",
    "Object Addresses:\n",
    "my_list:     {id(my_list)}\n",
    "rev_my_list: {id(rev_my_list)}\n",
    "\"\"\")"
   ]
  },
  {
   "cell_type": "code",
   "execution_count": null,
   "metadata": {
    "cell_style": "center",
    "deletable": false,
    "editable": false
   },
   "outputs": [],
   "source": [
    "## Code 5.6.7 ##\n",
    "\n",
    "# Resetting my_list\n",
    "my_list = [5, 6, 7, 8]\n",
    "\n",
    "# Copying my_list\n",
    "rev_my_list = my_list.copy()\n",
    "\n",
    "# Reversing rev_my_list\n",
    "rev_my_list.reverse()\n",
    "\n",
    "# Extending rev_my_list with new items\n",
    "rev_my_list.extend([4, 3, 2, 1])\n",
    "\n",
    "# Reversing rev_my_list\n",
    "rev_my_list.reverse()\n",
    "\n",
    "# Printing the result\n",
    "print(f\"\"\"\n",
    "my_list:     {my_list}\n",
    "rev_my_list: {rev_my_list}\n",
    "\"\"\")"
   ]
  },
  {
   "cell_type": "markdown",
   "metadata": {
    "cell_style": "center",
    "deletable": false,
    "editable": false,
    "run_control": {
     "frozen": true
    }
   },
   "source": [
    "<br>\n",
    "<hr style=\"height:.9px;border:none;color:#333;background-color:#333;\" />\n",
    "<hr style=\"height:.9px;border:none;color:#333;background-color:#333;\" />\n",
    "\n",
    "~~~\n",
    " ______  _                                 _     _ \n",
    "|  ___ \\(_)                               | |   | |\n",
    "| |   | |_  ____ ____    _ _ _  ___   ____| |  _| |\n",
    "| |   | | |/ ___) _  )  | | | |/ _ \\ / ___) | / )_|\n",
    "| |   | | ( (__( (/ /   | | | | |_| | |   | |< ( _ \n",
    "|_|   |_|_|\\____)____)   \\____|\\___/|_|   |_| \\_)_|\n",
    "                                                   \n",
    "~~~\n",
    "\n",
    "<br>\n",
    "<hr style=\"height:.9px;border:none;color:#333;background-color:#333;\" />\n",
    "<hr style=\"height:.9px;border:none;color:#333;background-color:#333;\" />"
   ]
  },
  {
   "cell_type": "markdown",
   "metadata": {
    "deletable": false,
    "editable": false,
    "run_control": {
     "frozen": true
    }
   },
   "source": [
    "<br>"
   ]
  }
 ],
 "metadata": {
  "kernelspec": {
   "display_name": "Python 3",
   "language": "python",
   "name": "python3"
  },
  "language_info": {
   "codemirror_mode": {
    "name": "ipython",
    "version": 3
   },
   "file_extension": ".py",
   "mimetype": "text/x-python",
   "name": "python",
   "nbconvert_exporter": "python",
   "pygments_lexer": "ipython3",
   "version": "3.8.5"
  },
  "toc": {
   "base_numbering": "1",
   "nav_menu": {},
   "number_sections": false,
   "sideBar": true,
   "skip_h1_title": true,
   "title_cell": "Table of Contents",
   "title_sidebar": "Contents",
   "toc_cell": false,
   "toc_position": {
    "height": "calc(100% - 180px)",
    "left": "10px",
    "top": "150px",
    "width": "259.2px"
   },
   "toc_section_display": false,
   "toc_window_display": false
  },
  "varInspector": {
   "cols": {
    "lenName": 16,
    "lenType": 16,
    "lenVar": 40
   },
   "kernels_config": {
    "python": {
     "delete_cmd_postfix": "",
     "delete_cmd_prefix": "del ",
     "library": "var_list.py",
     "varRefreshCmd": "print(var_dic_list())"
    },
    "r": {
     "delete_cmd_postfix": ") ",
     "delete_cmd_prefix": "rm(",
     "library": "var_list.r",
     "varRefreshCmd": "cat(var_dic_list()) "
    }
   },
   "types_to_exclude": [
    "module",
    "function",
    "builtin_function_or_method",
    "instance",
    "_Feature"
   ],
   "window_display": false
  }
 },
 "nbformat": 4,
 "nbformat_minor": 2
}
